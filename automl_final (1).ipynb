{
  "cells": [
    {
      "cell_type": "markdown",
      "source": [
        "# Automated ML\n",
        "\n",
        "TODO: Import Dependencies. In the cell below, import all the dependencies that you will need to complete the project."
      ],
      "metadata": {}
    },
    {
      "cell_type": "code",
      "source": [
        "#upgrade the sdk version by running below command in jupyter notebook terminal window \n",
        "#and restart the kernal before running this command.\n",
        "\n",
        "#pip install --upgrade azureml-core\n",
        "#pip install --upgrade azureml-automl-core\n",
        "#!pip install --upgrade --upgrade-strategy eager azureml-sdk[automl,widgets,notebooks]"
      ],
      "outputs": [],
      "execution_count": 1,
      "metadata": {
        "gather": {
          "logged": 1613045718874
        }
      }
    },
    {
      "cell_type": "code",
      "source": [
        "import logging\n",
        "import os\n",
        "import csv\n",
        "\n",
        "from matplotlib import pyplot as plt\n",
        "import numpy as np\n",
        "import pandas as pd\n",
        "from sklearn import datasets\n",
        "import pkg_resources\n",
        "\n",
        "import azureml.core\n",
        "from azureml.core.experiment import Experiment\n",
        "from azureml.core.workspace import Workspace\n",
        "from azureml.train.automl import AutoMLConfig\n",
        "from azureml.core.dataset import Dataset\n",
        "from azureml.core.environment import Environment\n",
        "from azureml.core.model import InferenceConfig\n",
        "from azureml.core.webservice import AciWebservice\n",
        "from azureml.core.model import Model\n",
        "import azureml.train.automl\n",
        "from azureml.pipeline.steps import AutoMLStep\n",
        "\n",
        "\n",
        "\n",
        "# Check core SDK version number\n",
        "print(\"SDK version:\", azureml.core.VERSION)"
      ],
      "outputs": [
        {
          "output_type": "stream",
          "name": "stdout",
          "text": [
            "SDK version: 1.20.0\n"
          ]
        }
      ],
      "execution_count": 2,
      "metadata": {
        "gather": {
          "logged": 1613045727147
        },
        "jupyter": {
          "outputs_hidden": false,
          "source_hidden": false
        },
        "nteract": {
          "transient": {
            "deleting": false
          }
        }
      }
    },
    {
      "cell_type": "code",
      "source": [
        "ws = Workspace.from_config()\n",
        "print(ws.name, ws.resource_group, ws.location, ws.subscription_id, sep = '\\n')\n",
        "\n"
      ],
      "outputs": [
        {
          "output_type": "stream",
          "name": "stdout",
          "text": [
            "Performing interactive authentication. Please follow the instructions on the terminal.\n",
            "To sign in, use a web browser to open the page https://microsoft.com/devicelogin and enter the code AVJJ7SQZG to authenticate.\n",
            "You have logged in. Now let us find all the subscriptions to which you have access...\n",
            "Interactive authentication successfully completed.\n",
            "quick-starts-ws-138520\n",
            "aml-quickstarts-138520\n",
            "southcentralus\n",
            "2c48c51c-bd47-40d4-abbe-fb8eabd19c8c\n"
          ]
        }
      ],
      "execution_count": 3,
      "metadata": {
        "gather": {
          "logged": 1613045763995
        },
        "jupyter": {
          "outputs_hidden": false,
          "source_hidden": false
        },
        "nteract": {
          "transient": {
            "deleting": false
          }
        }
      }
    },
    {
      "cell_type": "code",
      "source": [
        "# experiment name\n",
        "experiment_name = 'Azure_Capstone_Automl'\n",
        "experiment=Experiment(ws, experiment_name)\n"
      ],
      "outputs": [],
      "execution_count": 4,
      "metadata": {
        "gather": {
          "logged": 1613045806383
        }
      }
    },
    {
      "cell_type": "code",
      "source": [
        "#check the details of the experiment\n",
        "experiment"
      ],
      "outputs": [
        {
          "output_type": "execute_result",
          "execution_count": 5,
          "data": {
            "text/plain": "Experiment(Name: Azure_Capstone_Automl,\nWorkspace: quick-starts-ws-138520)",
            "text/html": "<table style=\"width:100%\"><tr><th>Name</th><th>Workspace</th><th>Report Page</th><th>Docs Page</th></tr><tr><td>Azure_Capstone_Automl</td><td>quick-starts-ws-138520</td><td><a href=\"https://ml.azure.com/experiments/Azure_Capstone_Automl?wsid=/subscriptions/2c48c51c-bd47-40d4-abbe-fb8eabd19c8c/resourcegroups/aml-quickstarts-138520/workspaces/quick-starts-ws-138520\" target=\"_blank\" rel=\"noopener\">Link to Azure Machine Learning studio</a></td><td><a href=\"https://docs.microsoft.com/en-us/python/api/azureml-core/azureml.core.experiment.Experiment?view=azure-ml-py\" target=\"_blank\" rel=\"noopener\">Link to Documentation</a></td></tr></table>"
          },
          "metadata": {}
        }
      ],
      "execution_count": 5,
      "metadata": {
        "gather": {
          "logged": 1613045822177
        }
      }
    },
    {
      "cell_type": "code",
      "source": [
        "#start logging\r\n",
        "run = experiment.start_logging()"
      ],
      "outputs": [],
      "execution_count": 6,
      "metadata": {
        "gather": {
          "logged": 1613045853702
        }
      }
    },
    {
      "cell_type": "markdown",
      "source": [
        "# Creat Compute Cluster"
      ],
      "metadata": {}
    },
    {
      "cell_type": "code",
      "source": [
        "from azureml.core.compute import AmlCompute\n",
        "from azureml.core.compute import ComputeTarget\n",
        "from azureml.core.compute_target import ComputeTargetException\n",
        "\n",
        "\n",
        "# Choose a name for your GPU cluster\n",
        "amlcompute_cluster_name = \"auto-ml\"\n",
        "\n",
        "# Verify that cluster does not exist already\n",
        "try:\n",
        "    compute_target = ComputeTarget(workspace=ws, name=amlcompute_cluster_name)\n",
        "    print('Found existing cluster, use it.')\n",
        "except ComputeTargetException:\n",
        "    compute_config = AmlCompute.provisioning_configuration(vm_size='STANDARD_D2_V2',# for GPU, use \"STANDARD_NC6\"\n",
        "                                                           #vm_priority = 'lowpriority', # optional\n",
        "                                                           max_nodes=4)\n",
        "    compute_target = ComputeTarget.create(ws, amlcompute_cluster_name, compute_config)\n",
        "\n",
        "compute_target.wait_for_completion(show_output=True, min_node_count = 1, timeout_in_minutes = 10)\n",
        "# For a more detailed view of current AmlCompute status, use get_status().\n",
        "compute_target.get_status()"
      ],
      "outputs": [
        {
          "output_type": "stream",
          "name": "stdout",
          "text": [
            "Creating\n",
            "Succeeded..................................................................................................................\n",
            "AmlCompute wait for completion finished\n",
            "\n",
            "Wait timeout has been reached\n",
            "Current provisioning state of AmlCompute is \"Succeeded\" and current node count is \"0\"\n"
          ]
        },
        {
          "output_type": "execute_result",
          "execution_count": 7,
          "data": {
            "text/plain": "<azureml.core.compute.amlcompute.AmlComputeStatus at 0x7fe6d866c400>"
          },
          "metadata": {}
        }
      ],
      "execution_count": 7,
      "metadata": {
        "gather": {
          "logged": 1613046508093
        }
      }
    },
    {
      "cell_type": "markdown",
      "source": [
        "## Dataset\n",
        "\n",
        "### Overview\n",
        "\n",
        "We have used Heart failure clinical records data set as published on \"UCI Machine Learning Repository\"and \"Kaggle Heart Failure Prediction\" competion. \n",
        "\n",
        "This data set has been published as part of folowing paper: Davide Chicco, Giuseppe Jurman: \"Machine learning can predict survival of patients with heart failure from serum creatinine and ejection fraction alone\". BMC Medical Informatics and Decision Making 20, 16 (2020).\n",
        "\n",
        "This dataset contains the medical records of 299 heart failure patients collected at the Faisalabad Institute of Cardiology and at the Allied Hospital in Faisalabad (Punjab, Pakistan), during April–December 2015 [52, 66]. The patients consisted of 105 women and 194 men, and their ages range between 40 and 95 years old (Table 1). All 299 patients had left ventricular systolic dysfunction and had previous heart failures that put them in classes III or IV of New York Heart Association (NYHA) classification of the stages of heart failure.\n",
        "\n",
        "The dataset contains 13 features, which report clinical, body, and lifestyle information, that we briefly describe here.\n",
        "\n",
        "- Age: age of the patient (years)\n",
        "- Anaemia: decrease of red blood cells or hemoglobin (boolean)\n",
        "- High blood pressure: if the patient has hypertension (boolean)\n",
        "- Ceatinine phosphokinase (CPK): level of the CPK enzyme in the blood (mcg/L)\n",
        "- Diabetes: if the patient has diabetes (boolean)\n",
        "- Ejection fraction: percentage of blood leaving the heart at each contraction (percentage)\n",
        "- Platelets: platelets in the blood (kiloplatelets/mL)\n",
        "- Sex: woman or man (binary)\n",
        "- Serum creatinine: level of serum creatinine in the blood (mg/dL)\n",
        "- Serum sodium: level of serum sodium in the blood (mEq/L)\n",
        "- Smoking: if the patient smokes or not (boolean)\n",
        "- Time: follow-up period (days)\n",
        "- [target] Death event: if the patient deceased during the follow-up period (boolean)\n",
        "\n",
        "We are performing binary classification to predict death by heart failure."
      ],
      "metadata": {}
    },
    {
      "cell_type": "markdown",
      "source": [
        "\n",
        "TODO: Get data. In the cell below, write code to access the data you will be using in this project. Remember that the dataset needs to be external."
      ],
      "metadata": {}
    },
    {
      "cell_type": "code",
      "source": [
        "#the data is loaded into the workspace, this will be our training dataset\r\n",
        "hfdat=Dataset.get_by_name(ws, name='heartfailurerecords')"
      ],
      "outputs": [],
      "execution_count": 75,
      "metadata": {
        "gather": {
          "logged": 1613049366973
        }
      }
    },
    {
      "cell_type": "code",
      "source": [
        "#check the data\r\n",
        "hfdat.to_pandas_dataframe().head()"
      ],
      "outputs": [
        {
          "output_type": "execute_result",
          "execution_count": 76,
          "data": {
            "text/plain": "    age  anaemia  creatinine_phosphokinase  diabetes  ejection_fraction  \\\n0  75.0        0                       582         0                 20   \n1  55.0        0                      7861         0                 38   \n2  65.0        0                       146         0                 20   \n3  50.0        1                       111         0                 20   \n4  65.0        1                       160         1                 20   \n\n   high_blood_pressure  platelets  serum_creatinine  serum_sodium  sex  \\\n0                    1  265000.00               1.9           130    1   \n1                    0  263358.03               1.1           136    1   \n2                    0  162000.00               1.3           129    1   \n3                    0  210000.00               1.9           137    1   \n4                    0  327000.00               2.7           116    0   \n\n   smoking  time  DEATH_EVENT  \n0        0     4            1  \n1        0     6            1  \n2        1     7            1  \n3        0     7            1  \n4        0     8            1  ",
            "text/html": "<div>\n<style scoped>\n    .dataframe tbody tr th:only-of-type {\n        vertical-align: middle;\n    }\n\n    .dataframe tbody tr th {\n        vertical-align: top;\n    }\n\n    .dataframe thead th {\n        text-align: right;\n    }\n</style>\n<table border=\"1\" class=\"dataframe\">\n  <thead>\n    <tr style=\"text-align: right;\">\n      <th></th>\n      <th>age</th>\n      <th>anaemia</th>\n      <th>creatinine_phosphokinase</th>\n      <th>diabetes</th>\n      <th>ejection_fraction</th>\n      <th>high_blood_pressure</th>\n      <th>platelets</th>\n      <th>serum_creatinine</th>\n      <th>serum_sodium</th>\n      <th>sex</th>\n      <th>smoking</th>\n      <th>time</th>\n      <th>DEATH_EVENT</th>\n    </tr>\n  </thead>\n  <tbody>\n    <tr>\n      <th>0</th>\n      <td>75.0</td>\n      <td>0</td>\n      <td>582</td>\n      <td>0</td>\n      <td>20</td>\n      <td>1</td>\n      <td>265000.00</td>\n      <td>1.9</td>\n      <td>130</td>\n      <td>1</td>\n      <td>0</td>\n      <td>4</td>\n      <td>1</td>\n    </tr>\n    <tr>\n      <th>1</th>\n      <td>55.0</td>\n      <td>0</td>\n      <td>7861</td>\n      <td>0</td>\n      <td>38</td>\n      <td>0</td>\n      <td>263358.03</td>\n      <td>1.1</td>\n      <td>136</td>\n      <td>1</td>\n      <td>0</td>\n      <td>6</td>\n      <td>1</td>\n    </tr>\n    <tr>\n      <th>2</th>\n      <td>65.0</td>\n      <td>0</td>\n      <td>146</td>\n      <td>0</td>\n      <td>20</td>\n      <td>0</td>\n      <td>162000.00</td>\n      <td>1.3</td>\n      <td>129</td>\n      <td>1</td>\n      <td>1</td>\n      <td>7</td>\n      <td>1</td>\n    </tr>\n    <tr>\n      <th>3</th>\n      <td>50.0</td>\n      <td>1</td>\n      <td>111</td>\n      <td>0</td>\n      <td>20</td>\n      <td>0</td>\n      <td>210000.00</td>\n      <td>1.9</td>\n      <td>137</td>\n      <td>1</td>\n      <td>0</td>\n      <td>7</td>\n      <td>1</td>\n    </tr>\n    <tr>\n      <th>4</th>\n      <td>65.0</td>\n      <td>1</td>\n      <td>160</td>\n      <td>1</td>\n      <td>20</td>\n      <td>0</td>\n      <td>327000.00</td>\n      <td>2.7</td>\n      <td>116</td>\n      <td>0</td>\n      <td>0</td>\n      <td>8</td>\n      <td>1</td>\n    </tr>\n  </tbody>\n</table>\n</div>"
          },
          "metadata": {}
        }
      ],
      "execution_count": 76,
      "metadata": {
        "gather": {
          "logged": 1613049506454
        }
      }
    },
    {
      "cell_type": "code",
      "source": [
        "df= hfdat.to_pandas_dataframe()"
      ],
      "outputs": [],
      "execution_count": 78,
      "metadata": {
        "gather": {
          "logged": 1613049576267
        }
      }
    },
    {
      "cell_type": "code",
      "source": [
        "#create the test dataset\n",
        "hfdat_x = df.drop('DEATH_EVENT', axis= 1)\n",
        "hfdat_x.head()"
      ],
      "outputs": [
        {
          "output_type": "execute_result",
          "execution_count": 79,
          "data": {
            "text/plain": "    age  anaemia  creatinine_phosphokinase  diabetes  ejection_fraction  \\\n0  75.0        0                       582         0                 20   \n1  55.0        0                      7861         0                 38   \n2  65.0        0                       146         0                 20   \n3  50.0        1                       111         0                 20   \n4  65.0        1                       160         1                 20   \n\n   high_blood_pressure  platelets  serum_creatinine  serum_sodium  sex  \\\n0                    1  265000.00               1.9           130    1   \n1                    0  263358.03               1.1           136    1   \n2                    0  162000.00               1.3           129    1   \n3                    0  210000.00               1.9           137    1   \n4                    0  327000.00               2.7           116    0   \n\n   smoking  time  \n0        0     4  \n1        0     6  \n2        1     7  \n3        0     7  \n4        0     8  ",
            "text/html": "<div>\n<style scoped>\n    .dataframe tbody tr th:only-of-type {\n        vertical-align: middle;\n    }\n\n    .dataframe tbody tr th {\n        vertical-align: top;\n    }\n\n    .dataframe thead th {\n        text-align: right;\n    }\n</style>\n<table border=\"1\" class=\"dataframe\">\n  <thead>\n    <tr style=\"text-align: right;\">\n      <th></th>\n      <th>age</th>\n      <th>anaemia</th>\n      <th>creatinine_phosphokinase</th>\n      <th>diabetes</th>\n      <th>ejection_fraction</th>\n      <th>high_blood_pressure</th>\n      <th>platelets</th>\n      <th>serum_creatinine</th>\n      <th>serum_sodium</th>\n      <th>sex</th>\n      <th>smoking</th>\n      <th>time</th>\n    </tr>\n  </thead>\n  <tbody>\n    <tr>\n      <th>0</th>\n      <td>75.0</td>\n      <td>0</td>\n      <td>582</td>\n      <td>0</td>\n      <td>20</td>\n      <td>1</td>\n      <td>265000.00</td>\n      <td>1.9</td>\n      <td>130</td>\n      <td>1</td>\n      <td>0</td>\n      <td>4</td>\n    </tr>\n    <tr>\n      <th>1</th>\n      <td>55.0</td>\n      <td>0</td>\n      <td>7861</td>\n      <td>0</td>\n      <td>38</td>\n      <td>0</td>\n      <td>263358.03</td>\n      <td>1.1</td>\n      <td>136</td>\n      <td>1</td>\n      <td>0</td>\n      <td>6</td>\n    </tr>\n    <tr>\n      <th>2</th>\n      <td>65.0</td>\n      <td>0</td>\n      <td>146</td>\n      <td>0</td>\n      <td>20</td>\n      <td>0</td>\n      <td>162000.00</td>\n      <td>1.3</td>\n      <td>129</td>\n      <td>1</td>\n      <td>1</td>\n      <td>7</td>\n    </tr>\n    <tr>\n      <th>3</th>\n      <td>50.0</td>\n      <td>1</td>\n      <td>111</td>\n      <td>0</td>\n      <td>20</td>\n      <td>0</td>\n      <td>210000.00</td>\n      <td>1.9</td>\n      <td>137</td>\n      <td>1</td>\n      <td>0</td>\n      <td>7</td>\n    </tr>\n    <tr>\n      <th>4</th>\n      <td>65.0</td>\n      <td>1</td>\n      <td>160</td>\n      <td>1</td>\n      <td>20</td>\n      <td>0</td>\n      <td>327000.00</td>\n      <td>2.7</td>\n      <td>116</td>\n      <td>0</td>\n      <td>0</td>\n      <td>8</td>\n    </tr>\n  </tbody>\n</table>\n</div>"
          },
          "metadata": {}
        }
      ],
      "execution_count": 79,
      "metadata": {
        "gather": {
          "logged": 1613049660061
        }
      }
    },
    {
      "cell_type": "markdown",
      "source": [
        "## AutoML Configuration\n",
        "\n",
        "TODO: Explain why you chose the automl settings and cofiguration you used below."
      ],
      "metadata": {}
    },
    {
      "cell_type": "code",
      "source": [
        "# TODO: Put your automl settings here\n",
        "#Will use accuracy as the main metric\n",
        "automl_settings = {\n",
        "    \"experiment_timeout_minutes\": 20,\n",
        "    \"max_concurrent_iterations\": 5,\n",
        "    \"primary_metric\" : 'accuracy'\n",
        "}\n",
        "\n",
        "# TODO: Put your automl config here\n",
        "#Enable early stopping, the task will be classification\n",
        "automl_config = AutoMLConfig(compute_target=compute_target,\n",
        "                             task = \"classification\",\n",
        "                             training_data=hfdat,\n",
        "                             label_column_name=\"DEATH_EVENT\",   \n",
        "                             enable_early_stopping= True,\n",
        "                             featurization= 'auto',\n",
        "                             debug_log = \"automl_errors.log\",\n",
        "                             **automl_settings\n",
        "                            )"
      ],
      "outputs": [],
      "execution_count": 81,
      "metadata": {
        "gather": {
          "logged": 1613049811717
        },
        "jupyter": {
          "outputs_hidden": false,
          "source_hidden": false
        },
        "nteract": {
          "transient": {
            "deleting": false
          }
        }
      }
    },
    {
      "cell_type": "code",
      "source": [
        "# TODO: Submit your experiment\n",
        "remote_run = experiment.submit(automl_config)"
      ],
      "outputs": [
        {
          "output_type": "stream",
          "name": "stdout",
          "text": [
            "Running on remote.\n"
          ]
        }
      ],
      "execution_count": 82,
      "metadata": {
        "gather": {
          "logged": 1613049819991
        },
        "jupyter": {
          "outputs_hidden": false,
          "source_hidden": false
        },
        "nteract": {
          "transient": {
            "deleting": false
          }
        }
      }
    },
    {
      "cell_type": "markdown",
      "source": [
        "## Run Details\n",
        "\n",
        "OPTIONAL: Write about the different models trained and their performance. Why do you think some models did better than others?\n",
        "\n",
        "TODO: In the cell below, use the `RunDetails` widget to show the different experiments."
      ],
      "metadata": {}
    },
    {
      "cell_type": "code",
      "source": [
        "# Retrieve and save your best automl model.\n",
        "remote_run.wait_for_completion(show_output=True)\n",
        "\n"
      ],
      "outputs": [
        {
          "output_type": "stream",
          "name": "stdout",
          "text": [
            "\n",
            "Current status: FeaturesGeneration. Generating features for the dataset.\n",
            "Current status: DatasetCrossValidationSplit. Generating individually featurized CV splits.\n",
            "Current status: ModelSelection. Beginning model selection.\n",
            "\n",
            "****************************************************************************************************\n",
            "DATA GUARDRAILS: \n",
            "\n",
            "TYPE:         Cross validation\n",
            "STATUS:       DONE\n",
            "DESCRIPTION:  Each iteration of the trained model was validated through cross-validation.\n",
            "              \n",
            "DETAILS:      \n",
            "+---------------------------------+\n",
            "|Number of folds                  |\n",
            "+=================================+\n",
            "|10                               |\n",
            "+---------------------------------+\n",
            "\n",
            "****************************************************************************************************\n",
            "\n",
            "TYPE:         Class balancing detection\n",
            "STATUS:       PASSED\n",
            "DESCRIPTION:  Your inputs were analyzed, and all classes are balanced in your training data.\n",
            "              Learn more about imbalanced data: https://aka.ms/AutomatedMLImbalancedData\n",
            "\n",
            "****************************************************************************************************\n",
            "\n",
            "TYPE:         Missing feature values imputation\n",
            "STATUS:       PASSED\n",
            "DESCRIPTION:  No feature missing values were detected in the training data.\n",
            "              Learn more about missing value imputation: https://aka.ms/AutomatedMLFeaturization\n",
            "\n",
            "****************************************************************************************************\n",
            "\n",
            "TYPE:         High cardinality feature detection\n",
            "STATUS:       PASSED\n",
            "DESCRIPTION:  Your inputs were analyzed, and no high cardinality features were detected.\n",
            "              Learn more about high cardinality feature handling: https://aka.ms/AutomatedMLFeaturization\n",
            "\n",
            "****************************************************************************************************\n",
            "\n",
            "****************************************************************************************************\n",
            "ITERATION: The iteration being evaluated.\n",
            "PIPELINE: A summary description of the pipeline being evaluated.\n",
            "DURATION: Time taken for the current iteration.\n",
            "METRIC: The result of computing score on the fitted pipeline.\n",
            "BEST: The best observed score thus far.\n",
            "****************************************************************************************************\n",
            "\n",
            " ITERATION   PIPELINE                                       DURATION      METRIC      BEST\n",
            "         4   MinMaxScaler RandomForest                      0:00:59       0.8287    0.8287\n",
            "         1   MaxAbsScaler XGBoostClassifier                 0:00:53       0.8359    0.8359\n",
            "         3   MinMaxScaler RandomForest                      0:01:04       0.8461    0.8461\n",
            "         2   MinMaxScaler RandomForest                      0:00:55       0.8597    0.8597\n",
            "         7   MinMaxScaler SVM                               0:01:04       0.7260    0.8597\n",
            "         8   SparseNormalizer XGBoostClassifier             0:01:05       0.8229    0.8597\n",
            "         0   MaxAbsScaler LightGBM                          0:03:32       0.8360    0.8597\n",
            "         6   SparseNormalizer XGBoostClassifier             0:03:36       0.8562    0.8597\n",
            "         5   StandardScalerWrapper XGBoostClassifier        0:03:37       0.8391    0.8597\n",
            "         9   MaxAbsScaler GradientBoosting                  0:00:55       0.8462    0.8597\n",
            "        10   SparseNormalizer LightGBM                      0:00:49       0.8329    0.8597\n",
            "        11   StandardScalerWrapper RandomForest             0:01:00       0.8426    0.8597\n",
            "        12   StandardScalerWrapper LightGBM                 0:00:57       0.8492    0.8597\n",
            "        13   StandardScalerWrapper LightGBM                 0:00:50       0.7392    0.8597\n",
            "        14   MaxAbsScaler LightGBM                          0:01:08       0.8293    0.8597\n",
            "        15   RobustScaler ExtremeRandomTrees                0:00:51       0.8393    0.8597\n",
            "        16   RobustScaler ExtremeRandomTrees                0:00:51       0.8563    0.8597\n",
            "        18   StandardScalerWrapper GradientBoosting         0:00:57       0.8660    0.8660\n",
            "        17   MaxAbsScaler LightGBM                          0:00:57       0.8160    0.8660\n",
            "        19   SparseNormalizer XGBoostClassifier             0:00:48       0.8093    0.8660\n",
            "        20   SparseNormalizer XGBoostClassifier             0:00:54       0.7859    0.8660\n",
            "        21   MaxAbsScaler LightGBM                          0:00:49       0.8626    0.8660\n",
            "        22   StandardScalerWrapper LightGBM                 0:00:56       0.8191    0.8660\n",
            "        23   StandardScalerWrapper XGBoostClassifier        0:00:49       0.8393    0.8660\n",
            "        24   StandardScalerWrapper ExtremeRandomTrees       0:00:49       0.8462    0.8660\n",
            "        25   StandardScalerWrapper GradientBoosting         0:00:58       0.6792    0.8660\n",
            "        26   MaxAbsScaler RandomForest                      0:00:56       0.8292    0.8660\n",
            "        27   MaxAbsScaler LightGBM                          0:00:55       0.8326    0.8660\n",
            "        28   MaxAbsScaler ExtremeRandomTrees                0:00:52       0.8595    0.8660\n",
            "        29   StandardScalerWrapper LightGBM                 0:00:55       0.8393    0.8660\n",
            "        30   StandardScalerWrapper GradientBoosting         0:00:55       0.8494    0.8660\n",
            "        32   MaxAbsScaler RandomForest                      0:00:52       0.8592    0.8660\n",
            "        31   MaxAbsScaler RandomForest                      0:01:05       0.8157    0.8660\n",
            "        33   StandardScalerWrapper RandomForest             0:00:53       0.8223    0.8660\n",
            "        34   MaxAbsScaler RandomForest                      0:00:38       0.8290    0.8660\n",
            "        35                                                  0:00:17          nan    0.8660\n",
            "        36    VotingEnsemble                                0:01:49       0.8830    0.8830\n",
            "        37    StackEnsemble                                 0:02:27       0.8526    0.8830\n"
          ]
        },
        {
          "output_type": "execute_result",
          "execution_count": 83,
          "data": {
            "text/plain": "{'runId': 'AutoML_e187a261-2384-4de6-83f3-41b181512d73',\n 'target': 'auto-ml',\n 'status': 'Completed',\n 'startTimeUtc': '2021-02-11T13:23:54.019021Z',\n 'endTimeUtc': '2021-02-11T13:49:18.956472Z',\n 'properties': {'num_iterations': '1000',\n  'training_type': 'TrainFull',\n  'acquisition_function': 'EI',\n  'primary_metric': 'accuracy',\n  'train_split': '0',\n  'acquisition_parameter': '0',\n  'num_cross_validation': None,\n  'target': 'auto-ml',\n  'AMLSettingsJsonString': '{\"path\":null,\"name\":\"Azure_Capstone_Automl\",\"subscription_id\":\"2c48c51c-bd47-40d4-abbe-fb8eabd19c8c\",\"resource_group\":\"aml-quickstarts-138520\",\"workspace_name\":\"quick-starts-ws-138520\",\"region\":\"southcentralus\",\"compute_target\":\"auto-ml\",\"spark_service\":null,\"azure_service\":\"remote\",\"many_models\":false,\"pipeline_fetch_max_batch_size\":1,\"iterations\":1000,\"primary_metric\":\"accuracy\",\"task_type\":\"classification\",\"data_script\":null,\"validation_size\":0.0,\"n_cross_validations\":null,\"y_min\":null,\"y_max\":null,\"num_classes\":null,\"featurization\":\"auto\",\"_ignore_package_version_incompatibilities\":false,\"is_timeseries\":false,\"max_cores_per_iteration\":1,\"max_concurrent_iterations\":5,\"iteration_timeout_minutes\":null,\"mem_in_mb\":null,\"enforce_time_on_windows\":false,\"experiment_timeout_minutes\":20,\"experiment_exit_score\":null,\"whitelist_models\":null,\"blacklist_algos\":[\"TensorFlowLinearClassifier\",\"TensorFlowDNN\"],\"supported_models\":[\"ExtremeRandomTrees\",\"TensorFlowDNN\",\"AveragedPerceptronClassifier\",\"TensorFlowLinearClassifier\",\"LinearSVM\",\"BernoulliNaiveBayes\",\"DecisionTree\",\"SVM\",\"LightGBM\",\"XGBoostClassifier\",\"SGD\",\"KNN\",\"GradientBoosting\",\"MultinomialNaiveBayes\",\"LogisticRegression\",\"RandomForest\"],\"auto_blacklist\":true,\"blacklist_samples_reached\":false,\"exclude_nan_labels\":true,\"verbosity\":20,\"_debug_log\":\"azureml_automl.log\",\"show_warnings\":false,\"model_explainability\":true,\"service_url\":null,\"sdk_url\":null,\"sdk_packages\":null,\"enable_onnx_compatible_models\":false,\"enable_split_onnx_featurizer_estimator_models\":false,\"vm_type\":\"STANDARD_D2_V2\",\"telemetry_verbosity\":20,\"send_telemetry\":true,\"enable_dnn\":false,\"scenario\":\"SDK-1.13.0\",\"environment_label\":null,\"force_text_dnn\":false,\"enable_feature_sweeping\":true,\"enable_early_stopping\":true,\"early_stopping_n_iters\":10,\"metrics\":null,\"enable_ensembling\":true,\"enable_stack_ensembling\":true,\"ensemble_iterations\":15,\"enable_tf\":false,\"enable_subsampling\":null,\"subsample_seed\":null,\"enable_nimbusml\":false,\"enable_streaming\":false,\"force_streaming\":false,\"track_child_runs\":true,\"allowed_private_models\":[],\"label_column_name\":\"DEATH_EVENT\",\"weight_column_name\":null,\"cv_split_column_names\":null,\"enable_local_managed\":false,\"_local_managed_run_id\":null,\"cost_mode\":1,\"lag_length\":0,\"metric_operation\":\"maximize\",\"preprocess\":true}',\n  'DataPrepJsonString': '{\\\\\"training_data\\\\\": \\\\\"{\\\\\\\\\\\\\"blocks\\\\\\\\\\\\\": [{\\\\\\\\\\\\\"id\\\\\\\\\\\\\": \\\\\\\\\\\\\"fce03eaf-964c-4d39-8edb-1b57f4a29489\\\\\\\\\\\\\", \\\\\\\\\\\\\"type\\\\\\\\\\\\\": \\\\\\\\\\\\\"Microsoft.DPrep.GetDatastoreFilesBlock\\\\\\\\\\\\\", \\\\\\\\\\\\\"arguments\\\\\\\\\\\\\": {\\\\\\\\\\\\\"datastores\\\\\\\\\\\\\": [{\\\\\\\\\\\\\"datastoreName\\\\\\\\\\\\\": \\\\\\\\\\\\\"workspaceblobstore\\\\\\\\\\\\\", \\\\\\\\\\\\\"path\\\\\\\\\\\\\": \\\\\\\\\\\\\"UI/02-11-2021_120913_UTC/heart_failure_clinical_records_dataset.csv\\\\\\\\\\\\\", \\\\\\\\\\\\\"resourceGroup\\\\\\\\\\\\\": \\\\\\\\\\\\\"aml-quickstarts-138520\\\\\\\\\\\\\", \\\\\\\\\\\\\"subscription\\\\\\\\\\\\\": \\\\\\\\\\\\\"2c48c51c-bd47-40d4-abbe-fb8eabd19c8c\\\\\\\\\\\\\", \\\\\\\\\\\\\"workspaceName\\\\\\\\\\\\\": \\\\\\\\\\\\\"quick-starts-ws-138520\\\\\\\\\\\\\"}]}, \\\\\\\\\\\\\"localData\\\\\\\\\\\\\": {}, \\\\\\\\\\\\\"isEnabled\\\\\\\\\\\\\": true, \\\\\\\\\\\\\"name\\\\\\\\\\\\\": null, \\\\\\\\\\\\\"annotation\\\\\\\\\\\\\": null}, {\\\\\\\\\\\\\"id\\\\\\\\\\\\\": \\\\\\\\\\\\\"f7e8fb64-33b7-4274-bd4f-2c4dfa5e3449\\\\\\\\\\\\\", \\\\\\\\\\\\\"type\\\\\\\\\\\\\": \\\\\\\\\\\\\"Microsoft.DPrep.ParseDelimitedBlock\\\\\\\\\\\\\", \\\\\\\\\\\\\"arguments\\\\\\\\\\\\\": {\\\\\\\\\\\\\"columnHeadersMode\\\\\\\\\\\\\": 3, \\\\\\\\\\\\\"fileEncoding\\\\\\\\\\\\\": 0, \\\\\\\\\\\\\"handleQuotedLineBreaks\\\\\\\\\\\\\": false, \\\\\\\\\\\\\"preview\\\\\\\\\\\\\": false, \\\\\\\\\\\\\"separator\\\\\\\\\\\\\": \\\\\\\\\\\\\",\\\\\\\\\\\\\", \\\\\\\\\\\\\"skipRows\\\\\\\\\\\\\": 0, \\\\\\\\\\\\\"skipRowsMode\\\\\\\\\\\\\": 0}, \\\\\\\\\\\\\"localData\\\\\\\\\\\\\": {}, \\\\\\\\\\\\\"isEnabled\\\\\\\\\\\\\": true, \\\\\\\\\\\\\"name\\\\\\\\\\\\\": null, \\\\\\\\\\\\\"annotation\\\\\\\\\\\\\": null}, {\\\\\\\\\\\\\"id\\\\\\\\\\\\\": \\\\\\\\\\\\\"b95c89a0-58f4-41a8-82a0-dfa030cde577\\\\\\\\\\\\\", \\\\\\\\\\\\\"type\\\\\\\\\\\\\": \\\\\\\\\\\\\"Microsoft.DPrep.DropColumnsBlock\\\\\\\\\\\\\", \\\\\\\\\\\\\"arguments\\\\\\\\\\\\\": {\\\\\\\\\\\\\"columns\\\\\\\\\\\\\": {\\\\\\\\\\\\\"type\\\\\\\\\\\\\": 0, \\\\\\\\\\\\\"details\\\\\\\\\\\\\": {\\\\\\\\\\\\\"selectedColumns\\\\\\\\\\\\\": [\\\\\\\\\\\\\"Path\\\\\\\\\\\\\"]}}}, \\\\\\\\\\\\\"localData\\\\\\\\\\\\\": {}, \\\\\\\\\\\\\"isEnabled\\\\\\\\\\\\\": true, \\\\\\\\\\\\\"name\\\\\\\\\\\\\": null, \\\\\\\\\\\\\"annotation\\\\\\\\\\\\\": null}, {\\\\\\\\\\\\\"id\\\\\\\\\\\\\": \\\\\\\\\\\\\"9e71e6af-3880-445e-97f0-c233c4a5453a\\\\\\\\\\\\\", \\\\\\\\\\\\\"type\\\\\\\\\\\\\": \\\\\\\\\\\\\"Microsoft.DPrep.SetColumnTypesBlock\\\\\\\\\\\\\", \\\\\\\\\\\\\"arguments\\\\\\\\\\\\\": {\\\\\\\\\\\\\"columnConversion\\\\\\\\\\\\\": [{\\\\\\\\\\\\\"column\\\\\\\\\\\\\": {\\\\\\\\\\\\\"type\\\\\\\\\\\\\": 2, \\\\\\\\\\\\\"details\\\\\\\\\\\\\": {\\\\\\\\\\\\\"selectedColumn\\\\\\\\\\\\\": \\\\\\\\\\\\\"Path\\\\\\\\\\\\\"}}, \\\\\\\\\\\\\"typeProperty\\\\\\\\\\\\\": 0}, {\\\\\\\\\\\\\"column\\\\\\\\\\\\\": {\\\\\\\\\\\\\"type\\\\\\\\\\\\\": 2, \\\\\\\\\\\\\"details\\\\\\\\\\\\\": {\\\\\\\\\\\\\"selectedColumn\\\\\\\\\\\\\": \\\\\\\\\\\\\"age\\\\\\\\\\\\\"}}, \\\\\\\\\\\\\"typeProperty\\\\\\\\\\\\\": 3}, {\\\\\\\\\\\\\"column\\\\\\\\\\\\\": {\\\\\\\\\\\\\"type\\\\\\\\\\\\\": 2, \\\\\\\\\\\\\"details\\\\\\\\\\\\\": {\\\\\\\\\\\\\"selectedColumn\\\\\\\\\\\\\": \\\\\\\\\\\\\"anaemia\\\\\\\\\\\\\"}}, \\\\\\\\\\\\\"typeProperty\\\\\\\\\\\\\": 2}, {\\\\\\\\\\\\\"column\\\\\\\\\\\\\": {\\\\\\\\\\\\\"type\\\\\\\\\\\\\": 2, \\\\\\\\\\\\\"details\\\\\\\\\\\\\": {\\\\\\\\\\\\\"selectedColumn\\\\\\\\\\\\\": \\\\\\\\\\\\\"creatinine_phosphokinase\\\\\\\\\\\\\"}}, \\\\\\\\\\\\\"typeProperty\\\\\\\\\\\\\": 2}, {\\\\\\\\\\\\\"column\\\\\\\\\\\\\": {\\\\\\\\\\\\\"type\\\\\\\\\\\\\": 2, \\\\\\\\\\\\\"details\\\\\\\\\\\\\": {\\\\\\\\\\\\\"selectedColumn\\\\\\\\\\\\\": \\\\\\\\\\\\\"diabetes\\\\\\\\\\\\\"}}, \\\\\\\\\\\\\"typeProperty\\\\\\\\\\\\\": 2}, {\\\\\\\\\\\\\"column\\\\\\\\\\\\\": {\\\\\\\\\\\\\"type\\\\\\\\\\\\\": 2, \\\\\\\\\\\\\"details\\\\\\\\\\\\\": {\\\\\\\\\\\\\"selectedColumn\\\\\\\\\\\\\": \\\\\\\\\\\\\"ejection_fraction\\\\\\\\\\\\\"}}, \\\\\\\\\\\\\"typeProperty\\\\\\\\\\\\\": 2}, {\\\\\\\\\\\\\"column\\\\\\\\\\\\\": {\\\\\\\\\\\\\"type\\\\\\\\\\\\\": 2, \\\\\\\\\\\\\"details\\\\\\\\\\\\\": {\\\\\\\\\\\\\"selectedColumn\\\\\\\\\\\\\": \\\\\\\\\\\\\"high_blood_pressure\\\\\\\\\\\\\"}}, \\\\\\\\\\\\\"typeProperty\\\\\\\\\\\\\": 2}, {\\\\\\\\\\\\\"column\\\\\\\\\\\\\": {\\\\\\\\\\\\\"type\\\\\\\\\\\\\": 2, \\\\\\\\\\\\\"details\\\\\\\\\\\\\": {\\\\\\\\\\\\\"selectedColumn\\\\\\\\\\\\\": \\\\\\\\\\\\\"platelets\\\\\\\\\\\\\"}}, \\\\\\\\\\\\\"typeProperty\\\\\\\\\\\\\": 3}, {\\\\\\\\\\\\\"column\\\\\\\\\\\\\": {\\\\\\\\\\\\\"type\\\\\\\\\\\\\": 2, \\\\\\\\\\\\\"details\\\\\\\\\\\\\": {\\\\\\\\\\\\\"selectedColumn\\\\\\\\\\\\\": \\\\\\\\\\\\\"serum_creatinine\\\\\\\\\\\\\"}}, \\\\\\\\\\\\\"typeProperty\\\\\\\\\\\\\": 3}, {\\\\\\\\\\\\\"column\\\\\\\\\\\\\": {\\\\\\\\\\\\\"type\\\\\\\\\\\\\": 2, \\\\\\\\\\\\\"details\\\\\\\\\\\\\": {\\\\\\\\\\\\\"selectedColumn\\\\\\\\\\\\\": \\\\\\\\\\\\\"serum_sodium\\\\\\\\\\\\\"}}, \\\\\\\\\\\\\"typeProperty\\\\\\\\\\\\\": 2}, {\\\\\\\\\\\\\"column\\\\\\\\\\\\\": {\\\\\\\\\\\\\"type\\\\\\\\\\\\\": 2, \\\\\\\\\\\\\"details\\\\\\\\\\\\\": {\\\\\\\\\\\\\"selectedColumn\\\\\\\\\\\\\": \\\\\\\\\\\\\"sex\\\\\\\\\\\\\"}}, \\\\\\\\\\\\\"typeProperty\\\\\\\\\\\\\": 2}, {\\\\\\\\\\\\\"column\\\\\\\\\\\\\": {\\\\\\\\\\\\\"type\\\\\\\\\\\\\": 2, \\\\\\\\\\\\\"details\\\\\\\\\\\\\": {\\\\\\\\\\\\\"selectedColumn\\\\\\\\\\\\\": \\\\\\\\\\\\\"smoking\\\\\\\\\\\\\"}}, \\\\\\\\\\\\\"typeProperty\\\\\\\\\\\\\": 2}, {\\\\\\\\\\\\\"column\\\\\\\\\\\\\": {\\\\\\\\\\\\\"type\\\\\\\\\\\\\": 2, \\\\\\\\\\\\\"details\\\\\\\\\\\\\": {\\\\\\\\\\\\\"selectedColumn\\\\\\\\\\\\\": \\\\\\\\\\\\\"time\\\\\\\\\\\\\"}}, \\\\\\\\\\\\\"typeProperty\\\\\\\\\\\\\": 2}, {\\\\\\\\\\\\\"column\\\\\\\\\\\\\": {\\\\\\\\\\\\\"type\\\\\\\\\\\\\": 2, \\\\\\\\\\\\\"details\\\\\\\\\\\\\": {\\\\\\\\\\\\\"selectedColumn\\\\\\\\\\\\\": \\\\\\\\\\\\\"DEATH_EVENT\\\\\\\\\\\\\"}}, \\\\\\\\\\\\\"typeProperty\\\\\\\\\\\\\": 2}]}, \\\\\\\\\\\\\"localData\\\\\\\\\\\\\": {}, \\\\\\\\\\\\\"isEnabled\\\\\\\\\\\\\": true, \\\\\\\\\\\\\"name\\\\\\\\\\\\\": null, \\\\\\\\\\\\\"annotation\\\\\\\\\\\\\": null}], \\\\\\\\\\\\\"inspectors\\\\\\\\\\\\\": [], \\\\\\\\\\\\\"meta\\\\\\\\\\\\\": {\\\\\\\\\\\\\"savedDatasetId\\\\\\\\\\\\\": \\\\\\\\\\\\\"d903c555-a43f-4559-9d40-52d91df9c5c4\\\\\\\\\\\\\", \\\\\\\\\\\\\"datasetType\\\\\\\\\\\\\": \\\\\\\\\\\\\"tabular\\\\\\\\\\\\\", \\\\\\\\\\\\\"subscriptionId\\\\\\\\\\\\\": \\\\\\\\\\\\\"2c48c51c-bd47-40d4-abbe-fb8eabd19c8c\\\\\\\\\\\\\", \\\\\\\\\\\\\"workspaceId\\\\\\\\\\\\\": \\\\\\\\\\\\\"00f2804a-c9ad-4cc2-bf2d-361d3980cfd6\\\\\\\\\\\\\", \\\\\\\\\\\\\"workspaceLocation\\\\\\\\\\\\\": \\\\\\\\\\\\\"southcentralus\\\\\\\\\\\\\"}}\\\\\", \\\\\"activities\\\\\": 0}',\n  'EnableSubsampling': None,\n  'runTemplate': 'AutoML',\n  'azureml.runsource': 'automl',\n  'display_task_type': 'classification',\n  'dependencies_versions': '{\"azureml-widgets\": \"1.20.0\", \"azureml-train\": \"1.20.0\", \"azureml-train-restclients-hyperdrive\": \"1.20.0\", \"azureml-train-core\": \"1.20.0\", \"azureml-train-automl\": \"1.20.0\", \"azureml-train-automl-runtime\": \"1.20.0\", \"azureml-train-automl-client\": \"1.20.0\", \"azureml-tensorboard\": \"1.20.0\", \"azureml-telemetry\": \"1.20.0\", \"azureml-sdk\": \"1.20.0\", \"azureml-samples\": \"0+unknown\", \"azureml-pipeline\": \"1.20.0\", \"azureml-pipeline-steps\": \"1.20.0\", \"azureml-pipeline-core\": \"1.20.0\", \"azureml-opendatasets\": \"1.20.0\", \"azureml-model-management-sdk\": \"1.0.1b6.post1\", \"azureml-mlflow\": \"1.20.0.post1\", \"azureml-interpret\": \"1.20.0\", \"azureml-explain-model\": \"1.20.0\", \"azureml-defaults\": \"1.20.0\", \"azureml-dataset-runtime\": \"1.20.0\", \"azureml-dataprep\": \"2.7.3\", \"azureml-dataprep-rslex\": \"1.5.0\", \"azureml-dataprep-native\": \"27.0.0\", \"azureml-datadrift\": \"1.20.0\", \"azureml-core\": \"1.20.0\", \"azureml-contrib-services\": \"1.20.0\", \"azureml-contrib-server\": \"1.20.0\", \"azureml-contrib-reinforcementlearning\": \"1.20.0\", \"azureml-contrib-pipeline-steps\": \"1.20.0\", \"azureml-contrib-notebook\": \"1.20.0\", \"azureml-contrib-interpret\": \"1.20.0\", \"azureml-contrib-gbdt\": \"1.20.0\", \"azureml-contrib-fairness\": \"1.20.0\", \"azureml-contrib-dataset\": \"1.20.0\", \"azureml-cli-common\": \"1.20.0\", \"azureml-automl-runtime\": \"1.20.0\", \"azureml-automl-core\": \"1.20.0\", \"azureml-accel-models\": \"1.20.0\"}',\n  '_aml_system_scenario_identification': 'Remote.Parent',\n  'ClientType': 'SDK',\n  'environment_cpu_name': 'AzureML-AutoML',\n  'environment_cpu_label': 'prod',\n  'environment_gpu_name': 'AzureML-AutoML-GPU',\n  'environment_gpu_label': 'prod',\n  'root_attribution': 'automl',\n  'attribution': 'AutoML',\n  'Orchestrator': 'AutoML',\n  'CancelUri': 'https://southcentralus.experiments.azureml.net/jasmine/v1.0/subscriptions/2c48c51c-bd47-40d4-abbe-fb8eabd19c8c/resourceGroups/aml-quickstarts-138520/providers/Microsoft.MachineLearningServices/workspaces/quick-starts-ws-138520/experimentids/1d6e3602-29d8-4253-9592-9bdd8ef97042/cancel/AutoML_e187a261-2384-4de6-83f3-41b181512d73',\n  'ClientSdkVersion': '1.21.0',\n  'snapshotId': '00000000-0000-0000-0000-000000000000',\n  'SetupRunId': 'AutoML_e187a261-2384-4de6-83f3-41b181512d73_setup',\n  'SetupRunContainerId': 'dcid.AutoML_e187a261-2384-4de6-83f3-41b181512d73_setup',\n  'FeaturizationRunJsonPath': 'featurizer_container.json',\n  'FeaturizationRunId': 'AutoML_e187a261-2384-4de6-83f3-41b181512d73_featurize',\n  'ProblemInfoJsonString': '{\"dataset_num_categorical\": 0, \"is_sparse\": false, \"subsampling\": false, \"dataset_classes\": 2, \"dataset_features\": 12, \"dataset_samples\": 299, \"single_frequency_class_detected\": false}',\n  'ModelExplainRunId': 'AutoML_e187a261-2384-4de6-83f3-41b181512d73_ModelExplain'},\n 'inputDatasets': [{'dataset': {'id': 'd903c555-a43f-4559-9d40-52d91df9c5c4'}, 'consumptionDetails': {'type': 'RunInput', 'inputName': 'training_data', 'mechanism': 'Direct'}}],\n 'outputDatasets': [],\n 'logFiles': {},\n 'submittedBy': 'ODL_User 138520'}"
          },
          "metadata": {}
        }
      ],
      "execution_count": 83,
      "metadata": {
        "gather": {
          "logged": 1613051383175
        },
        "jupyter": {
          "outputs_hidden": false,
          "source_hidden": false
        },
        "nteract": {
          "transient": {
            "deleting": false
          }
        }
      }
    },
    {
      "cell_type": "code",
      "source": [
        "from azureml.widgets import RunDetails\n",
        "RunDetails(remote_run).show()"
      ],
      "outputs": [
        {
          "output_type": "display_data",
          "data": {
            "text/plain": "_AutoMLWidget(widget_settings={'childWidgetDisplay': 'popup', 'send_telemetry': False, 'log_level': 'INFO', 's…",
            "application/vnd.jupyter.widget-view+json": {
              "version_major": 2,
              "version_minor": 0,
              "model_id": "96b05ffdb5cd4011b8c6952aa25aeb3e"
            }
          },
          "metadata": {}
        },
        {
          "output_type": "display_data",
          "data": {
            "application/aml.mini.widget.v1": "{\"status\": \"Completed\", \"workbench_run_details_uri\": \"https://ml.azure.com/experiments/Azure_Capstone_Automl/runs/AutoML_e187a261-2384-4de6-83f3-41b181512d73?wsid=/subscriptions/2c48c51c-bd47-40d4-abbe-fb8eabd19c8c/resourcegroups/aml-quickstarts-138520/workspaces/quick-starts-ws-138520\", \"run_id\": \"AutoML_e187a261-2384-4de6-83f3-41b181512d73\", \"run_properties\": {\"run_id\": \"AutoML_e187a261-2384-4de6-83f3-41b181512d73\", \"created_utc\": \"2021-02-11T13:23:38.956145Z\", \"properties\": {\"num_iterations\": \"1000\", \"training_type\": \"TrainFull\", \"acquisition_function\": \"EI\", \"primary_metric\": \"accuracy\", \"train_split\": \"0\", \"acquisition_parameter\": \"0\", \"num_cross_validation\": null, \"target\": \"auto-ml\", \"AMLSettingsJsonString\": \"{\\\"path\\\":null,\\\"name\\\":\\\"Azure_Capstone_Automl\\\",\\\"subscription_id\\\":\\\"2c48c51c-bd47-40d4-abbe-fb8eabd19c8c\\\",\\\"resource_group\\\":\\\"aml-quickstarts-138520\\\",\\\"workspace_name\\\":\\\"quick-starts-ws-138520\\\",\\\"region\\\":\\\"southcentralus\\\",\\\"compute_target\\\":\\\"auto-ml\\\",\\\"spark_service\\\":null,\\\"azure_service\\\":\\\"remote\\\",\\\"many_models\\\":false,\\\"pipeline_fetch_max_batch_size\\\":1,\\\"iterations\\\":1000,\\\"primary_metric\\\":\\\"accuracy\\\",\\\"task_type\\\":\\\"classification\\\",\\\"data_script\\\":null,\\\"validation_size\\\":0.0,\\\"n_cross_validations\\\":null,\\\"y_min\\\":null,\\\"y_max\\\":null,\\\"num_classes\\\":null,\\\"featurization\\\":\\\"auto\\\",\\\"_ignore_package_version_incompatibilities\\\":false,\\\"is_timeseries\\\":false,\\\"max_cores_per_iteration\\\":1,\\\"max_concurrent_iterations\\\":5,\\\"iteration_timeout_minutes\\\":null,\\\"mem_in_mb\\\":null,\\\"enforce_time_on_windows\\\":false,\\\"experiment_timeout_minutes\\\":20,\\\"experiment_exit_score\\\":null,\\\"whitelist_models\\\":null,\\\"blacklist_algos\\\":[\\\"TensorFlowLinearClassifier\\\",\\\"TensorFlowDNN\\\"],\\\"supported_models\\\":[\\\"ExtremeRandomTrees\\\",\\\"TensorFlowDNN\\\",\\\"AveragedPerceptronClassifier\\\",\\\"TensorFlowLinearClassifier\\\",\\\"LinearSVM\\\",\\\"BernoulliNaiveBayes\\\",\\\"DecisionTree\\\",\\\"SVM\\\",\\\"LightGBM\\\",\\\"XGBoostClassifier\\\",\\\"SGD\\\",\\\"KNN\\\",\\\"GradientBoosting\\\",\\\"MultinomialNaiveBayes\\\",\\\"LogisticRegression\\\",\\\"RandomForest\\\"],\\\"auto_blacklist\\\":true,\\\"blacklist_samples_reached\\\":false,\\\"exclude_nan_labels\\\":true,\\\"verbosity\\\":20,\\\"_debug_log\\\":\\\"azureml_automl.log\\\",\\\"show_warnings\\\":false,\\\"model_explainability\\\":true,\\\"service_url\\\":null,\\\"sdk_url\\\":null,\\\"sdk_packages\\\":null,\\\"enable_onnx_compatible_models\\\":false,\\\"enable_split_onnx_featurizer_estimator_models\\\":false,\\\"vm_type\\\":\\\"STANDARD_D2_V2\\\",\\\"telemetry_verbosity\\\":20,\\\"send_telemetry\\\":true,\\\"enable_dnn\\\":false,\\\"scenario\\\":\\\"SDK-1.13.0\\\",\\\"environment_label\\\":null,\\\"force_text_dnn\\\":false,\\\"enable_feature_sweeping\\\":true,\\\"enable_early_stopping\\\":true,\\\"early_stopping_n_iters\\\":10,\\\"metrics\\\":null,\\\"enable_ensembling\\\":true,\\\"enable_stack_ensembling\\\":true,\\\"ensemble_iterations\\\":15,\\\"enable_tf\\\":false,\\\"enable_subsampling\\\":null,\\\"subsample_seed\\\":null,\\\"enable_nimbusml\\\":false,\\\"enable_streaming\\\":false,\\\"force_streaming\\\":false,\\\"track_child_runs\\\":true,\\\"allowed_private_models\\\":[],\\\"label_column_name\\\":\\\"DEATH_EVENT\\\",\\\"weight_column_name\\\":null,\\\"cv_split_column_names\\\":null,\\\"enable_local_managed\\\":false,\\\"_local_managed_run_id\\\":null,\\\"cost_mode\\\":1,\\\"lag_length\\\":0,\\\"metric_operation\\\":\\\"maximize\\\",\\\"preprocess\\\":true}\", \"DataPrepJsonString\": \"{\\\\\\\"training_data\\\\\\\": \\\\\\\"{\\\\\\\\\\\\\\\"blocks\\\\\\\\\\\\\\\": [{\\\\\\\\\\\\\\\"id\\\\\\\\\\\\\\\": \\\\\\\\\\\\\\\"fce03eaf-964c-4d39-8edb-1b57f4a29489\\\\\\\\\\\\\\\", \\\\\\\\\\\\\\\"type\\\\\\\\\\\\\\\": \\\\\\\\\\\\\\\"Microsoft.DPrep.GetDatastoreFilesBlock\\\\\\\\\\\\\\\", \\\\\\\\\\\\\\\"arguments\\\\\\\\\\\\\\\": {\\\\\\\\\\\\\\\"datastores\\\\\\\\\\\\\\\": [{\\\\\\\\\\\\\\\"datastoreName\\\\\\\\\\\\\\\": \\\\\\\\\\\\\\\"workspaceblobstore\\\\\\\\\\\\\\\", \\\\\\\\\\\\\\\"path\\\\\\\\\\\\\\\": \\\\\\\\\\\\\\\"UI/02-11-2021_120913_UTC/heart_failure_clinical_records_dataset.csv\\\\\\\\\\\\\\\", \\\\\\\\\\\\\\\"resourceGroup\\\\\\\\\\\\\\\": \\\\\\\\\\\\\\\"aml-quickstarts-138520\\\\\\\\\\\\\\\", \\\\\\\\\\\\\\\"subscription\\\\\\\\\\\\\\\": \\\\\\\\\\\\\\\"2c48c51c-bd47-40d4-abbe-fb8eabd19c8c\\\\\\\\\\\\\\\", \\\\\\\\\\\\\\\"workspaceName\\\\\\\\\\\\\\\": \\\\\\\\\\\\\\\"quick-starts-ws-138520\\\\\\\\\\\\\\\"}]}, \\\\\\\\\\\\\\\"localData\\\\\\\\\\\\\\\": {}, \\\\\\\\\\\\\\\"isEnabled\\\\\\\\\\\\\\\": true, \\\\\\\\\\\\\\\"name\\\\\\\\\\\\\\\": null, \\\\\\\\\\\\\\\"annotation\\\\\\\\\\\\\\\": null}, {\\\\\\\\\\\\\\\"id\\\\\\\\\\\\\\\": \\\\\\\\\\\\\\\"f7e8fb64-33b7-4274-bd4f-2c4dfa5e3449\\\\\\\\\\\\\\\", \\\\\\\\\\\\\\\"type\\\\\\\\\\\\\\\": \\\\\\\\\\\\\\\"Microsoft.DPrep.ParseDelimitedBlock\\\\\\\\\\\\\\\", \\\\\\\\\\\\\\\"arguments\\\\\\\\\\\\\\\": {\\\\\\\\\\\\\\\"columnHeadersMode\\\\\\\\\\\\\\\": 3, \\\\\\\\\\\\\\\"fileEncoding\\\\\\\\\\\\\\\": 0, \\\\\\\\\\\\\\\"handleQuotedLineBreaks\\\\\\\\\\\\\\\": false, \\\\\\\\\\\\\\\"preview\\\\\\\\\\\\\\\": false, \\\\\\\\\\\\\\\"separator\\\\\\\\\\\\\\\": \\\\\\\\\\\\\\\",\\\\\\\\\\\\\\\", \\\\\\\\\\\\\\\"skipRows\\\\\\\\\\\\\\\": 0, \\\\\\\\\\\\\\\"skipRowsMode\\\\\\\\\\\\\\\": 0}, \\\\\\\\\\\\\\\"localData\\\\\\\\\\\\\\\": {}, \\\\\\\\\\\\\\\"isEnabled\\\\\\\\\\\\\\\": true, \\\\\\\\\\\\\\\"name\\\\\\\\\\\\\\\": null, \\\\\\\\\\\\\\\"annotation\\\\\\\\\\\\\\\": null}, {\\\\\\\\\\\\\\\"id\\\\\\\\\\\\\\\": \\\\\\\\\\\\\\\"b95c89a0-58f4-41a8-82a0-dfa030cde577\\\\\\\\\\\\\\\", \\\\\\\\\\\\\\\"type\\\\\\\\\\\\\\\": \\\\\\\\\\\\\\\"Microsoft.DPrep.DropColumnsBlock\\\\\\\\\\\\\\\", \\\\\\\\\\\\\\\"arguments\\\\\\\\\\\\\\\": {\\\\\\\\\\\\\\\"columns\\\\\\\\\\\\\\\": {\\\\\\\\\\\\\\\"type\\\\\\\\\\\\\\\": 0, \\\\\\\\\\\\\\\"details\\\\\\\\\\\\\\\": {\\\\\\\\\\\\\\\"selectedColumns\\\\\\\\\\\\\\\": [\\\\\\\\\\\\\\\"Path\\\\\\\\\\\\\\\"]}}}, \\\\\\\\\\\\\\\"localData\\\\\\\\\\\\\\\": {}, \\\\\\\\\\\\\\\"isEnabled\\\\\\\\\\\\\\\": true, \\\\\\\\\\\\\\\"name\\\\\\\\\\\\\\\": null, \\\\\\\\\\\\\\\"annotation\\\\\\\\\\\\\\\": null}, {\\\\\\\\\\\\\\\"id\\\\\\\\\\\\\\\": \\\\\\\\\\\\\\\"9e71e6af-3880-445e-97f0-c233c4a5453a\\\\\\\\\\\\\\\", \\\\\\\\\\\\\\\"type\\\\\\\\\\\\\\\": \\\\\\\\\\\\\\\"Microsoft.DPrep.SetColumnTypesBlock\\\\\\\\\\\\\\\", \\\\\\\\\\\\\\\"arguments\\\\\\\\\\\\\\\": {\\\\\\\\\\\\\\\"columnConversion\\\\\\\\\\\\\\\": [{\\\\\\\\\\\\\\\"column\\\\\\\\\\\\\\\": {\\\\\\\\\\\\\\\"type\\\\\\\\\\\\\\\": 2, \\\\\\\\\\\\\\\"details\\\\\\\\\\\\\\\": {\\\\\\\\\\\\\\\"selectedColumn\\\\\\\\\\\\\\\": \\\\\\\\\\\\\\\"Path\\\\\\\\\\\\\\\"}}, \\\\\\\\\\\\\\\"typeProperty\\\\\\\\\\\\\\\": 0}, {\\\\\\\\\\\\\\\"column\\\\\\\\\\\\\\\": {\\\\\\\\\\\\\\\"type\\\\\\\\\\\\\\\": 2, \\\\\\\\\\\\\\\"details\\\\\\\\\\\\\\\": {\\\\\\\\\\\\\\\"selectedColumn\\\\\\\\\\\\\\\": \\\\\\\\\\\\\\\"age\\\\\\\\\\\\\\\"}}, \\\\\\\\\\\\\\\"typeProperty\\\\\\\\\\\\\\\": 3}, {\\\\\\\\\\\\\\\"column\\\\\\\\\\\\\\\": {\\\\\\\\\\\\\\\"type\\\\\\\\\\\\\\\": 2, \\\\\\\\\\\\\\\"details\\\\\\\\\\\\\\\": {\\\\\\\\\\\\\\\"selectedColumn\\\\\\\\\\\\\\\": \\\\\\\\\\\\\\\"anaemia\\\\\\\\\\\\\\\"}}, \\\\\\\\\\\\\\\"typeProperty\\\\\\\\\\\\\\\": 2}, {\\\\\\\\\\\\\\\"column\\\\\\\\\\\\\\\": {\\\\\\\\\\\\\\\"type\\\\\\\\\\\\\\\": 2, \\\\\\\\\\\\\\\"details\\\\\\\\\\\\\\\": {\\\\\\\\\\\\\\\"selectedColumn\\\\\\\\\\\\\\\": \\\\\\\\\\\\\\\"creatinine_phosphokinase\\\\\\\\\\\\\\\"}}, \\\\\\\\\\\\\\\"typeProperty\\\\\\\\\\\\\\\": 2}, {\\\\\\\\\\\\\\\"column\\\\\\\\\\\\\\\": {\\\\\\\\\\\\\\\"type\\\\\\\\\\\\\\\": 2, \\\\\\\\\\\\\\\"details\\\\\\\\\\\\\\\": {\\\\\\\\\\\\\\\"selectedColumn\\\\\\\\\\\\\\\": \\\\\\\\\\\\\\\"diabetes\\\\\\\\\\\\\\\"}}, \\\\\\\\\\\\\\\"typeProperty\\\\\\\\\\\\\\\": 2}, {\\\\\\\\\\\\\\\"column\\\\\\\\\\\\\\\": {\\\\\\\\\\\\\\\"type\\\\\\\\\\\\\\\": 2, \\\\\\\\\\\\\\\"details\\\\\\\\\\\\\\\": {\\\\\\\\\\\\\\\"selectedColumn\\\\\\\\\\\\\\\": \\\\\\\\\\\\\\\"ejection_fraction\\\\\\\\\\\\\\\"}}, \\\\\\\\\\\\\\\"typeProperty\\\\\\\\\\\\\\\": 2}, {\\\\\\\\\\\\\\\"column\\\\\\\\\\\\\\\": {\\\\\\\\\\\\\\\"type\\\\\\\\\\\\\\\": 2, \\\\\\\\\\\\\\\"details\\\\\\\\\\\\\\\": {\\\\\\\\\\\\\\\"selectedColumn\\\\\\\\\\\\\\\": \\\\\\\\\\\\\\\"high_blood_pressure\\\\\\\\\\\\\\\"}}, \\\\\\\\\\\\\\\"typeProperty\\\\\\\\\\\\\\\": 2}, {\\\\\\\\\\\\\\\"column\\\\\\\\\\\\\\\": {\\\\\\\\\\\\\\\"type\\\\\\\\\\\\\\\": 2, \\\\\\\\\\\\\\\"details\\\\\\\\\\\\\\\": {\\\\\\\\\\\\\\\"selectedColumn\\\\\\\\\\\\\\\": \\\\\\\\\\\\\\\"platelets\\\\\\\\\\\\\\\"}}, \\\\\\\\\\\\\\\"typeProperty\\\\\\\\\\\\\\\": 3}, {\\\\\\\\\\\\\\\"column\\\\\\\\\\\\\\\": {\\\\\\\\\\\\\\\"type\\\\\\\\\\\\\\\": 2, \\\\\\\\\\\\\\\"details\\\\\\\\\\\\\\\": {\\\\\\\\\\\\\\\"selectedColumn\\\\\\\\\\\\\\\": \\\\\\\\\\\\\\\"serum_creatinine\\\\\\\\\\\\\\\"}}, \\\\\\\\\\\\\\\"typeProperty\\\\\\\\\\\\\\\": 3}, {\\\\\\\\\\\\\\\"column\\\\\\\\\\\\\\\": {\\\\\\\\\\\\\\\"type\\\\\\\\\\\\\\\": 2, \\\\\\\\\\\\\\\"details\\\\\\\\\\\\\\\": {\\\\\\\\\\\\\\\"selectedColumn\\\\\\\\\\\\\\\": \\\\\\\\\\\\\\\"serum_sodium\\\\\\\\\\\\\\\"}}, \\\\\\\\\\\\\\\"typeProperty\\\\\\\\\\\\\\\": 2}, {\\\\\\\\\\\\\\\"column\\\\\\\\\\\\\\\": {\\\\\\\\\\\\\\\"type\\\\\\\\\\\\\\\": 2, \\\\\\\\\\\\\\\"details\\\\\\\\\\\\\\\": {\\\\\\\\\\\\\\\"selectedColumn\\\\\\\\\\\\\\\": \\\\\\\\\\\\\\\"sex\\\\\\\\\\\\\\\"}}, \\\\\\\\\\\\\\\"typeProperty\\\\\\\\\\\\\\\": 2}, {\\\\\\\\\\\\\\\"column\\\\\\\\\\\\\\\": {\\\\\\\\\\\\\\\"type\\\\\\\\\\\\\\\": 2, \\\\\\\\\\\\\\\"details\\\\\\\\\\\\\\\": {\\\\\\\\\\\\\\\"selectedColumn\\\\\\\\\\\\\\\": \\\\\\\\\\\\\\\"smoking\\\\\\\\\\\\\\\"}}, \\\\\\\\\\\\\\\"typeProperty\\\\\\\\\\\\\\\": 2}, {\\\\\\\\\\\\\\\"column\\\\\\\\\\\\\\\": {\\\\\\\\\\\\\\\"type\\\\\\\\\\\\\\\": 2, \\\\\\\\\\\\\\\"details\\\\\\\\\\\\\\\": {\\\\\\\\\\\\\\\"selectedColumn\\\\\\\\\\\\\\\": \\\\\\\\\\\\\\\"time\\\\\\\\\\\\\\\"}}, \\\\\\\\\\\\\\\"typeProperty\\\\\\\\\\\\\\\": 2}, {\\\\\\\\\\\\\\\"column\\\\\\\\\\\\\\\": {\\\\\\\\\\\\\\\"type\\\\\\\\\\\\\\\": 2, \\\\\\\\\\\\\\\"details\\\\\\\\\\\\\\\": {\\\\\\\\\\\\\\\"selectedColumn\\\\\\\\\\\\\\\": \\\\\\\\\\\\\\\"DEATH_EVENT\\\\\\\\\\\\\\\"}}, \\\\\\\\\\\\\\\"typeProperty\\\\\\\\\\\\\\\": 2}]}, \\\\\\\\\\\\\\\"localData\\\\\\\\\\\\\\\": {}, \\\\\\\\\\\\\\\"isEnabled\\\\\\\\\\\\\\\": true, \\\\\\\\\\\\\\\"name\\\\\\\\\\\\\\\": null, \\\\\\\\\\\\\\\"annotation\\\\\\\\\\\\\\\": null}], \\\\\\\\\\\\\\\"inspectors\\\\\\\\\\\\\\\": [], \\\\\\\\\\\\\\\"meta\\\\\\\\\\\\\\\": {\\\\\\\\\\\\\\\"savedDatasetId\\\\\\\\\\\\\\\": \\\\\\\\\\\\\\\"d903c555-a43f-4559-9d40-52d91df9c5c4\\\\\\\\\\\\\\\", \\\\\\\\\\\\\\\"datasetType\\\\\\\\\\\\\\\": \\\\\\\\\\\\\\\"tabular\\\\\\\\\\\\\\\", \\\\\\\\\\\\\\\"subscriptionId\\\\\\\\\\\\\\\": \\\\\\\\\\\\\\\"2c48c51c-bd47-40d4-abbe-fb8eabd19c8c\\\\\\\\\\\\\\\", \\\\\\\\\\\\\\\"workspaceId\\\\\\\\\\\\\\\": \\\\\\\\\\\\\\\"00f2804a-c9ad-4cc2-bf2d-361d3980cfd6\\\\\\\\\\\\\\\", \\\\\\\\\\\\\\\"workspaceLocation\\\\\\\\\\\\\\\": \\\\\\\\\\\\\\\"southcentralus\\\\\\\\\\\\\\\"}}\\\\\\\", \\\\\\\"activities\\\\\\\": 0}\", \"EnableSubsampling\": null, \"runTemplate\": \"AutoML\", \"azureml.runsource\": \"automl\", \"display_task_type\": \"classification\", \"dependencies_versions\": \"{\\\"azureml-widgets\\\": \\\"1.20.0\\\", \\\"azureml-train\\\": \\\"1.20.0\\\", \\\"azureml-train-restclients-hyperdrive\\\": \\\"1.20.0\\\", \\\"azureml-train-core\\\": \\\"1.20.0\\\", \\\"azureml-train-automl\\\": \\\"1.20.0\\\", \\\"azureml-train-automl-runtime\\\": \\\"1.20.0\\\", \\\"azureml-train-automl-client\\\": \\\"1.20.0\\\", \\\"azureml-tensorboard\\\": \\\"1.20.0\\\", \\\"azureml-telemetry\\\": \\\"1.20.0\\\", \\\"azureml-sdk\\\": \\\"1.20.0\\\", \\\"azureml-samples\\\": \\\"0+unknown\\\", \\\"azureml-pipeline\\\": \\\"1.20.0\\\", \\\"azureml-pipeline-steps\\\": \\\"1.20.0\\\", \\\"azureml-pipeline-core\\\": \\\"1.20.0\\\", \\\"azureml-opendatasets\\\": \\\"1.20.0\\\", \\\"azureml-model-management-sdk\\\": \\\"1.0.1b6.post1\\\", \\\"azureml-mlflow\\\": \\\"1.20.0.post1\\\", \\\"azureml-interpret\\\": \\\"1.20.0\\\", \\\"azureml-explain-model\\\": \\\"1.20.0\\\", \\\"azureml-defaults\\\": \\\"1.20.0\\\", \\\"azureml-dataset-runtime\\\": \\\"1.20.0\\\", \\\"azureml-dataprep\\\": \\\"2.7.3\\\", \\\"azureml-dataprep-rslex\\\": \\\"1.5.0\\\", \\\"azureml-dataprep-native\\\": \\\"27.0.0\\\", \\\"azureml-datadrift\\\": \\\"1.20.0\\\", \\\"azureml-core\\\": \\\"1.20.0\\\", \\\"azureml-contrib-services\\\": \\\"1.20.0\\\", \\\"azureml-contrib-server\\\": \\\"1.20.0\\\", \\\"azureml-contrib-reinforcementlearning\\\": \\\"1.20.0\\\", \\\"azureml-contrib-pipeline-steps\\\": \\\"1.20.0\\\", \\\"azureml-contrib-notebook\\\": \\\"1.20.0\\\", \\\"azureml-contrib-interpret\\\": \\\"1.20.0\\\", \\\"azureml-contrib-gbdt\\\": \\\"1.20.0\\\", \\\"azureml-contrib-fairness\\\": \\\"1.20.0\\\", \\\"azureml-contrib-dataset\\\": \\\"1.20.0\\\", \\\"azureml-cli-common\\\": \\\"1.20.0\\\", \\\"azureml-automl-runtime\\\": \\\"1.20.0\\\", \\\"azureml-automl-core\\\": \\\"1.20.0\\\", \\\"azureml-accel-models\\\": \\\"1.20.0\\\"}\", \"_aml_system_scenario_identification\": \"Remote.Parent\", \"ClientType\": \"SDK\", \"environment_cpu_name\": \"AzureML-AutoML\", \"environment_cpu_label\": \"prod\", \"environment_gpu_name\": \"AzureML-AutoML-GPU\", \"environment_gpu_label\": \"prod\", \"root_attribution\": \"automl\", \"attribution\": \"AutoML\", \"Orchestrator\": \"AutoML\", \"CancelUri\": \"https://southcentralus.experiments.azureml.net/jasmine/v1.0/subscriptions/2c48c51c-bd47-40d4-abbe-fb8eabd19c8c/resourceGroups/aml-quickstarts-138520/providers/Microsoft.MachineLearningServices/workspaces/quick-starts-ws-138520/experimentids/1d6e3602-29d8-4253-9592-9bdd8ef97042/cancel/AutoML_e187a261-2384-4de6-83f3-41b181512d73\", \"ClientSdkVersion\": \"1.21.0\", \"snapshotId\": \"00000000-0000-0000-0000-000000000000\", \"SetupRunId\": \"AutoML_e187a261-2384-4de6-83f3-41b181512d73_setup\", \"SetupRunContainerId\": \"dcid.AutoML_e187a261-2384-4de6-83f3-41b181512d73_setup\", \"FeaturizationRunJsonPath\": \"featurizer_container.json\", \"FeaturizationRunId\": \"AutoML_e187a261-2384-4de6-83f3-41b181512d73_featurize\", \"ProblemInfoJsonString\": \"{\\\"dataset_num_categorical\\\": 0, \\\"is_sparse\\\": false, \\\"subsampling\\\": false, \\\"dataset_classes\\\": 2, \\\"dataset_features\\\": 12, \\\"dataset_samples\\\": 299, \\\"single_frequency_class_detected\\\": false}\", \"ModelExplainRunId\": \"AutoML_e187a261-2384-4de6-83f3-41b181512d73_ModelExplain\"}, \"tags\": {\"model_explain_run\": \"best_run\", \"_aml_system_azureml.automlComponent\": \"AutoML\", \"pipeline_id\": \"\", \"score\": \"\", \"predicted_cost\": \"\", \"fit_time\": \"\", \"training_percent\": \"\", \"iteration\": \"\", \"run_preprocessor\": \"\", \"run_algorithm\": \"\", \"dynamic_whitelisting_iterations\": \"<25>;<30>;<35>;\", \"automl_best_child_run_id\": \"AutoML_e187a261-2384-4de6-83f3-41b181512d73_36\", \"model_explain_best_run_child_id\": \"AutoML_e187a261-2384-4de6-83f3-41b181512d73_36\"}, \"end_time_utc\": \"2021-02-11T13:49:18.956472Z\", \"status\": \"Completed\", \"log_files\": {}, \"log_groups\": [], \"run_duration\": \"0:25:40\"}, \"child_runs\": [{\"run_id\": \"AutoML_e187a261-2384-4de6-83f3-41b181512d73_0\", \"run_number\": 6, \"metric\": null, \"status\": \"Completed\", \"run_type\": \"azureml.scriptrun\", \"training_percent\": \"100\", \"start_time\": \"2021-02-11T13:36:00.484204Z\", \"end_time\": \"2021-02-11T13:39:32.54721Z\", \"created_time\": \"2021-02-11T13:32:25.383093Z\", \"created_time_dt\": \"2021-02-11T13:32:25.383093Z\", \"duration\": \"0:07:07\", \"iteration\": \"0\", \"goal\": \"accuracy_max\", \"run_name\": \"MaxAbsScaler, LightGBM\", \"run_properties\": \"copy=True\", \"primary_metric\": 0.83597701, \"best_metric\": 0.83597701}, {\"run_id\": \"AutoML_e187a261-2384-4de6-83f3-41b181512d73_4\", \"run_number\": 7, \"metric\": null, \"status\": \"Completed\", \"run_type\": \"azureml.scriptrun\", \"training_percent\": \"100\", \"start_time\": \"2021-02-11T13:32:36.512238Z\", \"end_time\": \"2021-02-11T13:33:35.983934Z\", \"created_time\": \"2021-02-11T13:32:25.39526Z\", \"created_time_dt\": \"2021-02-11T13:32:25.39526Z\", \"duration\": \"0:01:10\", \"iteration\": \"4\", \"goal\": \"accuracy_max\", \"run_name\": \"MinMaxScaler, RandomForest\", \"run_properties\": \"copy=True, feature_range=(0, 1\", \"primary_metric\": 0.82873563, \"best_metric\": 0.85965517}, {\"run_id\": \"AutoML_e187a261-2384-4de6-83f3-41b181512d73_2\", \"run_number\": 8, \"metric\": null, \"status\": \"Completed\", \"run_type\": \"azureml.scriptrun\", \"training_percent\": \"100\", \"start_time\": \"2021-02-11T13:35:43.605233Z\", \"end_time\": \"2021-02-11T13:36:38.515541Z\", \"created_time\": \"2021-02-11T13:32:25.423301Z\", \"created_time_dt\": \"2021-02-11T13:32:25.423301Z\", \"duration\": \"0:04:13\", \"iteration\": \"2\", \"goal\": \"accuracy_max\", \"run_name\": \"MinMaxScaler, RandomForest\", \"run_properties\": \"copy=True, feature_range=(0, 1\", \"primary_metric\": 0.85965517, \"best_metric\": 0.85965517}, {\"run_id\": \"AutoML_e187a261-2384-4de6-83f3-41b181512d73_1\", \"run_number\": 9, \"metric\": null, \"status\": \"Completed\", \"run_type\": \"azureml.scriptrun\", \"training_percent\": \"100\", \"start_time\": \"2021-02-11T13:33:40.847481Z\", \"end_time\": \"2021-02-11T13:34:33.820639Z\", \"created_time\": \"2021-02-11T13:32:25.697798Z\", \"created_time_dt\": \"2021-02-11T13:32:25.697798Z\", \"duration\": \"0:02:08\", \"iteration\": \"1\", \"goal\": \"accuracy_max\", \"run_name\": \"MaxAbsScaler, XGBoostClassifier\", \"run_properties\": \"copy=True\", \"primary_metric\": 0.83586207, \"best_metric\": 0.83597701}, {\"run_id\": \"AutoML_e187a261-2384-4de6-83f3-41b181512d73_3\", \"run_number\": 10, \"metric\": null, \"status\": \"Completed\", \"run_type\": \"azureml.scriptrun\", \"training_percent\": \"100\", \"start_time\": \"2021-02-11T13:34:38.623323Z\", \"end_time\": \"2021-02-11T13:35:42.342539Z\", \"created_time\": \"2021-02-11T13:32:25.45888Z\", \"created_time_dt\": \"2021-02-11T13:32:25.45888Z\", \"duration\": \"0:03:16\", \"iteration\": \"3\", \"goal\": \"accuracy_max\", \"run_name\": \"MinMaxScaler, RandomForest\", \"run_properties\": \"copy=True, feature_range=(0, 1\", \"primary_metric\": 0.84609195, \"best_metric\": 0.85965517}, {\"run_id\": \"AutoML_e187a261-2384-4de6-83f3-41b181512d73_5\", \"run_number\": 11, \"metric\": null, \"status\": \"Completed\", \"run_type\": \"azureml.scriptrun\", \"training_percent\": \"100\", \"start_time\": \"2021-02-11T13:36:03.293379Z\", \"end_time\": \"2021-02-11T13:39:40.628134Z\", \"created_time\": \"2021-02-11T13:33:40.14912Z\", \"created_time_dt\": \"2021-02-11T13:33:40.14912Z\", \"duration\": \"0:06:00\", \"iteration\": \"5\", \"goal\": \"accuracy_max\", \"run_name\": \"StandardScalerWrapper, XGBoostClassifier\", \"run_properties\": \"<azureml.automl.runtime.shared.model_wrappers.StandardScalerWrapper object at 0x7fb86c302b00\", \"primary_metric\": 0.83908046, \"best_metric\": 0.85965517}, {\"run_id\": \"AutoML_e187a261-2384-4de6-83f3-41b181512d73_6\", \"run_number\": 12, \"metric\": null, \"status\": \"Completed\", \"run_type\": \"azureml.scriptrun\", \"training_percent\": \"100\", \"start_time\": \"2021-02-11T13:36:03.162487Z\", \"end_time\": \"2021-02-11T13:39:38.747966Z\", \"created_time\": \"2021-02-11T13:34:38.445639Z\", \"created_time_dt\": \"2021-02-11T13:34:38.445639Z\", \"duration\": \"0:05:00\", \"iteration\": \"6\", \"goal\": \"accuracy_max\", \"run_name\": \"SparseNormalizer, XGBoostClassifier\", \"run_properties\": \"<azureml.automl.runtime.shared.model_wrappers.SparseNormalizer object at 0x7f7c3fbdf470\", \"primary_metric\": 0.8562069, \"best_metric\": 0.85965517}, {\"run_id\": \"AutoML_e187a261-2384-4de6-83f3-41b181512d73_7\", \"run_number\": 13, \"metric\": null, \"status\": \"Completed\", \"run_type\": \"azureml.scriptrun\", \"training_percent\": \"100\", \"start_time\": \"2021-02-11T13:36:40.572399Z\", \"end_time\": \"2021-02-11T13:37:44.180105Z\", \"created_time\": \"2021-02-11T13:35:45.321617Z\", \"created_time_dt\": \"2021-02-11T13:35:45.321617Z\", \"duration\": \"0:01:58\", \"iteration\": \"7\", \"goal\": \"accuracy_max\", \"run_name\": \"MinMaxScaler, SVM\", \"run_properties\": \"copy=True, feature_range=(0, 1\", \"primary_metric\": 0.72597701, \"best_metric\": 0.85965517}, {\"run_id\": \"AutoML_e187a261-2384-4de6-83f3-41b181512d73_8\", \"run_number\": 14, \"metric\": null, \"status\": \"Completed\", \"run_type\": \"azureml.scriptrun\", \"training_percent\": \"100\", \"start_time\": \"2021-02-11T13:37:44.168704Z\", \"end_time\": \"2021-02-11T13:38:48.730455Z\", \"created_time\": \"2021-02-11T13:36:42.29589Z\", \"created_time_dt\": \"2021-02-11T13:36:42.29589Z\", \"duration\": \"0:02:06\", \"iteration\": \"8\", \"goal\": \"accuracy_max\", \"run_name\": \"SparseNormalizer, XGBoostClassifier\", \"run_properties\": \"<azureml.automl.runtime.shared.model_wrappers.SparseNormalizer object at 0x7efc8a684b38\", \"primary_metric\": 0.82287356, \"best_metric\": 0.85965517}, {\"run_id\": \"AutoML_e187a261-2384-4de6-83f3-41b181512d73_9\", \"run_number\": 15, \"metric\": null, \"status\": \"Completed\", \"run_type\": \"azureml.scriptrun\", \"training_percent\": \"100\", \"start_time\": \"2021-02-11T13:38:53.047504Z\", \"end_time\": \"2021-02-11T13:39:48.014133Z\", \"created_time\": \"2021-02-11T13:37:47.41305Z\", \"created_time_dt\": \"2021-02-11T13:37:47.41305Z\", \"duration\": \"0:02:00\", \"iteration\": \"9\", \"goal\": \"accuracy_max\", \"run_name\": \"MaxAbsScaler, GradientBoosting\", \"run_properties\": \"copy=True\", \"primary_metric\": 0.8462069, \"best_metric\": 0.85965517}, {\"run_id\": \"AutoML_e187a261-2384-4de6-83f3-41b181512d73_10\", \"run_number\": 16, \"metric\": null, \"status\": \"Completed\", \"run_type\": \"azureml.scriptrun\", \"training_percent\": \"100\", \"start_time\": \"2021-02-11T13:39:37.388674Z\", \"end_time\": \"2021-02-11T13:40:26.477479Z\", \"created_time\": \"2021-02-11T13:38:51.07162Z\", \"created_time_dt\": \"2021-02-11T13:38:51.07162Z\", \"duration\": \"0:01:35\", \"iteration\": \"10\", \"goal\": \"accuracy_max\", \"run_name\": \"SparseNormalizer, LightGBM\", \"run_properties\": \"<azureml.automl.runtime.shared.model_wrappers.SparseNormalizer object at 0x7f55ee953518\", \"primary_metric\": 0.83287356, \"best_metric\": 0.85965517}, {\"run_id\": \"AutoML_e187a261-2384-4de6-83f3-41b181512d73_11\", \"run_number\": 17, \"metric\": null, \"status\": \"Completed\", \"run_type\": \"azureml.scriptrun\", \"training_percent\": \"100\", \"start_time\": \"2021-02-11T13:39:47.235718Z\", \"end_time\": \"2021-02-11T13:40:47.21699Z\", \"created_time\": \"2021-02-11T13:39:35.233986Z\", \"created_time_dt\": \"2021-02-11T13:39:35.233986Z\", \"duration\": \"0:01:11\", \"iteration\": \"11\", \"goal\": \"accuracy_max\", \"run_name\": \"StandardScalerWrapper, RandomForest\", \"run_properties\": \"<azureml.automl.runtime.shared.model_wrappers.StandardScalerWrapper object at 0x7f1b5ecb89b0\", \"primary_metric\": 0.84264368, \"best_metric\": 0.85965517}, {\"run_id\": \"AutoML_e187a261-2384-4de6-83f3-41b181512d73_12\", \"run_number\": 18, \"metric\": null, \"status\": \"Completed\", \"run_type\": \"azureml.scriptrun\", \"training_percent\": \"100\", \"start_time\": \"2021-02-11T13:39:53.300756Z\", \"end_time\": \"2021-02-11T13:40:50.238978Z\", \"created_time\": \"2021-02-11T13:39:41.112464Z\", \"created_time_dt\": \"2021-02-11T13:39:41.112464Z\", \"duration\": \"0:01:09\", \"iteration\": \"12\", \"goal\": \"accuracy_max\", \"run_name\": \"StandardScalerWrapper, LightGBM\", \"run_properties\": \"<azureml.automl.runtime.shared.model_wrappers.StandardScalerWrapper object at 0x7f44c81099b0\", \"primary_metric\": 0.8491954, \"best_metric\": 0.85965517}, {\"run_id\": \"AutoML_e187a261-2384-4de6-83f3-41b181512d73_13\", \"run_number\": 19, \"metric\": null, \"status\": \"Completed\", \"run_type\": \"azureml.scriptrun\", \"training_percent\": \"100\", \"start_time\": \"2021-02-11T13:39:58.609708Z\", \"end_time\": \"2021-02-11T13:40:48.69926Z\", \"created_time\": \"2021-02-11T13:39:45.239086Z\", \"created_time_dt\": \"2021-02-11T13:39:45.239086Z\", \"duration\": \"0:01:03\", \"iteration\": \"13\", \"goal\": \"accuracy_max\", \"run_name\": \"StandardScalerWrapper, LightGBM\", \"run_properties\": \"<azureml.automl.runtime.shared.model_wrappers.StandardScalerWrapper object at 0x7fb2d6a2a780\", \"primary_metric\": 0.7391954, \"best_metric\": 0.85965517}, {\"run_id\": \"AutoML_e187a261-2384-4de6-83f3-41b181512d73_14\", \"run_number\": 20, \"metric\": null, \"status\": \"Completed\", \"run_type\": \"azureml.scriptrun\", \"training_percent\": \"100\", \"start_time\": \"2021-02-11T13:40:31.556555Z\", \"end_time\": \"2021-02-11T13:41:39.677394Z\", \"created_time\": \"2021-02-11T13:39:50.36195Z\", \"created_time_dt\": \"2021-02-11T13:39:50.36195Z\", \"duration\": \"0:01:49\", \"iteration\": \"14\", \"goal\": \"accuracy_max\", \"run_name\": \"MaxAbsScaler, LightGBM\", \"run_properties\": \"copy=True\", \"primary_metric\": 0.82931034, \"best_metric\": 0.85965517}, {\"run_id\": \"AutoML_e187a261-2384-4de6-83f3-41b181512d73_15\", \"run_number\": 21, \"metric\": null, \"status\": \"Completed\", \"run_type\": \"azureml.scriptrun\", \"training_percent\": \"100\", \"start_time\": \"2021-02-11T13:40:50.195532Z\", \"end_time\": \"2021-02-11T13:41:41.606128Z\", \"created_time\": \"2021-02-11T13:40:28.800039Z\", \"created_time_dt\": \"2021-02-11T13:40:28.800039Z\", \"duration\": \"0:01:12\", \"iteration\": \"15\", \"goal\": \"accuracy_max\", \"run_name\": \"RobustScaler, ExtremeRandomTrees\", \"run_properties\": \"copy=True, quantile_range=[25, 75], with_centering=True,\\n             with_scaling=False\", \"primary_metric\": 0.83931034, \"best_metric\": 0.85965517}, {\"run_id\": \"AutoML_e187a261-2384-4de6-83f3-41b181512d73_16\", \"run_number\": 22, \"metric\": null, \"status\": \"Completed\", \"run_type\": \"azureml.scriptrun\", \"training_percent\": \"100\", \"start_time\": \"2021-02-11T13:41:01.356047Z\", \"end_time\": \"2021-02-11T13:41:52.523735Z\", \"created_time\": \"2021-02-11T13:40:50.043127Z\", \"created_time_dt\": \"2021-02-11T13:40:50.043127Z\", \"duration\": \"0:01:02\", \"iteration\": \"16\", \"goal\": \"accuracy_max\", \"run_name\": \"RobustScaler, ExtremeRandomTrees\", \"run_properties\": \"copy=True, quantile_range=[25, 75], with_centering=True,\\n             with_scaling=False\", \"primary_metric\": 0.85632184, \"best_metric\": 0.85965517}, {\"run_id\": \"AutoML_e187a261-2384-4de6-83f3-41b181512d73_18\", \"run_number\": 23, \"metric\": null, \"status\": \"Completed\", \"run_type\": \"azureml.scriptrun\", \"training_percent\": \"100\", \"start_time\": \"2021-02-11T13:41:05.343596Z\", \"end_time\": \"2021-02-11T13:42:02.199944Z\", \"created_time\": \"2021-02-11T13:40:54.391776Z\", \"created_time_dt\": \"2021-02-11T13:40:54.391776Z\", \"duration\": \"0:01:07\", \"iteration\": \"18\", \"goal\": \"accuracy_max\", \"run_name\": \"StandardScalerWrapper, GradientBoosting\", \"run_properties\": \"<azureml.automl.runtime.shared.model_wrappers.StandardScalerWrapper object at 0x7f997b0cd160\", \"primary_metric\": 0.86597701, \"best_metric\": 0.86597701}, {\"run_id\": \"AutoML_e187a261-2384-4de6-83f3-41b181512d73_17\", \"run_number\": 24, \"metric\": null, \"status\": \"Completed\", \"run_type\": \"azureml.scriptrun\", \"training_percent\": \"100\", \"start_time\": \"2021-02-11T13:41:42.060714Z\", \"end_time\": \"2021-02-11T13:42:38.754905Z\", \"created_time\": \"2021-02-11T13:40:54.396206Z\", \"created_time_dt\": \"2021-02-11T13:40:54.396206Z\", \"duration\": \"0:01:44\", \"iteration\": \"17\", \"goal\": \"accuracy_max\", \"run_name\": \"MaxAbsScaler, LightGBM\", \"run_properties\": \"copy=True\", \"primary_metric\": 0.81597701, \"best_metric\": 0.85965517}, {\"run_id\": \"AutoML_e187a261-2384-4de6-83f3-41b181512d73_19\", \"run_number\": 25, \"metric\": null, \"status\": \"Completed\", \"run_type\": \"azureml.scriptrun\", \"training_percent\": \"100\", \"start_time\": \"2021-02-11T13:41:53.09658Z\", \"end_time\": \"2021-02-11T13:42:40.683676Z\", \"created_time\": \"2021-02-11T13:41:41.958532Z\", \"created_time_dt\": \"2021-02-11T13:41:41.958532Z\", \"duration\": \"0:00:58\", \"iteration\": \"19\", \"goal\": \"accuracy_max\", \"run_name\": \"SparseNormalizer, XGBoostClassifier\", \"run_properties\": \"<azureml.automl.runtime.shared.model_wrappers.SparseNormalizer object at 0x7f329a5e04e0\", \"primary_metric\": 0.80931034, \"best_metric\": 0.86597701}, {\"run_id\": \"AutoML_e187a261-2384-4de6-83f3-41b181512d73_20\", \"run_number\": 26, \"metric\": null, \"status\": \"Completed\", \"run_type\": \"azureml.scriptrun\", \"training_percent\": \"100\", \"start_time\": \"2021-02-11T13:42:00.178095Z\", \"end_time\": \"2021-02-11T13:42:54.528157Z\", \"created_time\": \"2021-02-11T13:41:45.918981Z\", \"created_time_dt\": \"2021-02-11T13:41:45.918981Z\", \"duration\": \"0:01:08\", \"iteration\": \"20\", \"goal\": \"accuracy_max\", \"run_name\": \"SparseNormalizer, XGBoostClassifier\", \"run_properties\": \"<azureml.automl.runtime.shared.model_wrappers.SparseNormalizer object at 0x7fd26ff6f0f0\", \"primary_metric\": 0.78586207, \"best_metric\": 0.86597701}, {\"run_id\": \"AutoML_e187a261-2384-4de6-83f3-41b181512d73_21\", \"run_number\": 27, \"metric\": null, \"status\": \"Completed\", \"run_type\": \"azureml.scriptrun\", \"training_percent\": \"100\", \"start_time\": \"2021-02-11T13:42:08.770049Z\", \"end_time\": \"2021-02-11T13:42:57.867257Z\", \"created_time\": \"2021-02-11T13:41:55.414368Z\", \"created_time_dt\": \"2021-02-11T13:41:55.414368Z\", \"duration\": \"0:01:02\", \"iteration\": \"21\", \"goal\": \"accuracy_max\", \"run_name\": \"MaxAbsScaler, LightGBM\", \"run_properties\": \"copy=True\", \"primary_metric\": 0.86264368, \"best_metric\": 0.86597701}, {\"run_id\": \"AutoML_e187a261-2384-4de6-83f3-41b181512d73_22\", \"run_number\": 28, \"metric\": null, \"status\": \"Completed\", \"run_type\": \"azureml.scriptrun\", \"training_percent\": \"100\", \"start_time\": \"2021-02-11T13:42:40.116994Z\", \"end_time\": \"2021-02-11T13:43:35.996011Z\", \"created_time\": \"2021-02-11T13:42:04.376331Z\", \"created_time_dt\": \"2021-02-11T13:42:04.376331Z\", \"duration\": \"0:01:31\", \"iteration\": \"22\", \"goal\": \"accuracy_max\", \"run_name\": \"StandardScalerWrapper, LightGBM\", \"run_properties\": \"<azureml.automl.runtime.shared.model_wrappers.StandardScalerWrapper object at 0x7f1a6403a7b8\", \"primary_metric\": 0.81908046, \"best_metric\": 0.86597701}, {\"run_id\": \"AutoML_e187a261-2384-4de6-83f3-41b181512d73_23\", \"run_number\": 29, \"metric\": null, \"status\": \"Completed\", \"run_type\": \"azureml.scriptrun\", \"training_percent\": \"100\", \"start_time\": \"2021-02-11T13:42:53.888969Z\", \"end_time\": \"2021-02-11T13:43:42.953777Z\", \"created_time\": \"2021-02-11T13:42:40.966888Z\", \"created_time_dt\": \"2021-02-11T13:42:40.966888Z\", \"duration\": \"0:01:01\", \"iteration\": \"23\", \"goal\": \"accuracy_max\", \"run_name\": \"StandardScalerWrapper, XGBoostClassifier\", \"run_properties\": \"<azureml.automl.runtime.shared.model_wrappers.StandardScalerWrapper object at 0x7fdec05bc358\", \"primary_metric\": 0.83931034, \"best_metric\": 0.86597701}, {\"run_id\": \"AutoML_e187a261-2384-4de6-83f3-41b181512d73_24\", \"run_number\": 30, \"metric\": null, \"status\": \"Completed\", \"run_type\": \"azureml.scriptrun\", \"training_percent\": \"100\", \"start_time\": \"2021-02-11T13:42:59.678164Z\", \"end_time\": \"2021-02-11T13:43:48.345593Z\", \"created_time\": \"2021-02-11T13:42:46.288243Z\", \"created_time_dt\": \"2021-02-11T13:42:46.288243Z\", \"duration\": \"0:01:02\", \"iteration\": \"24\", \"goal\": \"accuracy_max\", \"run_name\": \"StandardScalerWrapper, ExtremeRandomTrees\", \"run_properties\": \"<azureml.automl.runtime.shared.model_wrappers.StandardScalerWrapper object at 0x7fc9484df5f8\", \"primary_metric\": 0.8462069, \"best_metric\": 0.86597701}, {\"run_id\": \"AutoML_e187a261-2384-4de6-83f3-41b181512d73_25\", \"run_number\": 31, \"metric\": null, \"status\": \"Completed\", \"run_type\": \"azureml.scriptrun\", \"training_percent\": \"100\", \"start_time\": \"2021-02-11T13:43:11.425399Z\", \"end_time\": \"2021-02-11T13:44:08.941766Z\", \"created_time\": \"2021-02-11T13:42:58.099386Z\", \"created_time_dt\": \"2021-02-11T13:42:58.099386Z\", \"duration\": \"0:01:10\", \"iteration\": \"25\", \"goal\": \"accuracy_max\", \"run_name\": \"StandardScalerWrapper, GradientBoosting\", \"run_properties\": \"<azureml.automl.runtime.shared.model_wrappers.StandardScalerWrapper object at 0x7f345ac11320\", \"primary_metric\": 0.6791954, \"best_metric\": 0.86597701}, {\"run_id\": \"AutoML_e187a261-2384-4de6-83f3-41b181512d73_26\", \"run_number\": 32, \"metric\": null, \"status\": \"Completed\", \"run_type\": \"azureml.scriptrun\", \"training_percent\": \"100\", \"start_time\": \"2021-02-11T13:43:39.073515Z\", \"end_time\": \"2021-02-11T13:44:35.416555Z\", \"created_time\": \"2021-02-11T13:43:04.352057Z\", \"created_time_dt\": \"2021-02-11T13:43:04.352057Z\", \"duration\": \"0:01:31\", \"iteration\": \"26\", \"goal\": \"accuracy_max\", \"run_name\": \"MaxAbsScaler, RandomForest\", \"run_properties\": \"copy=True\", \"primary_metric\": 0.8291954, \"best_metric\": 0.86597701}, {\"run_id\": \"AutoML_e187a261-2384-4de6-83f3-41b181512d73_27\", \"run_number\": 33, \"metric\": null, \"status\": \"Completed\", \"run_type\": \"azureml.scriptrun\", \"training_percent\": \"100\", \"start_time\": \"2021-02-11T13:43:52.578234Z\", \"end_time\": \"2021-02-11T13:44:47.813284Z\", \"created_time\": \"2021-02-11T13:43:38.982733Z\", \"created_time_dt\": \"2021-02-11T13:43:38.982733Z\", \"duration\": \"0:01:08\", \"iteration\": \"27\", \"goal\": \"accuracy_max\", \"run_name\": \"MaxAbsScaler, LightGBM\", \"run_properties\": \"copy=True\", \"primary_metric\": 0.83264368, \"best_metric\": 0.86597701}, {\"run_id\": \"AutoML_e187a261-2384-4de6-83f3-41b181512d73_28\", \"run_number\": 34, \"metric\": null, \"status\": \"Completed\", \"run_type\": \"azureml.scriptrun\", \"training_percent\": \"100\", \"start_time\": \"2021-02-11T13:43:57.566435Z\", \"end_time\": \"2021-02-11T13:44:49.58119Z\", \"created_time\": \"2021-02-11T13:43:45.290545Z\", \"created_time_dt\": \"2021-02-11T13:43:45.290545Z\", \"duration\": \"0:01:04\", \"iteration\": \"28\", \"goal\": \"accuracy_max\", \"run_name\": \"MaxAbsScaler, ExtremeRandomTrees\", \"run_properties\": \"copy=True\", \"primary_metric\": 0.85954023, \"best_metric\": 0.86597701}, {\"run_id\": \"AutoML_e187a261-2384-4de6-83f3-41b181512d73_29\", \"run_number\": 35, \"metric\": null, \"status\": \"Completed\", \"run_type\": \"azureml.scriptrun\", \"training_percent\": \"100\", \"start_time\": \"2021-02-11T13:44:13.072497Z\", \"end_time\": \"2021-02-11T13:45:08.103582Z\", \"created_time\": \"2021-02-11T13:43:50.697101Z\", \"created_time_dt\": \"2021-02-11T13:43:50.697101Z\", \"duration\": \"0:01:17\", \"iteration\": \"29\", \"goal\": \"accuracy_max\", \"run_name\": \"StandardScalerWrapper, LightGBM\", \"run_properties\": \"<azureml.automl.runtime.shared.model_wrappers.StandardScalerWrapper object at 0x7ff95428d6d8\", \"primary_metric\": 0.83931034, \"best_metric\": 0.86597701}, {\"run_id\": \"AutoML_e187a261-2384-4de6-83f3-41b181512d73_30\", \"run_number\": 36, \"metric\": null, \"status\": \"Completed\", \"run_type\": \"azureml.scriptrun\", \"training_percent\": \"100\", \"start_time\": \"2021-02-11T13:44:39.400225Z\", \"end_time\": \"2021-02-11T13:45:34.128979Z\", \"created_time\": \"2021-02-11T13:44:12.313466Z\", \"created_time_dt\": \"2021-02-11T13:44:12.313466Z\", \"duration\": \"0:01:21\", \"iteration\": \"30\", \"goal\": \"accuracy_max\", \"run_name\": \"StandardScalerWrapper, GradientBoosting\", \"run_properties\": \"<azureml.automl.runtime.shared.model_wrappers.StandardScalerWrapper object at 0x7f40ca905ac8\", \"primary_metric\": 0.84942529, \"best_metric\": 0.86597701}, {\"run_id\": \"AutoML_e187a261-2384-4de6-83f3-41b181512d73_31\", \"run_number\": 37, \"metric\": null, \"status\": \"Completed\", \"run_type\": \"azureml.scriptrun\", \"training_percent\": \"100\", \"start_time\": \"2021-02-11T13:44:53.065092Z\", \"end_time\": \"2021-02-11T13:45:58.183792Z\", \"created_time\": \"2021-02-11T13:44:39.027752Z\", \"created_time_dt\": \"2021-02-11T13:44:39.027752Z\", \"duration\": \"0:01:19\", \"iteration\": \"31\", \"goal\": \"accuracy_max\", \"run_name\": \"MaxAbsScaler, RandomForest\", \"run_properties\": \"copy=True\", \"primary_metric\": 0.81574713, \"best_metric\": 0.86597701}, {\"run_id\": \"AutoML_e187a261-2384-4de6-83f3-41b181512d73_32\", \"run_number\": 38, \"metric\": null, \"status\": \"Completed\", \"run_type\": \"azureml.scriptrun\", \"training_percent\": \"100\", \"start_time\": \"2021-02-11T13:45:03.278321Z\", \"end_time\": \"2021-02-11T13:45:55.147374Z\", \"created_time\": \"2021-02-11T13:44:50.191641Z\", \"created_time_dt\": \"2021-02-11T13:44:50.191641Z\", \"duration\": \"0:01:04\", \"iteration\": \"32\", \"goal\": \"accuracy_max\", \"run_name\": \"MaxAbsScaler, RandomForest\", \"run_properties\": \"copy=True\", \"primary_metric\": 0.8591954, \"best_metric\": 0.86597701}, {\"run_id\": \"AutoML_e187a261-2384-4de6-83f3-41b181512d73_33\", \"run_number\": 39, \"metric\": null, \"status\": \"Completed\", \"run_type\": \"azureml.scriptrun\", \"training_percent\": \"100\", \"start_time\": \"2021-02-11T13:45:11.865731Z\", \"end_time\": \"2021-02-11T13:46:05.322971Z\", \"created_time\": \"2021-02-11T13:44:54.488091Z\", \"created_time_dt\": \"2021-02-11T13:44:54.488091Z\", \"duration\": \"0:01:10\", \"iteration\": \"33\", \"goal\": \"accuracy_max\", \"run_name\": \"StandardScalerWrapper, RandomForest\", \"run_properties\": \"<azureml.automl.runtime.shared.model_wrappers.StandardScalerWrapper object at 0x7f14263c33c8\", \"primary_metric\": 0.82229885, \"best_metric\": 0.86597701}, {\"run_id\": \"AutoML_e187a261-2384-4de6-83f3-41b181512d73_34\", \"run_number\": 40, \"metric\": null, \"status\": \"Canceled\", \"run_type\": \"azureml.scriptrun\", \"training_percent\": \"100\", \"start_time\": \"2021-02-11T13:45:39.84175Z\", \"end_time\": \"2021-02-11T13:46:17.891562Z\", \"created_time\": \"2021-02-11T13:45:10.711047Z\", \"created_time_dt\": \"2021-02-11T13:45:10.711047Z\", \"duration\": \"0:01:07\", \"iteration\": \"34\", \"goal\": \"accuracy_max\", \"run_name\": \"MaxAbsScaler, RandomForest\", \"run_properties\": \"copy=True\", \"primary_metric\": 0.82896552, \"best_metric\": 0.86597701}, {\"run_id\": \"AutoML_e187a261-2384-4de6-83f3-41b181512d73_35\", \"run_number\": 41, \"metric\": null, \"status\": \"Canceled\", \"run_type\": \"azureml.scriptrun\", \"training_percent\": \"100\", \"start_time\": \"2021-02-11T13:46:08.809674Z\", \"end_time\": \"2021-02-11T13:46:25.954895Z\", \"created_time\": \"2021-02-11T13:46:08.809674Z\", \"created_time_dt\": \"2021-02-11T13:46:08.809674Z\", \"duration\": \"0:00:17\", \"iteration\": \"35\", \"goal\": null, \"run_name\": \"Canceled\", \"run_properties\": null}, {\"run_id\": \"AutoML_e187a261-2384-4de6-83f3-41b181512d73_36\", \"run_number\": 42, \"metric\": null, \"status\": \"Completed\", \"run_type\": \"azureml.scriptrun\", \"training_percent\": \"100\", \"start_time\": \"2021-02-11T13:47:06.645366Z\", \"end_time\": \"2021-02-11T13:48:55.967143Z\", \"created_time\": \"2021-02-11T13:46:27.187824Z\", \"created_time_dt\": \"2021-02-11T13:46:27.187824Z\", \"duration\": \"0:02:28\", \"iteration\": \"36\", \"goal\": \"accuracy_max\", \"run_name\": \"VotingEnsemble\", \"run_properties\": \"classification_labels=None,\\n                              estimators=[('18',\\n                                           Pipeline(memory=None,\\n                                                    steps=[('standardscalerwrapper',\\n                                                            <azureml.automl.runtime.shared.model_wrappers.StandardScalerWrapper object at 0x7f1d5f29d908>\", \"primary_metric\": 0.88298851, \"best_metric\": 0.88298851}, {\"run_id\": \"AutoML_e187a261-2384-4de6-83f3-41b181512d73_37\", \"run_number\": 43, \"metric\": null, \"status\": \"Completed\", \"run_type\": \"azureml.scriptrun\", \"training_percent\": \"100\", \"start_time\": \"2021-02-11T13:46:40.095709Z\", \"end_time\": \"2021-02-11T13:49:07.277922Z\", \"created_time\": \"2021-02-11T13:46:27.310692Z\", \"created_time_dt\": \"2021-02-11T13:46:27.310692Z\", \"duration\": \"0:02:39\", \"iteration\": \"37\", \"goal\": \"accuracy_max\", \"run_name\": \"StackEnsemble\", \"run_properties\": \"base_learners=[('18',\\n                                        Pipeline(memory=None,\\n                                                 steps=[('standardscalerwrapper',\\n                                                         <azureml.automl.runtime.shared.model_wrappers.StandardScalerWrapper object at 0x7fd7a95a1f98>\", \"primary_metric\": 0.85264368, \"best_metric\": 0.88298851}], \"children_metrics\": {\"categories\": [0], \"series\": {\"AUC_macro\": [{\"categories\": [\"0\", \"1\", \"2\", \"3\", \"4\", \"5\", \"6\", \"7\", \"8\", \"9\", \"10\", \"11\", \"12\", \"13\", \"14\", \"15\", \"16\", \"17\", \"18\", \"19\", \"20\", \"21\", \"22\", \"23\", \"24\", \"25\", \"26\", \"27\", \"28\", \"29\", \"30\", \"31\", \"32\", \"33\", \"34\", \"36\", \"37\"], \"mode\": \"markers\", \"name\": \"AUC_macro\", \"stepped\": false, \"type\": \"scatter\", \"data\": [0.8840955354735103, 0.8847369443591411, 0.9161626981375264, 0.9135837034120214, 0.903624081586267, 0.904891827201953, 0.9038434371501877, 0.7469446399265621, 0.879342659940915, 0.9123473755480049, 0.8877728841757445, 0.8963868236687459, 0.9014763393166711, 0.8887855695177777, 0.8922546979548123, 0.8849017749963402, 0.8990209036259952, 0.8866186786960814, 0.9079829879375646, 0.8608370342027666, 0.8578654471048063, 0.9070406376888643, 0.8866897456916336, 0.9059299162486806, 0.8849870289745004, 0.679759769414203, 0.8978728188224185, 0.900867159169333, 0.896760179213955, 0.8951857931224636, 0.916621012236344, 0.902991589811155, 0.9010550090916796, 0.9094515509513792, 0.8937406373036236, 0.916349678599221, 0.9142021954314862]}, {\"categories\": [\"0\", \"1\", \"2\", \"3\", \"4\", \"5\", \"6\", \"7\", \"8\", \"9\", \"10\", \"11\", \"12\", \"13\", \"14\", \"15\", \"16\", \"17\", \"18\", \"19\", \"20\", \"21\", \"22\", \"23\", \"24\", \"25\", \"26\", \"27\", \"28\", \"29\", \"30\", \"31\", \"32\", \"33\", \"34\", \"36\", \"37\"], \"mode\": \"lines\", \"name\": \"AUC_macro_max\", \"stepped\": true, \"type\": \"scatter\", \"data\": [0.8840955354735103, 0.8847369443591411, 0.9161626981375264, 0.9161626981375264, 0.9161626981375264, 0.9161626981375264, 0.9161626981375264, 0.9161626981375264, 0.9161626981375264, 0.9161626981375264, 0.9161626981375264, 0.9161626981375264, 0.9161626981375264, 0.9161626981375264, 0.9161626981375264, 0.9161626981375264, 0.9161626981375264, 0.9161626981375264, 0.9161626981375264, 0.9161626981375264, 0.9161626981375264, 0.9161626981375264, 0.9161626981375264, 0.9161626981375264, 0.9161626981375264, 0.9161626981375264, 0.9161626981375264, 0.9161626981375264, 0.9161626981375264, 0.9161626981375264, 0.916621012236344, 0.916621012236344, 0.916621012236344, 0.916621012236344, 0.916621012236344, 0.916621012236344, 0.916621012236344]}], \"average_precision_score_micro\": [{\"categories\": [\"0\", \"1\", \"2\", \"3\", \"4\", \"5\", \"6\", \"7\", \"8\", \"9\", \"10\", \"11\", \"12\", \"13\", \"14\", \"15\", \"16\", \"17\", \"18\", \"19\", \"20\", \"21\", \"22\", \"23\", \"24\", \"25\", \"26\", \"27\", \"28\", \"29\", \"30\", \"31\", \"32\", \"33\", \"34\", \"36\", \"37\"], \"mode\": \"markers\", \"name\": \"average_precision_score_micro\", \"stepped\": false, \"type\": \"scatter\", \"data\": [0.9020054536251629, 0.9033793522124445, 0.922495591113665, 0.9228681826061476, 0.9158292921416729, 0.9135549946125561, 0.9106908220726379, 0.7823215658431296, 0.895111815566743, 0.925284397439387, 0.9019692978998345, 0.9068638010753632, 0.9147566051809243, 0.8695675396775158, 0.8905441744626564, 0.9035599875360806, 0.912961804026444, 0.874213726671546, 0.9238461254612153, 0.876380860099481, 0.8754481823591895, 0.9209226225228775, 0.9079777172006851, 0.9186481063592844, 0.8975375166009588, 0.7472763974568953, 0.9068286869976303, 0.9115960082388324, 0.9120166569153823, 0.907380079578538, 0.927916409053171, 0.9005140931319959, 0.899921440409368, 0.9144996901207758, 0.8947661569752855, 0.9262492133816993, 0.9201404725111695]}, {\"categories\": [\"0\", \"1\", \"2\", \"3\", \"4\", \"5\", \"6\", \"7\", \"8\", \"9\", \"10\", \"11\", \"12\", \"13\", \"14\", \"15\", \"16\", \"17\", \"18\", \"19\", \"20\", \"21\", \"22\", \"23\", \"24\", \"25\", \"26\", \"27\", \"28\", \"29\", \"30\", \"31\", \"32\", \"33\", \"34\", \"36\", \"37\"], \"mode\": \"lines\", \"name\": \"average_precision_score_micro_max\", \"stepped\": true, \"type\": \"scatter\", \"data\": [0.9020054536251629, 0.9033793522124445, 0.922495591113665, 0.9228681826061476, 0.9228681826061476, 0.9228681826061476, 0.9228681826061476, 0.9228681826061476, 0.9228681826061476, 0.925284397439387, 0.925284397439387, 0.925284397439387, 0.925284397439387, 0.925284397439387, 0.925284397439387, 0.925284397439387, 0.925284397439387, 0.925284397439387, 0.925284397439387, 0.925284397439387, 0.925284397439387, 0.925284397439387, 0.925284397439387, 0.925284397439387, 0.925284397439387, 0.925284397439387, 0.925284397439387, 0.925284397439387, 0.925284397439387, 0.925284397439387, 0.927916409053171, 0.927916409053171, 0.927916409053171, 0.927916409053171, 0.927916409053171, 0.927916409053171, 0.927916409053171]}], \"recall_score_macro\": [{\"categories\": [\"0\", \"1\", \"2\", \"3\", \"4\", \"5\", \"6\", \"7\", \"8\", \"9\", \"10\", \"11\", \"12\", \"13\", \"14\", \"15\", \"16\", \"17\", \"18\", \"19\", \"20\", \"21\", \"22\", \"23\", \"24\", \"25\", \"26\", \"27\", \"28\", \"29\", \"30\", \"31\", \"32\", \"33\", \"34\", \"36\", \"37\"], \"mode\": \"markers\", \"name\": \"recall_score_macro\", \"stepped\": false, \"type\": \"scatter\", \"data\": [0.8077082895810014, 0.8130249020938379, 0.8248869464504477, 0.8268053314280431, 0.8044292586703913, 0.8202980850512315, 0.8286408833348192, 0.6415101521920743, 0.785013547950905, 0.8135613378802737, 0.7999603913439726, 0.7961192156114925, 0.8121255828140839, 0.60502886002886, 0.7869737704769169, 0.7808738104318768, 0.8059549792630456, 0.7407206624103077, 0.8426289785729144, 0.758680183247975, 0.7448680714467328, 0.8319737069122081, 0.765274987534713, 0.8058319955851421, 0.7939600297680961, 0.5, 0.8027317069848534, 0.7828905225844586, 0.8114203472284135, 0.7958448240991147, 0.8166955370144728, 0.8191171877321762, 0.8472504660036124, 0.8175642428700207, 0.8394904380516509, 0.8519592768977781, 0.8232027833912845]}, {\"categories\": [\"0\", \"1\", \"2\", \"3\", \"4\", \"5\", \"6\", \"7\", \"8\", \"9\", \"10\", \"11\", \"12\", \"13\", \"14\", \"15\", \"16\", \"17\", \"18\", \"19\", \"20\", \"21\", \"22\", \"23\", \"24\", \"25\", \"26\", \"27\", \"28\", \"29\", \"30\", \"31\", \"32\", \"33\", \"34\", \"36\", \"37\"], \"mode\": \"lines\", \"name\": \"recall_score_macro_max\", \"stepped\": true, \"type\": \"scatter\", \"data\": [0.8077082895810014, 0.8130249020938379, 0.8248869464504477, 0.8268053314280431, 0.8268053314280431, 0.8268053314280431, 0.8286408833348192, 0.8286408833348192, 0.8286408833348192, 0.8286408833348192, 0.8286408833348192, 0.8286408833348192, 0.8286408833348192, 0.8286408833348192, 0.8286408833348192, 0.8286408833348192, 0.8286408833348192, 0.8286408833348192, 0.8426289785729144, 0.8426289785729144, 0.8426289785729144, 0.8426289785729144, 0.8426289785729144, 0.8426289785729144, 0.8426289785729144, 0.8426289785729144, 0.8426289785729144, 0.8426289785729144, 0.8426289785729144, 0.8426289785729144, 0.8426289785729144, 0.8426289785729144, 0.8472504660036124, 0.8472504660036124, 0.8472504660036124, 0.8519592768977781, 0.8519592768977781]}], \"balanced_accuracy\": [{\"categories\": [\"0\", \"1\", \"2\", \"3\", \"4\", \"5\", \"6\", \"7\", \"8\", \"9\", \"10\", \"11\", \"12\", \"13\", \"14\", \"15\", \"16\", \"17\", \"18\", \"19\", \"20\", \"21\", \"22\", \"23\", \"24\", \"25\", \"26\", \"27\", \"28\", \"29\", \"30\", \"31\", \"32\", \"33\", \"34\", \"36\", \"37\"], \"mode\": \"markers\", \"name\": \"balanced_accuracy\", \"stepped\": false, \"type\": \"scatter\", \"data\": [0.8077082895810014, 0.8130249020938379, 0.8248869464504477, 0.8268053314280431, 0.8044292586703913, 0.8202980850512315, 0.8286408833348192, 0.6415101521920743, 0.785013547950905, 0.8135613378802737, 0.7999603913439726, 0.7961192156114925, 0.8121255828140839, 0.60502886002886, 0.7869737704769169, 0.7808738104318768, 0.8059549792630456, 0.7407206624103077, 0.8426289785729144, 0.758680183247975, 0.7448680714467328, 0.8319737069122081, 0.765274987534713, 0.8058319955851421, 0.7939600297680961, 0.5, 0.8027317069848534, 0.7828905225844586, 0.8114203472284135, 0.7958448240991147, 0.8166955370144728, 0.8191171877321762, 0.8472504660036124, 0.8175642428700207, 0.8394904380516509, 0.8519592768977781, 0.8232027833912845]}, {\"categories\": [\"0\", \"1\", \"2\", \"3\", \"4\", \"5\", \"6\", \"7\", \"8\", \"9\", \"10\", \"11\", \"12\", \"13\", \"14\", \"15\", \"16\", \"17\", \"18\", \"19\", \"20\", \"21\", \"22\", \"23\", \"24\", \"25\", \"26\", \"27\", \"28\", \"29\", \"30\", \"31\", \"32\", \"33\", \"34\", \"36\", \"37\"], \"mode\": \"lines\", \"name\": \"balanced_accuracy_max\", \"stepped\": true, \"type\": \"scatter\", \"data\": [0.8077082895810014, 0.8130249020938379, 0.8248869464504477, 0.8268053314280431, 0.8268053314280431, 0.8268053314280431, 0.8286408833348192, 0.8286408833348192, 0.8286408833348192, 0.8286408833348192, 0.8286408833348192, 0.8286408833348192, 0.8286408833348192, 0.8286408833348192, 0.8286408833348192, 0.8286408833348192, 0.8286408833348192, 0.8286408833348192, 0.8426289785729144, 0.8426289785729144, 0.8426289785729144, 0.8426289785729144, 0.8426289785729144, 0.8426289785729144, 0.8426289785729144, 0.8426289785729144, 0.8426289785729144, 0.8426289785729144, 0.8426289785729144, 0.8426289785729144, 0.8426289785729144, 0.8426289785729144, 0.8472504660036124, 0.8472504660036124, 0.8472504660036124, 0.8519592768977781, 0.8519592768977781]}], \"f1_score_micro\": [{\"categories\": [\"0\", \"1\", \"2\", \"3\", \"4\", \"5\", \"6\", \"7\", \"8\", \"9\", \"10\", \"11\", \"12\", \"13\", \"14\", \"15\", \"16\", \"17\", \"18\", \"19\", \"20\", \"21\", \"22\", \"23\", \"24\", \"25\", \"26\", \"27\", \"28\", \"29\", \"30\", \"31\", \"32\", \"33\", \"34\", \"36\", \"37\"], \"mode\": \"markers\", \"name\": \"f1_score_micro\", \"stepped\": false, \"type\": \"scatter\", \"data\": [0.8359770114942527, 0.8358620689655172, 0.8596551724137932, 0.8460919540229886, 0.8287356321839081, 0.839080459770115, 0.8562068965517243, 0.725977011494253, 0.8228735632183908, 0.8462068965517242, 0.8328735632183909, 0.8426436781609198, 0.8491954022988507, 0.7391954022988505, 0.8293103448275861, 0.8393103448275863, 0.8563218390804599, 0.8159770114942528, 0.8659770114942529, 0.8093103448275862, 0.7858620689655172, 0.8626436781609197, 0.8190804597701149, 0.8393103448275863, 0.8462068965517243, 0.6791954022988507, 0.8291954022988506, 0.8326436781609197, 0.8595402298850576, 0.8393103448275863, 0.849425287356322, 0.8157471264367816, 0.8591954022988505, 0.8222988505747126, 0.8289655172413793, 0.8829885057471264, 0.8526436781609196]}, {\"categories\": [\"0\", \"1\", \"2\", \"3\", \"4\", \"5\", \"6\", \"7\", \"8\", \"9\", \"10\", \"11\", \"12\", \"13\", \"14\", \"15\", \"16\", \"17\", \"18\", \"19\", \"20\", \"21\", \"22\", \"23\", \"24\", \"25\", \"26\", \"27\", \"28\", \"29\", \"30\", \"31\", \"32\", \"33\", \"34\", \"36\", \"37\"], \"mode\": \"lines\", \"name\": \"f1_score_micro_max\", \"stepped\": true, \"type\": \"scatter\", \"data\": [0.8359770114942527, 0.8359770114942527, 0.8596551724137932, 0.8596551724137932, 0.8596551724137932, 0.8596551724137932, 0.8596551724137932, 0.8596551724137932, 0.8596551724137932, 0.8596551724137932, 0.8596551724137932, 0.8596551724137932, 0.8596551724137932, 0.8596551724137932, 0.8596551724137932, 0.8596551724137932, 0.8596551724137932, 0.8596551724137932, 0.8659770114942529, 0.8659770114942529, 0.8659770114942529, 0.8659770114942529, 0.8659770114942529, 0.8659770114942529, 0.8659770114942529, 0.8659770114942529, 0.8659770114942529, 0.8659770114942529, 0.8659770114942529, 0.8659770114942529, 0.8659770114942529, 0.8659770114942529, 0.8659770114942529, 0.8659770114942529, 0.8659770114942529, 0.8829885057471264, 0.8829885057471264]}], \"recall_score_micro\": [{\"categories\": [\"0\", \"1\", \"2\", \"3\", \"4\", \"5\", \"6\", \"7\", \"8\", \"9\", \"10\", \"11\", \"12\", \"13\", \"14\", \"15\", \"16\", \"17\", \"18\", \"19\", \"20\", \"21\", \"22\", \"23\", \"24\", \"25\", \"26\", \"27\", \"28\", \"29\", \"30\", \"31\", \"32\", \"33\", \"34\", \"36\", \"37\"], \"mode\": \"markers\", \"name\": \"recall_score_micro\", \"stepped\": false, \"type\": \"scatter\", \"data\": [0.8359770114942527, 0.8358620689655172, 0.8596551724137932, 0.8460919540229886, 0.8287356321839081, 0.8390804597701148, 0.8562068965517243, 0.725977011494253, 0.8228735632183908, 0.8462068965517242, 0.8328735632183909, 0.8426436781609198, 0.8491954022988507, 0.7391954022988505, 0.8293103448275861, 0.8393103448275863, 0.8563218390804599, 0.8159770114942528, 0.8659770114942529, 0.8093103448275862, 0.7858620689655172, 0.8626436781609197, 0.8190804597701149, 0.8393103448275863, 0.8462068965517243, 0.6791954022988507, 0.8291954022988506, 0.8326436781609197, 0.8595402298850576, 0.8393103448275863, 0.849425287356322, 0.8157471264367816, 0.8591954022988505, 0.8222988505747126, 0.8289655172413793, 0.8829885057471264, 0.8526436781609196]}, {\"categories\": [\"0\", \"1\", \"2\", \"3\", \"4\", \"5\", \"6\", \"7\", \"8\", \"9\", \"10\", \"11\", \"12\", \"13\", \"14\", \"15\", \"16\", \"17\", \"18\", \"19\", \"20\", \"21\", \"22\", \"23\", \"24\", \"25\", \"26\", \"27\", \"28\", \"29\", \"30\", \"31\", \"32\", \"33\", \"34\", \"36\", \"37\"], \"mode\": \"lines\", \"name\": \"recall_score_micro_max\", \"stepped\": true, \"type\": \"scatter\", \"data\": [0.8359770114942527, 0.8359770114942527, 0.8596551724137932, 0.8596551724137932, 0.8596551724137932, 0.8596551724137932, 0.8596551724137932, 0.8596551724137932, 0.8596551724137932, 0.8596551724137932, 0.8596551724137932, 0.8596551724137932, 0.8596551724137932, 0.8596551724137932, 0.8596551724137932, 0.8596551724137932, 0.8596551724137932, 0.8596551724137932, 0.8659770114942529, 0.8659770114942529, 0.8659770114942529, 0.8659770114942529, 0.8659770114942529, 0.8659770114942529, 0.8659770114942529, 0.8659770114942529, 0.8659770114942529, 0.8659770114942529, 0.8659770114942529, 0.8659770114942529, 0.8659770114942529, 0.8659770114942529, 0.8659770114942529, 0.8659770114942529, 0.8659770114942529, 0.8829885057471264, 0.8829885057471264]}], \"precision_score_weighted\": [{\"categories\": [\"0\", \"1\", \"2\", \"3\", \"4\", \"5\", \"6\", \"7\", \"8\", \"9\", \"10\", \"11\", \"12\", \"13\", \"14\", \"15\", \"16\", \"17\", \"18\", \"19\", \"20\", \"21\", \"22\", \"23\", \"24\", \"25\", \"26\", \"27\", \"28\", \"29\", \"30\", \"31\", \"32\", \"33\", \"34\", \"36\", \"37\"], \"mode\": \"markers\", \"name\": \"precision_score_weighted\", \"stepped\": false, \"type\": \"scatter\", \"data\": [0.8443308716969533, 0.8506678986628277, 0.8682872133027791, 0.8601652226030918, 0.8463658159243458, 0.8553707939382382, 0.8723599464004262, 0.746960744261569, 0.837153057106774, 0.8618105609172325, 0.8490463978799812, 0.8533805067644149, 0.8592013448163136, 0.7224490586482263, 0.8413490727579933, 0.8516153448916567, 0.8718244117867805, 0.8314714021194531, 0.8793987086045689, 0.8214794960088856, 0.8119249344048883, 0.8761249135921549, 0.8353385776207615, 0.8518452517589463, 0.8610814558837797, 0.47055053507728895, 0.8438482420241173, 0.8536068478867829, 0.872079723126326, 0.8512215457548056, 0.8646093706781863, 0.8442888675148204, 0.8706171924131041, 0.8436662477554039, 0.8631843720336301, 0.8951582377505298, 0.8659879784329693]}, {\"categories\": [\"0\", \"1\", \"2\", \"3\", \"4\", \"5\", \"6\", \"7\", \"8\", \"9\", \"10\", \"11\", \"12\", \"13\", \"14\", \"15\", \"16\", \"17\", \"18\", \"19\", \"20\", \"21\", \"22\", \"23\", \"24\", \"25\", \"26\", \"27\", \"28\", \"29\", \"30\", \"31\", \"32\", \"33\", \"34\", \"36\", \"37\"], \"mode\": \"lines\", \"name\": \"precision_score_weighted_max\", \"stepped\": true, \"type\": \"scatter\", \"data\": [0.8443308716969533, 0.8506678986628277, 0.8682872133027791, 0.8682872133027791, 0.8682872133027791, 0.8682872133027791, 0.8723599464004262, 0.8723599464004262, 0.8723599464004262, 0.8723599464004262, 0.8723599464004262, 0.8723599464004262, 0.8723599464004262, 0.8723599464004262, 0.8723599464004262, 0.8723599464004262, 0.8723599464004262, 0.8723599464004262, 0.8793987086045689, 0.8793987086045689, 0.8793987086045689, 0.8793987086045689, 0.8793987086045689, 0.8793987086045689, 0.8793987086045689, 0.8793987086045689, 0.8793987086045689, 0.8793987086045689, 0.8793987086045689, 0.8793987086045689, 0.8793987086045689, 0.8793987086045689, 0.8793987086045689, 0.8793987086045689, 0.8793987086045689, 0.8951582377505298, 0.8951582377505298]}], \"average_precision_score_macro\": [{\"categories\": [\"0\", \"1\", \"2\", \"3\", \"4\", \"5\", \"6\", \"7\", \"8\", \"9\", \"10\", \"11\", \"12\", \"13\", \"14\", \"15\", \"16\", \"17\", \"18\", \"19\", \"20\", \"21\", \"22\", \"23\", \"24\", \"25\", \"26\", \"27\", \"28\", \"29\", \"30\", \"31\", \"32\", \"33\", \"34\", \"36\", \"37\"], \"mode\": \"markers\", \"name\": \"average_precision_score_macro\", \"stepped\": false, \"type\": \"scatter\", \"data\": [0.8807888197525153, 0.8807340475847678, 0.9087918543309064, 0.8971158204621222, 0.8963910920956772, 0.8950620578425592, 0.8989017661499166, 0.7438412592591064, 0.8749745008185043, 0.9066462813350075, 0.8793971710929904, 0.8934775583002059, 0.8909632215049464, 0.8763592637965589, 0.8701230666969517, 0.8867762867828907, 0.8948270485338974, 0.8540226811644409, 0.9002883871204442, 0.8401142754782065, 0.8442978005189588, 0.8996899046017056, 0.8788298046745794, 0.8952654608032985, 0.8813671728718445, 0.647948421909844, 0.8836799035561957, 0.8943812995984457, 0.8945845242437376, 0.8833412239264323, 0.912243612805504, 0.8973038541800478, 0.8905419639985072, 0.909207244697907, 0.8799882901364505, 0.907082286948637, 0.9045509116713278]}, {\"categories\": [\"0\", \"1\", \"2\", \"3\", \"4\", \"5\", \"6\", \"7\", \"8\", \"9\", \"10\", \"11\", \"12\", \"13\", \"14\", \"15\", \"16\", \"17\", \"18\", \"19\", \"20\", \"21\", \"22\", \"23\", \"24\", \"25\", \"26\", \"27\", \"28\", \"29\", \"30\", \"31\", \"32\", \"33\", \"34\", \"36\", \"37\"], \"mode\": \"lines\", \"name\": \"average_precision_score_macro_max\", \"stepped\": true, \"type\": \"scatter\", \"data\": [0.8807888197525153, 0.8807888197525153, 0.9087918543309064, 0.9087918543309064, 0.9087918543309064, 0.9087918543309064, 0.9087918543309064, 0.9087918543309064, 0.9087918543309064, 0.9087918543309064, 0.9087918543309064, 0.9087918543309064, 0.9087918543309064, 0.9087918543309064, 0.9087918543309064, 0.9087918543309064, 0.9087918543309064, 0.9087918543309064, 0.9087918543309064, 0.9087918543309064, 0.9087918543309064, 0.9087918543309064, 0.9087918543309064, 0.9087918543309064, 0.9087918543309064, 0.9087918543309064, 0.9087918543309064, 0.9087918543309064, 0.9087918543309064, 0.9087918543309064, 0.912243612805504, 0.912243612805504, 0.912243612805504, 0.912243612805504, 0.912243612805504, 0.912243612805504, 0.912243612805504]}], \"matthews_correlation\": [{\"categories\": [\"0\", \"1\", \"2\", \"3\", \"4\", \"5\", \"6\", \"7\", \"8\", \"9\", \"10\", \"11\", \"12\", \"13\", \"14\", \"15\", \"16\", \"17\", \"18\", \"19\", \"20\", \"21\", \"22\", \"23\", \"24\", \"25\", \"26\", \"27\", \"28\", \"29\", \"30\", \"31\", \"32\", \"33\", \"34\", \"36\", \"37\"], \"mode\": \"markers\", \"name\": \"matthews_correlation\", \"stepped\": false, \"type\": \"scatter\", \"data\": [0.6231314496952846, 0.6345538749068885, 0.6670098176114221, 0.6504220518087942, 0.6164805036526111, 0.6410519141818127, 0.6825098004616525, 0.3355249883545832, 0.5926056841761447, 0.6477201846829616, 0.6251514690683962, 0.6338428181038568, 0.6504549794622912, 0.30923138770756675, 0.6050404127354617, 0.6257656294959616, 0.6790313672856688, 0.5576406829489285, 0.6976035418264053, 0.5420631828594559, 0.5158942536539043, 0.691004946589842, 0.5786210969607651, 0.6329654058107271, 0.6529714540176764, 0.0, 0.61070441582097, 0.61944201875396, 0.6807815395855525, 0.6282666583697689, 0.6634126116585504, 0.606083886358253, 0.6732697210039489, 0.6107798381654577, 0.6413266094465555, 0.7403668222607004, 0.6634694420070179]}, {\"categories\": [\"0\", \"1\", \"2\", \"3\", \"4\", \"5\", \"6\", \"7\", \"8\", \"9\", \"10\", \"11\", \"12\", \"13\", \"14\", \"15\", \"16\", \"17\", \"18\", \"19\", \"20\", \"21\", \"22\", \"23\", \"24\", \"25\", \"26\", \"27\", \"28\", \"29\", \"30\", \"31\", \"32\", \"33\", \"34\", \"36\", \"37\"], \"mode\": \"lines\", \"name\": \"matthews_correlation_max\", \"stepped\": true, \"type\": \"scatter\", \"data\": [0.6231314496952846, 0.6345538749068885, 0.6670098176114221, 0.6670098176114221, 0.6670098176114221, 0.6670098176114221, 0.6825098004616525, 0.6825098004616525, 0.6825098004616525, 0.6825098004616525, 0.6825098004616525, 0.6825098004616525, 0.6825098004616525, 0.6825098004616525, 0.6825098004616525, 0.6825098004616525, 0.6825098004616525, 0.6825098004616525, 0.6976035418264053, 0.6976035418264053, 0.6976035418264053, 0.6976035418264053, 0.6976035418264053, 0.6976035418264053, 0.6976035418264053, 0.6976035418264053, 0.6976035418264053, 0.6976035418264053, 0.6976035418264053, 0.6976035418264053, 0.6976035418264053, 0.6976035418264053, 0.6976035418264053, 0.6976035418264053, 0.6976035418264053, 0.7403668222607004, 0.7403668222607004]}], \"f1_score_weighted\": [{\"categories\": [\"0\", \"1\", \"2\", \"3\", \"4\", \"5\", \"6\", \"7\", \"8\", \"9\", \"10\", \"11\", \"12\", \"13\", \"14\", \"15\", \"16\", \"17\", \"18\", \"19\", \"20\", \"21\", \"22\", \"23\", \"24\", \"25\", \"26\", \"27\", \"28\", \"29\", \"30\", \"31\", \"32\", \"33\", \"34\", \"36\", \"37\"], \"mode\": \"markers\", \"name\": \"f1_score_weighted\", \"stepped\": false, \"type\": \"scatter\", \"data\": [0.8333388901455894, 0.8342588560383983, 0.8577495420736471, 0.844457238779254, 0.8292105015695513, 0.8381599837690119, 0.8524646475153574, 0.6909543159064384, 0.8182849428892383, 0.8424362133284534, 0.8280418148453291, 0.8383106282963201, 0.8441673031543031, 0.6732166776894909, 0.8228378700361446, 0.8301832563020834, 0.8483840137233741, 0.7999966834924516, 0.8641212073907178, 0.8048217845216165, 0.7808914943317202, 0.8587427189737126, 0.8102170987989659, 0.835502055585519, 0.8378042179296671, 0.5534120288954022, 0.8268765704528958, 0.8229038133668501, 0.8527828526239768, 0.832414726095011, 0.8446711200714502, 0.8212225196777714, 0.8615727758307209, 0.8267353925310974, 0.8352004769794872, 0.8791701604864774, 0.8489750249680015]}, {\"categories\": [\"0\", \"1\", \"2\", \"3\", \"4\", \"5\", \"6\", \"7\", \"8\", \"9\", \"10\", \"11\", \"12\", \"13\", \"14\", \"15\", \"16\", \"17\", \"18\", \"19\", \"20\", \"21\", \"22\", \"23\", \"24\", \"25\", \"26\", \"27\", \"28\", \"29\", \"30\", \"31\", \"32\", \"33\", \"34\", \"36\", \"37\"], \"mode\": \"lines\", \"name\": \"f1_score_weighted_max\", \"stepped\": true, \"type\": \"scatter\", \"data\": [0.8333388901455894, 0.8342588560383983, 0.8577495420736471, 0.8577495420736471, 0.8577495420736471, 0.8577495420736471, 0.8577495420736471, 0.8577495420736471, 0.8577495420736471, 0.8577495420736471, 0.8577495420736471, 0.8577495420736471, 0.8577495420736471, 0.8577495420736471, 0.8577495420736471, 0.8577495420736471, 0.8577495420736471, 0.8577495420736471, 0.8641212073907178, 0.8641212073907178, 0.8641212073907178, 0.8641212073907178, 0.8641212073907178, 0.8641212073907178, 0.8641212073907178, 0.8641212073907178, 0.8641212073907178, 0.8641212073907178, 0.8641212073907178, 0.8641212073907178, 0.8641212073907178, 0.8641212073907178, 0.8641212073907178, 0.8641212073907178, 0.8641212073907178, 0.8791701604864774, 0.8791701604864774]}], \"norm_macro_recall\": [{\"categories\": [\"0\", \"1\", \"2\", \"3\", \"4\", \"5\", \"6\", \"7\", \"8\", \"9\", \"10\", \"11\", \"12\", \"13\", \"14\", \"15\", \"16\", \"17\", \"18\", \"19\", \"20\", \"21\", \"22\", \"23\", \"24\", \"25\", \"26\", \"27\", \"28\", \"29\", \"30\", \"31\", \"32\", \"33\", \"34\", \"36\", \"37\"], \"mode\": \"markers\", \"name\": \"norm_macro_recall\", \"stepped\": false, \"type\": \"scatter\", \"data\": [0.6154165791620023, 0.626049804187676, 0.6497738929008952, 0.6536106628560862, 0.6088585173407828, 0.640596170102463, 0.6572817666696386, 0.3002451847669239, 0.5700270959018099, 0.6271226757605477, 0.5999207826879452, 0.592238431222985, 0.6242511656281678, 0.21460317460317455, 0.5739475409538338, 0.5617476208637535, 0.6119099585260912, 0.4814413248206154, 0.6852579571458289, 0.5173603664959501, 0.48973614289346556, 0.6639474138244161, 0.530549975069426, 0.611663991170284, 0.5879200595361922, 0.0, 0.6054634139697068, 0.5657810451689169, 0.6228406944568271, 0.5916896481982293, 0.6333910740289459, 0.6382343754643527, 0.6945009320072248, 0.6351284857400418, 0.6789808761033018, 0.7039185537955561, 0.646405566782569]}, {\"categories\": [\"0\", \"1\", \"2\", \"3\", \"4\", \"5\", \"6\", \"7\", \"8\", \"9\", \"10\", \"11\", \"12\", \"13\", \"14\", \"15\", \"16\", \"17\", \"18\", \"19\", \"20\", \"21\", \"22\", \"23\", \"24\", \"25\", \"26\", \"27\", \"28\", \"29\", \"30\", \"31\", \"32\", \"33\", \"34\", \"36\", \"37\"], \"mode\": \"lines\", \"name\": \"norm_macro_recall_max\", \"stepped\": true, \"type\": \"scatter\", \"data\": [0.6154165791620023, 0.626049804187676, 0.6497738929008952, 0.6536106628560862, 0.6536106628560862, 0.6536106628560862, 0.6572817666696386, 0.6572817666696386, 0.6572817666696386, 0.6572817666696386, 0.6572817666696386, 0.6572817666696386, 0.6572817666696386, 0.6572817666696386, 0.6572817666696386, 0.6572817666696386, 0.6572817666696386, 0.6572817666696386, 0.6852579571458289, 0.6852579571458289, 0.6852579571458289, 0.6852579571458289, 0.6852579571458289, 0.6852579571458289, 0.6852579571458289, 0.6852579571458289, 0.6852579571458289, 0.6852579571458289, 0.6852579571458289, 0.6852579571458289, 0.6852579571458289, 0.6852579571458289, 0.6945009320072248, 0.6945009320072248, 0.6945009320072248, 0.7039185537955561, 0.7039185537955561]}], \"precision_score_macro\": [{\"categories\": [\"0\", \"1\", \"2\", \"3\", \"4\", \"5\", \"6\", \"7\", \"8\", \"9\", \"10\", \"11\", \"12\", \"13\", \"14\", \"15\", \"16\", \"17\", \"18\", \"19\", \"20\", \"21\", \"22\", \"23\", \"24\", \"25\", \"26\", \"27\", \"28\", \"29\", \"30\", \"31\", \"32\", \"33\", \"34\", \"36\", \"37\"], \"mode\": \"markers\", \"name\": \"precision_score_macro\", \"stepped\": false, \"type\": \"scatter\", \"data\": [0.8167365852764965, 0.8232986049897815, 0.8450691993428565, 0.8252614120037393, 0.8132974766461608, 0.8220261413423178, 0.8562830238030467, 0.7167085591819475, 0.8098152219970096, 0.8373859636740072, 0.8302320007731906, 0.8416783309283311, 0.8400173333531458, 0.6963876257841775, 0.8206159767006449, 0.8495608775282688, 0.8784868609651217, 0.8258595317725753, 0.8567624833961152, 0.7853385886633968, 0.7763660648739394, 0.8619909885436202, 0.8194449254449255, 0.8288616650321456, 0.8637553219727133, 0.33959770114942534, 0.8095736335985697, 0.8435828105067236, 0.8733033191065227, 0.8347272430087076, 0.8500124688748831, 0.788718545816069, 0.8270388341336652, 0.7941410818713449, 0.8041596741751542, 0.8919502931708813, 0.842327227893926]}, {\"categories\": [\"0\", \"1\", \"2\", \"3\", \"4\", \"5\", \"6\", \"7\", \"8\", \"9\", \"10\", \"11\", \"12\", \"13\", \"14\", \"15\", \"16\", \"17\", \"18\", \"19\", \"20\", \"21\", \"22\", \"23\", \"24\", \"25\", \"26\", \"27\", \"28\", \"29\", \"30\", \"31\", \"32\", \"33\", \"34\", \"36\", \"37\"], \"mode\": \"lines\", \"name\": \"precision_score_macro_max\", \"stepped\": true, \"type\": \"scatter\", \"data\": [0.8167365852764965, 0.8232986049897815, 0.8450691993428565, 0.8450691993428565, 0.8450691993428565, 0.8450691993428565, 0.8562830238030467, 0.8562830238030467, 0.8562830238030467, 0.8562830238030467, 0.8562830238030467, 0.8562830238030467, 0.8562830238030467, 0.8562830238030467, 0.8562830238030467, 0.8562830238030467, 0.8784868609651217, 0.8784868609651217, 0.8784868609651217, 0.8784868609651217, 0.8784868609651217, 0.8784868609651217, 0.8784868609651217, 0.8784868609651217, 0.8784868609651217, 0.8784868609651217, 0.8784868609651217, 0.8784868609651217, 0.8784868609651217, 0.8784868609651217, 0.8784868609651217, 0.8784868609651217, 0.8784868609651217, 0.8784868609651217, 0.8784868609651217, 0.8919502931708813, 0.8919502931708813]}], \"recall_score_weighted\": [{\"categories\": [\"0\", \"1\", \"2\", \"3\", \"4\", \"5\", \"6\", \"7\", \"8\", \"9\", \"10\", \"11\", \"12\", \"13\", \"14\", \"15\", \"16\", \"17\", \"18\", \"19\", \"20\", \"21\", \"22\", \"23\", \"24\", \"25\", \"26\", \"27\", \"28\", \"29\", \"30\", \"31\", \"32\", \"33\", \"34\", \"36\", \"37\"], \"mode\": \"markers\", \"name\": \"recall_score_weighted\", \"stepped\": false, \"type\": \"scatter\", \"data\": [0.8359770114942527, 0.8358620689655172, 0.8596551724137932, 0.8460919540229886, 0.8287356321839081, 0.8390804597701148, 0.8562068965517243, 0.725977011494253, 0.8228735632183908, 0.8462068965517242, 0.8328735632183909, 0.8426436781609198, 0.8491954022988507, 0.7391954022988505, 0.8293103448275861, 0.8393103448275863, 0.8563218390804599, 0.8159770114942528, 0.8659770114942529, 0.8093103448275862, 0.7858620689655172, 0.8626436781609197, 0.8190804597701149, 0.8393103448275863, 0.8462068965517243, 0.6791954022988507, 0.8291954022988506, 0.8326436781609197, 0.8595402298850576, 0.8393103448275863, 0.849425287356322, 0.8157471264367816, 0.8591954022988505, 0.8222988505747126, 0.8289655172413793, 0.8829885057471264, 0.8526436781609196]}, {\"categories\": [\"0\", \"1\", \"2\", \"3\", \"4\", \"5\", \"6\", \"7\", \"8\", \"9\", \"10\", \"11\", \"12\", \"13\", \"14\", \"15\", \"16\", \"17\", \"18\", \"19\", \"20\", \"21\", \"22\", \"23\", \"24\", \"25\", \"26\", \"27\", \"28\", \"29\", \"30\", \"31\", \"32\", \"33\", \"34\", \"36\", \"37\"], \"mode\": \"lines\", \"name\": \"recall_score_weighted_max\", \"stepped\": true, \"type\": \"scatter\", \"data\": [0.8359770114942527, 0.8359770114942527, 0.8596551724137932, 0.8596551724137932, 0.8596551724137932, 0.8596551724137932, 0.8596551724137932, 0.8596551724137932, 0.8596551724137932, 0.8596551724137932, 0.8596551724137932, 0.8596551724137932, 0.8596551724137932, 0.8596551724137932, 0.8596551724137932, 0.8596551724137932, 0.8596551724137932, 0.8596551724137932, 0.8659770114942529, 0.8659770114942529, 0.8659770114942529, 0.8659770114942529, 0.8659770114942529, 0.8659770114942529, 0.8659770114942529, 0.8659770114942529, 0.8659770114942529, 0.8659770114942529, 0.8659770114942529, 0.8659770114942529, 0.8659770114942529, 0.8659770114942529, 0.8659770114942529, 0.8659770114942529, 0.8659770114942529, 0.8829885057471264, 0.8829885057471264]}], \"average_precision_score_weighted\": [{\"categories\": [\"0\", \"1\", \"2\", \"3\", \"4\", \"5\", \"6\", \"7\", \"8\", \"9\", \"10\", \"11\", \"12\", \"13\", \"14\", \"15\", \"16\", \"17\", \"18\", \"19\", \"20\", \"21\", \"22\", \"23\", \"24\", \"25\", \"26\", \"27\", \"28\", \"29\", \"30\", \"31\", \"32\", \"33\", \"34\", \"36\", \"37\"], \"mode\": \"markers\", \"name\": \"average_precision_score_weighted\", \"stepped\": false, \"type\": \"scatter\", \"data\": [0.9061112830231934, 0.907154018724502, 0.9278742091807606, 0.9259414887979119, 0.922089232482965, 0.9215718710111698, 0.9188819771309756, 0.7893681357319238, 0.9006152166437232, 0.9284230782576971, 0.9042677325897064, 0.9139339936296187, 0.9168546464346139, 0.9063143562803369, 0.89933312883859, 0.9090514933487255, 0.9169030886851907, 0.888324275117038, 0.9244227175748033, 0.8764764478120824, 0.8800839558746845, 0.9231693763462087, 0.9101366352512356, 0.9199014564599709, 0.9061280439625952, 0.7188125509145724, 0.9110040706024444, 0.9188414155767362, 0.9185192495918975, 0.9128433838735328, 0.9332516525138799, 0.9213015322724869, 0.9155091081616005, 0.9296297698649152, 0.9088627755943829, 0.92858465474442, 0.9264456782733387]}, {\"categories\": [\"0\", \"1\", \"2\", \"3\", \"4\", \"5\", \"6\", \"7\", \"8\", \"9\", \"10\", \"11\", \"12\", \"13\", \"14\", \"15\", \"16\", \"17\", \"18\", \"19\", \"20\", \"21\", \"22\", \"23\", \"24\", \"25\", \"26\", \"27\", \"28\", \"29\", \"30\", \"31\", \"32\", \"33\", \"34\", \"36\", \"37\"], \"mode\": \"lines\", \"name\": \"average_precision_score_weighted_max\", \"stepped\": true, \"type\": \"scatter\", \"data\": [0.9061112830231934, 0.907154018724502, 0.9278742091807606, 0.9278742091807606, 0.9278742091807606, 0.9278742091807606, 0.9278742091807606, 0.9278742091807606, 0.9278742091807606, 0.9284230782576971, 0.9284230782576971, 0.9284230782576971, 0.9284230782576971, 0.9284230782576971, 0.9284230782576971, 0.9284230782576971, 0.9284230782576971, 0.9284230782576971, 0.9284230782576971, 0.9284230782576971, 0.9284230782576971, 0.9284230782576971, 0.9284230782576971, 0.9284230782576971, 0.9284230782576971, 0.9284230782576971, 0.9284230782576971, 0.9284230782576971, 0.9284230782576971, 0.9284230782576971, 0.9332516525138799, 0.9332516525138799, 0.9332516525138799, 0.9332516525138799, 0.9332516525138799, 0.9332516525138799, 0.9332516525138799]}], \"f1_score_macro\": [{\"categories\": [\"0\", \"1\", \"2\", \"3\", \"4\", \"5\", \"6\", \"7\", \"8\", \"9\", \"10\", \"11\", \"12\", \"13\", \"14\", \"15\", \"16\", \"17\", \"18\", \"19\", \"20\", \"21\", \"22\", \"23\", \"24\", \"25\", \"26\", \"27\", \"28\", \"29\", \"30\", \"31\", \"32\", \"33\", \"34\", \"36\", \"37\"], \"mode\": \"markers\", \"name\": \"f1_score_macro\", \"stepped\": false, \"type\": \"scatter\", \"data\": [0.8043314151248963, 0.8078501228997539, 0.8261912055862102, 0.8161626693651864, 0.7995007466146747, 0.8112866886315659, 0.8294441905703515, 0.6247173995028795, 0.7844731356932927, 0.8117283801350552, 0.7985142741080727, 0.806148012540729, 0.8151599506038865, 0.5798543908288544, 0.7897716503362009, 0.7967160205710145, 0.8228134961758906, 0.753292833021183, 0.8399616484229879, 0.7603669925285953, 0.7393462977195624, 0.8342872365208542, 0.7714900285695371, 0.8063840160561181, 0.8098552990303549, 0.4024893878511494, 0.7955972055686458, 0.7886920051561065, 0.8266640292172316, 0.8012883076904815, 0.8187710350161008, 0.7926669806749594, 0.8326039418439362, 0.7982901229396479, 0.8074611192739105, 0.8593071717444964, 0.8212394149732203]}, {\"categories\": [\"0\", \"1\", \"2\", \"3\", \"4\", \"5\", \"6\", \"7\", \"8\", \"9\", \"10\", \"11\", \"12\", \"13\", \"14\", \"15\", \"16\", \"17\", \"18\", \"19\", \"20\", \"21\", \"22\", \"23\", \"24\", \"25\", \"26\", \"27\", \"28\", \"29\", \"30\", \"31\", \"32\", \"33\", \"34\", \"36\", \"37\"], \"mode\": \"lines\", \"name\": \"f1_score_macro_max\", \"stepped\": true, \"type\": \"scatter\", \"data\": [0.8043314151248963, 0.8078501228997539, 0.8261912055862102, 0.8261912055862102, 0.8261912055862102, 0.8261912055862102, 0.8294441905703515, 0.8294441905703515, 0.8294441905703515, 0.8294441905703515, 0.8294441905703515, 0.8294441905703515, 0.8294441905703515, 0.8294441905703515, 0.8294441905703515, 0.8294441905703515, 0.8294441905703515, 0.8294441905703515, 0.8399616484229879, 0.8399616484229879, 0.8399616484229879, 0.8399616484229879, 0.8399616484229879, 0.8399616484229879, 0.8399616484229879, 0.8399616484229879, 0.8399616484229879, 0.8399616484229879, 0.8399616484229879, 0.8399616484229879, 0.8399616484229879, 0.8399616484229879, 0.8399616484229879, 0.8399616484229879, 0.8399616484229879, 0.8593071717444964, 0.8593071717444964]}], \"accuracy\": [{\"categories\": [\"0\", \"1\", \"2\", \"3\", \"4\", \"5\", \"6\", \"7\", \"8\", \"9\", \"10\", \"11\", \"12\", \"13\", \"14\", \"15\", \"16\", \"17\", \"18\", \"19\", \"20\", \"21\", \"22\", \"23\", \"24\", \"25\", \"26\", \"27\", \"28\", \"29\", \"30\", \"31\", \"32\", \"33\", \"34\", \"36\", \"37\"], \"mode\": \"markers\", \"name\": \"accuracy\", \"stepped\": false, \"type\": \"scatter\", \"data\": [0.8359770114942527, 0.8358620689655172, 0.8596551724137932, 0.8460919540229886, 0.8287356321839081, 0.8390804597701148, 0.8562068965517243, 0.725977011494253, 0.8228735632183908, 0.8462068965517242, 0.8328735632183909, 0.8426436781609198, 0.8491954022988507, 0.7391954022988505, 0.8293103448275861, 0.8393103448275863, 0.8563218390804599, 0.8159770114942528, 0.8659770114942529, 0.8093103448275862, 0.7858620689655172, 0.8626436781609197, 0.8190804597701149, 0.8393103448275863, 0.8462068965517243, 0.6791954022988507, 0.8291954022988506, 0.8326436781609197, 0.8595402298850576, 0.8393103448275863, 0.849425287356322, 0.8157471264367816, 0.8591954022988505, 0.8222988505747126, 0.8289655172413793, 0.8829885057471264, 0.8526436781609196]}, {\"categories\": [\"0\", \"1\", \"2\", \"3\", \"4\", \"5\", \"6\", \"7\", \"8\", \"9\", \"10\", \"11\", \"12\", \"13\", \"14\", \"15\", \"16\", \"17\", \"18\", \"19\", \"20\", \"21\", \"22\", \"23\", \"24\", \"25\", \"26\", \"27\", \"28\", \"29\", \"30\", \"31\", \"32\", \"33\", \"34\", \"36\", \"37\"], \"mode\": \"lines\", \"name\": \"accuracy_max\", \"stepped\": true, \"type\": \"scatter\", \"data\": [0.8359770114942527, 0.8359770114942527, 0.8596551724137932, 0.8596551724137932, 0.8596551724137932, 0.8596551724137932, 0.8596551724137932, 0.8596551724137932, 0.8596551724137932, 0.8596551724137932, 0.8596551724137932, 0.8596551724137932, 0.8596551724137932, 0.8596551724137932, 0.8596551724137932, 0.8596551724137932, 0.8596551724137932, 0.8596551724137932, 0.8659770114942529, 0.8659770114942529, 0.8659770114942529, 0.8659770114942529, 0.8659770114942529, 0.8659770114942529, 0.8659770114942529, 0.8659770114942529, 0.8659770114942529, 0.8659770114942529, 0.8659770114942529, 0.8659770114942529, 0.8659770114942529, 0.8659770114942529, 0.8659770114942529, 0.8659770114942529, 0.8659770114942529, 0.8829885057471264, 0.8829885057471264]}], \"AUC_micro\": [{\"categories\": [\"0\", \"1\", \"2\", \"3\", \"4\", \"5\", \"6\", \"7\", \"8\", \"9\", \"10\", \"11\", \"12\", \"13\", \"14\", \"15\", \"16\", \"17\", \"18\", \"19\", \"20\", \"21\", \"22\", \"23\", \"24\", \"25\", \"26\", \"27\", \"28\", \"29\", \"30\", \"31\", \"32\", \"33\", \"34\", \"36\", \"37\"], \"mode\": \"markers\", \"name\": \"AUC_micro\", \"stepped\": false, \"type\": \"scatter\", \"data\": [0.9035422116527941, 0.9042166732725592, 0.922526489628749, 0.9196103844629411, 0.9097957458052581, 0.9096065530453163, 0.9085362663495837, 0.7895998150350112, 0.8925694279297133, 0.9216805390408244, 0.898694147179284, 0.9081932884132646, 0.9125110318404017, 0.8572985863390145, 0.8912654247588849, 0.9043199894305722, 0.9111991015986259, 0.876479852028009, 0.9200314440480909, 0.8808599550799313, 0.8677370854802484, 0.917666930902365, 0.9007176641564275, 0.915778042013476, 0.8941757167393316, 0.7518717135685031, 0.9075597833267276, 0.907684502576298, 0.9075714096974503, 0.9027644338750165, 0.9242438895494782, 0.8982479852028009, 0.9034116792178623, 0.9127898005020478, 0.894684634694147, 0.9247351037125116, 0.9183316158012949]}, {\"categories\": [\"0\", \"1\", \"2\", \"3\", \"4\", \"5\", \"6\", \"7\", \"8\", \"9\", \"10\", \"11\", \"12\", \"13\", \"14\", \"15\", \"16\", \"17\", \"18\", \"19\", \"20\", \"21\", \"22\", \"23\", \"24\", \"25\", \"26\", \"27\", \"28\", \"29\", \"30\", \"31\", \"32\", \"33\", \"34\", \"36\", \"37\"], \"mode\": \"lines\", \"name\": \"AUC_micro_max\", \"stepped\": true, \"type\": \"scatter\", \"data\": [0.9035422116527941, 0.9042166732725592, 0.922526489628749, 0.922526489628749, 0.922526489628749, 0.922526489628749, 0.922526489628749, 0.922526489628749, 0.922526489628749, 0.922526489628749, 0.922526489628749, 0.922526489628749, 0.922526489628749, 0.922526489628749, 0.922526489628749, 0.922526489628749, 0.922526489628749, 0.922526489628749, 0.922526489628749, 0.922526489628749, 0.922526489628749, 0.922526489628749, 0.922526489628749, 0.922526489628749, 0.922526489628749, 0.922526489628749, 0.922526489628749, 0.922526489628749, 0.922526489628749, 0.922526489628749, 0.9242438895494782, 0.9242438895494782, 0.9242438895494782, 0.9242438895494782, 0.9242438895494782, 0.9247351037125116, 0.9247351037125116]}], \"AUC_weighted\": [{\"categories\": [\"0\", \"1\", \"2\", \"3\", \"4\", \"5\", \"6\", \"7\", \"8\", \"9\", \"10\", \"11\", \"12\", \"13\", \"14\", \"15\", \"16\", \"17\", \"18\", \"19\", \"20\", \"21\", \"22\", \"23\", \"24\", \"25\", \"26\", \"27\", \"28\", \"29\", \"30\", \"31\", \"32\", \"33\", \"34\", \"36\", \"37\"], \"mode\": \"markers\", \"name\": \"AUC_weighted\", \"stepped\": false, \"type\": \"scatter\", \"data\": [0.8840955354735103, 0.8847369443591411, 0.9161626981375264, 0.9135837034120214, 0.903624081586267, 0.9048918272019533, 0.9038434371501877, 0.7469446399265621, 0.879342659940915, 0.9123473755480049, 0.8877728841757445, 0.8963868236687459, 0.9014763393166711, 0.8887855695177777, 0.8922546979548123, 0.8849017749963402, 0.8990209036259952, 0.8866186786960814, 0.9079829879375646, 0.8608370342027666, 0.8578654471048063, 0.9070406376888643, 0.8866897456916336, 0.9059299162486807, 0.8849870289745004, 0.6797597694142031, 0.8978728188224185, 0.900867159169333, 0.8967601792139549, 0.8951857931224636, 0.916621012236344, 0.902991589811155, 0.9010550090916796, 0.9094515509513794, 0.8937406373036236, 0.916349678599221, 0.9142021954314862]}, {\"categories\": [\"0\", \"1\", \"2\", \"3\", \"4\", \"5\", \"6\", \"7\", \"8\", \"9\", \"10\", \"11\", \"12\", \"13\", \"14\", \"15\", \"16\", \"17\", \"18\", \"19\", \"20\", \"21\", \"22\", \"23\", \"24\", \"25\", \"26\", \"27\", \"28\", \"29\", \"30\", \"31\", \"32\", \"33\", \"34\", \"36\", \"37\"], \"mode\": \"lines\", \"name\": \"AUC_weighted_max\", \"stepped\": true, \"type\": \"scatter\", \"data\": [0.8840955354735103, 0.8847369443591411, 0.9161626981375264, 0.9161626981375264, 0.9161626981375264, 0.9161626981375264, 0.9161626981375264, 0.9161626981375264, 0.9161626981375264, 0.9161626981375264, 0.9161626981375264, 0.9161626981375264, 0.9161626981375264, 0.9161626981375264, 0.9161626981375264, 0.9161626981375264, 0.9161626981375264, 0.9161626981375264, 0.9161626981375264, 0.9161626981375264, 0.9161626981375264, 0.9161626981375264, 0.9161626981375264, 0.9161626981375264, 0.9161626981375264, 0.9161626981375264, 0.9161626981375264, 0.9161626981375264, 0.9161626981375264, 0.9161626981375264, 0.916621012236344, 0.916621012236344, 0.916621012236344, 0.916621012236344, 0.916621012236344, 0.916621012236344, 0.916621012236344]}], \"weighted_accuracy\": [{\"categories\": [\"0\", \"1\", \"2\", \"3\", \"4\", \"5\", \"6\", \"7\", \"8\", \"9\", \"10\", \"11\", \"12\", \"13\", \"14\", \"15\", \"16\", \"17\", \"18\", \"19\", \"20\", \"21\", \"22\", \"23\", \"24\", \"25\", \"26\", \"27\", \"28\", \"29\", \"30\", \"31\", \"32\", \"33\", \"34\", \"36\", \"37\"], \"mode\": \"markers\", \"name\": \"weighted_accuracy\", \"stepped\": false, \"type\": \"scatter\", \"data\": [0.8541321922200625, 0.8502962163535492, 0.88150416533562, 0.8586341048659184, 0.8433258835105484, 0.8506908990311995, 0.8741805276015274, 0.7833111310423092, 0.8459653173983817, 0.8669332867094374, 0.8537749403572639, 0.8702551576766477, 0.873629541293781, 0.8262633165105754, 0.8572318293313085, 0.8768780631515458, 0.889117470130692, 0.8656750096917115, 0.8803231781518093, 0.8385082313085942, 0.8124995376211732, 0.8824537388820634, 0.8527482216846112, 0.8615388721309329, 0.880701649898219, 0.7931711479234276, 0.8465192679302463, 0.8640737209327932, 0.8906513380902019, 0.8685521836685911, 0.8703525730254242, 0.8124605796624994, 0.8663402917367264, 0.8233520899967244, 0.821650171087426, 0.9021085635281896, 0.8720968146674404]}, {\"categories\": [\"0\", \"1\", \"2\", \"3\", \"4\", \"5\", \"6\", \"7\", \"8\", \"9\", \"10\", \"11\", \"12\", \"13\", \"14\", \"15\", \"16\", \"17\", \"18\", \"19\", \"20\", \"21\", \"22\", \"23\", \"24\", \"25\", \"26\", \"27\", \"28\", \"29\", \"30\", \"31\", \"32\", \"33\", \"34\", \"36\", \"37\"], \"mode\": \"lines\", \"name\": \"weighted_accuracy_max\", \"stepped\": true, \"type\": \"scatter\", \"data\": [0.8541321922200625, 0.8541321922200625, 0.88150416533562, 0.88150416533562, 0.88150416533562, 0.88150416533562, 0.88150416533562, 0.88150416533562, 0.88150416533562, 0.88150416533562, 0.88150416533562, 0.88150416533562, 0.88150416533562, 0.88150416533562, 0.88150416533562, 0.88150416533562, 0.889117470130692, 0.889117470130692, 0.889117470130692, 0.889117470130692, 0.889117470130692, 0.889117470130692, 0.889117470130692, 0.889117470130692, 0.889117470130692, 0.889117470130692, 0.889117470130692, 0.889117470130692, 0.8906513380902019, 0.8906513380902019, 0.8906513380902019, 0.8906513380902019, 0.8906513380902019, 0.8906513380902019, 0.8906513380902019, 0.9021085635281896, 0.9021085635281896]}], \"precision_score_micro\": [{\"categories\": [\"0\", \"1\", \"2\", \"3\", \"4\", \"5\", \"6\", \"7\", \"8\", \"9\", \"10\", \"11\", \"12\", \"13\", \"14\", \"15\", \"16\", \"17\", \"18\", \"19\", \"20\", \"21\", \"22\", \"23\", \"24\", \"25\", \"26\", \"27\", \"28\", \"29\", \"30\", \"31\", \"32\", \"33\", \"34\", \"36\", \"37\"], \"mode\": \"markers\", \"name\": \"precision_score_micro\", \"stepped\": false, \"type\": \"scatter\", \"data\": [0.8359770114942527, 0.8358620689655172, 0.8596551724137932, 0.8460919540229886, 0.8287356321839081, 0.8390804597701148, 0.8562068965517243, 0.725977011494253, 0.8228735632183908, 0.8462068965517242, 0.8328735632183909, 0.8426436781609198, 0.8491954022988507, 0.7391954022988505, 0.8293103448275861, 0.8393103448275863, 0.8563218390804599, 0.8159770114942528, 0.8659770114942529, 0.8093103448275862, 0.7858620689655172, 0.8626436781609197, 0.8190804597701149, 0.8393103448275863, 0.8462068965517243, 0.6791954022988507, 0.8291954022988506, 0.8326436781609197, 0.8595402298850576, 0.8393103448275863, 0.849425287356322, 0.8157471264367816, 0.8591954022988505, 0.8222988505747126, 0.8289655172413793, 0.8829885057471264, 0.8526436781609196]}, {\"categories\": [\"0\", \"1\", \"2\", \"3\", \"4\", \"5\", \"6\", \"7\", \"8\", \"9\", \"10\", \"11\", \"12\", \"13\", \"14\", \"15\", \"16\", \"17\", \"18\", \"19\", \"20\", \"21\", \"22\", \"23\", \"24\", \"25\", \"26\", \"27\", \"28\", \"29\", \"30\", \"31\", \"32\", \"33\", \"34\", \"36\", \"37\"], \"mode\": \"lines\", \"name\": \"precision_score_micro_max\", \"stepped\": true, \"type\": \"scatter\", \"data\": [0.8359770114942527, 0.8359770114942527, 0.8596551724137932, 0.8596551724137932, 0.8596551724137932, 0.8596551724137932, 0.8596551724137932, 0.8596551724137932, 0.8596551724137932, 0.8596551724137932, 0.8596551724137932, 0.8596551724137932, 0.8596551724137932, 0.8596551724137932, 0.8596551724137932, 0.8596551724137932, 0.8596551724137932, 0.8596551724137932, 0.8659770114942529, 0.8659770114942529, 0.8659770114942529, 0.8659770114942529, 0.8659770114942529, 0.8659770114942529, 0.8659770114942529, 0.8659770114942529, 0.8659770114942529, 0.8659770114942529, 0.8659770114942529, 0.8659770114942529, 0.8659770114942529, 0.8659770114942529, 0.8659770114942529, 0.8659770114942529, 0.8659770114942529, 0.8829885057471264, 0.8829885057471264]}], \"log_loss\": [{\"categories\": [\"0\", \"1\", \"2\", \"3\", \"4\", \"5\", \"6\", \"7\", \"8\", \"9\", \"10\", \"11\", \"12\", \"13\", \"14\", \"15\", \"16\", \"17\", \"18\", \"19\", \"20\", \"21\", \"22\", \"23\", \"24\", \"25\", \"26\", \"27\", \"28\", \"29\", \"30\", \"31\", \"32\", \"33\", \"34\", \"36\", \"37\"], \"mode\": \"markers\", \"name\": \"log_loss\", \"stepped\": false, \"type\": \"scatter\", \"data\": [0.4772179826627182, 0.41764279466886123, 0.3704303252727727, 0.3761766089874979, 0.37418145385479396, 0.3765597742429527, 0.4174033631380807, 0.5766802554054917, 0.4113226523427646, 0.3593638245545441, 0.412689902302552, 0.4038485861851894, 0.3973489936135962, 0.5029936166391399, 0.4509924561355497, 0.40655101702566626, 0.3955383378536887, 0.4774572179243627, 0.35835146935877565, 0.488972342400222, 0.45672729638275866, 0.38716917246452265, 0.4066282924932393, 0.37319033912129707, 0.42512749683981416, 0.6196926321372361, 0.4760479724868617, 0.4085318283554753, 0.40523279423830905, 0.41860634754545883, 0.3514334771864613, 0.4553173732034326, 0.3838471871150834, 0.42708725002280434, 0.46152491315599403, 0.3540782871382714, 0.3817323177772439]}, {\"categories\": [\"0\", \"1\", \"2\", \"3\", \"4\", \"5\", \"6\", \"7\", \"8\", \"9\", \"10\", \"11\", \"12\", \"13\", \"14\", \"15\", \"16\", \"17\", \"18\", \"19\", \"20\", \"21\", \"22\", \"23\", \"24\", \"25\", \"26\", \"27\", \"28\", \"29\", \"30\", \"31\", \"32\", \"33\", \"34\", \"36\", \"37\"], \"mode\": \"lines\", \"name\": \"log_loss_min\", \"stepped\": true, \"type\": \"scatter\", \"data\": [0.4772179826627182, 0.41764279466886123, 0.3704303252727727, 0.3704303252727727, 0.3704303252727727, 0.3704303252727727, 0.3704303252727727, 0.3704303252727727, 0.3704303252727727, 0.3593638245545441, 0.3593638245545441, 0.3593638245545441, 0.3593638245545441, 0.3593638245545441, 0.3593638245545441, 0.3593638245545441, 0.3593638245545441, 0.3593638245545441, 0.35835146935877565, 0.35835146935877565, 0.35835146935877565, 0.35835146935877565, 0.35835146935877565, 0.35835146935877565, 0.35835146935877565, 0.35835146935877565, 0.35835146935877565, 0.35835146935877565, 0.35835146935877565, 0.35835146935877565, 0.3514334771864613, 0.3514334771864613, 0.3514334771864613, 0.3514334771864613, 0.3514334771864613, 0.3514334771864613, 0.3514334771864613]}]}, \"metricName\": null, \"primaryMetricName\": \"accuracy\", \"showLegend\": false}, \"run_metrics\": [{\"name\": \"experiment_status\", \"run_id\": \"AutoML_e187a261-2384-4de6-83f3-41b181512d73\", \"categories\": [0, 1, 2, 3, 4, 5, 6, 7, 8, 9, 10, 11, 12, 13], \"series\": [{\"data\": [\"DatasetEvaluation\", \"FeaturesGeneration\", \"DatasetFeaturization\", \"DatasetFeaturizationCompleted\", \"DatasetCrossValidationSplit\", \"ModelSelection\", \"BestRunExplainModel\", \"ModelExplanationDataSetSetup\", \"PickSurrogateModel\", \"EngineeredFeatureExplanations\", \"EngineeredFeatureExplanations\", \"RawFeaturesExplanations\", \"RawFeaturesExplanations\", \"BestRunExplainModel\"]}]}, {\"name\": \"experiment_status_description\", \"run_id\": \"AutoML_e187a261-2384-4de6-83f3-41b181512d73\", \"categories\": [0, 1, 2, 3, 4, 5, 6, 7, 8, 9, 10, 11, 12, 13], \"series\": [{\"data\": [\"Gathering dataset statistics.\", \"Generating features for the dataset.\", \"Beginning to fit featurizers and featurize the dataset.\", \"Completed fit featurizers and featurizing the dataset.\", \"Generating individually featurized CV splits.\", \"Beginning model selection.\", \"Best run model explanations started\", \"Model explanations data setup completed\", \"Choosing LightGBM as the surrogate model for explanations\", \"Computation of engineered features started\", \"Computation of engineered features completed\", \"Computation of raw features started\", \"Computation of raw features completed\", \"Best run model explanations completed\"]}]}, {\"name\": \"AUC_micro\", \"run_id\": \"AutoML_e187a261-2384-4de6-83f3-41b181512d73\", \"categories\": [0], \"series\": [{\"data\": [0.9247351037125116]}]}, {\"name\": \"accuracy\", \"run_id\": \"AutoML_e187a261-2384-4de6-83f3-41b181512d73\", \"categories\": [0], \"series\": [{\"data\": [0.8829885057471264]}]}, {\"name\": \"balanced_accuracy\", \"run_id\": \"AutoML_e187a261-2384-4de6-83f3-41b181512d73\", \"categories\": [0], \"series\": [{\"data\": [0.8519592768977781]}]}, {\"name\": \"recall_score_weighted\", \"run_id\": \"AutoML_e187a261-2384-4de6-83f3-41b181512d73\", \"categories\": [0], \"series\": [{\"data\": [0.8829885057471264]}]}, {\"name\": \"AUC_weighted\", \"run_id\": \"AutoML_e187a261-2384-4de6-83f3-41b181512d73\", \"categories\": [0], \"series\": [{\"data\": [0.916349678599221]}]}, {\"name\": \"average_precision_score_weighted\", \"run_id\": \"AutoML_e187a261-2384-4de6-83f3-41b181512d73\", \"categories\": [0], \"series\": [{\"data\": [0.92858465474442]}]}, {\"name\": \"recall_score_macro\", \"run_id\": \"AutoML_e187a261-2384-4de6-83f3-41b181512d73\", \"categories\": [0], \"series\": [{\"data\": [0.8519592768977781]}]}, {\"name\": \"AUC_macro\", \"run_id\": \"AutoML_e187a261-2384-4de6-83f3-41b181512d73\", \"categories\": [0], \"series\": [{\"data\": [0.916349678599221]}]}, {\"name\": \"average_precision_score_micro\", \"run_id\": \"AutoML_e187a261-2384-4de6-83f3-41b181512d73\", \"categories\": [0], \"series\": [{\"data\": [0.9262492133816993]}]}, {\"name\": \"f1_score_micro\", \"run_id\": \"AutoML_e187a261-2384-4de6-83f3-41b181512d73\", \"categories\": [0], \"series\": [{\"data\": [0.8829885057471264]}]}, {\"name\": \"recall_score_micro\", \"run_id\": \"AutoML_e187a261-2384-4de6-83f3-41b181512d73\", \"categories\": [0], \"series\": [{\"data\": [0.8829885057471264]}]}, {\"name\": \"precision_score_micro\", \"run_id\": \"AutoML_e187a261-2384-4de6-83f3-41b181512d73\", \"categories\": [0], \"series\": [{\"data\": [0.8829885057471264]}]}, {\"name\": \"norm_macro_recall\", \"run_id\": \"AutoML_e187a261-2384-4de6-83f3-41b181512d73\", \"categories\": [0], \"series\": [{\"data\": [0.7039185537955561]}]}, {\"name\": \"log_loss\", \"run_id\": \"AutoML_e187a261-2384-4de6-83f3-41b181512d73\", \"categories\": [0], \"series\": [{\"data\": [0.3540782871382714]}]}, {\"name\": \"weighted_accuracy\", \"run_id\": \"AutoML_e187a261-2384-4de6-83f3-41b181512d73\", \"categories\": [0], \"series\": [{\"data\": [0.9021085635281896]}]}, {\"name\": \"precision_score_macro\", \"run_id\": \"AutoML_e187a261-2384-4de6-83f3-41b181512d73\", \"categories\": [0], \"series\": [{\"data\": [0.8919502931708813]}]}, {\"name\": \"average_precision_score_macro\", \"run_id\": \"AutoML_e187a261-2384-4de6-83f3-41b181512d73\", \"categories\": [0], \"series\": [{\"data\": [0.907082286948637]}]}, {\"name\": \"precision_score_weighted\", \"run_id\": \"AutoML_e187a261-2384-4de6-83f3-41b181512d73\", \"categories\": [0], \"series\": [{\"data\": [0.8951582377505298]}]}, {\"name\": \"matthews_correlation\", \"run_id\": \"AutoML_e187a261-2384-4de6-83f3-41b181512d73\", \"categories\": [0], \"series\": [{\"data\": [0.7403668222607004]}]}, {\"name\": \"f1_score_weighted\", \"run_id\": \"AutoML_e187a261-2384-4de6-83f3-41b181512d73\", \"categories\": [0], \"series\": [{\"data\": [0.8791701604864774]}]}, {\"name\": \"f1_score_macro\", \"run_id\": \"AutoML_e187a261-2384-4de6-83f3-41b181512d73\", \"categories\": [0], \"series\": [{\"data\": [0.8593071717444964]}]}], \"run_logs\": \"\\nRun is completed.\", \"graph\": {}, \"widget_settings\": {\"childWidgetDisplay\": \"popup\", \"send_telemetry\": false, \"log_level\": \"INFO\", \"sdk_version\": \"1.20.0\"}, \"loading\": false}"
          },
          "metadata": {}
        }
      ],
      "execution_count": 87,
      "metadata": {
        "gather": {
          "logged": 1613051724918
        }
      }
    },
    {
      "cell_type": "markdown",
      "source": [
        "## Best Model\n",
        "\n",
        "TODO: In the cell below, get the best model from the automl experiments and display all the properties of the model.\n",
        "\n"
      ],
      "metadata": {}
    },
    {
      "cell_type": "code",
      "source": [
        "#TODO: Save the best model\n",
        "best_run, fitted_model = remote_run.get_output()\n"
      ],
      "outputs": [
        {
          "output_type": "stream",
          "name": "stderr",
          "text": [
            "WARNING:root:The version of the SDK does not match the version the model was trained on.\n",
            "WARNING:root:The consistency in the result may not be guaranteed.\n",
            "WARNING:root:Package:azureml-automl-core, training version:1.21.0, current version:1.20.0\n",
            "Package:azureml-automl-runtime, training version:1.21.0, current version:1.20.0\n",
            "Package:azureml-core, training version:1.21.0.post1, current version:1.20.0\n",
            "Package:azureml-dataprep, training version:2.8.2, current version:2.7.3\n",
            "Package:azureml-dataprep-native, training version:28.0.0, current version:27.0.0\n",
            "Package:azureml-dataprep-rslex, training version:1.6.0, current version:1.5.0\n",
            "Package:azureml-dataset-runtime, training version:1.21.0, current version:1.20.0\n",
            "Package:azureml-defaults, training version:1.21.0, current version:1.20.0\n",
            "Package:azureml-interpret, training version:1.21.0, current version:1.20.0\n",
            "Package:azureml-pipeline-core, training version:1.21.0, current version:1.20.0\n",
            "Package:azureml-telemetry, training version:1.21.0, current version:1.20.0\n",
            "Package:azureml-train-automl-client, training version:1.21.0, current version:1.20.0\n",
            "Package:azureml-train-automl-runtime, training version:1.21.0, current version:1.20.0\n",
            "WARNING:root:Please ensure the version of your local conda dependencies match the version on which your model was trained in order to properly retrieve your model.\n"
          ]
        }
      ],
      "execution_count": 85,
      "metadata": {
        "gather": {
          "logged": 1613051625875
        },
        "jupyter": {
          "outputs_hidden": false,
          "source_hidden": false
        },
        "nteract": {
          "transient": {
            "deleting": false
          }
        }
      }
    },
    {
      "cell_type": "code",
      "source": [
        "print(fitted_model)"
      ],
      "outputs": [
        {
          "output_type": "stream",
          "name": "stdout",
          "text": [
            "Pipeline(memory=None,\n",
            "         steps=[('datatransformer',\n",
            "                 DataTransformer(enable_dnn=None, enable_feature_sweeping=None,\n",
            "                                 feature_sweeping_config=None,\n",
            "                                 feature_sweeping_timeout=None,\n",
            "                                 featurization_config=None, force_text_dnn=None,\n",
            "                                 is_cross_validation=None,\n",
            "                                 is_onnx_compatible=None, logger=None,\n",
            "                                 observer=None, task=None, working_dir=None)),\n",
            "                ('prefittedsoftvotingclassifier',...\n",
            "                                                                                                reg_alpha=0.7894736842105263,\n",
            "                                                                                                reg_lambda=0.631578947368421,\n",
            "                                                                                                silent=True,\n",
            "                                                                                                subsample=0.5447368421052632,\n",
            "                                                                                                subsample_for_bin=200000,\n",
            "                                                                                                subsample_freq=0,\n",
            "                                                                                                verbose=-10))],\n",
            "                                                                     verbose=False))],\n",
            "                                               flatten_transform=None,\n",
            "                                               weights=[0.08333333333333333,\n",
            "                                                        0.16666666666666666,\n",
            "                                                        0.25,\n",
            "                                                        0.08333333333333333,\n",
            "                                                        0.08333333333333333,\n",
            "                                                        0.16666666666666666,\n",
            "                                                        0.08333333333333333,\n",
            "                                                        0.08333333333333333]))],\n",
            "         verbose=False)\n"
          ]
        }
      ],
      "execution_count": 86,
      "metadata": {
        "gather": {
          "logged": 1613051652470
        }
      }
    },
    {
      "cell_type": "code",
      "source": [
        "print(best_run)"
      ],
      "outputs": [
        {
          "output_type": "stream",
          "name": "stdout",
          "text": [
            "Run(Experiment: Azure_Capstone_Automl,\n",
            "Id: AutoML_e187a261-2384-4de6-83f3-41b181512d73_36,\n",
            "Type: azureml.scriptrun,\n",
            "Status: Completed)\n"
          ]
        }
      ],
      "execution_count": 88,
      "metadata": {
        "gather": {
          "logged": 1613052017361
        }
      }
    },
    {
      "cell_type": "code",
      "source": [
        "best_run_metrics = best_run.get_metrics()\n",
        "print(best_run_metrics)"
      ],
      "outputs": [
        {
          "output_type": "stream",
          "name": "stdout",
          "text": [
            "{'f1_score_macro': 0.8593071717444964, 'f1_score_weighted': 0.8791701604864774, 'AUC_weighted': 0.916349678599221, 'weighted_accuracy': 0.9021085635281896, 'precision_score_weighted': 0.8951582377505298, 'recall_score_macro': 0.8519592768977781, 'average_precision_score_micro': 0.9262492133816993, 'average_precision_score_macro': 0.907082286948637, 'f1_score_micro': 0.8829885057471264, 'recall_score_weighted': 0.8829885057471264, 'AUC_micro': 0.9247351037125116, 'balanced_accuracy': 0.8519592768977781, 'average_precision_score_weighted': 0.92858465474442, 'AUC_macro': 0.916349678599221, 'recall_score_micro': 0.8829885057471264, 'accuracy': 0.8829885057471264, 'precision_score_micro': 0.8829885057471264, 'log_loss': 0.3540782871382714, 'precision_score_macro': 0.8919502931708813, 'norm_macro_recall': 0.7039185537955561, 'matthews_correlation': 0.7403668222607004, 'accuracy_table': 'aml://artifactId/ExperimentRun/dcid.AutoML_e187a261-2384-4de6-83f3-41b181512d73_36/accuracy_table', 'confusion_matrix': 'aml://artifactId/ExperimentRun/dcid.AutoML_e187a261-2384-4de6-83f3-41b181512d73_36/confusion_matrix'}\n"
          ]
        }
      ],
      "execution_count": 89,
      "metadata": {
        "gather": {
          "logged": 1613052030552
        }
      }
    },
    {
      "cell_type": "markdown",
      "source": [
        "## Model Deployment\n",
        "\n",
        "Remember you have to deploy only one of the two models you trained.. Perform the steps in the rest of this notebook only if you wish to deploy this model.\n",
        "\n",
        "TODO: In the cell below, register the model, create an inference config and deploy the model as a web service."
      ],
      "metadata": {}
    },
    {
      "cell_type": "code",
      "source": [
        "description = 'HF_AutoML_BestModel'\n",
        "model = remote_run.register_model(description = description)\n"
      ],
      "outputs": [],
      "execution_count": 90,
      "metadata": {
        "gather": {
          "logged": 1613052093938
        },
        "jupyter": {
          "outputs_hidden": false,
          "source_hidden": false
        },
        "nteract": {
          "transient": {
            "deleting": false
          }
        }
      }
    },
    {
      "cell_type": "code",
      "source": [
        "print(model.name, model.id, model.version, model.description, sep ='\\t')"
      ],
      "outputs": [
        {
          "output_type": "stream",
          "name": "stdout",
          "text": [
            "AutoMLe187a261236\tAutoMLe187a261236:1\t1\tHF_AutoML_BestModel\n"
          ]
        }
      ],
      "execution_count": 91,
      "metadata": {
        "gather": {
          "logged": 1613052103036
        }
      }
    },
    {
      "cell_type": "code",
      "source": [
        "print(model)"
      ],
      "outputs": [
        {
          "output_type": "stream",
          "name": "stdout",
          "text": [
            "Model(workspace=Workspace.create(name='quick-starts-ws-138520', subscription_id='2c48c51c-bd47-40d4-abbe-fb8eabd19c8c', resource_group='aml-quickstarts-138520'), name=AutoMLe187a261236, id=AutoMLe187a261236:1, version=1, tags={}, properties={})\n"
          ]
        }
      ],
      "execution_count": 92,
      "metadata": {
        "gather": {
          "logged": 1613052108191
        }
      }
    },
    {
      "cell_type": "code",
      "source": [
        "%%writefile env.yml\n",
        "from azureml.core.environment import Environment\n",
        "from azureml.core.conda_dependencies import CondaDependencies\n",
        "\n",
        "\n",
        "env = Environment.get(ws, \"AzureML-AutoML\")\n",
        "env.inferencing_stack_version='latest'\n",
        "\n"
      ],
      "outputs": [
        {
          "output_type": "stream",
          "name": "stdout",
          "text": [
            "Overwriting env.yml\n"
          ]
        }
      ],
      "execution_count": 95,
      "metadata": {}
    },
    {
      "cell_type": "code",
      "source": [
        "from azureml.core.environment import Environment\n",
        "from azureml.core.conda_dependencies import CondaDependencies\n",
        "\n",
        "\n",
        "env = Environment.get(ws, \"AzureML-AutoML\")\n",
        "env.inferencing_stack_version='latest'"
      ],
      "outputs": [],
      "execution_count": 96,
      "metadata": {
        "gather": {
          "logged": 1613052172252
        }
      }
    },
    {
      "cell_type": "code",
      "source": [
        "from azureml.core.model import InferenceConfig\n",
        "inference_config = InferenceConfig(entry_script='score.py',\n",
        "                                    environment=env)"
      ],
      "outputs": [],
      "execution_count": 98,
      "metadata": {
        "gather": {
          "logged": 1613052432014
        }
      }
    },
    {
      "cell_type": "code",
      "source": [
        "from azureml.core.webservice import AciWebservice \n",
        "from azureml.core import Model\n",
        "\n",
        "dep_cfg = AciWebservice.deploy_configuration(cpu_cores = 1, memory_gb = 1, enable_app_insights= True, auth_enabled= True) \n",
        "\n",
        "webservice = Model.deploy(ws, \"capstone-automl1\", [model], inference_config, dep_cfg)\n",
        "\n",
        "webservice.wait_for_deployment(show_output = True) \n",
        "print(webservice.state) \n"
      ],
      "outputs": [
        {
          "output_type": "stream",
          "name": "stdout",
          "text": [
            "Tips: You can try get_logs(): https://aka.ms/debugimage#dockerlog or local deployment: https://aka.ms/debugimage#debug-locally to debug if deployment takes longer than 10 minutes.\n",
            "Running............................................\n",
            "Succeeded\n",
            "ACI service creation operation finished, operation \"Succeeded\"\n",
            "Healthy\n"
          ]
        }
      ],
      "execution_count": 100,
      "metadata": {
        "gather": {
          "logged": 1613052721690
        }
      }
    },
    {
      "cell_type": "code",
      "source": [
        "print(webservice.get_logs())\n",
        "print(webservice.scoring_uri) \n",
        "print(webservice.swagger_uri)"
      ],
      "outputs": [
        {
          "output_type": "stream",
          "name": "stdout",
          "text": [
            "2021-02-11T14:11:49,622001039+00:00 - rsyslog/run \n",
            "2021-02-11T14:11:49,624698661+00:00 - gunicorn/run \n",
            "2021-02-11T14:11:49,624457259+00:00 - iot-server/run \n",
            "2021-02-11T14:11:49,623068348+00:00 - nginx/run \n",
            "/usr/sbin/nginx: /azureml-envs/azureml_09ff55f546b313bb1ab136a466214499/lib/libcrypto.so.1.0.0: no version information available (required by /usr/sbin/nginx)\n",
            "/usr/sbin/nginx: /azureml-envs/azureml_09ff55f546b313bb1ab136a466214499/lib/libcrypto.so.1.0.0: no version information available (required by /usr/sbin/nginx)\n",
            "/usr/sbin/nginx: /azureml-envs/azureml_09ff55f546b313bb1ab136a466214499/lib/libssl.so.1.0.0: no version information available (required by /usr/sbin/nginx)\n",
            "/usr/sbin/nginx: /azureml-envs/azureml_09ff55f546b313bb1ab136a466214499/lib/libssl.so.1.0.0: no version information available (required by /usr/sbin/nginx)\n",
            "/usr/sbin/nginx: /azureml-envs/azureml_09ff55f546b313bb1ab136a466214499/lib/libssl.so.1.0.0: no version information available (required by /usr/sbin/nginx)\n",
            "rsyslogd: /azureml-envs/azureml_09ff55f546b313bb1ab136a466214499/lib/libuuid.so.1: no version information available (required by rsyslogd)\n",
            "EdgeHubConnectionString and IOTEDGE_IOTHUBHOSTNAME are not set. Exiting...\n",
            "2021-02-11T14:11:49,770836483+00:00 - iot-server/finish 1 0\n",
            "2021-02-11T14:11:49,772714399+00:00 - Exit code 1 is normal. Not restarting iot-server.\n",
            "Starting gunicorn 19.9.0\n",
            "Listening at: http://127.0.0.1:31311 (14)\n",
            "Using worker: sync\n",
            "worker timeout is set to 300\n",
            "Booting worker with pid: 43\n",
            "SPARK_HOME not set. Skipping PySpark Initialization.\n",
            "Generating new fontManager, this may take some time...\n",
            "Initializing logger\n",
            "2021-02-11 14:11:53,100 | root | INFO | Starting up app insights client\n",
            "2021-02-11 14:11:53,101 | root | INFO | Starting up request id generator\n",
            "2021-02-11 14:11:53,101 | root | INFO | Starting up app insight hooks\n",
            "2021-02-11 14:11:53,101 | root | INFO | Invoking user's init function\n",
            "2021-02-11 14:11:55,182 | root | INFO | Users's init has completed successfully\n",
            "2021-02-11 14:11:55,187 | root | INFO | Skipping middleware: dbg_model_info as it's not enabled.\n",
            "2021-02-11 14:11:55,187 | root | INFO | Skipping middleware: dbg_resource_usage as it's not enabled.\n",
            "2021-02-11 14:11:55,189 | root | INFO | Scoring timeout is found from os.environ: 60000 ms\n",
            "2021-02-11 14:12:00,029 | root | INFO | Swagger file not present\n",
            "2021-02-11 14:12:00,030 | root | INFO | 404\n",
            "127.0.0.1 - - [11/Feb/2021:14:12:00 +0000] \"GET /swagger.json HTTP/1.0\" 404 19 \"-\" \"Go-http-client/1.1\"\n",
            "2021-02-11 14:12:01,165 | root | INFO | Swagger file not present\n",
            "2021-02-11 14:12:01,165 | root | INFO | 404\n",
            "127.0.0.1 - - [11/Feb/2021:14:12:01 +0000] \"GET /swagger.json HTTP/1.0\" 404 19 \"-\" \"Go-http-client/1.1\"\n",
            "\n",
            "http://e5ff3357-9dbd-4a06-a4a8-80bac69eb1be.southcentralus.azurecontainer.io/score\n",
            "http://e5ff3357-9dbd-4a06-a4a8-80bac69eb1be.southcentralus.azurecontainer.io/swagger.json\n"
          ]
        }
      ],
      "execution_count": 101,
      "metadata": {
        "gather": {
          "logged": 1613052835198
        }
      }
    },
    {
      "cell_type": "markdown",
      "source": [
        "TODO: In the cell below, send a request to the web service you deployed to test it."
      ],
      "metadata": {
        "collapsed": true,
        "gather": {
          "logged": 1598431657736
        },
        "jupyter": {
          "outputs_hidden": false,
          "source_hidden": false
        },
        "nteract": {
          "transient": {
            "deleting": false
          }
        }
      }
    },
    {
      "cell_type": "code",
      "source": [
        "import json\n",
        "\n",
        "\n",
        "input_payload = json.dumps({\n",
        "    'data': hfdat_x[0:2].to_dict(orient= 'records')\n",
        "    \n",
        "})\n",
        "\n"
      ],
      "outputs": [],
      "execution_count": 103,
      "metadata": {
        "gather": {
          "logged": 1613052951476
        },
        "jupyter": {
          "outputs_hidden": false,
          "source_hidden": false
        },
        "nteract": {
          "transient": {
            "deleting": false
          }
        }
      }
    },
    {
      "cell_type": "code",
      "source": [
        "print(input_payload)"
      ],
      "outputs": [
        {
          "output_type": "stream",
          "name": "stdout",
          "text": [
            "{\"data\": [{\"age\": 75.0, \"anaemia\": 0, \"creatinine_phosphokinase\": 582, \"diabetes\": 0, \"ejection_fraction\": 20, \"high_blood_pressure\": 1, \"platelets\": 265000.0, \"serum_creatinine\": 1.9, \"serum_sodium\": 130, \"sex\": 1, \"smoking\": 0, \"time\": 4}, {\"age\": 55.0, \"anaemia\": 0, \"creatinine_phosphokinase\": 7861, \"diabetes\": 0, \"ejection_fraction\": 38, \"high_blood_pressure\": 0, \"platelets\": 263358.03, \"serum_creatinine\": 1.1, \"serum_sodium\": 136, \"sex\": 1, \"smoking\": 0, \"time\": 6}]}\n"
          ]
        }
      ],
      "execution_count": 104,
      "metadata": {
        "gather": {
          "logged": 1613052955352
        }
      }
    },
    {
      "cell_type": "code",
      "source": [
        "output = webservice.run(input_payload)\n",
        "print(output)"
      ],
      "outputs": [
        {
          "output_type": "stream",
          "name": "stdout",
          "text": [
            "[1, 1]\n"
          ]
        }
      ],
      "execution_count": 75,
      "metadata": {}
    },
    {
      "cell_type": "markdown",
      "source": [
        "TODO: In the cell below, print the logs of the web service and delete the service"
      ],
      "metadata": {
        "collapsed": true,
        "gather": {
          "logged": 1598432765711
        },
        "jupyter": {
          "outputs_hidden": false,
          "source_hidden": false
        },
        "nteract": {
          "transient": {
            "deleting": false
          }
        }
      }
    },
    {
      "cell_type": "code",
      "source": [
        "webservice.delete()"
      ],
      "outputs": [],
      "execution_count": 76,
      "metadata": {
        "jupyter": {
          "outputs_hidden": false,
          "source_hidden": false
        },
        "nteract": {
          "transient": {
            "deleting": false
          }
        }
      }
    },
    {
      "cell_type": "code",
      "source": [
        "compute_target.delete()"
      ],
      "outputs": [],
      "execution_count": 77,
      "metadata": {}
    },
    {
      "cell_type": "code",
      "source": [],
      "outputs": [],
      "execution_count": null,
      "metadata": {}
    }
  ],
  "metadata": {
    "kernel_info": {
      "name": "python3"
    },
    "kernelspec": {
      "name": "python3",
      "language": "python",
      "display_name": "Python 3"
    },
    "language_info": {
      "name": "python",
      "version": "3.6.9",
      "mimetype": "text/x-python",
      "codemirror_mode": {
        "name": "ipython",
        "version": 3
      },
      "pygments_lexer": "ipython3",
      "nbconvert_exporter": "python",
      "file_extension": ".py"
    },
    "nteract": {
      "version": "nteract-front-end@1.0.0"
    }
  },
  "nbformat": 4,
  "nbformat_minor": 2
}