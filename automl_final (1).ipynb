{
  "cells": [
    {
      "cell_type": "markdown",
      "source": [
        "# Automated ML\n",
        "\n",
        "TODO: Import Dependencies. In the cell below, import all the dependencies that you will need to complete the project."
      ],
      "metadata": {}
    },
    {
      "cell_type": "code",
      "source": [
        "#upgrade the sdk version by running below command in jupyter notebook terminal window \n",
        "#and restart the kernal before running this command.\n",
        "\n",
        "#pip install --upgrade azureml-core\n",
        "#pip install --upgrade azureml-automl-core\n",
        "#!pip install --upgrade --upgrade-strategy eager azureml-sdk[automl,widgets,notebooks]"
      ],
      "outputs": [],
      "execution_count": 1,
      "metadata": {
        "gather": {
          "logged": 1613240083135
        }
      }
    },
    {
      "cell_type": "code",
      "source": [
        "import logging\n",
        "import os\n",
        "import csv\n",
        "\n",
        "from matplotlib import pyplot as plt\n",
        "import numpy as np\n",
        "import pandas as pd\n",
        "from sklearn import datasets\n",
        "import pkg_resources\n",
        "\n",
        "import azureml.core\n",
        "from azureml.core.experiment import Experiment\n",
        "from azureml.core.workspace import Workspace\n",
        "from azureml.train.automl import AutoMLConfig\n",
        "from azureml.core.dataset import Dataset\n",
        "from azureml.core.environment import Environment\n",
        "from azureml.core.model import InferenceConfig\n",
        "from azureml.core.webservice import AciWebservice\n",
        "from azureml.core.model import Model\n",
        "import azureml.train.automl\n",
        "from azureml.pipeline.steps import AutoMLStep\n",
        "\n",
        "\n",
        "\n",
        "# Check core SDK version number\n",
        "print(\"SDK version:\", azureml.core.VERSION)"
      ],
      "outputs": [
        {
          "output_type": "stream",
          "name": "stdout",
          "text": [
            "SDK version: 1.20.0\n"
          ]
        }
      ],
      "execution_count": 2,
      "metadata": {
        "gather": {
          "logged": 1613240083669
        },
        "jupyter": {
          "outputs_hidden": false,
          "source_hidden": false
        },
        "nteract": {
          "transient": {
            "deleting": false
          }
        }
      }
    },
    {
      "cell_type": "code",
      "source": [
        "ws = Workspace.from_config()\n",
        "print(ws.name, ws.resource_group, ws.location, ws.subscription_id, sep = '\\n')\n",
        "\n"
      ],
      "outputs": [
        {
          "output_type": "stream",
          "name": "stdout",
          "text": [
            "Performing interactive authentication. Please follow the instructions on the terminal.\n",
            "To sign in, use a web browser to open the page https://microsoft.com/devicelogin and enter the code ATJKUGAQ4 to authenticate.\n",
            "You have logged in. Now let us find all the subscriptions to which you have access...\n",
            "Interactive authentication successfully completed.\n",
            "quick-starts-ws-138827\n",
            "aml-quickstarts-138827\n",
            "southcentralus\n",
            "2c48c51c-bd47-40d4-abbe-fb8eabd19c8c\n"
          ]
        }
      ],
      "execution_count": 3,
      "metadata": {
        "gather": {
          "logged": 1613240212200
        },
        "jupyter": {
          "outputs_hidden": false,
          "source_hidden": false
        },
        "nteract": {
          "transient": {
            "deleting": false
          }
        }
      }
    },
    {
      "cell_type": "code",
      "source": [
        "# define an experiment name\n",
        "experiment_name = 'Azure_Capstone_Automl'\n",
        "experiment=Experiment(ws, experiment_name)\n"
      ],
      "outputs": [],
      "execution_count": 4,
      "metadata": {
        "gather": {
          "logged": 1613240212758
        }
      }
    },
    {
      "cell_type": "code",
      "source": [
        "#check the experiment\n",
        "experiment"
      ],
      "outputs": [
        {
          "output_type": "execute_result",
          "execution_count": 5,
          "data": {
            "text/plain": "Experiment(Name: Azure_Capstone_Automl,\nWorkspace: quick-starts-ws-138827)",
            "text/html": "<table style=\"width:100%\"><tr><th>Name</th><th>Workspace</th><th>Report Page</th><th>Docs Page</th></tr><tr><td>Azure_Capstone_Automl</td><td>quick-starts-ws-138827</td><td><a href=\"https://ml.azure.com/experiments/Azure_Capstone_Automl?wsid=/subscriptions/2c48c51c-bd47-40d4-abbe-fb8eabd19c8c/resourcegroups/aml-quickstarts-138827/workspaces/quick-starts-ws-138827\" target=\"_blank\" rel=\"noopener\">Link to Azure Machine Learning studio</a></td><td><a href=\"https://docs.microsoft.com/en-us/python/api/azureml-core/azureml.core.experiment.Experiment?view=azure-ml-py\" target=\"_blank\" rel=\"noopener\">Link to Documentation</a></td></tr></table>"
          },
          "metadata": {}
        }
      ],
      "execution_count": 5,
      "metadata": {
        "gather": {
          "logged": 1613240213219
        }
      }
    },
    {
      "cell_type": "code",
      "source": [
        "#start logging\r\n",
        "run = experiment.start_logging()"
      ],
      "outputs": [],
      "execution_count": 6,
      "metadata": {
        "gather": {
          "logged": 1613240214363
        }
      }
    },
    {
      "cell_type": "markdown",
      "source": [
        "# create the computer cluster"
      ],
      "metadata": {}
    },
    {
      "cell_type": "code",
      "source": [
        "from azureml.core.compute import AmlCompute\n",
        "from azureml.core.compute import ComputeTarget\n",
        "from azureml.core.compute_target import ComputeTargetException\n",
        "\n",
        "\n",
        "# Choose a name for the GPU cluster\n",
        "amlcompute_cluster_name = \"auto-ml\"\n",
        "\n",
        "# Verify that cluster isn't already there\n",
        "try:\n",
        "    compute_target = ComputeTarget(workspace=ws, name=amlcompute_cluster_name)\n",
        "    print('Found existing cluster, use it.')\n",
        "except ComputeTargetException:\n",
        "    compute_config = AmlCompute.provisioning_configuration(vm_size='STANDARD_D2_V2',# for GPU, use \"STANDARD_NC6\"\n",
        "                                                           #vm_priority = 'lowpriority', # optional\n",
        "                                                           max_nodes=4)\n",
        "    compute_target = ComputeTarget.create(ws, amlcompute_cluster_name, compute_config)\n",
        "\n",
        "compute_target.wait_for_completion(show_output=True, min_node_count = 1, timeout_in_minutes = 10)\n",
        "compute_target.get_status()"
      ],
      "outputs": [
        {
          "output_type": "stream",
          "name": "stdout",
          "text": [
            "Creating\n",
            "Succeeded.................................................................................................................\n",
            "AmlCompute wait for completion finished\n",
            "\n",
            "Wait timeout has been reached\n",
            "Current provisioning state of AmlCompute is \"Succeeded\" and current node count is \"0\"\n"
          ]
        },
        {
          "output_type": "execute_result",
          "execution_count": 7,
          "data": {
            "text/plain": "<azureml.core.compute.amlcompute.AmlComputeStatus at 0x7ff9765c4c88>"
          },
          "metadata": {}
        }
      ],
      "execution_count": 7,
      "metadata": {
        "gather": {
          "logged": 1613240818080
        }
      }
    },
    {
      "cell_type": "markdown",
      "source": [
        "## Dataset\n",
        "\n",
        "### Overview\n",
        "\n",
        "We have used Heart failure clinical records data set from Kaggle\n",
        "\n",
        "This dataset contains the medical records of 299 heart failure patients collected at the Faisalabad Institute of Cardiology and at the Allied Hospital in Faisalabad (Punjab, Pakistan), during April–December 2015 [52, 66]. The patients consisted of 105 women and 194 men, and their ages range between 40 and 95 years old (Table 1). All 299 patients had left ventricular systolic dysfunction and had previous heart failures that put them in classes III or IV of New York Heart Association (NYHA) classification of the stages of heart failure.\n",
        "\n",
        "We are using binary classification to predict likelihood of death based on heart failure."
      ],
      "metadata": {}
    },
    {
      "cell_type": "markdown",
      "source": [
        "\n",
        "TODO: Get data. In the cell below, write code to access the data you will be using in this project. Remember that the dataset needs to be external."
      ],
      "metadata": {}
    },
    {
      "cell_type": "code",
      "source": [
        "#the data is already loaded into the workspace, this will be our training dataset\r\n",
        "hfdat=Dataset.get_by_name(ws, name='heartfailurerecords')"
      ],
      "outputs": [],
      "execution_count": 8,
      "metadata": {
        "gather": {
          "logged": 1613240818418
        }
      }
    },
    {
      "cell_type": "code",
      "source": [
        "#check the data\r\n",
        "hfdat.to_pandas_dataframe().head()"
      ],
      "outputs": [
        {
          "output_type": "execute_result",
          "execution_count": 9,
          "data": {
            "text/plain": "    age  anaemia  creatinine_phosphokinase  diabetes  ejection_fraction  \\\n0  75.0        0                       582         0                 20   \n1  55.0        0                      7861         0                 38   \n2  65.0        0                       146         0                 20   \n3  50.0        1                       111         0                 20   \n4  65.0        1                       160         1                 20   \n\n   high_blood_pressure  platelets  serum_creatinine  serum_sodium  sex  \\\n0                    1  265000.00               1.9           130    1   \n1                    0  263358.03               1.1           136    1   \n2                    0  162000.00               1.3           129    1   \n3                    0  210000.00               1.9           137    1   \n4                    0  327000.00               2.7           116    0   \n\n   smoking  time  DEATH_EVENT  \n0        0     4            1  \n1        0     6            1  \n2        1     7            1  \n3        0     7            1  \n4        0     8            1  ",
            "text/html": "<div>\n<style scoped>\n    .dataframe tbody tr th:only-of-type {\n        vertical-align: middle;\n    }\n\n    .dataframe tbody tr th {\n        vertical-align: top;\n    }\n\n    .dataframe thead th {\n        text-align: right;\n    }\n</style>\n<table border=\"1\" class=\"dataframe\">\n  <thead>\n    <tr style=\"text-align: right;\">\n      <th></th>\n      <th>age</th>\n      <th>anaemia</th>\n      <th>creatinine_phosphokinase</th>\n      <th>diabetes</th>\n      <th>ejection_fraction</th>\n      <th>high_blood_pressure</th>\n      <th>platelets</th>\n      <th>serum_creatinine</th>\n      <th>serum_sodium</th>\n      <th>sex</th>\n      <th>smoking</th>\n      <th>time</th>\n      <th>DEATH_EVENT</th>\n    </tr>\n  </thead>\n  <tbody>\n    <tr>\n      <th>0</th>\n      <td>75.0</td>\n      <td>0</td>\n      <td>582</td>\n      <td>0</td>\n      <td>20</td>\n      <td>1</td>\n      <td>265000.00</td>\n      <td>1.9</td>\n      <td>130</td>\n      <td>1</td>\n      <td>0</td>\n      <td>4</td>\n      <td>1</td>\n    </tr>\n    <tr>\n      <th>1</th>\n      <td>55.0</td>\n      <td>0</td>\n      <td>7861</td>\n      <td>0</td>\n      <td>38</td>\n      <td>0</td>\n      <td>263358.03</td>\n      <td>1.1</td>\n      <td>136</td>\n      <td>1</td>\n      <td>0</td>\n      <td>6</td>\n      <td>1</td>\n    </tr>\n    <tr>\n      <th>2</th>\n      <td>65.0</td>\n      <td>0</td>\n      <td>146</td>\n      <td>0</td>\n      <td>20</td>\n      <td>0</td>\n      <td>162000.00</td>\n      <td>1.3</td>\n      <td>129</td>\n      <td>1</td>\n      <td>1</td>\n      <td>7</td>\n      <td>1</td>\n    </tr>\n    <tr>\n      <th>3</th>\n      <td>50.0</td>\n      <td>1</td>\n      <td>111</td>\n      <td>0</td>\n      <td>20</td>\n      <td>0</td>\n      <td>210000.00</td>\n      <td>1.9</td>\n      <td>137</td>\n      <td>1</td>\n      <td>0</td>\n      <td>7</td>\n      <td>1</td>\n    </tr>\n    <tr>\n      <th>4</th>\n      <td>65.0</td>\n      <td>1</td>\n      <td>160</td>\n      <td>1</td>\n      <td>20</td>\n      <td>0</td>\n      <td>327000.00</td>\n      <td>2.7</td>\n      <td>116</td>\n      <td>0</td>\n      <td>0</td>\n      <td>8</td>\n      <td>1</td>\n    </tr>\n  </tbody>\n</table>\n</div>"
          },
          "metadata": {}
        }
      ],
      "execution_count": 9,
      "metadata": {
        "gather": {
          "logged": 1613240823052
        }
      }
    },
    {
      "cell_type": "code",
      "source": [
        "df= hfdat.to_pandas_dataframe()"
      ],
      "outputs": [],
      "execution_count": 10,
      "metadata": {
        "gather": {
          "logged": 1613240823274
        }
      }
    },
    {
      "cell_type": "code",
      "source": [
        "#create the test dataset\n",
        "hfdat_x = df.drop('DEATH_EVENT', axis= 1)\n",
        "hfdat_x.head()"
      ],
      "outputs": [
        {
          "output_type": "execute_result",
          "execution_count": 11,
          "data": {
            "text/plain": "    age  anaemia  creatinine_phosphokinase  diabetes  ejection_fraction  \\\n0  75.0        0                       582         0                 20   \n1  55.0        0                      7861         0                 38   \n2  65.0        0                       146         0                 20   \n3  50.0        1                       111         0                 20   \n4  65.0        1                       160         1                 20   \n\n   high_blood_pressure  platelets  serum_creatinine  serum_sodium  sex  \\\n0                    1  265000.00               1.9           130    1   \n1                    0  263358.03               1.1           136    1   \n2                    0  162000.00               1.3           129    1   \n3                    0  210000.00               1.9           137    1   \n4                    0  327000.00               2.7           116    0   \n\n   smoking  time  \n0        0     4  \n1        0     6  \n2        1     7  \n3        0     7  \n4        0     8  ",
            "text/html": "<div>\n<style scoped>\n    .dataframe tbody tr th:only-of-type {\n        vertical-align: middle;\n    }\n\n    .dataframe tbody tr th {\n        vertical-align: top;\n    }\n\n    .dataframe thead th {\n        text-align: right;\n    }\n</style>\n<table border=\"1\" class=\"dataframe\">\n  <thead>\n    <tr style=\"text-align: right;\">\n      <th></th>\n      <th>age</th>\n      <th>anaemia</th>\n      <th>creatinine_phosphokinase</th>\n      <th>diabetes</th>\n      <th>ejection_fraction</th>\n      <th>high_blood_pressure</th>\n      <th>platelets</th>\n      <th>serum_creatinine</th>\n      <th>serum_sodium</th>\n      <th>sex</th>\n      <th>smoking</th>\n      <th>time</th>\n    </tr>\n  </thead>\n  <tbody>\n    <tr>\n      <th>0</th>\n      <td>75.0</td>\n      <td>0</td>\n      <td>582</td>\n      <td>0</td>\n      <td>20</td>\n      <td>1</td>\n      <td>265000.00</td>\n      <td>1.9</td>\n      <td>130</td>\n      <td>1</td>\n      <td>0</td>\n      <td>4</td>\n    </tr>\n    <tr>\n      <th>1</th>\n      <td>55.0</td>\n      <td>0</td>\n      <td>7861</td>\n      <td>0</td>\n      <td>38</td>\n      <td>0</td>\n      <td>263358.03</td>\n      <td>1.1</td>\n      <td>136</td>\n      <td>1</td>\n      <td>0</td>\n      <td>6</td>\n    </tr>\n    <tr>\n      <th>2</th>\n      <td>65.0</td>\n      <td>0</td>\n      <td>146</td>\n      <td>0</td>\n      <td>20</td>\n      <td>0</td>\n      <td>162000.00</td>\n      <td>1.3</td>\n      <td>129</td>\n      <td>1</td>\n      <td>1</td>\n      <td>7</td>\n    </tr>\n    <tr>\n      <th>3</th>\n      <td>50.0</td>\n      <td>1</td>\n      <td>111</td>\n      <td>0</td>\n      <td>20</td>\n      <td>0</td>\n      <td>210000.00</td>\n      <td>1.9</td>\n      <td>137</td>\n      <td>1</td>\n      <td>0</td>\n      <td>7</td>\n    </tr>\n    <tr>\n      <th>4</th>\n      <td>65.0</td>\n      <td>1</td>\n      <td>160</td>\n      <td>1</td>\n      <td>20</td>\n      <td>0</td>\n      <td>327000.00</td>\n      <td>2.7</td>\n      <td>116</td>\n      <td>0</td>\n      <td>0</td>\n      <td>8</td>\n    </tr>\n  </tbody>\n</table>\n</div>"
          },
          "metadata": {}
        }
      ],
      "execution_count": 11,
      "metadata": {
        "gather": {
          "logged": 1613240823578
        }
      }
    },
    {
      "cell_type": "markdown",
      "source": [
        "## AutoML Configuration\n",
        "\n",
        "TODO: Explain why you chose the automl settings and cofiguration you used below."
      ],
      "metadata": {}
    },
    {
      "cell_type": "code",
      "source": [
        "# TODO: Put your automl settings here\n",
        "#Will use accuracy as the main metric\n",
        "automl_settings = {\n",
        "    \"experiment_timeout_minutes\": 20,\n",
        "    \"max_concurrent_iterations\": 5,\n",
        "    \"primary_metric\" : 'accuracy'\n",
        "}\n",
        "\n",
        "# TODO: Put your automl config here\n",
        "#Enable early stopping, the task will be classification\n",
        "automl_config = AutoMLConfig(compute_target=compute_target,\n",
        "                             task = \"classification\",\n",
        "                             training_data=hfdat,\n",
        "                             label_column_name=\"DEATH_EVENT\",   \n",
        "                             enable_early_stopping= True,\n",
        "                             featurization= 'auto',\n",
        "                             debug_log = \"automl_errors.log\",\n",
        "                             **automl_settings\n",
        "                            )"
      ],
      "outputs": [],
      "execution_count": 12,
      "metadata": {
        "gather": {
          "logged": 1613240823777
        },
        "jupyter": {
          "outputs_hidden": false,
          "source_hidden": false
        },
        "nteract": {
          "transient": {
            "deleting": false
          }
        }
      }
    },
    {
      "cell_type": "code",
      "source": [
        "# TODO: Submit your experiment\n",
        "remote_run = experiment.submit(automl_config)"
      ],
      "outputs": [
        {
          "output_type": "stream",
          "name": "stdout",
          "text": [
            "Running on remote.\n"
          ]
        }
      ],
      "execution_count": 13,
      "metadata": {
        "gather": {
          "logged": 1613240826566
        },
        "jupyter": {
          "outputs_hidden": false,
          "source_hidden": false
        },
        "nteract": {
          "transient": {
            "deleting": false
          }
        }
      }
    },
    {
      "cell_type": "markdown",
      "source": [
        "## Run Details\n",
        "\n",
        "OPTIONAL: Write about the different models trained and their performance. Why do you think some models did better than others?\n",
        "\n",
        "TODO: In the cell below, use the `RunDetails` widget to show the different experiments."
      ],
      "metadata": {}
    },
    {
      "cell_type": "code",
      "source": [
        "# Retrieve and save your best automl model.\n",
        "remote_run.wait_for_completion(show_output=True)\n",
        "\n"
      ],
      "outputs": [
        {
          "output_type": "stream",
          "name": "stdout",
          "text": [
            "\n",
            "Current status: FeaturesGeneration. Generating features for the dataset.\n",
            "Current status: DatasetCrossValidationSplit. Generating individually featurized CV splits.\n",
            "Current status: ModelSelection. Beginning model selection.\n",
            "\n",
            "****************************************************************************************************\n",
            "DATA GUARDRAILS: \n",
            "\n",
            "TYPE:         Cross validation\n",
            "STATUS:       DONE\n",
            "DESCRIPTION:  Each iteration of the trained model was validated through cross-validation.\n",
            "              \n",
            "DETAILS:      \n",
            "+---------------------------------+\n",
            "|Number of folds                  |\n",
            "+=================================+\n",
            "|10                               |\n",
            "+---------------------------------+\n",
            "\n",
            "****************************************************************************************************\n",
            "\n",
            "TYPE:         Class balancing detection\n",
            "STATUS:       PASSED\n",
            "DESCRIPTION:  Your inputs were analyzed, and all classes are balanced in your training data.\n",
            "              Learn more about imbalanced data: https://aka.ms/AutomatedMLImbalancedData\n",
            "\n",
            "****************************************************************************************************\n",
            "\n",
            "TYPE:         Missing feature values imputation\n",
            "STATUS:       PASSED\n",
            "DESCRIPTION:  No feature missing values were detected in the training data.\n",
            "              Learn more about missing value imputation: https://aka.ms/AutomatedMLFeaturization\n",
            "\n",
            "****************************************************************************************************\n",
            "\n",
            "TYPE:         High cardinality feature detection\n",
            "STATUS:       PASSED\n",
            "DESCRIPTION:  Your inputs were analyzed, and no high cardinality features were detected.\n",
            "              Learn more about high cardinality feature handling: https://aka.ms/AutomatedMLFeaturization\n",
            "\n",
            "****************************************************************************************************\n",
            "\n",
            "****************************************************************************************************\n",
            "ITERATION: The iteration being evaluated.\n",
            "PIPELINE: A summary description of the pipeline being evaluated.\n",
            "DURATION: Time taken for the current iteration.\n",
            "METRIC: The result of computing score on the fitted pipeline.\n",
            "BEST: The best observed score thus far.\n",
            "****************************************************************************************************\n",
            "\n",
            " ITERATION   PIPELINE                                       DURATION      METRIC      BEST\n",
            "         4   MinMaxScaler RandomForest                      0:00:54       0.8224    0.8224\n",
            "         1   MaxAbsScaler XGBoostClassifier                 0:00:55       0.8359    0.8359\n",
            "         0   MaxAbsScaler LightGBM                          0:00:53       0.8360    0.8360\n",
            "         3   MinMaxScaler RandomForest                      0:00:58       0.8559    0.8559\n",
            "         7   SparseNormalizer XGBoostClassifier             0:00:53       0.8394    0.8559\n",
            "         8   MinMaxScaler SVM                               0:00:57       0.7225    0.8559\n",
            "         5   StandardScalerWrapper XGBoostClassifier        0:03:17       0.8494    0.8559\n",
            "         9   SparseNormalizer XGBoostClassifier             0:00:55       0.8229    0.8559\n",
            "         2   MinMaxScaler RandomForest                      0:03:31       0.8192    0.8559\n",
            "         6   RobustScaler LogisticRegression                0:03:33       0.8225    0.8559\n",
            "        10   SparseNormalizer XGBoostClassifier             0:00:50       0.8093    0.8559\n",
            "        11   MaxAbsScaler LightGBM                          0:00:55       0.8359    0.8559\n",
            "        12   StandardScalerWrapper RandomForest             0:00:55       0.8429    0.8559\n",
            "        13   RobustScaler ExtremeRandomTrees                0:00:49       0.8562    0.8562\n",
            "        14   MaxAbsScaler GradientBoosting                  0:00:56       0.8392    0.8562\n",
            "        15   RobustScaler ExtremeRandomTrees                0:00:50       0.8560    0.8562\n",
            "        16   MaxAbsScaler LightGBM                          0:00:48       0.8393    0.8562\n",
            "        17   StandardScalerWrapper LightGBM                 0:00:54       0.8529    0.8562\n",
            "        18   MinMaxScaler LightGBM                          0:00:56       0.8393    0.8562\n",
            "        19   MinMaxScaler LightGBM                          0:01:02       0.8261    0.8562\n",
            "        20   SparseNormalizer LightGBM                      0:00:50       0.8329    0.8562\n",
            "        21   StandardScalerWrapper GradientBoosting         0:00:50       0.8428    0.8562\n",
            "        22   MinMaxScaler LightGBM                          0:00:47       0.8361    0.8562\n",
            "        23   StandardScalerWrapper XGBoostClassifier        0:00:56       0.8394    0.8562\n",
            "        24   MaxAbsScaler LightGBM                          0:01:02       0.8626    0.8626\n",
            "        25   StandardScalerWrapper ExtremeRandomTrees       0:00:56       0.6792    0.8626\n",
            "        26   SparseNormalizer XGBoostClassifier             0:00:56       0.8364    0.8626\n",
            "        27   StandardScalerWrapper LightGBM                 0:00:55       0.8393    0.8626\n",
            "        28   MaxAbsScaler LightGBM                          0:00:53       0.8459    0.8626\n",
            "        29   MaxAbsScaler RandomForest                      0:00:59       0.8190    0.8626\n",
            "        30   TruncatedSVDWrapper LightGBM                   0:00:58       0.6792    0.8626\n",
            "        31   MaxAbsScaler RandomForest                      0:00:55       0.8191    0.8626\n",
            "        32   MaxAbsScaler RandomForest                      0:00:53       0.8223    0.8626\n",
            "        33   MaxAbsScaler ExtremeRandomTrees                0:01:01       0.8057    0.8626\n",
            "        34   SparseNormalizer XGBoostClassifier             0:00:52       0.8395    0.8626\n",
            "        35   StandardScalerWrapper LightGBM                 0:00:55       0.7860    0.8626\n",
            "        36   RobustScaler LightGBM                          0:00:55       0.8593    0.8626\n",
            "        37   RobustScaler LightGBM                          0:00:54       0.8293    0.8626\n",
            "        38   StandardScalerWrapper GradientBoosting         0:00:46       0.8393    0.8626\n",
            "        39   MaxAbsScaler LightGBM                          0:00:55       0.8359    0.8626\n",
            "        40   MinMaxScaler LightGBM                          0:00:44       0.8260    0.8626\n",
            "        41                                                  0:00:21          nan    0.8626\n",
            "        42                                                  0:00:10          nan    0.8626\n",
            "        43                                                  0:00:16          nan    0.8626\n",
            "        45    StackEnsemble                                 0:02:09       0.8561    0.8626\n",
            "        44    VotingEnsemble                                0:02:21       0.8797    0.8797\n"
          ]
        },
        {
          "output_type": "execute_result",
          "execution_count": 14,
          "data": {
            "text/plain": "{'runId': 'AutoML_836ef666-532b-411f-9d9d-b75ea98a5595',\n 'target': 'auto-ml',\n 'status': 'Completed',\n 'startTimeUtc': '2021-02-13T18:27:20.928375Z',\n 'endTimeUtc': '2021-02-13T18:54:51.147232Z',\n 'properties': {'num_iterations': '1000',\n  'training_type': 'TrainFull',\n  'acquisition_function': 'EI',\n  'primary_metric': 'accuracy',\n  'train_split': '0',\n  'acquisition_parameter': '0',\n  'num_cross_validation': None,\n  'target': 'auto-ml',\n  'AMLSettingsJsonString': '{\"path\":null,\"name\":\"Azure_Capstone_Automl\",\"subscription_id\":\"2c48c51c-bd47-40d4-abbe-fb8eabd19c8c\",\"resource_group\":\"aml-quickstarts-138827\",\"workspace_name\":\"quick-starts-ws-138827\",\"region\":\"southcentralus\",\"compute_target\":\"auto-ml\",\"spark_service\":null,\"azure_service\":\"remote\",\"many_models\":false,\"pipeline_fetch_max_batch_size\":1,\"iterations\":1000,\"primary_metric\":\"accuracy\",\"task_type\":\"classification\",\"data_script\":null,\"validation_size\":0.0,\"n_cross_validations\":null,\"y_min\":null,\"y_max\":null,\"num_classes\":null,\"featurization\":\"auto\",\"_ignore_package_version_incompatibilities\":false,\"is_timeseries\":false,\"max_cores_per_iteration\":1,\"max_concurrent_iterations\":5,\"iteration_timeout_minutes\":null,\"mem_in_mb\":null,\"enforce_time_on_windows\":false,\"experiment_timeout_minutes\":20,\"experiment_exit_score\":null,\"whitelist_models\":null,\"blacklist_algos\":[\"TensorFlowLinearClassifier\",\"TensorFlowDNN\"],\"supported_models\":[\"MultinomialNaiveBayes\",\"SGD\",\"LinearSVM\",\"XGBoostClassifier\",\"RandomForest\",\"TensorFlowDNN\",\"LightGBM\",\"GradientBoosting\",\"BernoulliNaiveBayes\",\"ExtremeRandomTrees\",\"LogisticRegression\",\"AveragedPerceptronClassifier\",\"DecisionTree\",\"KNN\",\"TensorFlowLinearClassifier\",\"SVM\"],\"auto_blacklist\":true,\"blacklist_samples_reached\":false,\"exclude_nan_labels\":true,\"verbosity\":20,\"_debug_log\":\"azureml_automl.log\",\"show_warnings\":false,\"model_explainability\":true,\"service_url\":null,\"sdk_url\":null,\"sdk_packages\":null,\"enable_onnx_compatible_models\":false,\"enable_split_onnx_featurizer_estimator_models\":false,\"vm_type\":\"STANDARD_D2_V2\",\"telemetry_verbosity\":20,\"send_telemetry\":true,\"enable_dnn\":false,\"scenario\":\"SDK-1.13.0\",\"environment_label\":null,\"force_text_dnn\":false,\"enable_feature_sweeping\":true,\"enable_early_stopping\":true,\"early_stopping_n_iters\":10,\"metrics\":null,\"enable_ensembling\":true,\"enable_stack_ensembling\":true,\"ensemble_iterations\":15,\"enable_tf\":false,\"enable_subsampling\":null,\"subsample_seed\":null,\"enable_nimbusml\":false,\"enable_streaming\":false,\"force_streaming\":false,\"track_child_runs\":true,\"allowed_private_models\":[],\"label_column_name\":\"DEATH_EVENT\",\"weight_column_name\":null,\"cv_split_column_names\":null,\"enable_local_managed\":false,\"_local_managed_run_id\":null,\"cost_mode\":1,\"lag_length\":0,\"metric_operation\":\"maximize\",\"preprocess\":true}',\n  'DataPrepJsonString': '{\\\\\"training_data\\\\\": \\\\\"{\\\\\\\\\\\\\"blocks\\\\\\\\\\\\\": [{\\\\\\\\\\\\\"id\\\\\\\\\\\\\": \\\\\\\\\\\\\"f415d3ef-2d42-49ef-9069-64a4be292ace\\\\\\\\\\\\\", \\\\\\\\\\\\\"type\\\\\\\\\\\\\": \\\\\\\\\\\\\"Microsoft.DPrep.GetDatastoreFilesBlock\\\\\\\\\\\\\", \\\\\\\\\\\\\"arguments\\\\\\\\\\\\\": {\\\\\\\\\\\\\"datastores\\\\\\\\\\\\\": [{\\\\\\\\\\\\\"datastoreName\\\\\\\\\\\\\": \\\\\\\\\\\\\"workspaceblobstore\\\\\\\\\\\\\", \\\\\\\\\\\\\"path\\\\\\\\\\\\\": \\\\\\\\\\\\\"UI/02-13-2021_060759_UTC/heart_failure_clinical_records_dataset.csv\\\\\\\\\\\\\", \\\\\\\\\\\\\"resourceGroup\\\\\\\\\\\\\": \\\\\\\\\\\\\"aml-quickstarts-138827\\\\\\\\\\\\\", \\\\\\\\\\\\\"subscription\\\\\\\\\\\\\": \\\\\\\\\\\\\"2c48c51c-bd47-40d4-abbe-fb8eabd19c8c\\\\\\\\\\\\\", \\\\\\\\\\\\\"workspaceName\\\\\\\\\\\\\": \\\\\\\\\\\\\"quick-starts-ws-138827\\\\\\\\\\\\\"}]}, \\\\\\\\\\\\\"localData\\\\\\\\\\\\\": {}, \\\\\\\\\\\\\"isEnabled\\\\\\\\\\\\\": true, \\\\\\\\\\\\\"name\\\\\\\\\\\\\": null, \\\\\\\\\\\\\"annotation\\\\\\\\\\\\\": null}, {\\\\\\\\\\\\\"id\\\\\\\\\\\\\": \\\\\\\\\\\\\"b6bffeb7-97dd-4746-a0b3-40040169e274\\\\\\\\\\\\\", \\\\\\\\\\\\\"type\\\\\\\\\\\\\": \\\\\\\\\\\\\"Microsoft.DPrep.ParseDelimitedBlock\\\\\\\\\\\\\", \\\\\\\\\\\\\"arguments\\\\\\\\\\\\\": {\\\\\\\\\\\\\"columnHeadersMode\\\\\\\\\\\\\": 3, \\\\\\\\\\\\\"fileEncoding\\\\\\\\\\\\\": 0, \\\\\\\\\\\\\"handleQuotedLineBreaks\\\\\\\\\\\\\": false, \\\\\\\\\\\\\"preview\\\\\\\\\\\\\": false, \\\\\\\\\\\\\"separator\\\\\\\\\\\\\": \\\\\\\\\\\\\",\\\\\\\\\\\\\", \\\\\\\\\\\\\"skipRows\\\\\\\\\\\\\": 0, \\\\\\\\\\\\\"skipRowsMode\\\\\\\\\\\\\": 0}, \\\\\\\\\\\\\"localData\\\\\\\\\\\\\": {}, \\\\\\\\\\\\\"isEnabled\\\\\\\\\\\\\": true, \\\\\\\\\\\\\"name\\\\\\\\\\\\\": null, \\\\\\\\\\\\\"annotation\\\\\\\\\\\\\": null}, {\\\\\\\\\\\\\"id\\\\\\\\\\\\\": \\\\\\\\\\\\\"d0a49bff-fd12-4e5e-ab6e-07de87b246b8\\\\\\\\\\\\\", \\\\\\\\\\\\\"type\\\\\\\\\\\\\": \\\\\\\\\\\\\"Microsoft.DPrep.DropColumnsBlock\\\\\\\\\\\\\", \\\\\\\\\\\\\"arguments\\\\\\\\\\\\\": {\\\\\\\\\\\\\"columns\\\\\\\\\\\\\": {\\\\\\\\\\\\\"type\\\\\\\\\\\\\": 0, \\\\\\\\\\\\\"details\\\\\\\\\\\\\": {\\\\\\\\\\\\\"selectedColumns\\\\\\\\\\\\\": [\\\\\\\\\\\\\"Path\\\\\\\\\\\\\"]}}}, \\\\\\\\\\\\\"localData\\\\\\\\\\\\\": {}, \\\\\\\\\\\\\"isEnabled\\\\\\\\\\\\\": true, \\\\\\\\\\\\\"name\\\\\\\\\\\\\": null, \\\\\\\\\\\\\"annotation\\\\\\\\\\\\\": null}, {\\\\\\\\\\\\\"id\\\\\\\\\\\\\": \\\\\\\\\\\\\"784dd110-daff-4f13-b7e0-688bfb934997\\\\\\\\\\\\\", \\\\\\\\\\\\\"type\\\\\\\\\\\\\": \\\\\\\\\\\\\"Microsoft.DPrep.SetColumnTypesBlock\\\\\\\\\\\\\", \\\\\\\\\\\\\"arguments\\\\\\\\\\\\\": {\\\\\\\\\\\\\"columnConversion\\\\\\\\\\\\\": [{\\\\\\\\\\\\\"column\\\\\\\\\\\\\": {\\\\\\\\\\\\\"type\\\\\\\\\\\\\": 2, \\\\\\\\\\\\\"details\\\\\\\\\\\\\": {\\\\\\\\\\\\\"selectedColumn\\\\\\\\\\\\\": \\\\\\\\\\\\\"Path\\\\\\\\\\\\\"}}, \\\\\\\\\\\\\"typeProperty\\\\\\\\\\\\\": 0}, {\\\\\\\\\\\\\"column\\\\\\\\\\\\\": {\\\\\\\\\\\\\"type\\\\\\\\\\\\\": 2, \\\\\\\\\\\\\"details\\\\\\\\\\\\\": {\\\\\\\\\\\\\"selectedColumn\\\\\\\\\\\\\": \\\\\\\\\\\\\"age\\\\\\\\\\\\\"}}, \\\\\\\\\\\\\"typeProperty\\\\\\\\\\\\\": 3}, {\\\\\\\\\\\\\"column\\\\\\\\\\\\\": {\\\\\\\\\\\\\"type\\\\\\\\\\\\\": 2, \\\\\\\\\\\\\"details\\\\\\\\\\\\\": {\\\\\\\\\\\\\"selectedColumn\\\\\\\\\\\\\": \\\\\\\\\\\\\"anaemia\\\\\\\\\\\\\"}}, \\\\\\\\\\\\\"typeProperty\\\\\\\\\\\\\": 2}, {\\\\\\\\\\\\\"column\\\\\\\\\\\\\": {\\\\\\\\\\\\\"type\\\\\\\\\\\\\": 2, \\\\\\\\\\\\\"details\\\\\\\\\\\\\": {\\\\\\\\\\\\\"selectedColumn\\\\\\\\\\\\\": \\\\\\\\\\\\\"creatinine_phosphokinase\\\\\\\\\\\\\"}}, \\\\\\\\\\\\\"typeProperty\\\\\\\\\\\\\": 2}, {\\\\\\\\\\\\\"column\\\\\\\\\\\\\": {\\\\\\\\\\\\\"type\\\\\\\\\\\\\": 2, \\\\\\\\\\\\\"details\\\\\\\\\\\\\": {\\\\\\\\\\\\\"selectedColumn\\\\\\\\\\\\\": \\\\\\\\\\\\\"diabetes\\\\\\\\\\\\\"}}, \\\\\\\\\\\\\"typeProperty\\\\\\\\\\\\\": 2}, {\\\\\\\\\\\\\"column\\\\\\\\\\\\\": {\\\\\\\\\\\\\"type\\\\\\\\\\\\\": 2, \\\\\\\\\\\\\"details\\\\\\\\\\\\\": {\\\\\\\\\\\\\"selectedColumn\\\\\\\\\\\\\": \\\\\\\\\\\\\"ejection_fraction\\\\\\\\\\\\\"}}, \\\\\\\\\\\\\"typeProperty\\\\\\\\\\\\\": 2}, {\\\\\\\\\\\\\"column\\\\\\\\\\\\\": {\\\\\\\\\\\\\"type\\\\\\\\\\\\\": 2, \\\\\\\\\\\\\"details\\\\\\\\\\\\\": {\\\\\\\\\\\\\"selectedColumn\\\\\\\\\\\\\": \\\\\\\\\\\\\"high_blood_pressure\\\\\\\\\\\\\"}}, \\\\\\\\\\\\\"typeProperty\\\\\\\\\\\\\": 2}, {\\\\\\\\\\\\\"column\\\\\\\\\\\\\": {\\\\\\\\\\\\\"type\\\\\\\\\\\\\": 2, \\\\\\\\\\\\\"details\\\\\\\\\\\\\": {\\\\\\\\\\\\\"selectedColumn\\\\\\\\\\\\\": \\\\\\\\\\\\\"platelets\\\\\\\\\\\\\"}}, \\\\\\\\\\\\\"typeProperty\\\\\\\\\\\\\": 3}, {\\\\\\\\\\\\\"column\\\\\\\\\\\\\": {\\\\\\\\\\\\\"type\\\\\\\\\\\\\": 2, \\\\\\\\\\\\\"details\\\\\\\\\\\\\": {\\\\\\\\\\\\\"selectedColumn\\\\\\\\\\\\\": \\\\\\\\\\\\\"serum_creatinine\\\\\\\\\\\\\"}}, \\\\\\\\\\\\\"typeProperty\\\\\\\\\\\\\": 3}, {\\\\\\\\\\\\\"column\\\\\\\\\\\\\": {\\\\\\\\\\\\\"type\\\\\\\\\\\\\": 2, \\\\\\\\\\\\\"details\\\\\\\\\\\\\": {\\\\\\\\\\\\\"selectedColumn\\\\\\\\\\\\\": \\\\\\\\\\\\\"serum_sodium\\\\\\\\\\\\\"}}, \\\\\\\\\\\\\"typeProperty\\\\\\\\\\\\\": 2}, {\\\\\\\\\\\\\"column\\\\\\\\\\\\\": {\\\\\\\\\\\\\"type\\\\\\\\\\\\\": 2, \\\\\\\\\\\\\"details\\\\\\\\\\\\\": {\\\\\\\\\\\\\"selectedColumn\\\\\\\\\\\\\": \\\\\\\\\\\\\"sex\\\\\\\\\\\\\"}}, \\\\\\\\\\\\\"typeProperty\\\\\\\\\\\\\": 2}, {\\\\\\\\\\\\\"column\\\\\\\\\\\\\": {\\\\\\\\\\\\\"type\\\\\\\\\\\\\": 2, \\\\\\\\\\\\\"details\\\\\\\\\\\\\": {\\\\\\\\\\\\\"selectedColumn\\\\\\\\\\\\\": \\\\\\\\\\\\\"smoking\\\\\\\\\\\\\"}}, \\\\\\\\\\\\\"typeProperty\\\\\\\\\\\\\": 2}, {\\\\\\\\\\\\\"column\\\\\\\\\\\\\": {\\\\\\\\\\\\\"type\\\\\\\\\\\\\": 2, \\\\\\\\\\\\\"details\\\\\\\\\\\\\": {\\\\\\\\\\\\\"selectedColumn\\\\\\\\\\\\\": \\\\\\\\\\\\\"time\\\\\\\\\\\\\"}}, \\\\\\\\\\\\\"typeProperty\\\\\\\\\\\\\": 2}, {\\\\\\\\\\\\\"column\\\\\\\\\\\\\": {\\\\\\\\\\\\\"type\\\\\\\\\\\\\": 2, \\\\\\\\\\\\\"details\\\\\\\\\\\\\": {\\\\\\\\\\\\\"selectedColumn\\\\\\\\\\\\\": \\\\\\\\\\\\\"DEATH_EVENT\\\\\\\\\\\\\"}}, \\\\\\\\\\\\\"typeProperty\\\\\\\\\\\\\": 2}]}, \\\\\\\\\\\\\"localData\\\\\\\\\\\\\": {}, \\\\\\\\\\\\\"isEnabled\\\\\\\\\\\\\": true, \\\\\\\\\\\\\"name\\\\\\\\\\\\\": null, \\\\\\\\\\\\\"annotation\\\\\\\\\\\\\": null}], \\\\\\\\\\\\\"inspectors\\\\\\\\\\\\\": [], \\\\\\\\\\\\\"meta\\\\\\\\\\\\\": {\\\\\\\\\\\\\"savedDatasetId\\\\\\\\\\\\\": \\\\\\\\\\\\\"ada8eacd-f4ad-4d51-8b17-50ba9c048345\\\\\\\\\\\\\", \\\\\\\\\\\\\"datasetType\\\\\\\\\\\\\": \\\\\\\\\\\\\"tabular\\\\\\\\\\\\\", \\\\\\\\\\\\\"subscriptionId\\\\\\\\\\\\\": \\\\\\\\\\\\\"2c48c51c-bd47-40d4-abbe-fb8eabd19c8c\\\\\\\\\\\\\", \\\\\\\\\\\\\"workspaceId\\\\\\\\\\\\\": \\\\\\\\\\\\\"771ddf48-2995-47fd-ab67-aa93109574a2\\\\\\\\\\\\\", \\\\\\\\\\\\\"workspaceLocation\\\\\\\\\\\\\": \\\\\\\\\\\\\"southcentralus\\\\\\\\\\\\\"}}\\\\\", \\\\\"activities\\\\\": 0}',\n  'EnableSubsampling': None,\n  'runTemplate': 'AutoML',\n  'azureml.runsource': 'automl',\n  'display_task_type': 'classification',\n  'dependencies_versions': '{\"azureml-widgets\": \"1.20.0\", \"azureml-train\": \"1.20.0\", \"azureml-train-restclients-hyperdrive\": \"1.20.0\", \"azureml-train-core\": \"1.20.0\", \"azureml-train-automl\": \"1.20.0\", \"azureml-train-automl-runtime\": \"1.20.0\", \"azureml-train-automl-client\": \"1.20.0\", \"azureml-tensorboard\": \"1.20.0\", \"azureml-telemetry\": \"1.20.0\", \"azureml-sdk\": \"1.20.0\", \"azureml-samples\": \"0+unknown\", \"azureml-pipeline\": \"1.20.0\", \"azureml-pipeline-steps\": \"1.20.0\", \"azureml-pipeline-core\": \"1.20.0\", \"azureml-opendatasets\": \"1.20.0\", \"azureml-model-management-sdk\": \"1.0.1b6.post1\", \"azureml-mlflow\": \"1.20.0.post1\", \"azureml-interpret\": \"1.20.0\", \"azureml-explain-model\": \"1.20.0\", \"azureml-defaults\": \"1.20.0\", \"azureml-dataset-runtime\": \"1.20.0\", \"azureml-dataprep\": \"2.7.3\", \"azureml-dataprep-rslex\": \"1.5.0\", \"azureml-dataprep-native\": \"27.0.0\", \"azureml-datadrift\": \"1.20.0\", \"azureml-core\": \"1.20.0\", \"azureml-contrib-services\": \"1.20.0\", \"azureml-contrib-server\": \"1.20.0\", \"azureml-contrib-reinforcementlearning\": \"1.20.0\", \"azureml-contrib-pipeline-steps\": \"1.20.0\", \"azureml-contrib-notebook\": \"1.20.0\", \"azureml-contrib-interpret\": \"1.20.0\", \"azureml-contrib-gbdt\": \"1.20.0\", \"azureml-contrib-fairness\": \"1.20.0\", \"azureml-contrib-dataset\": \"1.20.0\", \"azureml-cli-common\": \"1.20.0\", \"azureml-automl-runtime\": \"1.20.0\", \"azureml-automl-core\": \"1.20.0\", \"azureml-accel-models\": \"1.20.0\"}',\n  '_aml_system_scenario_identification': 'Remote.Parent',\n  'ClientType': 'SDK',\n  'environment_cpu_name': 'AzureML-AutoML',\n  'environment_cpu_label': 'prod',\n  'environment_gpu_name': 'AzureML-AutoML-GPU',\n  'environment_gpu_label': 'prod',\n  'root_attribution': 'automl',\n  'attribution': 'AutoML',\n  'Orchestrator': 'AutoML',\n  'CancelUri': 'https://southcentralus.experiments.azureml.net/jasmine/v1.0/subscriptions/2c48c51c-bd47-40d4-abbe-fb8eabd19c8c/resourceGroups/aml-quickstarts-138827/providers/Microsoft.MachineLearningServices/workspaces/quick-starts-ws-138827/experimentids/a253244f-1333-497f-b22b-4705ee12b012/cancel/AutoML_836ef666-532b-411f-9d9d-b75ea98a5595',\n  'ClientSdkVersion': '1.21.0',\n  'snapshotId': '00000000-0000-0000-0000-000000000000',\n  'SetupRunId': 'AutoML_836ef666-532b-411f-9d9d-b75ea98a5595_setup',\n  'SetupRunContainerId': 'dcid.AutoML_836ef666-532b-411f-9d9d-b75ea98a5595_setup',\n  'FeaturizationRunJsonPath': 'featurizer_container.json',\n  'FeaturizationRunId': 'AutoML_836ef666-532b-411f-9d9d-b75ea98a5595_featurize',\n  'ProblemInfoJsonString': '{\"dataset_num_categorical\": 0, \"is_sparse\": false, \"subsampling\": false, \"dataset_classes\": 2, \"dataset_features\": 12, \"dataset_samples\": 299, \"single_frequency_class_detected\": false}',\n  'ModelExplainRunId': 'AutoML_836ef666-532b-411f-9d9d-b75ea98a5595_ModelExplain'},\n 'inputDatasets': [{'dataset': {'id': 'ada8eacd-f4ad-4d51-8b17-50ba9c048345'}, 'consumptionDetails': {'type': 'RunInput', 'inputName': 'training_data', 'mechanism': 'Direct'}}],\n 'outputDatasets': [],\n 'logFiles': {},\n 'submittedBy': 'ODL_User 138827'}"
          },
          "metadata": {}
        }
      ],
      "execution_count": 14,
      "metadata": {
        "gather": {
          "logged": 1613242506697
        },
        "jupyter": {
          "outputs_hidden": false,
          "source_hidden": false
        },
        "nteract": {
          "transient": {
            "deleting": false
          }
        }
      }
    },
    {
      "cell_type": "code",
      "source": [
        "from azureml.widgets import RunDetails\n",
        "RunDetails(remote_run).show()"
      ],
      "outputs": [
        {
          "output_type": "display_data",
          "data": {
            "text/plain": "_AutoMLWidget(widget_settings={'childWidgetDisplay': 'popup', 'send_telemetry': False, 'log_level': 'INFO', 's…",
            "application/vnd.jupyter.widget-view+json": {
              "version_major": 2,
              "version_minor": 0,
              "model_id": "f6c62d03a31243038e3257c7d45d37ef"
            }
          },
          "metadata": {}
        },
        {
          "output_type": "display_data",
          "data": {
            "application/aml.mini.widget.v1": "{\"status\": \"Completed\", \"workbench_run_details_uri\": \"https://ml.azure.com/experiments/Azure_Capstone_Automl/runs/AutoML_836ef666-532b-411f-9d9d-b75ea98a5595?wsid=/subscriptions/2c48c51c-bd47-40d4-abbe-fb8eabd19c8c/resourcegroups/aml-quickstarts-138827/workspaces/quick-starts-ws-138827\", \"run_id\": \"AutoML_836ef666-532b-411f-9d9d-b75ea98a5595\", \"run_properties\": {\"run_id\": \"AutoML_836ef666-532b-411f-9d9d-b75ea98a5595\", \"created_utc\": \"2021-02-13T18:27:05.166303Z\", \"properties\": {\"num_iterations\": \"1000\", \"training_type\": \"TrainFull\", \"acquisition_function\": \"EI\", \"primary_metric\": \"accuracy\", \"train_split\": \"0\", \"acquisition_parameter\": \"0\", \"num_cross_validation\": null, \"target\": \"auto-ml\", \"AMLSettingsJsonString\": \"{\\\"path\\\":null,\\\"name\\\":\\\"Azure_Capstone_Automl\\\",\\\"subscription_id\\\":\\\"2c48c51c-bd47-40d4-abbe-fb8eabd19c8c\\\",\\\"resource_group\\\":\\\"aml-quickstarts-138827\\\",\\\"workspace_name\\\":\\\"quick-starts-ws-138827\\\",\\\"region\\\":\\\"southcentralus\\\",\\\"compute_target\\\":\\\"auto-ml\\\",\\\"spark_service\\\":null,\\\"azure_service\\\":\\\"remote\\\",\\\"many_models\\\":false,\\\"pipeline_fetch_max_batch_size\\\":1,\\\"iterations\\\":1000,\\\"primary_metric\\\":\\\"accuracy\\\",\\\"task_type\\\":\\\"classification\\\",\\\"data_script\\\":null,\\\"validation_size\\\":0.0,\\\"n_cross_validations\\\":null,\\\"y_min\\\":null,\\\"y_max\\\":null,\\\"num_classes\\\":null,\\\"featurization\\\":\\\"auto\\\",\\\"_ignore_package_version_incompatibilities\\\":false,\\\"is_timeseries\\\":false,\\\"max_cores_per_iteration\\\":1,\\\"max_concurrent_iterations\\\":5,\\\"iteration_timeout_minutes\\\":null,\\\"mem_in_mb\\\":null,\\\"enforce_time_on_windows\\\":false,\\\"experiment_timeout_minutes\\\":20,\\\"experiment_exit_score\\\":null,\\\"whitelist_models\\\":null,\\\"blacklist_algos\\\":[\\\"TensorFlowLinearClassifier\\\",\\\"TensorFlowDNN\\\"],\\\"supported_models\\\":[\\\"MultinomialNaiveBayes\\\",\\\"SGD\\\",\\\"LinearSVM\\\",\\\"XGBoostClassifier\\\",\\\"RandomForest\\\",\\\"TensorFlowDNN\\\",\\\"LightGBM\\\",\\\"GradientBoosting\\\",\\\"BernoulliNaiveBayes\\\",\\\"ExtremeRandomTrees\\\",\\\"LogisticRegression\\\",\\\"AveragedPerceptronClassifier\\\",\\\"DecisionTree\\\",\\\"KNN\\\",\\\"TensorFlowLinearClassifier\\\",\\\"SVM\\\"],\\\"auto_blacklist\\\":true,\\\"blacklist_samples_reached\\\":false,\\\"exclude_nan_labels\\\":true,\\\"verbosity\\\":20,\\\"_debug_log\\\":\\\"azureml_automl.log\\\",\\\"show_warnings\\\":false,\\\"model_explainability\\\":true,\\\"service_url\\\":null,\\\"sdk_url\\\":null,\\\"sdk_packages\\\":null,\\\"enable_onnx_compatible_models\\\":false,\\\"enable_split_onnx_featurizer_estimator_models\\\":false,\\\"vm_type\\\":\\\"STANDARD_D2_V2\\\",\\\"telemetry_verbosity\\\":20,\\\"send_telemetry\\\":true,\\\"enable_dnn\\\":false,\\\"scenario\\\":\\\"SDK-1.13.0\\\",\\\"environment_label\\\":null,\\\"force_text_dnn\\\":false,\\\"enable_feature_sweeping\\\":true,\\\"enable_early_stopping\\\":true,\\\"early_stopping_n_iters\\\":10,\\\"metrics\\\":null,\\\"enable_ensembling\\\":true,\\\"enable_stack_ensembling\\\":true,\\\"ensemble_iterations\\\":15,\\\"enable_tf\\\":false,\\\"enable_subsampling\\\":null,\\\"subsample_seed\\\":null,\\\"enable_nimbusml\\\":false,\\\"enable_streaming\\\":false,\\\"force_streaming\\\":false,\\\"track_child_runs\\\":true,\\\"allowed_private_models\\\":[],\\\"label_column_name\\\":\\\"DEATH_EVENT\\\",\\\"weight_column_name\\\":null,\\\"cv_split_column_names\\\":null,\\\"enable_local_managed\\\":false,\\\"_local_managed_run_id\\\":null,\\\"cost_mode\\\":1,\\\"lag_length\\\":0,\\\"metric_operation\\\":\\\"maximize\\\",\\\"preprocess\\\":true}\", \"DataPrepJsonString\": \"{\\\\\\\"training_data\\\\\\\": \\\\\\\"{\\\\\\\\\\\\\\\"blocks\\\\\\\\\\\\\\\": [{\\\\\\\\\\\\\\\"id\\\\\\\\\\\\\\\": \\\\\\\\\\\\\\\"f415d3ef-2d42-49ef-9069-64a4be292ace\\\\\\\\\\\\\\\", \\\\\\\\\\\\\\\"type\\\\\\\\\\\\\\\": \\\\\\\\\\\\\\\"Microsoft.DPrep.GetDatastoreFilesBlock\\\\\\\\\\\\\\\", \\\\\\\\\\\\\\\"arguments\\\\\\\\\\\\\\\": {\\\\\\\\\\\\\\\"datastores\\\\\\\\\\\\\\\": [{\\\\\\\\\\\\\\\"datastoreName\\\\\\\\\\\\\\\": \\\\\\\\\\\\\\\"workspaceblobstore\\\\\\\\\\\\\\\", \\\\\\\\\\\\\\\"path\\\\\\\\\\\\\\\": \\\\\\\\\\\\\\\"UI/02-13-2021_060759_UTC/heart_failure_clinical_records_dataset.csv\\\\\\\\\\\\\\\", \\\\\\\\\\\\\\\"resourceGroup\\\\\\\\\\\\\\\": \\\\\\\\\\\\\\\"aml-quickstarts-138827\\\\\\\\\\\\\\\", \\\\\\\\\\\\\\\"subscription\\\\\\\\\\\\\\\": \\\\\\\\\\\\\\\"2c48c51c-bd47-40d4-abbe-fb8eabd19c8c\\\\\\\\\\\\\\\", \\\\\\\\\\\\\\\"workspaceName\\\\\\\\\\\\\\\": \\\\\\\\\\\\\\\"quick-starts-ws-138827\\\\\\\\\\\\\\\"}]}, \\\\\\\\\\\\\\\"localData\\\\\\\\\\\\\\\": {}, \\\\\\\\\\\\\\\"isEnabled\\\\\\\\\\\\\\\": true, \\\\\\\\\\\\\\\"name\\\\\\\\\\\\\\\": null, \\\\\\\\\\\\\\\"annotation\\\\\\\\\\\\\\\": null}, {\\\\\\\\\\\\\\\"id\\\\\\\\\\\\\\\": \\\\\\\\\\\\\\\"b6bffeb7-97dd-4746-a0b3-40040169e274\\\\\\\\\\\\\\\", \\\\\\\\\\\\\\\"type\\\\\\\\\\\\\\\": \\\\\\\\\\\\\\\"Microsoft.DPrep.ParseDelimitedBlock\\\\\\\\\\\\\\\", \\\\\\\\\\\\\\\"arguments\\\\\\\\\\\\\\\": {\\\\\\\\\\\\\\\"columnHeadersMode\\\\\\\\\\\\\\\": 3, \\\\\\\\\\\\\\\"fileEncoding\\\\\\\\\\\\\\\": 0, \\\\\\\\\\\\\\\"handleQuotedLineBreaks\\\\\\\\\\\\\\\": false, \\\\\\\\\\\\\\\"preview\\\\\\\\\\\\\\\": false, \\\\\\\\\\\\\\\"separator\\\\\\\\\\\\\\\": \\\\\\\\\\\\\\\",\\\\\\\\\\\\\\\", \\\\\\\\\\\\\\\"skipRows\\\\\\\\\\\\\\\": 0, \\\\\\\\\\\\\\\"skipRowsMode\\\\\\\\\\\\\\\": 0}, \\\\\\\\\\\\\\\"localData\\\\\\\\\\\\\\\": {}, \\\\\\\\\\\\\\\"isEnabled\\\\\\\\\\\\\\\": true, \\\\\\\\\\\\\\\"name\\\\\\\\\\\\\\\": null, \\\\\\\\\\\\\\\"annotation\\\\\\\\\\\\\\\": null}, {\\\\\\\\\\\\\\\"id\\\\\\\\\\\\\\\": \\\\\\\\\\\\\\\"d0a49bff-fd12-4e5e-ab6e-07de87b246b8\\\\\\\\\\\\\\\", \\\\\\\\\\\\\\\"type\\\\\\\\\\\\\\\": \\\\\\\\\\\\\\\"Microsoft.DPrep.DropColumnsBlock\\\\\\\\\\\\\\\", \\\\\\\\\\\\\\\"arguments\\\\\\\\\\\\\\\": {\\\\\\\\\\\\\\\"columns\\\\\\\\\\\\\\\": {\\\\\\\\\\\\\\\"type\\\\\\\\\\\\\\\": 0, \\\\\\\\\\\\\\\"details\\\\\\\\\\\\\\\": {\\\\\\\\\\\\\\\"selectedColumns\\\\\\\\\\\\\\\": [\\\\\\\\\\\\\\\"Path\\\\\\\\\\\\\\\"]}}}, \\\\\\\\\\\\\\\"localData\\\\\\\\\\\\\\\": {}, \\\\\\\\\\\\\\\"isEnabled\\\\\\\\\\\\\\\": true, \\\\\\\\\\\\\\\"name\\\\\\\\\\\\\\\": null, \\\\\\\\\\\\\\\"annotation\\\\\\\\\\\\\\\": null}, {\\\\\\\\\\\\\\\"id\\\\\\\\\\\\\\\": \\\\\\\\\\\\\\\"784dd110-daff-4f13-b7e0-688bfb934997\\\\\\\\\\\\\\\", \\\\\\\\\\\\\\\"type\\\\\\\\\\\\\\\": \\\\\\\\\\\\\\\"Microsoft.DPrep.SetColumnTypesBlock\\\\\\\\\\\\\\\", \\\\\\\\\\\\\\\"arguments\\\\\\\\\\\\\\\": {\\\\\\\\\\\\\\\"columnConversion\\\\\\\\\\\\\\\": [{\\\\\\\\\\\\\\\"column\\\\\\\\\\\\\\\": {\\\\\\\\\\\\\\\"type\\\\\\\\\\\\\\\": 2, \\\\\\\\\\\\\\\"details\\\\\\\\\\\\\\\": {\\\\\\\\\\\\\\\"selectedColumn\\\\\\\\\\\\\\\": \\\\\\\\\\\\\\\"Path\\\\\\\\\\\\\\\"}}, \\\\\\\\\\\\\\\"typeProperty\\\\\\\\\\\\\\\": 0}, {\\\\\\\\\\\\\\\"column\\\\\\\\\\\\\\\": {\\\\\\\\\\\\\\\"type\\\\\\\\\\\\\\\": 2, \\\\\\\\\\\\\\\"details\\\\\\\\\\\\\\\": {\\\\\\\\\\\\\\\"selectedColumn\\\\\\\\\\\\\\\": \\\\\\\\\\\\\\\"age\\\\\\\\\\\\\\\"}}, \\\\\\\\\\\\\\\"typeProperty\\\\\\\\\\\\\\\": 3}, {\\\\\\\\\\\\\\\"column\\\\\\\\\\\\\\\": {\\\\\\\\\\\\\\\"type\\\\\\\\\\\\\\\": 2, \\\\\\\\\\\\\\\"details\\\\\\\\\\\\\\\": {\\\\\\\\\\\\\\\"selectedColumn\\\\\\\\\\\\\\\": \\\\\\\\\\\\\\\"anaemia\\\\\\\\\\\\\\\"}}, \\\\\\\\\\\\\\\"typeProperty\\\\\\\\\\\\\\\": 2}, {\\\\\\\\\\\\\\\"column\\\\\\\\\\\\\\\": {\\\\\\\\\\\\\\\"type\\\\\\\\\\\\\\\": 2, \\\\\\\\\\\\\\\"details\\\\\\\\\\\\\\\": {\\\\\\\\\\\\\\\"selectedColumn\\\\\\\\\\\\\\\": \\\\\\\\\\\\\\\"creatinine_phosphokinase\\\\\\\\\\\\\\\"}}, \\\\\\\\\\\\\\\"typeProperty\\\\\\\\\\\\\\\": 2}, {\\\\\\\\\\\\\\\"column\\\\\\\\\\\\\\\": {\\\\\\\\\\\\\\\"type\\\\\\\\\\\\\\\": 2, \\\\\\\\\\\\\\\"details\\\\\\\\\\\\\\\": {\\\\\\\\\\\\\\\"selectedColumn\\\\\\\\\\\\\\\": \\\\\\\\\\\\\\\"diabetes\\\\\\\\\\\\\\\"}}, \\\\\\\\\\\\\\\"typeProperty\\\\\\\\\\\\\\\": 2}, {\\\\\\\\\\\\\\\"column\\\\\\\\\\\\\\\": {\\\\\\\\\\\\\\\"type\\\\\\\\\\\\\\\": 2, \\\\\\\\\\\\\\\"details\\\\\\\\\\\\\\\": {\\\\\\\\\\\\\\\"selectedColumn\\\\\\\\\\\\\\\": \\\\\\\\\\\\\\\"ejection_fraction\\\\\\\\\\\\\\\"}}, \\\\\\\\\\\\\\\"typeProperty\\\\\\\\\\\\\\\": 2}, {\\\\\\\\\\\\\\\"column\\\\\\\\\\\\\\\": {\\\\\\\\\\\\\\\"type\\\\\\\\\\\\\\\": 2, \\\\\\\\\\\\\\\"details\\\\\\\\\\\\\\\": {\\\\\\\\\\\\\\\"selectedColumn\\\\\\\\\\\\\\\": \\\\\\\\\\\\\\\"high_blood_pressure\\\\\\\\\\\\\\\"}}, \\\\\\\\\\\\\\\"typeProperty\\\\\\\\\\\\\\\": 2}, {\\\\\\\\\\\\\\\"column\\\\\\\\\\\\\\\": {\\\\\\\\\\\\\\\"type\\\\\\\\\\\\\\\": 2, \\\\\\\\\\\\\\\"details\\\\\\\\\\\\\\\": {\\\\\\\\\\\\\\\"selectedColumn\\\\\\\\\\\\\\\": \\\\\\\\\\\\\\\"platelets\\\\\\\\\\\\\\\"}}, \\\\\\\\\\\\\\\"typeProperty\\\\\\\\\\\\\\\": 3}, {\\\\\\\\\\\\\\\"column\\\\\\\\\\\\\\\": {\\\\\\\\\\\\\\\"type\\\\\\\\\\\\\\\": 2, \\\\\\\\\\\\\\\"details\\\\\\\\\\\\\\\": {\\\\\\\\\\\\\\\"selectedColumn\\\\\\\\\\\\\\\": \\\\\\\\\\\\\\\"serum_creatinine\\\\\\\\\\\\\\\"}}, \\\\\\\\\\\\\\\"typeProperty\\\\\\\\\\\\\\\": 3}, {\\\\\\\\\\\\\\\"column\\\\\\\\\\\\\\\": {\\\\\\\\\\\\\\\"type\\\\\\\\\\\\\\\": 2, \\\\\\\\\\\\\\\"details\\\\\\\\\\\\\\\": {\\\\\\\\\\\\\\\"selectedColumn\\\\\\\\\\\\\\\": \\\\\\\\\\\\\\\"serum_sodium\\\\\\\\\\\\\\\"}}, \\\\\\\\\\\\\\\"typeProperty\\\\\\\\\\\\\\\": 2}, {\\\\\\\\\\\\\\\"column\\\\\\\\\\\\\\\": {\\\\\\\\\\\\\\\"type\\\\\\\\\\\\\\\": 2, \\\\\\\\\\\\\\\"details\\\\\\\\\\\\\\\": {\\\\\\\\\\\\\\\"selectedColumn\\\\\\\\\\\\\\\": \\\\\\\\\\\\\\\"sex\\\\\\\\\\\\\\\"}}, \\\\\\\\\\\\\\\"typeProperty\\\\\\\\\\\\\\\": 2}, {\\\\\\\\\\\\\\\"column\\\\\\\\\\\\\\\": {\\\\\\\\\\\\\\\"type\\\\\\\\\\\\\\\": 2, \\\\\\\\\\\\\\\"details\\\\\\\\\\\\\\\": {\\\\\\\\\\\\\\\"selectedColumn\\\\\\\\\\\\\\\": \\\\\\\\\\\\\\\"smoking\\\\\\\\\\\\\\\"}}, \\\\\\\\\\\\\\\"typeProperty\\\\\\\\\\\\\\\": 2}, {\\\\\\\\\\\\\\\"column\\\\\\\\\\\\\\\": {\\\\\\\\\\\\\\\"type\\\\\\\\\\\\\\\": 2, \\\\\\\\\\\\\\\"details\\\\\\\\\\\\\\\": {\\\\\\\\\\\\\\\"selectedColumn\\\\\\\\\\\\\\\": \\\\\\\\\\\\\\\"time\\\\\\\\\\\\\\\"}}, \\\\\\\\\\\\\\\"typeProperty\\\\\\\\\\\\\\\": 2}, {\\\\\\\\\\\\\\\"column\\\\\\\\\\\\\\\": {\\\\\\\\\\\\\\\"type\\\\\\\\\\\\\\\": 2, \\\\\\\\\\\\\\\"details\\\\\\\\\\\\\\\": {\\\\\\\\\\\\\\\"selectedColumn\\\\\\\\\\\\\\\": \\\\\\\\\\\\\\\"DEATH_EVENT\\\\\\\\\\\\\\\"}}, \\\\\\\\\\\\\\\"typeProperty\\\\\\\\\\\\\\\": 2}]}, \\\\\\\\\\\\\\\"localData\\\\\\\\\\\\\\\": {}, \\\\\\\\\\\\\\\"isEnabled\\\\\\\\\\\\\\\": true, \\\\\\\\\\\\\\\"name\\\\\\\\\\\\\\\": null, \\\\\\\\\\\\\\\"annotation\\\\\\\\\\\\\\\": null}], \\\\\\\\\\\\\\\"inspectors\\\\\\\\\\\\\\\": [], \\\\\\\\\\\\\\\"meta\\\\\\\\\\\\\\\": {\\\\\\\\\\\\\\\"savedDatasetId\\\\\\\\\\\\\\\": \\\\\\\\\\\\\\\"ada8eacd-f4ad-4d51-8b17-50ba9c048345\\\\\\\\\\\\\\\", \\\\\\\\\\\\\\\"datasetType\\\\\\\\\\\\\\\": \\\\\\\\\\\\\\\"tabular\\\\\\\\\\\\\\\", \\\\\\\\\\\\\\\"subscriptionId\\\\\\\\\\\\\\\": \\\\\\\\\\\\\\\"2c48c51c-bd47-40d4-abbe-fb8eabd19c8c\\\\\\\\\\\\\\\", \\\\\\\\\\\\\\\"workspaceId\\\\\\\\\\\\\\\": \\\\\\\\\\\\\\\"771ddf48-2995-47fd-ab67-aa93109574a2\\\\\\\\\\\\\\\", \\\\\\\\\\\\\\\"workspaceLocation\\\\\\\\\\\\\\\": \\\\\\\\\\\\\\\"southcentralus\\\\\\\\\\\\\\\"}}\\\\\\\", \\\\\\\"activities\\\\\\\": 0}\", \"EnableSubsampling\": null, \"runTemplate\": \"AutoML\", \"azureml.runsource\": \"automl\", \"display_task_type\": \"classification\", \"dependencies_versions\": \"{\\\"azureml-widgets\\\": \\\"1.20.0\\\", \\\"azureml-train\\\": \\\"1.20.0\\\", \\\"azureml-train-restclients-hyperdrive\\\": \\\"1.20.0\\\", \\\"azureml-train-core\\\": \\\"1.20.0\\\", \\\"azureml-train-automl\\\": \\\"1.20.0\\\", \\\"azureml-train-automl-runtime\\\": \\\"1.20.0\\\", \\\"azureml-train-automl-client\\\": \\\"1.20.0\\\", \\\"azureml-tensorboard\\\": \\\"1.20.0\\\", \\\"azureml-telemetry\\\": \\\"1.20.0\\\", \\\"azureml-sdk\\\": \\\"1.20.0\\\", \\\"azureml-samples\\\": \\\"0+unknown\\\", \\\"azureml-pipeline\\\": \\\"1.20.0\\\", \\\"azureml-pipeline-steps\\\": \\\"1.20.0\\\", \\\"azureml-pipeline-core\\\": \\\"1.20.0\\\", \\\"azureml-opendatasets\\\": \\\"1.20.0\\\", \\\"azureml-model-management-sdk\\\": \\\"1.0.1b6.post1\\\", \\\"azureml-mlflow\\\": \\\"1.20.0.post1\\\", \\\"azureml-interpret\\\": \\\"1.20.0\\\", \\\"azureml-explain-model\\\": \\\"1.20.0\\\", \\\"azureml-defaults\\\": \\\"1.20.0\\\", \\\"azureml-dataset-runtime\\\": \\\"1.20.0\\\", \\\"azureml-dataprep\\\": \\\"2.7.3\\\", \\\"azureml-dataprep-rslex\\\": \\\"1.5.0\\\", \\\"azureml-dataprep-native\\\": \\\"27.0.0\\\", \\\"azureml-datadrift\\\": \\\"1.20.0\\\", \\\"azureml-core\\\": \\\"1.20.0\\\", \\\"azureml-contrib-services\\\": \\\"1.20.0\\\", \\\"azureml-contrib-server\\\": \\\"1.20.0\\\", \\\"azureml-contrib-reinforcementlearning\\\": \\\"1.20.0\\\", \\\"azureml-contrib-pipeline-steps\\\": \\\"1.20.0\\\", \\\"azureml-contrib-notebook\\\": \\\"1.20.0\\\", \\\"azureml-contrib-interpret\\\": \\\"1.20.0\\\", \\\"azureml-contrib-gbdt\\\": \\\"1.20.0\\\", \\\"azureml-contrib-fairness\\\": \\\"1.20.0\\\", \\\"azureml-contrib-dataset\\\": \\\"1.20.0\\\", \\\"azureml-cli-common\\\": \\\"1.20.0\\\", \\\"azureml-automl-runtime\\\": \\\"1.20.0\\\", \\\"azureml-automl-core\\\": \\\"1.20.0\\\", \\\"azureml-accel-models\\\": \\\"1.20.0\\\"}\", \"_aml_system_scenario_identification\": \"Remote.Parent\", \"ClientType\": \"SDK\", \"environment_cpu_name\": \"AzureML-AutoML\", \"environment_cpu_label\": \"prod\", \"environment_gpu_name\": \"AzureML-AutoML-GPU\", \"environment_gpu_label\": \"prod\", \"root_attribution\": \"automl\", \"attribution\": \"AutoML\", \"Orchestrator\": \"AutoML\", \"CancelUri\": \"https://southcentralus.experiments.azureml.net/jasmine/v1.0/subscriptions/2c48c51c-bd47-40d4-abbe-fb8eabd19c8c/resourceGroups/aml-quickstarts-138827/providers/Microsoft.MachineLearningServices/workspaces/quick-starts-ws-138827/experimentids/a253244f-1333-497f-b22b-4705ee12b012/cancel/AutoML_836ef666-532b-411f-9d9d-b75ea98a5595\", \"ClientSdkVersion\": \"1.21.0\", \"snapshotId\": \"00000000-0000-0000-0000-000000000000\", \"SetupRunId\": \"AutoML_836ef666-532b-411f-9d9d-b75ea98a5595_setup\", \"SetupRunContainerId\": \"dcid.AutoML_836ef666-532b-411f-9d9d-b75ea98a5595_setup\", \"FeaturizationRunJsonPath\": \"featurizer_container.json\", \"FeaturizationRunId\": \"AutoML_836ef666-532b-411f-9d9d-b75ea98a5595_featurize\", \"ProblemInfoJsonString\": \"{\\\"dataset_num_categorical\\\": 0, \\\"is_sparse\\\": false, \\\"subsampling\\\": false, \\\"dataset_classes\\\": 2, \\\"dataset_features\\\": 12, \\\"dataset_samples\\\": 299, \\\"single_frequency_class_detected\\\": false}\", \"ModelExplainRunId\": \"AutoML_836ef666-532b-411f-9d9d-b75ea98a5595_ModelExplain\"}, \"tags\": {\"model_explain_run\": \"best_run\", \"_aml_system_azureml.automlComponent\": \"AutoML\", \"pipeline_id\": \"\", \"score\": \"\", \"predicted_cost\": \"\", \"fit_time\": \"\", \"training_percent\": \"\", \"iteration\": \"\", \"run_preprocessor\": \"\", \"run_algorithm\": \"\", \"dynamic_whitelisting_iterations\": \"<25>;<30>;<35>;<40>;\", \"automl_best_child_run_id\": \"AutoML_836ef666-532b-411f-9d9d-b75ea98a5595_44\"}, \"end_time_utc\": \"2021-02-13T18:54:51.147232Z\", \"status\": \"Completed\", \"log_files\": {}, \"log_groups\": [], \"run_duration\": \"0:27:45\"}, \"child_runs\": [{\"run_id\": \"AutoML_836ef666-532b-411f-9d9d-b75ea98a5595_1\", \"run_number\": 6, \"metric\": null, \"status\": \"Completed\", \"run_type\": \"azureml.scriptrun\", \"training_percent\": \"100\", \"start_time\": \"2021-02-13T18:38:04.628806Z\", \"end_time\": \"2021-02-13T18:38:59.764238Z\", \"created_time\": \"2021-02-13T18:36:55.829753Z\", \"created_time_dt\": \"2021-02-13T18:36:55.829753Z\", \"duration\": \"0:02:03\", \"iteration\": \"1\", \"goal\": \"accuracy_max\", \"run_name\": \"MaxAbsScaler, XGBoostClassifier\", \"run_properties\": \"copy=True\", \"primary_metric\": 0.83586207, \"best_metric\": 0.83597701}, {\"run_id\": \"AutoML_836ef666-532b-411f-9d9d-b75ea98a5595_0\", \"run_number\": 7, \"metric\": null, \"status\": \"Completed\", \"run_type\": \"azureml.scriptrun\", \"training_percent\": \"100\", \"start_time\": \"2021-02-13T18:39:04.503146Z\", \"end_time\": \"2021-02-13T18:39:57.128779Z\", \"created_time\": \"2021-02-13T18:36:55.846082Z\", \"created_time_dt\": \"2021-02-13T18:36:55.846082Z\", \"duration\": \"0:03:01\", \"iteration\": \"0\", \"goal\": \"accuracy_max\", \"run_name\": \"MaxAbsScaler, LightGBM\", \"run_properties\": \"copy=True\", \"primary_metric\": 0.83597701, \"best_metric\": 0.83597701}, {\"run_id\": \"AutoML_836ef666-532b-411f-9d9d-b75ea98a5595_4\", \"run_number\": 8, \"metric\": null, \"status\": \"Completed\", \"run_type\": \"azureml.scriptrun\", \"training_percent\": \"100\", \"start_time\": \"2021-02-13T18:37:06.984991Z\", \"end_time\": \"2021-02-13T18:38:00.65285Z\", \"created_time\": \"2021-02-13T18:36:55.972294Z\", \"created_time_dt\": \"2021-02-13T18:36:55.972294Z\", \"duration\": \"0:01:04\", \"iteration\": \"4\", \"goal\": \"accuracy_max\", \"run_name\": \"MinMaxScaler, RandomForest\", \"run_properties\": \"copy=True, feature_range=(0, 1\", \"primary_metric\": 0.82241379, \"best_metric\": 0.85586207}, {\"run_id\": \"AutoML_836ef666-532b-411f-9d9d-b75ea98a5595_3\", \"run_number\": 9, \"metric\": null, \"status\": \"Completed\", \"run_type\": \"azureml.scriptrun\", \"training_percent\": \"100\", \"start_time\": \"2021-02-13T18:40:00.847764Z\", \"end_time\": \"2021-02-13T18:40:59.311664Z\", \"created_time\": \"2021-02-13T18:36:56.33243Z\", \"created_time_dt\": \"2021-02-13T18:36:56.33243Z\", \"duration\": \"0:04:02\", \"iteration\": \"3\", \"goal\": \"accuracy_max\", \"run_name\": \"MinMaxScaler, RandomForest\", \"run_properties\": \"copy=True, feature_range=(0, 1\", \"primary_metric\": 0.85586207, \"best_metric\": 0.85586207}, {\"run_id\": \"AutoML_836ef666-532b-411f-9d9d-b75ea98a5595_2\", \"run_number\": 10, \"metric\": null, \"status\": \"Completed\", \"run_type\": \"azureml.scriptrun\", \"training_percent\": \"100\", \"start_time\": \"2021-02-13T18:40:42.874472Z\", \"end_time\": \"2021-02-13T18:44:14.147486Z\", \"created_time\": \"2021-02-13T18:36:56.696432Z\", \"created_time_dt\": \"2021-02-13T18:36:56.696432Z\", \"duration\": \"0:07:17\", \"iteration\": \"2\", \"goal\": \"accuracy_max\", \"run_name\": \"MinMaxScaler, RandomForest\", \"run_properties\": \"copy=True, feature_range=(0, 1\", \"primary_metric\": 0.8191954, \"best_metric\": 0.83597701}, {\"run_id\": \"AutoML_836ef666-532b-411f-9d9d-b75ea98a5595_5\", \"run_number\": 11, \"metric\": null, \"status\": \"Completed\", \"run_type\": \"azureml.scriptrun\", \"training_percent\": \"100\", \"start_time\": \"2021-02-13T18:40:40.982945Z\", \"end_time\": \"2021-02-13T18:43:58.417493Z\", \"created_time\": \"2021-02-13T18:38:04.604932Z\", \"created_time_dt\": \"2021-02-13T18:38:04.604932Z\", \"duration\": \"0:05:53\", \"iteration\": \"5\", \"goal\": \"accuracy_max\", \"run_name\": \"StandardScalerWrapper, XGBoostClassifier\", \"run_properties\": \"<azureml.automl.runtime.shared.model_wrappers.StandardScalerWrapper object at 0x7f714c808c50\", \"primary_metric\": 0.84942529, \"best_metric\": 0.85586207}, {\"run_id\": \"AutoML_836ef666-532b-411f-9d9d-b75ea98a5595_6\", \"run_number\": 12, \"metric\": null, \"status\": \"Completed\", \"run_type\": \"azureml.scriptrun\", \"training_percent\": \"100\", \"start_time\": \"2021-02-13T18:40:39.13355Z\", \"end_time\": \"2021-02-13T18:44:12.38405Z\", \"created_time\": \"2021-02-13T18:39:03.047286Z\", \"created_time_dt\": \"2021-02-13T18:39:03.047286Z\", \"duration\": \"0:05:09\", \"iteration\": \"6\", \"goal\": \"accuracy_max\", \"run_name\": \"RobustScaler, LogisticRegression\", \"run_properties\": \"copy=True, quantile_range=[10, 90], with_centering=True,\\n             with_scaling=True\", \"primary_metric\": 0.82252874, \"best_metric\": 0.85586207}, {\"run_id\": \"AutoML_836ef666-532b-411f-9d9d-b75ea98a5595_7\", \"run_number\": 13, \"metric\": null, \"status\": \"Completed\", \"run_type\": \"azureml.scriptrun\", \"training_percent\": \"100\", \"start_time\": \"2021-02-13T18:41:01.361674Z\", \"end_time\": \"2021-02-13T18:41:54.607724Z\", \"created_time\": \"2021-02-13T18:40:00.367954Z\", \"created_time_dt\": \"2021-02-13T18:40:00.367954Z\", \"duration\": \"0:01:54\", \"iteration\": \"7\", \"goal\": \"accuracy_max\", \"run_name\": \"SparseNormalizer, XGBoostClassifier\", \"run_properties\": \"<azureml.automl.runtime.shared.model_wrappers.SparseNormalizer object at 0x7fdf87fc6518\", \"primary_metric\": 0.83942529, \"best_metric\": 0.85586207}, {\"run_id\": \"AutoML_836ef666-532b-411f-9d9d-b75ea98a5595_8\", \"run_number\": 14, \"metric\": null, \"status\": \"Completed\", \"run_type\": \"azureml.scriptrun\", \"training_percent\": \"100\", \"start_time\": \"2021-02-13T18:42:01.253961Z\", \"end_time\": \"2021-02-13T18:42:58.406149Z\", \"created_time\": \"2021-02-13T18:41:01.782789Z\", \"created_time_dt\": \"2021-02-13T18:41:01.782789Z\", \"duration\": \"0:01:56\", \"iteration\": \"8\", \"goal\": \"accuracy_max\", \"run_name\": \"MinMaxScaler, SVM\", \"run_properties\": \"copy=True, feature_range=(0, 1\", \"primary_metric\": 0.72252874, \"best_metric\": 0.85586207}, {\"run_id\": \"AutoML_836ef666-532b-411f-9d9d-b75ea98a5595_9\", \"run_number\": 15, \"metric\": null, \"status\": \"Completed\", \"run_type\": \"azureml.scriptrun\", \"training_percent\": \"100\", \"start_time\": \"2021-02-13T18:43:02.326069Z\", \"end_time\": \"2021-02-13T18:43:57.355665Z\", \"created_time\": \"2021-02-13T18:41:57.372429Z\", \"created_time_dt\": \"2021-02-13T18:41:57.372429Z\", \"duration\": \"0:01:59\", \"iteration\": \"9\", \"goal\": \"accuracy_max\", \"run_name\": \"SparseNormalizer, XGBoostClassifier\", \"run_properties\": \"<azureml.automl.runtime.shared.model_wrappers.SparseNormalizer object at 0x7f7eb6de3eb8\", \"primary_metric\": 0.82287356, \"best_metric\": 0.85586207}, {\"run_id\": \"AutoML_836ef666-532b-411f-9d9d-b75ea98a5595_10\", \"run_number\": 16, \"metric\": null, \"status\": \"Completed\", \"run_type\": \"azureml.scriptrun\", \"training_percent\": \"100\", \"start_time\": \"2021-02-13T18:44:01.678148Z\", \"end_time\": \"2021-02-13T18:44:51.657799Z\", \"created_time\": \"2021-02-13T18:43:01.019372Z\", \"created_time_dt\": \"2021-02-13T18:43:01.019372Z\", \"duration\": \"0:01:50\", \"iteration\": \"10\", \"goal\": \"accuracy_max\", \"run_name\": \"SparseNormalizer, XGBoostClassifier\", \"run_properties\": \"<azureml.automl.runtime.shared.model_wrappers.SparseNormalizer object at 0x7fbb73dd5438\", \"primary_metric\": 0.80931034, \"best_metric\": 0.85586207}, {\"run_id\": \"AutoML_836ef666-532b-411f-9d9d-b75ea98a5595_11\", \"run_number\": 17, \"metric\": null, \"status\": \"Completed\", \"run_type\": \"azureml.scriptrun\", \"training_percent\": \"100\", \"start_time\": \"2021-02-13T18:44:12.856723Z\", \"end_time\": \"2021-02-13T18:45:07.85325Z\", \"created_time\": \"2021-02-13T18:44:00.073524Z\", \"created_time_dt\": \"2021-02-13T18:44:00.073524Z\", \"duration\": \"0:01:07\", \"iteration\": \"11\", \"goal\": \"accuracy_max\", \"run_name\": \"MaxAbsScaler, LightGBM\", \"run_properties\": \"copy=True\", \"primary_metric\": 0.83586207, \"best_metric\": 0.85586207}, {\"run_id\": \"AutoML_836ef666-532b-411f-9d9d-b75ea98a5595_12\", \"run_number\": 18, \"metric\": null, \"status\": \"Completed\", \"run_type\": \"azureml.scriptrun\", \"training_percent\": \"100\", \"start_time\": \"2021-02-13T18:44:19.361761Z\", \"end_time\": \"2021-02-13T18:45:14.185566Z\", \"created_time\": \"2021-02-13T18:44:06.089273Z\", \"created_time_dt\": \"2021-02-13T18:44:06.089273Z\", \"duration\": \"0:01:08\", \"iteration\": \"12\", \"goal\": \"accuracy_max\", \"run_name\": \"StandardScalerWrapper, RandomForest\", \"run_properties\": \"<azureml.automl.runtime.shared.model_wrappers.StandardScalerWrapper object at 0x7f7f1e794fd0\", \"primary_metric\": 0.84287356, \"best_metric\": 0.85586207}, {\"run_id\": \"AutoML_836ef666-532b-411f-9d9d-b75ea98a5595_13\", \"run_number\": 19, \"metric\": null, \"status\": \"Completed\", \"run_type\": \"azureml.scriptrun\", \"training_percent\": \"100\", \"start_time\": \"2021-02-13T18:44:28.466106Z\", \"end_time\": \"2021-02-13T18:45:17.715024Z\", \"created_time\": \"2021-02-13T18:44:15.543908Z\", \"created_time_dt\": \"2021-02-13T18:44:15.543908Z\", \"duration\": \"0:01:02\", \"iteration\": \"13\", \"goal\": \"accuracy_max\", \"run_name\": \"RobustScaler, ExtremeRandomTrees\", \"run_properties\": \"copy=True, quantile_range=[25, 75], with_centering=True,\\n             with_scaling=False\", \"primary_metric\": 0.8562069, \"best_metric\": 0.8562069}, {\"run_id\": \"AutoML_836ef666-532b-411f-9d9d-b75ea98a5595_14\", \"run_number\": 20, \"metric\": null, \"status\": \"Completed\", \"run_type\": \"azureml.scriptrun\", \"training_percent\": \"100\", \"start_time\": \"2021-02-13T18:44:53.316118Z\", \"end_time\": \"2021-02-13T18:45:49.413119Z\", \"created_time\": \"2021-02-13T18:44:20.340026Z\", \"created_time_dt\": \"2021-02-13T18:44:20.340026Z\", \"duration\": \"0:01:29\", \"iteration\": \"14\", \"goal\": \"accuracy_max\", \"run_name\": \"MaxAbsScaler, GradientBoosting\", \"run_properties\": \"copy=True\", \"primary_metric\": 0.8391954, \"best_metric\": 0.8562069}, {\"run_id\": \"AutoML_836ef666-532b-411f-9d9d-b75ea98a5595_15\", \"run_number\": 21, \"metric\": null, \"status\": \"Completed\", \"run_type\": \"azureml.scriptrun\", \"training_percent\": \"100\", \"start_time\": \"2021-02-13T18:45:13.221313Z\", \"end_time\": \"2021-02-13T18:46:03.478661Z\", \"created_time\": \"2021-02-13T18:44:54.212774Z\", \"created_time_dt\": \"2021-02-13T18:44:54.212774Z\", \"duration\": \"0:01:09\", \"iteration\": \"15\", \"goal\": \"accuracy_max\", \"run_name\": \"RobustScaler, ExtremeRandomTrees\", \"run_properties\": \"copy=True, quantile_range=[10, 90], with_centering=True,\\n             with_scaling=False\", \"primary_metric\": 0.85597701, \"best_metric\": 0.8562069}, {\"run_id\": \"AutoML_836ef666-532b-411f-9d9d-b75ea98a5595_16\", \"run_number\": 22, \"metric\": null, \"status\": \"Completed\", \"run_type\": \"azureml.scriptrun\", \"training_percent\": \"100\", \"start_time\": \"2021-02-13T18:45:20.941494Z\", \"end_time\": \"2021-02-13T18:46:08.953049Z\", \"created_time\": \"2021-02-13T18:45:10.418392Z\", \"created_time_dt\": \"2021-02-13T18:45:10.418392Z\", \"duration\": \"0:00:58\", \"iteration\": \"16\", \"goal\": \"accuracy_max\", \"run_name\": \"MaxAbsScaler, LightGBM\", \"run_properties\": \"copy=True\", \"primary_metric\": 0.83931034, \"best_metric\": 0.8562069}, {\"run_id\": \"AutoML_836ef666-532b-411f-9d9d-b75ea98a5595_17\", \"run_number\": 23, \"metric\": null, \"status\": \"Completed\", \"run_type\": \"azureml.scriptrun\", \"training_percent\": \"100\", \"start_time\": \"2021-02-13T18:45:26.995022Z\", \"end_time\": \"2021-02-13T18:46:21.119668Z\", \"created_time\": \"2021-02-13T18:45:16.48681Z\", \"created_time_dt\": \"2021-02-13T18:45:16.48681Z\", \"duration\": \"0:01:04\", \"iteration\": \"17\", \"goal\": \"accuracy_max\", \"run_name\": \"StandardScalerWrapper, LightGBM\", \"run_properties\": \"<azureml.automl.runtime.shared.model_wrappers.StandardScalerWrapper object at 0x7f9673f88160\", \"primary_metric\": 0.85287356, \"best_metric\": 0.8562069}, {\"run_id\": \"AutoML_836ef666-532b-411f-9d9d-b75ea98a5595_18\", \"run_number\": 24, \"metric\": null, \"status\": \"Completed\", \"run_type\": \"azureml.scriptrun\", \"training_percent\": \"100\", \"start_time\": \"2021-02-13T18:45:51.45371Z\", \"end_time\": \"2021-02-13T18:46:47.458155Z\", \"created_time\": \"2021-02-13T18:45:20.581016Z\", \"created_time_dt\": \"2021-02-13T18:45:20.581016Z\", \"duration\": \"0:01:26\", \"iteration\": \"18\", \"goal\": \"accuracy_max\", \"run_name\": \"MinMaxScaler, LightGBM\", \"run_properties\": \"copy=True, feature_range=(0, 1\", \"primary_metric\": 0.83931034, \"best_metric\": 0.8562069}, {\"run_id\": \"AutoML_836ef666-532b-411f-9d9d-b75ea98a5595_19\", \"run_number\": 25, \"metric\": null, \"status\": \"Completed\", \"run_type\": \"azureml.scriptrun\", \"training_percent\": \"100\", \"start_time\": \"2021-02-13T18:46:09.02441Z\", \"end_time\": \"2021-02-13T18:47:11.357423Z\", \"created_time\": \"2021-02-13T18:45:52.046625Z\", \"created_time_dt\": \"2021-02-13T18:45:52.046625Z\", \"duration\": \"0:01:19\", \"iteration\": \"19\", \"goal\": \"accuracy_max\", \"run_name\": \"MinMaxScaler, LightGBM\", \"run_properties\": \"copy=True, feature_range=(0, 1\", \"primary_metric\": 0.82609195, \"best_metric\": 0.8562069}, {\"run_id\": \"AutoML_836ef666-532b-411f-9d9d-b75ea98a5595_20\", \"run_number\": 26, \"metric\": null, \"status\": \"Completed\", \"run_type\": \"azureml.scriptrun\", \"training_percent\": \"100\", \"start_time\": \"2021-02-13T18:46:17.99985Z\", \"end_time\": \"2021-02-13T18:47:07.507755Z\", \"created_time\": \"2021-02-13T18:46:05.809901Z\", \"created_time_dt\": \"2021-02-13T18:46:05.809901Z\", \"duration\": \"0:01:01\", \"iteration\": \"20\", \"goal\": \"accuracy_max\", \"run_name\": \"SparseNormalizer, LightGBM\", \"run_properties\": \"<azureml.automl.runtime.shared.model_wrappers.SparseNormalizer object at 0x7fcf2c43bd30\", \"primary_metric\": 0.83287356, \"best_metric\": 0.8562069}, {\"run_id\": \"AutoML_836ef666-532b-411f-9d9d-b75ea98a5595_21\", \"run_number\": 27, \"metric\": null, \"status\": \"Completed\", \"run_type\": \"azureml.scriptrun\", \"training_percent\": \"100\", \"start_time\": \"2021-02-13T18:46:27.654693Z\", \"end_time\": \"2021-02-13T18:47:17.768951Z\", \"created_time\": \"2021-02-13T18:46:11.451418Z\", \"created_time_dt\": \"2021-02-13T18:46:11.451418Z\", \"duration\": \"0:01:06\", \"iteration\": \"21\", \"goal\": \"accuracy_max\", \"run_name\": \"StandardScalerWrapper, GradientBoosting\", \"run_properties\": \"<azureml.automl.runtime.shared.model_wrappers.StandardScalerWrapper object at 0x7f9c2e3c0908\", \"primary_metric\": 0.84275862, \"best_metric\": 0.8562069}, {\"run_id\": \"AutoML_836ef666-532b-411f-9d9d-b75ea98a5595_22\", \"run_number\": 28, \"metric\": null, \"status\": \"Completed\", \"run_type\": \"azureml.scriptrun\", \"training_percent\": \"100\", \"start_time\": \"2021-02-13T18:46:49.799718Z\", \"end_time\": \"2021-02-13T18:47:36.593731Z\", \"created_time\": \"2021-02-13T18:46:23.461144Z\", \"created_time_dt\": \"2021-02-13T18:46:23.461144Z\", \"duration\": \"0:01:13\", \"iteration\": \"22\", \"goal\": \"accuracy_max\", \"run_name\": \"MinMaxScaler, LightGBM\", \"run_properties\": \"copy=True, feature_range=(0, 1\", \"primary_metric\": 0.83609195, \"best_metric\": 0.8562069}, {\"run_id\": \"AutoML_836ef666-532b-411f-9d9d-b75ea98a5595_23\", \"run_number\": 29, \"metric\": null, \"status\": \"Completed\", \"run_type\": \"azureml.scriptrun\", \"training_percent\": \"100\", \"start_time\": \"2021-02-13T18:47:11.289874Z\", \"end_time\": \"2021-02-13T18:48:06.799519Z\", \"created_time\": \"2021-02-13T18:46:49.734266Z\", \"created_time_dt\": \"2021-02-13T18:46:49.734266Z\", \"duration\": \"0:01:17\", \"iteration\": \"23\", \"goal\": \"accuracy_max\", \"run_name\": \"StandardScalerWrapper, XGBoostClassifier\", \"run_properties\": \"<azureml.automl.runtime.shared.model_wrappers.StandardScalerWrapper object at 0x7f4241ca0400\", \"primary_metric\": 0.83942529, \"best_metric\": 0.8562069}, {\"run_id\": \"AutoML_836ef666-532b-411f-9d9d-b75ea98a5595_24\", \"run_number\": 30, \"metric\": null, \"status\": \"Completed\", \"run_type\": \"azureml.scriptrun\", \"training_percent\": \"100\", \"start_time\": \"2021-02-13T18:47:22.420167Z\", \"end_time\": \"2021-02-13T18:48:23.989017Z\", \"created_time\": \"2021-02-13T18:47:09.819177Z\", \"created_time_dt\": \"2021-02-13T18:47:09.819177Z\", \"duration\": \"0:01:14\", \"iteration\": \"24\", \"goal\": \"accuracy_max\", \"run_name\": \"MaxAbsScaler, LightGBM\", \"run_properties\": \"copy=True\", \"primary_metric\": 0.86264368, \"best_metric\": 0.86264368}, {\"run_id\": \"AutoML_836ef666-532b-411f-9d9d-b75ea98a5595_25\", \"run_number\": 31, \"metric\": null, \"status\": \"Completed\", \"run_type\": \"azureml.scriptrun\", \"training_percent\": \"100\", \"start_time\": \"2021-02-13T18:47:26.169381Z\", \"end_time\": \"2021-02-13T18:48:22.589583Z\", \"created_time\": \"2021-02-13T18:47:15.769635Z\", \"created_time_dt\": \"2021-02-13T18:47:15.769635Z\", \"duration\": \"0:01:06\", \"iteration\": \"25\", \"goal\": \"accuracy_max\", \"run_name\": \"StandardScalerWrapper, ExtremeRandomTrees\", \"run_properties\": \"<azureml.automl.runtime.shared.model_wrappers.StandardScalerWrapper object at 0x7fca577c12b0\", \"primary_metric\": 0.6791954, \"best_metric\": 0.86264368}, {\"run_id\": \"AutoML_836ef666-532b-411f-9d9d-b75ea98a5595_26\", \"run_number\": 32, \"metric\": null, \"status\": \"Completed\", \"run_type\": \"azureml.scriptrun\", \"training_percent\": \"100\", \"start_time\": \"2021-02-13T18:47:43.061146Z\", \"end_time\": \"2021-02-13T18:48:39.095816Z\", \"created_time\": \"2021-02-13T18:47:20.910378Z\", \"created_time_dt\": \"2021-02-13T18:47:20.910378Z\", \"duration\": \"0:01:18\", \"iteration\": \"26\", \"goal\": \"accuracy_max\", \"run_name\": \"SparseNormalizer, XGBoostClassifier\", \"run_properties\": \"<azureml.automl.runtime.shared.model_wrappers.SparseNormalizer object at 0x7f8f8957c828\", \"primary_metric\": 0.83643678, \"best_metric\": 0.86264368}, {\"run_id\": \"AutoML_836ef666-532b-411f-9d9d-b75ea98a5595_27\", \"run_number\": 33, \"metric\": null, \"status\": \"Completed\", \"run_type\": \"azureml.scriptrun\", \"training_percent\": \"100\", \"start_time\": \"2021-02-13T18:48:12.898784Z\", \"end_time\": \"2021-02-13T18:49:08.210483Z\", \"created_time\": \"2021-02-13T18:47:40.367373Z\", \"created_time_dt\": \"2021-02-13T18:47:40.367373Z\", \"duration\": \"0:01:27\", \"iteration\": \"27\", \"goal\": \"accuracy_max\", \"run_name\": \"StandardScalerWrapper, LightGBM\", \"run_properties\": \"<azureml.automl.runtime.shared.model_wrappers.StandardScalerWrapper object at 0x7fb818cb17b8\", \"primary_metric\": 0.83931034, \"best_metric\": 0.86264368}, {\"run_id\": \"AutoML_836ef666-532b-411f-9d9d-b75ea98a5595_28\", \"run_number\": 34, \"metric\": null, \"status\": \"Completed\", \"run_type\": \"azureml.scriptrun\", \"training_percent\": \"100\", \"start_time\": \"2021-02-13T18:48:27.125465Z\", \"end_time\": \"2021-02-13T18:49:20.491561Z\", \"created_time\": \"2021-02-13T18:48:09.974352Z\", \"created_time_dt\": \"2021-02-13T18:48:09.974352Z\", \"duration\": \"0:01:10\", \"iteration\": \"28\", \"goal\": \"accuracy_max\", \"run_name\": \"MaxAbsScaler, LightGBM\", \"run_properties\": \"copy=True\", \"primary_metric\": 0.84586207, \"best_metric\": 0.86264368}, {\"run_id\": \"AutoML_836ef666-532b-411f-9d9d-b75ea98a5595_29\", \"run_number\": 35, \"metric\": null, \"status\": \"Completed\", \"run_type\": \"azureml.scriptrun\", \"training_percent\": \"100\", \"start_time\": \"2021-02-13T18:48:38.448401Z\", \"end_time\": \"2021-02-13T18:49:37.477239Z\", \"created_time\": \"2021-02-13T18:48:25.008196Z\", \"created_time_dt\": \"2021-02-13T18:48:25.008196Z\", \"duration\": \"0:01:12\", \"iteration\": \"29\", \"goal\": \"accuracy_max\", \"run_name\": \"MaxAbsScaler, RandomForest\", \"run_properties\": \"copy=True\", \"primary_metric\": 0.81896552, \"best_metric\": 0.86264368}, {\"run_id\": \"AutoML_836ef666-532b-411f-9d9d-b75ea98a5595_30\", \"run_number\": 36, \"metric\": null, \"status\": \"Completed\", \"run_type\": \"azureml.scriptrun\", \"training_percent\": \"100\", \"start_time\": \"2021-02-13T18:48:47.245168Z\", \"end_time\": \"2021-02-13T18:49:45.485864Z\", \"created_time\": \"2021-02-13T18:48:30.88746Z\", \"created_time_dt\": \"2021-02-13T18:48:30.88746Z\", \"duration\": \"0:01:14\", \"iteration\": \"30\", \"goal\": \"accuracy_max\", \"run_name\": \"TruncatedSVDWrapper, LightGBM\", \"run_properties\": \"n_components=0.45526315789473687, random_state=None\", \"primary_metric\": 0.6791954, \"best_metric\": 0.86264368}, {\"run_id\": \"AutoML_836ef666-532b-411f-9d9d-b75ea98a5595_31\", \"run_number\": 37, \"metric\": null, \"status\": \"Completed\", \"run_type\": \"azureml.scriptrun\", \"training_percent\": \"100\", \"start_time\": \"2021-02-13T18:49:10.758388Z\", \"end_time\": \"2021-02-13T18:50:05.383382Z\", \"created_time\": \"2021-02-13T18:48:41.558547Z\", \"created_time_dt\": \"2021-02-13T18:48:41.558547Z\", \"duration\": \"0:01:23\", \"iteration\": \"31\", \"goal\": \"accuracy_max\", \"run_name\": \"MaxAbsScaler, RandomForest\", \"run_properties\": \"copy=True\", \"primary_metric\": 0.81908046, \"best_metric\": 0.86264368}, {\"run_id\": \"AutoML_836ef666-532b-411f-9d9d-b75ea98a5595_32\", \"run_number\": 38, \"metric\": null, \"status\": \"Completed\", \"run_type\": \"azureml.scriptrun\", \"training_percent\": \"100\", \"start_time\": \"2021-02-13T18:49:26.111863Z\", \"end_time\": \"2021-02-13T18:50:18.720715Z\", \"created_time\": \"2021-02-13T18:49:11.065603Z\", \"created_time_dt\": \"2021-02-13T18:49:11.065603Z\", \"duration\": \"0:01:07\", \"iteration\": \"32\", \"goal\": \"accuracy_max\", \"run_name\": \"MaxAbsScaler, RandomForest\", \"run_properties\": \"copy=True\", \"primary_metric\": 0.82229885, \"best_metric\": 0.86264368}, {\"run_id\": \"AutoML_836ef666-532b-411f-9d9d-b75ea98a5595_33\", \"run_number\": 39, \"metric\": null, \"status\": \"Completed\", \"run_type\": \"azureml.scriptrun\", \"training_percent\": \"100\", \"start_time\": \"2021-02-13T18:49:40.130457Z\", \"end_time\": \"2021-02-13T18:50:41.629912Z\", \"created_time\": \"2021-02-13T18:49:23.632028Z\", \"created_time_dt\": \"2021-02-13T18:49:23.632028Z\", \"duration\": \"0:01:17\", \"iteration\": \"33\", \"goal\": \"accuracy_max\", \"run_name\": \"MaxAbsScaler, ExtremeRandomTrees\", \"run_properties\": \"copy=True\", \"primary_metric\": 0.80574713, \"best_metric\": 0.86264368}, {\"run_id\": \"AutoML_836ef666-532b-411f-9d9d-b75ea98a5595_34\", \"run_number\": 40, \"metric\": null, \"status\": \"Completed\", \"run_type\": \"azureml.scriptrun\", \"training_percent\": \"100\", \"start_time\": \"2021-02-13T18:49:51.83328Z\", \"end_time\": \"2021-02-13T18:50:43.461152Z\", \"created_time\": \"2021-02-13T18:49:40.366727Z\", \"created_time_dt\": \"2021-02-13T18:49:40.366727Z\", \"duration\": \"0:01:03\", \"iteration\": \"34\", \"goal\": \"accuracy_max\", \"run_name\": \"SparseNormalizer, XGBoostClassifier\", \"run_properties\": \"<azureml.automl.runtime.shared.model_wrappers.SparseNormalizer object at 0x7f426e349438\", \"primary_metric\": 0.83954023, \"best_metric\": 0.86264368}, {\"run_id\": \"AutoML_836ef666-532b-411f-9d9d-b75ea98a5595_35\", \"run_number\": 41, \"metric\": null, \"status\": \"Completed\", \"run_type\": \"azureml.scriptrun\", \"training_percent\": \"100\", \"start_time\": \"2021-02-13T18:50:07.674176Z\", \"end_time\": \"2021-02-13T18:51:02.180842Z\", \"created_time\": \"2021-02-13T18:49:49.335119Z\", \"created_time_dt\": \"2021-02-13T18:49:49.335119Z\", \"duration\": \"0:01:12\", \"iteration\": \"35\", \"goal\": \"accuracy_max\", \"run_name\": \"StandardScalerWrapper, LightGBM\", \"run_properties\": \"<azureml.automl.runtime.shared.model_wrappers.StandardScalerWrapper object at 0x7f3cbbd46d30\", \"primary_metric\": 0.78597701, \"best_metric\": 0.86264368}, {\"run_id\": \"AutoML_836ef666-532b-411f-9d9d-b75ea98a5595_36\", \"run_number\": 42, \"metric\": null, \"status\": \"Completed\", \"run_type\": \"azureml.scriptrun\", \"training_percent\": \"100\", \"start_time\": \"2021-02-13T18:50:22.669263Z\", \"end_time\": \"2021-02-13T18:51:17.721403Z\", \"created_time\": \"2021-02-13T18:50:07.755658Z\", \"created_time_dt\": \"2021-02-13T18:50:07.755658Z\", \"duration\": \"0:01:09\", \"iteration\": \"36\", \"goal\": \"accuracy_max\", \"run_name\": \"RobustScaler, LightGBM\", \"run_properties\": \"copy=True, quantile_range=[10, 90], with_centering=True,\\n             with_scaling=True\", \"primary_metric\": 0.85931034, \"best_metric\": 0.86264368}, {\"run_id\": \"AutoML_836ef666-532b-411f-9d9d-b75ea98a5595_37\", \"run_number\": 43, \"metric\": null, \"status\": \"Completed\", \"run_type\": \"azureml.scriptrun\", \"training_percent\": \"100\", \"start_time\": \"2021-02-13T18:50:47.985691Z\", \"end_time\": \"2021-02-13T18:51:41.631689Z\", \"created_time\": \"2021-02-13T18:50:21.286358Z\", \"created_time_dt\": \"2021-02-13T18:50:21.286358Z\", \"duration\": \"0:01:20\", \"iteration\": \"37\", \"goal\": \"accuracy_max\", \"run_name\": \"RobustScaler, LightGBM\", \"run_properties\": \"copy=True, quantile_range=[10, 90], with_centering=True,\\n             with_scaling=True\", \"primary_metric\": 0.82931034, \"best_metric\": 0.86264368}, {\"run_id\": \"AutoML_836ef666-532b-411f-9d9d-b75ea98a5595_38\", \"run_number\": 44, \"metric\": null, \"status\": \"Completed\", \"run_type\": \"azureml.scriptrun\", \"training_percent\": \"100\", \"start_time\": \"2021-02-13T18:50:56.951322Z\", \"end_time\": \"2021-02-13T18:51:43.203431Z\", \"created_time\": \"2021-02-13T18:50:44.080881Z\", \"created_time_dt\": \"2021-02-13T18:50:44.080881Z\", \"duration\": \"0:00:59\", \"iteration\": \"38\", \"goal\": \"accuracy_max\", \"run_name\": \"StandardScalerWrapper, GradientBoosting\", \"run_properties\": \"<azureml.automl.runtime.shared.model_wrappers.StandardScalerWrapper object at 0x7fdf34f51048\", \"primary_metric\": 0.83931034, \"best_metric\": 0.86264368}, {\"run_id\": \"AutoML_836ef666-532b-411f-9d9d-b75ea98a5595_39\", \"run_number\": 45, \"metric\": null, \"status\": \"Completed\", \"run_type\": \"azureml.scriptrun\", \"training_percent\": \"100\", \"start_time\": \"2021-02-13T18:51:04.931282Z\", \"end_time\": \"2021-02-13T18:51:59.794178Z\", \"created_time\": \"2021-02-13T18:50:50.034119Z\", \"created_time_dt\": \"2021-02-13T18:50:50.034119Z\", \"duration\": \"0:01:09\", \"iteration\": \"39\", \"goal\": \"accuracy_max\", \"run_name\": \"MaxAbsScaler, LightGBM\", \"run_properties\": \"copy=True\", \"primary_metric\": 0.83586207, \"best_metric\": 0.86264368}, {\"run_id\": \"AutoML_836ef666-532b-411f-9d9d-b75ea98a5595_40\", \"run_number\": 46, \"metric\": null, \"status\": \"Canceled\", \"run_type\": \"azureml.scriptrun\", \"training_percent\": \"100\", \"start_time\": \"2021-02-13T18:51:22.292964Z\", \"end_time\": \"2021-02-13T18:52:06.697279Z\", \"created_time\": \"2021-02-13T18:51:05.75529Z\", \"created_time_dt\": \"2021-02-13T18:51:05.75529Z\", \"duration\": \"0:01:00\", \"iteration\": \"40\", \"goal\": \"accuracy_max\", \"run_name\": \"MinMaxScaler, LightGBM\", \"run_properties\": \"copy=True, feature_range=(0, 1\", \"primary_metric\": 0.82597701, \"best_metric\": 0.86264368}, {\"run_id\": \"AutoML_836ef666-532b-411f-9d9d-b75ea98a5595_41\", \"run_number\": 47, \"metric\": null, \"status\": \"Canceled\", \"run_type\": \"azureml.scriptrun\", \"training_percent\": \"100\", \"start_time\": \"2021-02-13T18:51:46.987451Z\", \"end_time\": \"2021-02-13T18:52:07.567781Z\", \"created_time\": \"2021-02-13T18:51:20.133537Z\", \"created_time_dt\": \"2021-02-13T18:51:20.133537Z\", \"duration\": \"0:00:47\", \"iteration\": \"41\", \"goal\": null, \"run_name\": \"Canceled\", \"run_properties\": null}, {\"run_id\": \"AutoML_836ef666-532b-411f-9d9d-b75ea98a5595_42\", \"run_number\": 48, \"metric\": null, \"status\": \"Canceled\", \"run_type\": \"azureml.scriptrun\", \"training_percent\": \"100\", \"start_time\": \"2021-02-13T18:51:58.790396Z\", \"end_time\": \"2021-02-13T18:52:08.70465Z\", \"created_time\": \"2021-02-13T18:51:46.077154Z\", \"created_time_dt\": \"2021-02-13T18:51:46.077154Z\", \"duration\": \"0:00:22\", \"iteration\": \"42\", \"goal\": null, \"run_name\": \"Canceled\", \"run_properties\": null}, {\"run_id\": \"AutoML_836ef666-532b-411f-9d9d-b75ea98a5595_43\", \"run_number\": 49, \"metric\": null, \"status\": \"Canceled\", \"run_type\": \"azureml.scriptrun\", \"training_percent\": \"100\", \"start_time\": \"2021-02-13T18:51:50.170562Z\", \"end_time\": \"2021-02-13T18:52:06.53275Z\", \"created_time\": \"2021-02-13T18:51:50.170562Z\", \"created_time_dt\": \"2021-02-13T18:51:50.170562Z\", \"duration\": \"0:00:16\", \"iteration\": \"43\", \"goal\": null, \"run_name\": \"Canceled\", \"run_properties\": null}, {\"run_id\": \"AutoML_836ef666-532b-411f-9d9d-b75ea98a5595_44\", \"run_number\": 50, \"metric\": null, \"status\": \"Completed\", \"run_type\": \"azureml.scriptrun\", \"training_percent\": \"100\", \"start_time\": \"2021-02-13T18:52:22.346717Z\", \"end_time\": \"2021-02-13T18:54:43.657302Z\", \"created_time\": \"2021-02-13T18:52:09.776656Z\", \"created_time_dt\": \"2021-02-13T18:52:09.776656Z\", \"duration\": \"0:02:33\", \"iteration\": \"44\", \"goal\": \"accuracy_max\", \"run_name\": \"VotingEnsemble\", \"run_properties\": \"classification_labels=None,\\n                              estimators=[('24',\\n                                           Pipeline(memory=None,\\n                                                    steps=[('maxabsscaler',\\n                                                            MaxAbsScaler(copy=True\", \"primary_metric\": 0.87965517, \"best_metric\": 0.87965517}, {\"run_id\": \"AutoML_836ef666-532b-411f-9d9d-b75ea98a5595_45\", \"run_number\": 51, \"metric\": null, \"status\": \"Completed\", \"run_type\": \"azureml.scriptrun\", \"training_percent\": \"100\", \"start_time\": \"2021-02-13T18:52:23.337733Z\", \"end_time\": \"2021-02-13T18:54:32.15781Z\", \"created_time\": \"2021-02-13T18:52:09.911039Z\", \"created_time_dt\": \"2021-02-13T18:52:09.911039Z\", \"duration\": \"0:02:22\", \"iteration\": \"45\", \"goal\": \"accuracy_max\", \"run_name\": \"StackEnsemble\", \"run_properties\": \"base_learners=[('24',\\n                                        Pipeline(memory=None,\\n                                                 steps=[('maxabsscaler',\\n                                                         MaxAbsScaler(copy=True\", \"primary_metric\": 0.85609195, \"best_metric\": 0.87965517}], \"children_metrics\": {\"categories\": [0], \"series\": {\"precision_score_macro\": [{\"categories\": [\"0\", \"1\", \"2\", \"3\", \"4\", \"5\", \"6\", \"7\", \"8\", \"9\", \"10\", \"11\", \"12\", \"13\", \"14\", \"15\", \"16\", \"17\", \"18\", \"19\", \"20\", \"21\", \"22\", \"23\", \"24\", \"25\", \"26\", \"27\", \"28\", \"29\", \"30\", \"31\", \"32\", \"33\", \"34\", \"35\", \"36\", \"37\", \"38\", \"39\", \"40\", \"44\", \"45\"], \"mode\": \"markers\", \"name\": \"precision_score_macro\", \"stepped\": false, \"type\": \"scatter\", \"data\": [0.8167365852764965, 0.8232986049897815, 0.8062654189728997, 0.8411718201818822, 0.7994556380152356, 0.8420293911118719, 0.8133497194072137, 0.8310864510521261, 0.7113462403413677, 0.8098152219970096, 0.7853385886633968, 0.8234479124358988, 0.8459101454101454, 0.8810537860309028, 0.8275063131313131, 0.8598222845042066, 0.8366777806592385, 0.8518154369784805, 0.8299458874458875, 0.8466691396365309, 0.8302320007731906, 0.8286601444165382, 0.8203784428132254, 0.8459640552684032, 0.8619909885436202, 0.33959770114942534, 0.851889283634808, 0.8347272430087076, 0.8428841166573363, 0.7900755202399938, 0.33959770114942534, 0.7931162660438975, 0.7974420942292627, 0.7796845049515327, 0.847161440877116, 0.8371613485076754, 0.841605685980686, 0.8342430830039526, 0.8331036067513049, 0.8153809942189099, 0.8195315538770916, 0.8915326605761388, 0.8556264086155391]}, {\"categories\": [\"0\", \"1\", \"2\", \"3\", \"4\", \"5\", \"6\", \"7\", \"8\", \"9\", \"10\", \"11\", \"12\", \"13\", \"14\", \"15\", \"16\", \"17\", \"18\", \"19\", \"20\", \"21\", \"22\", \"23\", \"24\", \"25\", \"26\", \"27\", \"28\", \"29\", \"30\", \"31\", \"32\", \"33\", \"34\", \"35\", \"36\", \"37\", \"38\", \"39\", \"40\", \"44\", \"45\"], \"mode\": \"lines\", \"name\": \"precision_score_macro_max\", \"stepped\": true, \"type\": \"scatter\", \"data\": [0.8167365852764965, 0.8232986049897815, 0.8232986049897815, 0.8411718201818822, 0.8411718201818822, 0.8420293911118719, 0.8420293911118719, 0.8420293911118719, 0.8420293911118719, 0.8420293911118719, 0.8420293911118719, 0.8420293911118719, 0.8459101454101454, 0.8810537860309028, 0.8810537860309028, 0.8810537860309028, 0.8810537860309028, 0.8810537860309028, 0.8810537860309028, 0.8810537860309028, 0.8810537860309028, 0.8810537860309028, 0.8810537860309028, 0.8810537860309028, 0.8810537860309028, 0.8810537860309028, 0.8810537860309028, 0.8810537860309028, 0.8810537860309028, 0.8810537860309028, 0.8810537860309028, 0.8810537860309028, 0.8810537860309028, 0.8810537860309028, 0.8810537860309028, 0.8810537860309028, 0.8810537860309028, 0.8810537860309028, 0.8810537860309028, 0.8810537860309028, 0.8810537860309028, 0.8915326605761388, 0.8915326605761388]}], \"recall_score_macro\": [{\"categories\": [\"0\", \"1\", \"2\", \"3\", \"4\", \"5\", \"6\", \"7\", \"8\", \"9\", \"10\", \"11\", \"12\", \"13\", \"14\", \"15\", \"16\", \"17\", \"18\", \"19\", \"20\", \"21\", \"22\", \"23\", \"24\", \"25\", \"26\", \"27\", \"28\", \"29\", \"30\", \"31\", \"32\", \"33\", \"34\", \"35\", \"36\", \"37\", \"38\", \"39\", \"40\", \"44\", \"45\"], \"mode\": \"markers\", \"name\": \"recall_score_macro\", \"stepped\": false, \"type\": \"scatter\", \"data\": [0.8077082895810014, 0.8130249020938379, 0.7922646710650143, 0.8030665365653924, 0.8088461597835168, 0.8221338487027847, 0.7878200375774747, 0.8068258628290093, 0.6392374249193471, 0.785013547950905, 0.758680183247975, 0.7993550200435211, 0.799709362338653, 0.8045660903741567, 0.8087431560620921, 0.80774069354876, 0.7992019669562576, 0.8131082354271714, 0.8106461142150501, 0.7600986119779026, 0.7999603913439726, 0.8141698382979847, 0.8132882184875891, 0.7957228050363062, 0.8319737069122081, 0.5, 0.7756570630297747, 0.7958448240991147, 0.8041710373595385, 0.8191306436380806, 0.5, 0.8232157675149665, 0.8183394099543986, 0.8020666199424781, 0.7901596423535784, 0.6819877344877344, 0.8273957534646895, 0.7687618828857387, 0.8043600391789753, 0.8151234818766284, 0.7768547228578693, 0.8475941975326986, 0.8287630287015298]}, {\"categories\": [\"0\", \"1\", \"2\", \"3\", \"4\", \"5\", \"6\", \"7\", \"8\", \"9\", \"10\", \"11\", \"12\", \"13\", \"14\", \"15\", \"16\", \"17\", \"18\", \"19\", \"20\", \"21\", \"22\", \"23\", \"24\", \"25\", \"26\", \"27\", \"28\", \"29\", \"30\", \"31\", \"32\", \"33\", \"34\", \"35\", \"36\", \"37\", \"38\", \"39\", \"40\", \"44\", \"45\"], \"mode\": \"lines\", \"name\": \"recall_score_macro_max\", \"stepped\": true, \"type\": \"scatter\", \"data\": [0.8077082895810014, 0.8130249020938379, 0.8130249020938379, 0.8130249020938379, 0.8130249020938379, 0.8221338487027847, 0.8221338487027847, 0.8221338487027847, 0.8221338487027847, 0.8221338487027847, 0.8221338487027847, 0.8221338487027847, 0.8221338487027847, 0.8221338487027847, 0.8221338487027847, 0.8221338487027847, 0.8221338487027847, 0.8221338487027847, 0.8221338487027847, 0.8221338487027847, 0.8221338487027847, 0.8221338487027847, 0.8221338487027847, 0.8221338487027847, 0.8319737069122081, 0.8319737069122081, 0.8319737069122081, 0.8319737069122081, 0.8319737069122081, 0.8319737069122081, 0.8319737069122081, 0.8319737069122081, 0.8319737069122081, 0.8319737069122081, 0.8319737069122081, 0.8319737069122081, 0.8319737069122081, 0.8319737069122081, 0.8319737069122081, 0.8319737069122081, 0.8319737069122081, 0.8475941975326986, 0.8475941975326986]}], \"precision_score_micro\": [{\"categories\": [\"0\", \"1\", \"2\", \"3\", \"4\", \"5\", \"6\", \"7\", \"8\", \"9\", \"10\", \"11\", \"12\", \"13\", \"14\", \"15\", \"16\", \"17\", \"18\", \"19\", \"20\", \"21\", \"22\", \"23\", \"24\", \"25\", \"26\", \"27\", \"28\", \"29\", \"30\", \"31\", \"32\", \"33\", \"34\", \"35\", \"36\", \"37\", \"38\", \"39\", \"40\", \"44\", \"45\"], \"mode\": \"markers\", \"name\": \"precision_score_micro\", \"stepped\": false, \"type\": \"scatter\", \"data\": [0.8359770114942527, 0.8358620689655172, 0.8191954022988506, 0.8558620689655173, 0.8224137931034484, 0.849425287356322, 0.822528735632184, 0.8394252873563218, 0.722528735632184, 0.8228735632183908, 0.8093103448275862, 0.8358620689655174, 0.8428735632183908, 0.8562068965517241, 0.8391954022988506, 0.8559770114942531, 0.8393103448275863, 0.8528735632183908, 0.8393103448275863, 0.8260919540229885, 0.8328735632183909, 0.8427586206896553, 0.8360919540229885, 0.8394252873563219, 0.8626436781609197, 0.6791954022988507, 0.8364367816091953, 0.8393103448275863, 0.8458620689655174, 0.8189655172413793, 0.6791954022988507, 0.8190804597701149, 0.8222988505747126, 0.8057471264367816, 0.8395402298850575, 0.7859770114942528, 0.8593103448275862, 0.8293103448275861, 0.8393103448275863, 0.8358620689655172, 0.825977011494253, 0.8796551724137931, 0.8560919540229885]}, {\"categories\": [\"0\", \"1\", \"2\", \"3\", \"4\", \"5\", \"6\", \"7\", \"8\", \"9\", \"10\", \"11\", \"12\", \"13\", \"14\", \"15\", \"16\", \"17\", \"18\", \"19\", \"20\", \"21\", \"22\", \"23\", \"24\", \"25\", \"26\", \"27\", \"28\", \"29\", \"30\", \"31\", \"32\", \"33\", \"34\", \"35\", \"36\", \"37\", \"38\", \"39\", \"40\", \"44\", \"45\"], \"mode\": \"lines\", \"name\": \"precision_score_micro_max\", \"stepped\": true, \"type\": \"scatter\", \"data\": [0.8359770114942527, 0.8359770114942527, 0.8359770114942527, 0.8558620689655173, 0.8558620689655173, 0.8558620689655173, 0.8558620689655173, 0.8558620689655173, 0.8558620689655173, 0.8558620689655173, 0.8558620689655173, 0.8558620689655173, 0.8558620689655173, 0.8562068965517241, 0.8562068965517241, 0.8562068965517241, 0.8562068965517241, 0.8562068965517241, 0.8562068965517241, 0.8562068965517241, 0.8562068965517241, 0.8562068965517241, 0.8562068965517241, 0.8562068965517241, 0.8626436781609197, 0.8626436781609197, 0.8626436781609197, 0.8626436781609197, 0.8626436781609197, 0.8626436781609197, 0.8626436781609197, 0.8626436781609197, 0.8626436781609197, 0.8626436781609197, 0.8626436781609197, 0.8626436781609197, 0.8626436781609197, 0.8626436781609197, 0.8626436781609197, 0.8626436781609197, 0.8626436781609197, 0.8796551724137931, 0.8796551724137931]}], \"average_precision_score_weighted\": [{\"categories\": [\"0\", \"1\", \"2\", \"3\", \"4\", \"5\", \"6\", \"7\", \"8\", \"9\", \"10\", \"11\", \"12\", \"13\", \"14\", \"15\", \"16\", \"17\", \"18\", \"19\", \"20\", \"21\", \"22\", \"23\", \"24\", \"25\", \"26\", \"27\", \"28\", \"29\", \"30\", \"31\", \"32\", \"33\", \"34\", \"35\", \"36\", \"37\", \"38\", \"39\", \"40\", \"44\", \"45\"], \"mode\": \"markers\", \"name\": \"average_precision_score_weighted\", \"stepped\": false, \"type\": \"scatter\", \"data\": [0.9061112830231934, 0.907154018724502, 0.9163060526953843, 0.9186493098406879, 0.9222177731708798, 0.9232378333467881, 0.8879444208863108, 0.9199991619833254, 0.7902984708289256, 0.9006152166437232, 0.8764764478120824, 0.9201636802718491, 0.9264169377964293, 0.9183860771774184, 0.9275824660501115, 0.9231915114853134, 0.9185264340158863, 0.9237872408898748, 0.9252079135584867, 0.9177586180946771, 0.9042677325897064, 0.921620461001249, 0.92278890817813, 0.912312736394189, 0.9231693763462087, 0.6411028799222196, 0.888295980189427, 0.9128433838735328, 0.9189274631293367, 0.9214900653820404, 0.8598248878996951, 0.9241390504505705, 0.9198956789745327, 0.8681124071141877, 0.9101244571305628, 0.9053367680165824, 0.9290008408402513, 0.9104481826698162, 0.9274978026233504, 0.9160419972151503, 0.8933240283439172, 0.9297438988050523, 0.9261893159336031]}, {\"categories\": [\"0\", \"1\", \"2\", \"3\", \"4\", \"5\", \"6\", \"7\", \"8\", \"9\", \"10\", \"11\", \"12\", \"13\", \"14\", \"15\", \"16\", \"17\", \"18\", \"19\", \"20\", \"21\", \"22\", \"23\", \"24\", \"25\", \"26\", \"27\", \"28\", \"29\", \"30\", \"31\", \"32\", \"33\", \"34\", \"35\", \"36\", \"37\", \"38\", \"39\", \"40\", \"44\", \"45\"], \"mode\": \"lines\", \"name\": \"average_precision_score_weighted_max\", \"stepped\": true, \"type\": \"scatter\", \"data\": [0.9061112830231934, 0.907154018724502, 0.9163060526953843, 0.9186493098406879, 0.9222177731708798, 0.9232378333467881, 0.9232378333467881, 0.9232378333467881, 0.9232378333467881, 0.9232378333467881, 0.9232378333467881, 0.9232378333467881, 0.9264169377964293, 0.9264169377964293, 0.9275824660501115, 0.9275824660501115, 0.9275824660501115, 0.9275824660501115, 0.9275824660501115, 0.9275824660501115, 0.9275824660501115, 0.9275824660501115, 0.9275824660501115, 0.9275824660501115, 0.9275824660501115, 0.9275824660501115, 0.9275824660501115, 0.9275824660501115, 0.9275824660501115, 0.9275824660501115, 0.9275824660501115, 0.9275824660501115, 0.9275824660501115, 0.9275824660501115, 0.9275824660501115, 0.9275824660501115, 0.9290008408402513, 0.9290008408402513, 0.9290008408402513, 0.9290008408402513, 0.9290008408402513, 0.9297438988050523, 0.9297438988050523]}], \"weighted_accuracy\": [{\"categories\": [\"0\", \"1\", \"2\", \"3\", \"4\", \"5\", \"6\", \"7\", \"8\", \"9\", \"10\", \"11\", \"12\", \"13\", \"14\", \"15\", \"16\", \"17\", \"18\", \"19\", \"20\", \"21\", \"22\", \"23\", \"24\", \"25\", \"26\", \"27\", \"28\", \"29\", \"30\", \"31\", \"32\", \"33\", \"34\", \"35\", \"36\", \"37\", \"38\", \"39\", \"40\", \"44\", \"45\"], \"mode\": \"markers\", \"name\": \"weighted_accuracy\", \"stepped\": false, \"type\": \"scatter\", \"data\": [0.8541321922200625, 0.8502962163535492, 0.8365778891677846, 0.8870452014649821, 0.8302730254557564, 0.866581850273518, 0.8451681878460313, 0.8594147174679089, 0.7791835513049734, 0.8459653173983817, 0.8385082313085942, 0.860212451438796, 0.8710903796073908, 0.8898551866026038, 0.8583967013435837, 0.886566951830695, 0.8669339017794584, 0.8788476748083516, 0.8582352345370705, 0.8683139582924287, 0.8537749403572639, 0.860737249854394, 0.850787769435879, 0.868021414016054, 0.8824537388820634, 0.7931711479234276, 0.8724515030094295, 0.8685521836685911, 0.8726200804656878, 0.8181349436168261, 0.7931711479234276, 0.815639004587297, 0.8232162243542248, 0.8062564824613844, 0.8696163512263926, 0.8506846547185131, 0.8777326109290232, 0.8698785636398008, 0.8618138083332572, 0.8492565769569482, 0.8583351098078585, 0.8997600271088567, 0.8728460724572329]}, {\"categories\": [\"0\", \"1\", \"2\", \"3\", \"4\", \"5\", \"6\", \"7\", \"8\", \"9\", \"10\", \"11\", \"12\", \"13\", \"14\", \"15\", \"16\", \"17\", \"18\", \"19\", \"20\", \"21\", \"22\", \"23\", \"24\", \"25\", \"26\", \"27\", \"28\", \"29\", \"30\", \"31\", \"32\", \"33\", \"34\", \"35\", \"36\", \"37\", \"38\", \"39\", \"40\", \"44\", \"45\"], \"mode\": \"lines\", \"name\": \"weighted_accuracy_max\", \"stepped\": true, \"type\": \"scatter\", \"data\": [0.8541321922200625, 0.8541321922200625, 0.8541321922200625, 0.8870452014649821, 0.8870452014649821, 0.8870452014649821, 0.8870452014649821, 0.8870452014649821, 0.8870452014649821, 0.8870452014649821, 0.8870452014649821, 0.8870452014649821, 0.8870452014649821, 0.8898551866026038, 0.8898551866026038, 0.8898551866026038, 0.8898551866026038, 0.8898551866026038, 0.8898551866026038, 0.8898551866026038, 0.8898551866026038, 0.8898551866026038, 0.8898551866026038, 0.8898551866026038, 0.8898551866026038, 0.8898551866026038, 0.8898551866026038, 0.8898551866026038, 0.8898551866026038, 0.8898551866026038, 0.8898551866026038, 0.8898551866026038, 0.8898551866026038, 0.8898551866026038, 0.8898551866026038, 0.8898551866026038, 0.8898551866026038, 0.8898551866026038, 0.8898551866026038, 0.8898551866026038, 0.8898551866026038, 0.8997600271088567, 0.8997600271088567]}], \"accuracy\": [{\"categories\": [\"0\", \"1\", \"2\", \"3\", \"4\", \"5\", \"6\", \"7\", \"8\", \"9\", \"10\", \"11\", \"12\", \"13\", \"14\", \"15\", \"16\", \"17\", \"18\", \"19\", \"20\", \"21\", \"22\", \"23\", \"24\", \"25\", \"26\", \"27\", \"28\", \"29\", \"30\", \"31\", \"32\", \"33\", \"34\", \"35\", \"36\", \"37\", \"38\", \"39\", \"40\", \"44\", \"45\"], \"mode\": \"markers\", \"name\": \"accuracy\", \"stepped\": false, \"type\": \"scatter\", \"data\": [0.8359770114942527, 0.8358620689655172, 0.8191954022988506, 0.8558620689655173, 0.8224137931034484, 0.849425287356322, 0.822528735632184, 0.8394252873563218, 0.722528735632184, 0.8228735632183908, 0.8093103448275862, 0.8358620689655174, 0.8428735632183908, 0.8562068965517241, 0.8391954022988506, 0.8559770114942531, 0.8393103448275863, 0.8528735632183908, 0.8393103448275863, 0.8260919540229885, 0.8328735632183909, 0.8427586206896553, 0.8360919540229885, 0.8394252873563219, 0.8626436781609197, 0.6791954022988507, 0.8364367816091953, 0.8393103448275863, 0.8458620689655174, 0.8189655172413793, 0.6791954022988507, 0.8190804597701149, 0.8222988505747126, 0.8057471264367816, 0.8395402298850575, 0.7859770114942528, 0.8593103448275862, 0.8293103448275861, 0.8393103448275863, 0.8358620689655172, 0.825977011494253, 0.8796551724137931, 0.8560919540229885]}, {\"categories\": [\"0\", \"1\", \"2\", \"3\", \"4\", \"5\", \"6\", \"7\", \"8\", \"9\", \"10\", \"11\", \"12\", \"13\", \"14\", \"15\", \"16\", \"17\", \"18\", \"19\", \"20\", \"21\", \"22\", \"23\", \"24\", \"25\", \"26\", \"27\", \"28\", \"29\", \"30\", \"31\", \"32\", \"33\", \"34\", \"35\", \"36\", \"37\", \"38\", \"39\", \"40\", \"44\", \"45\"], \"mode\": \"lines\", \"name\": \"accuracy_max\", \"stepped\": true, \"type\": \"scatter\", \"data\": [0.8359770114942527, 0.8359770114942527, 0.8359770114942527, 0.8558620689655173, 0.8558620689655173, 0.8558620689655173, 0.8558620689655173, 0.8558620689655173, 0.8558620689655173, 0.8558620689655173, 0.8558620689655173, 0.8558620689655173, 0.8558620689655173, 0.8562068965517241, 0.8562068965517241, 0.8562068965517241, 0.8562068965517241, 0.8562068965517241, 0.8562068965517241, 0.8562068965517241, 0.8562068965517241, 0.8562068965517241, 0.8562068965517241, 0.8562068965517241, 0.8626436781609197, 0.8626436781609197, 0.8626436781609197, 0.8626436781609197, 0.8626436781609197, 0.8626436781609197, 0.8626436781609197, 0.8626436781609197, 0.8626436781609197, 0.8626436781609197, 0.8626436781609197, 0.8626436781609197, 0.8626436781609197, 0.8626436781609197, 0.8626436781609197, 0.8626436781609197, 0.8626436781609197, 0.8796551724137931, 0.8796551724137931]}], \"f1_score_micro\": [{\"categories\": [\"0\", \"1\", \"2\", \"3\", \"4\", \"5\", \"6\", \"7\", \"8\", \"9\", \"10\", \"11\", \"12\", \"13\", \"14\", \"15\", \"16\", \"17\", \"18\", \"19\", \"20\", \"21\", \"22\", \"23\", \"24\", \"25\", \"26\", \"27\", \"28\", \"29\", \"30\", \"31\", \"32\", \"33\", \"34\", \"35\", \"36\", \"37\", \"38\", \"39\", \"40\", \"44\", \"45\"], \"mode\": \"markers\", \"name\": \"f1_score_micro\", \"stepped\": false, \"type\": \"scatter\", \"data\": [0.8359770114942527, 0.8358620689655172, 0.8191954022988506, 0.8558620689655173, 0.8224137931034484, 0.849425287356322, 0.822528735632184, 0.8394252873563218, 0.722528735632184, 0.8228735632183908, 0.8093103448275862, 0.8358620689655174, 0.8428735632183908, 0.8562068965517241, 0.8391954022988506, 0.8559770114942531, 0.8393103448275863, 0.8528735632183908, 0.8393103448275863, 0.8260919540229885, 0.8328735632183909, 0.8427586206896553, 0.8360919540229885, 0.8394252873563219, 0.8626436781609197, 0.6791954022988507, 0.8364367816091953, 0.8393103448275863, 0.8458620689655174, 0.8189655172413793, 0.6791954022988507, 0.8190804597701149, 0.8222988505747126, 0.8057471264367816, 0.8395402298850575, 0.7859770114942528, 0.8593103448275862, 0.8293103448275861, 0.8393103448275863, 0.8358620689655172, 0.825977011494253, 0.8796551724137931, 0.8560919540229885]}, {\"categories\": [\"0\", \"1\", \"2\", \"3\", \"4\", \"5\", \"6\", \"7\", \"8\", \"9\", \"10\", \"11\", \"12\", \"13\", \"14\", \"15\", \"16\", \"17\", \"18\", \"19\", \"20\", \"21\", \"22\", \"23\", \"24\", \"25\", \"26\", \"27\", \"28\", \"29\", \"30\", \"31\", \"32\", \"33\", \"34\", \"35\", \"36\", \"37\", \"38\", \"39\", \"40\", \"44\", \"45\"], \"mode\": \"lines\", \"name\": \"f1_score_micro_max\", \"stepped\": true, \"type\": \"scatter\", \"data\": [0.8359770114942527, 0.8359770114942527, 0.8359770114942527, 0.8558620689655173, 0.8558620689655173, 0.8558620689655173, 0.8558620689655173, 0.8558620689655173, 0.8558620689655173, 0.8558620689655173, 0.8558620689655173, 0.8558620689655173, 0.8558620689655173, 0.8562068965517241, 0.8562068965517241, 0.8562068965517241, 0.8562068965517241, 0.8562068965517241, 0.8562068965517241, 0.8562068965517241, 0.8562068965517241, 0.8562068965517241, 0.8562068965517241, 0.8562068965517241, 0.8626436781609197, 0.8626436781609197, 0.8626436781609197, 0.8626436781609197, 0.8626436781609197, 0.8626436781609197, 0.8626436781609197, 0.8626436781609197, 0.8626436781609197, 0.8626436781609197, 0.8626436781609197, 0.8626436781609197, 0.8626436781609197, 0.8626436781609197, 0.8626436781609197, 0.8626436781609197, 0.8626436781609197, 0.8796551724137931, 0.8796551724137931]}], \"matthews_correlation\": [{\"categories\": [\"0\", \"1\", \"2\", \"3\", \"4\", \"5\", \"6\", \"7\", \"8\", \"9\", \"10\", \"11\", \"12\", \"13\", \"14\", \"15\", \"16\", \"17\", \"18\", \"19\", \"20\", \"21\", \"22\", \"23\", \"24\", \"25\", \"26\", \"27\", \"28\", \"29\", \"30\", \"31\", \"32\", \"33\", \"34\", \"35\", \"36\", \"37\", \"38\", \"39\", \"40\", \"44\", \"45\"], \"mode\": \"markers\", \"name\": \"matthews_correlation\", \"stepped\": false, \"type\": \"scatter\", \"data\": [0.6231314496952846, 0.6345538749068885, 0.5957564369616618, 0.641510112799311, 0.6072365936666426, 0.6619454896950318, 0.5986771914346563, 0.6354966315748545, 0.3281414384769997, 0.5926056841761447, 0.5420631828594559, 0.6209135803805862, 0.6398578436697533, 0.677277078134809, 0.6337964852862915, 0.6643583838648714, 0.6320897071733595, 0.6617144390382697, 0.6380028345969472, 0.5985307000342799, 0.6251514690683962, 0.6414480643453526, 0.6320406130707779, 0.6373176612396056, 0.691004946589842, 0.0, 0.6192712975951772, 0.6282666583697689, 0.6438719515069989, 0.6072771803432376, 0.0, 0.6143851202225714, 0.6145263319930747, 0.5807219391764427, 0.6324638012528603, 0.48633812334697896, 0.6675383372010154, 0.5978057098886025, 0.6339802594446473, 0.6288391971759815, 0.5924450529615604, 0.7351420424664441, 0.6821278866665799]}, {\"categories\": [\"0\", \"1\", \"2\", \"3\", \"4\", \"5\", \"6\", \"7\", \"8\", \"9\", \"10\", \"11\", \"12\", \"13\", \"14\", \"15\", \"16\", \"17\", \"18\", \"19\", \"20\", \"21\", \"22\", \"23\", \"24\", \"25\", \"26\", \"27\", \"28\", \"29\", \"30\", \"31\", \"32\", \"33\", \"34\", \"35\", \"36\", \"37\", \"38\", \"39\", \"40\", \"44\", \"45\"], \"mode\": \"lines\", \"name\": \"matthews_correlation_max\", \"stepped\": true, \"type\": \"scatter\", \"data\": [0.6231314496952846, 0.6345538749068885, 0.6345538749068885, 0.641510112799311, 0.641510112799311, 0.6619454896950318, 0.6619454896950318, 0.6619454896950318, 0.6619454896950318, 0.6619454896950318, 0.6619454896950318, 0.6619454896950318, 0.6619454896950318, 0.677277078134809, 0.677277078134809, 0.677277078134809, 0.677277078134809, 0.677277078134809, 0.677277078134809, 0.677277078134809, 0.677277078134809, 0.677277078134809, 0.677277078134809, 0.677277078134809, 0.691004946589842, 0.691004946589842, 0.691004946589842, 0.691004946589842, 0.691004946589842, 0.691004946589842, 0.691004946589842, 0.691004946589842, 0.691004946589842, 0.691004946589842, 0.691004946589842, 0.691004946589842, 0.691004946589842, 0.691004946589842, 0.691004946589842, 0.691004946589842, 0.691004946589842, 0.7351420424664441, 0.7351420424664441]}], \"average_precision_score_micro\": [{\"categories\": [\"0\", \"1\", \"2\", \"3\", \"4\", \"5\", \"6\", \"7\", \"8\", \"9\", \"10\", \"11\", \"12\", \"13\", \"14\", \"15\", \"16\", \"17\", \"18\", \"19\", \"20\", \"21\", \"22\", \"23\", \"24\", \"25\", \"26\", \"27\", \"28\", \"29\", \"30\", \"31\", \"32\", \"33\", \"34\", \"35\", \"36\", \"37\", \"38\", \"39\", \"40\", \"44\", \"45\"], \"mode\": \"markers\", \"name\": \"average_precision_score_micro\", \"stepped\": false, \"type\": \"scatter\", \"data\": [0.9020054536251629, 0.9033793522124445, 0.9064423729862922, 0.9219841620845342, 0.9112895754549122, 0.9191527991991597, 0.8850299274029687, 0.9103493858663537, 0.7819540175817492, 0.895111815566743, 0.876380860099481, 0.9151172775158244, 0.9166254494311561, 0.9105633208925612, 0.9228098350132014, 0.9206464533935727, 0.9100085270296232, 0.9187936132536677, 0.921420810849295, 0.9045880262347422, 0.9019692978998345, 0.9207136900550046, 0.9164237542795511, 0.907582999750195, 0.9209226225228775, 0.6768520529138156, 0.8863631898200479, 0.907380079578538, 0.9137798423088567, 0.9030975672564653, 0.8245706444245513, 0.9015195504330012, 0.9033358199367665, 0.8457196358309229, 0.9031676894746848, 0.8771452161344373, 0.9274833659981081, 0.8937346070170612, 0.9240549116489951, 0.9138480568763893, 0.8850493541804705, 0.9259554389240753, 0.9213901852685144]}, {\"categories\": [\"0\", \"1\", \"2\", \"3\", \"4\", \"5\", \"6\", \"7\", \"8\", \"9\", \"10\", \"11\", \"12\", \"13\", \"14\", \"15\", \"16\", \"17\", \"18\", \"19\", \"20\", \"21\", \"22\", \"23\", \"24\", \"25\", \"26\", \"27\", \"28\", \"29\", \"30\", \"31\", \"32\", \"33\", \"34\", \"35\", \"36\", \"37\", \"38\", \"39\", \"40\", \"44\", \"45\"], \"mode\": \"lines\", \"name\": \"average_precision_score_micro_max\", \"stepped\": true, \"type\": \"scatter\", \"data\": [0.9020054536251629, 0.9033793522124445, 0.9064423729862922, 0.9219841620845342, 0.9219841620845342, 0.9219841620845342, 0.9219841620845342, 0.9219841620845342, 0.9219841620845342, 0.9219841620845342, 0.9219841620845342, 0.9219841620845342, 0.9219841620845342, 0.9219841620845342, 0.9228098350132014, 0.9228098350132014, 0.9228098350132014, 0.9228098350132014, 0.9228098350132014, 0.9228098350132014, 0.9228098350132014, 0.9228098350132014, 0.9228098350132014, 0.9228098350132014, 0.9228098350132014, 0.9228098350132014, 0.9228098350132014, 0.9228098350132014, 0.9228098350132014, 0.9228098350132014, 0.9228098350132014, 0.9228098350132014, 0.9228098350132014, 0.9228098350132014, 0.9228098350132014, 0.9228098350132014, 0.9274833659981081, 0.9274833659981081, 0.9274833659981081, 0.9274833659981081, 0.9274833659981081, 0.9274833659981081, 0.9274833659981081]}], \"recall_score_micro\": [{\"categories\": [\"0\", \"1\", \"2\", \"3\", \"4\", \"5\", \"6\", \"7\", \"8\", \"9\", \"10\", \"11\", \"12\", \"13\", \"14\", \"15\", \"16\", \"17\", \"18\", \"19\", \"20\", \"21\", \"22\", \"23\", \"24\", \"25\", \"26\", \"27\", \"28\", \"29\", \"30\", \"31\", \"32\", \"33\", \"34\", \"35\", \"36\", \"37\", \"38\", \"39\", \"40\", \"44\", \"45\"], \"mode\": \"markers\", \"name\": \"recall_score_micro\", \"stepped\": false, \"type\": \"scatter\", \"data\": [0.8359770114942527, 0.8358620689655172, 0.8191954022988506, 0.8558620689655173, 0.8224137931034484, 0.849425287356322, 0.822528735632184, 0.8394252873563218, 0.722528735632184, 0.8228735632183908, 0.8093103448275862, 0.8358620689655174, 0.8428735632183908, 0.8562068965517241, 0.8391954022988506, 0.8559770114942531, 0.8393103448275863, 0.8528735632183908, 0.8393103448275863, 0.8260919540229885, 0.8328735632183909, 0.8427586206896553, 0.8360919540229885, 0.8394252873563219, 0.8626436781609197, 0.6791954022988507, 0.8364367816091953, 0.8393103448275863, 0.8458620689655174, 0.8189655172413793, 0.6791954022988507, 0.8190804597701149, 0.8222988505747126, 0.8057471264367816, 0.8395402298850575, 0.7859770114942528, 0.8593103448275862, 0.8293103448275861, 0.8393103448275863, 0.8358620689655172, 0.825977011494253, 0.8796551724137931, 0.8560919540229885]}, {\"categories\": [\"0\", \"1\", \"2\", \"3\", \"4\", \"5\", \"6\", \"7\", \"8\", \"9\", \"10\", \"11\", \"12\", \"13\", \"14\", \"15\", \"16\", \"17\", \"18\", \"19\", \"20\", \"21\", \"22\", \"23\", \"24\", \"25\", \"26\", \"27\", \"28\", \"29\", \"30\", \"31\", \"32\", \"33\", \"34\", \"35\", \"36\", \"37\", \"38\", \"39\", \"40\", \"44\", \"45\"], \"mode\": \"lines\", \"name\": \"recall_score_micro_max\", \"stepped\": true, \"type\": \"scatter\", \"data\": [0.8359770114942527, 0.8359770114942527, 0.8359770114942527, 0.8558620689655173, 0.8558620689655173, 0.8558620689655173, 0.8558620689655173, 0.8558620689655173, 0.8558620689655173, 0.8558620689655173, 0.8558620689655173, 0.8558620689655173, 0.8558620689655173, 0.8562068965517241, 0.8562068965517241, 0.8562068965517241, 0.8562068965517241, 0.8562068965517241, 0.8562068965517241, 0.8562068965517241, 0.8562068965517241, 0.8562068965517241, 0.8562068965517241, 0.8562068965517241, 0.8626436781609197, 0.8626436781609197, 0.8626436781609197, 0.8626436781609197, 0.8626436781609197, 0.8626436781609197, 0.8626436781609197, 0.8626436781609197, 0.8626436781609197, 0.8626436781609197, 0.8626436781609197, 0.8626436781609197, 0.8626436781609197, 0.8626436781609197, 0.8626436781609197, 0.8626436781609197, 0.8626436781609197, 0.8796551724137931, 0.8796551724137931]}], \"log_loss\": [{\"categories\": [\"0\", \"1\", \"2\", \"3\", \"4\", \"5\", \"6\", \"7\", \"8\", \"9\", \"10\", \"11\", \"12\", \"13\", \"14\", \"15\", \"16\", \"17\", \"18\", \"19\", \"20\", \"21\", \"22\", \"23\", \"24\", \"25\", \"26\", \"27\", \"28\", \"29\", \"30\", \"31\", \"32\", \"33\", \"34\", \"35\", \"36\", \"37\", \"38\", \"39\", \"40\", \"44\", \"45\"], \"mode\": \"markers\", \"name\": \"log_loss\", \"stepped\": false, \"type\": \"scatter\", \"data\": [0.4772179826627182, 0.41764279466886123, 0.3840666249002378, 0.3895530141424035, 0.37980950669837465, 0.36973634038569986, 0.431907704901195, 0.42011024943106523, 0.5762328236979071, 0.4113226523427646, 0.488972342400222, 0.41072717993843433, 0.39682846788584214, 0.3977689393255493, 0.3619250252548881, 0.3716601309199592, 0.41916278548122055, 0.36248851311164776, 0.36059673975461604, 0.4227894568759668, 0.412689902302552, 0.36957357307269495, 0.3820608744128241, 0.4143656741117191, 0.38716917246452265, 0.6321019778308499, 0.4728062309478169, 0.41860634754545883, 0.41292124326684176, 0.4125967380278249, 0.5874234194267693, 0.45304551040485375, 0.45285933923907, 0.6565619497648902, 0.40489745353161055, 0.4944517603028486, 0.35042527400831847, 0.4535041639358635, 0.3566027230078995, 0.3696132647988505, 0.45699429302722006, 0.37419961327062995, 0.3682949765217984]}, {\"categories\": [\"0\", \"1\", \"2\", \"3\", \"4\", \"5\", \"6\", \"7\", \"8\", \"9\", \"10\", \"11\", \"12\", \"13\", \"14\", \"15\", \"16\", \"17\", \"18\", \"19\", \"20\", \"21\", \"22\", \"23\", \"24\", \"25\", \"26\", \"27\", \"28\", \"29\", \"30\", \"31\", \"32\", \"33\", \"34\", \"35\", \"36\", \"37\", \"38\", \"39\", \"40\", \"44\", \"45\"], \"mode\": \"lines\", \"name\": \"log_loss_min\", \"stepped\": true, \"type\": \"scatter\", \"data\": [0.4772179826627182, 0.41764279466886123, 0.3840666249002378, 0.3840666249002378, 0.37980950669837465, 0.36973634038569986, 0.36973634038569986, 0.36973634038569986, 0.36973634038569986, 0.36973634038569986, 0.36973634038569986, 0.36973634038569986, 0.36973634038569986, 0.36973634038569986, 0.3619250252548881, 0.3619250252548881, 0.3619250252548881, 0.3619250252548881, 0.36059673975461604, 0.36059673975461604, 0.36059673975461604, 0.36059673975461604, 0.36059673975461604, 0.36059673975461604, 0.36059673975461604, 0.36059673975461604, 0.36059673975461604, 0.36059673975461604, 0.36059673975461604, 0.36059673975461604, 0.36059673975461604, 0.36059673975461604, 0.36059673975461604, 0.36059673975461604, 0.36059673975461604, 0.36059673975461604, 0.35042527400831847, 0.35042527400831847, 0.35042527400831847, 0.35042527400831847, 0.35042527400831847, 0.35042527400831847, 0.35042527400831847]}], \"recall_score_weighted\": [{\"categories\": [\"0\", \"1\", \"2\", \"3\", \"4\", \"5\", \"6\", \"7\", \"8\", \"9\", \"10\", \"11\", \"12\", \"13\", \"14\", \"15\", \"16\", \"17\", \"18\", \"19\", \"20\", \"21\", \"22\", \"23\", \"24\", \"25\", \"26\", \"27\", \"28\", \"29\", \"30\", \"31\", \"32\", \"33\", \"34\", \"35\", \"36\", \"37\", \"38\", \"39\", \"40\", \"44\", \"45\"], \"mode\": \"markers\", \"name\": \"recall_score_weighted\", \"stepped\": false, \"type\": \"scatter\", \"data\": [0.8359770114942527, 0.8358620689655172, 0.8191954022988506, 0.8558620689655173, 0.8224137931034484, 0.849425287356322, 0.822528735632184, 0.8394252873563218, 0.722528735632184, 0.8228735632183908, 0.8093103448275862, 0.8358620689655174, 0.8428735632183908, 0.8562068965517241, 0.8391954022988506, 0.8559770114942531, 0.8393103448275863, 0.8528735632183908, 0.8393103448275863, 0.8260919540229885, 0.8328735632183909, 0.8427586206896553, 0.8360919540229885, 0.8394252873563219, 0.8626436781609197, 0.6791954022988507, 0.8364367816091953, 0.8393103448275863, 0.8458620689655174, 0.8189655172413793, 0.6791954022988507, 0.8190804597701149, 0.8222988505747126, 0.8057471264367816, 0.8395402298850575, 0.7859770114942528, 0.8593103448275862, 0.8293103448275861, 0.8393103448275863, 0.8358620689655172, 0.825977011494253, 0.8796551724137931, 0.8560919540229885]}, {\"categories\": [\"0\", \"1\", \"2\", \"3\", \"4\", \"5\", \"6\", \"7\", \"8\", \"9\", \"10\", \"11\", \"12\", \"13\", \"14\", \"15\", \"16\", \"17\", \"18\", \"19\", \"20\", \"21\", \"22\", \"23\", \"24\", \"25\", \"26\", \"27\", \"28\", \"29\", \"30\", \"31\", \"32\", \"33\", \"34\", \"35\", \"36\", \"37\", \"38\", \"39\", \"40\", \"44\", \"45\"], \"mode\": \"lines\", \"name\": \"recall_score_weighted_max\", \"stepped\": true, \"type\": \"scatter\", \"data\": [0.8359770114942527, 0.8359770114942527, 0.8359770114942527, 0.8558620689655173, 0.8558620689655173, 0.8558620689655173, 0.8558620689655173, 0.8558620689655173, 0.8558620689655173, 0.8558620689655173, 0.8558620689655173, 0.8558620689655173, 0.8558620689655173, 0.8562068965517241, 0.8562068965517241, 0.8562068965517241, 0.8562068965517241, 0.8562068965517241, 0.8562068965517241, 0.8562068965517241, 0.8562068965517241, 0.8562068965517241, 0.8562068965517241, 0.8562068965517241, 0.8626436781609197, 0.8626436781609197, 0.8626436781609197, 0.8626436781609197, 0.8626436781609197, 0.8626436781609197, 0.8626436781609197, 0.8626436781609197, 0.8626436781609197, 0.8626436781609197, 0.8626436781609197, 0.8626436781609197, 0.8626436781609197, 0.8626436781609197, 0.8626436781609197, 0.8626436781609197, 0.8626436781609197, 0.8796551724137931, 0.8796551724137931]}], \"f1_score_weighted\": [{\"categories\": [\"0\", \"1\", \"2\", \"3\", \"4\", \"5\", \"6\", \"7\", \"8\", \"9\", \"10\", \"11\", \"12\", \"13\", \"14\", \"15\", \"16\", \"17\", \"18\", \"19\", \"20\", \"21\", \"22\", \"23\", \"24\", \"25\", \"26\", \"27\", \"28\", \"29\", \"30\", \"31\", \"32\", \"33\", \"34\", \"35\", \"36\", \"37\", \"38\", \"39\", \"40\", \"44\", \"45\"], \"mode\": \"markers\", \"name\": \"f1_score_weighted\", \"stepped\": false, \"type\": \"scatter\", \"data\": [0.8333388901455894, 0.8342588560383983, 0.8174457286600655, 0.8499553690624169, 0.8239026567796832, 0.845984960821554, 0.81906121720746, 0.8359345040417967, 0.6881202201338119, 0.8182849428892383, 0.8048217845216165, 0.8300423184898447, 0.8359486315400858, 0.8466232754111299, 0.8365208149992567, 0.8497851162572658, 0.8323341032522762, 0.8473090855094908, 0.8358200350052009, 0.8132634517824846, 0.8280418148453291, 0.8408593216829223, 0.8331888901216598, 0.831321288693491, 0.8587427189737126, 0.5534120288954022, 0.8277643814123739, 0.832414726095011, 0.8395662617159619, 0.8245833568067953, 0.5534120288954022, 0.8247351171232695, 0.8264659028559093, 0.8092164113317267, 0.8324933802222503, 0.7519609587906637, 0.8570811929429594, 0.8176558550810734, 0.8333710008874927, 0.8342261633979355, 0.8175797496448685, 0.8745402351846987, 0.8512441293056489]}, {\"categories\": [\"0\", \"1\", \"2\", \"3\", \"4\", \"5\", \"6\", \"7\", \"8\", \"9\", \"10\", \"11\", \"12\", \"13\", \"14\", \"15\", \"16\", \"17\", \"18\", \"19\", \"20\", \"21\", \"22\", \"23\", \"24\", \"25\", \"26\", \"27\", \"28\", \"29\", \"30\", \"31\", \"32\", \"33\", \"34\", \"35\", \"36\", \"37\", \"38\", \"39\", \"40\", \"44\", \"45\"], \"mode\": \"lines\", \"name\": \"f1_score_weighted_max\", \"stepped\": true, \"type\": \"scatter\", \"data\": [0.8333388901455894, 0.8342588560383983, 0.8342588560383983, 0.8499553690624169, 0.8499553690624169, 0.8499553690624169, 0.8499553690624169, 0.8499553690624169, 0.8499553690624169, 0.8499553690624169, 0.8499553690624169, 0.8499553690624169, 0.8499553690624169, 0.8499553690624169, 0.8499553690624169, 0.8499553690624169, 0.8499553690624169, 0.8499553690624169, 0.8499553690624169, 0.8499553690624169, 0.8499553690624169, 0.8499553690624169, 0.8499553690624169, 0.8499553690624169, 0.8587427189737126, 0.8587427189737126, 0.8587427189737126, 0.8587427189737126, 0.8587427189737126, 0.8587427189737126, 0.8587427189737126, 0.8587427189737126, 0.8587427189737126, 0.8587427189737126, 0.8587427189737126, 0.8587427189737126, 0.8587427189737126, 0.8587427189737126, 0.8587427189737126, 0.8587427189737126, 0.8587427189737126, 0.8745402351846987, 0.8745402351846987]}], \"balanced_accuracy\": [{\"categories\": [\"0\", \"1\", \"2\", \"3\", \"4\", \"5\", \"6\", \"7\", \"8\", \"9\", \"10\", \"11\", \"12\", \"13\", \"14\", \"15\", \"16\", \"17\", \"18\", \"19\", \"20\", \"21\", \"22\", \"23\", \"24\", \"25\", \"26\", \"27\", \"28\", \"29\", \"30\", \"31\", \"32\", \"33\", \"34\", \"35\", \"36\", \"37\", \"38\", \"39\", \"40\", \"44\", \"45\"], \"mode\": \"markers\", \"name\": \"balanced_accuracy\", \"stepped\": false, \"type\": \"scatter\", \"data\": [0.8077082895810014, 0.8130249020938379, 0.7922646710650143, 0.8030665365653924, 0.8088461597835168, 0.8221338487027847, 0.7878200375774747, 0.8068258628290093, 0.6392374249193471, 0.785013547950905, 0.758680183247975, 0.7993550200435211, 0.799709362338653, 0.8045660903741567, 0.8087431560620921, 0.80774069354876, 0.7992019669562576, 0.8131082354271714, 0.8106461142150501, 0.7600986119779026, 0.7999603913439726, 0.8141698382979847, 0.8132882184875891, 0.7957228050363062, 0.8319737069122081, 0.5, 0.7756570630297747, 0.7958448240991147, 0.8041710373595385, 0.8191306436380806, 0.5, 0.8232157675149665, 0.8183394099543986, 0.8020666199424781, 0.7901596423535784, 0.6819877344877344, 0.8273957534646895, 0.7687618828857387, 0.8043600391789753, 0.8151234818766284, 0.7768547228578693, 0.8475941975326986, 0.8287630287015298]}, {\"categories\": [\"0\", \"1\", \"2\", \"3\", \"4\", \"5\", \"6\", \"7\", \"8\", \"9\", \"10\", \"11\", \"12\", \"13\", \"14\", \"15\", \"16\", \"17\", \"18\", \"19\", \"20\", \"21\", \"22\", \"23\", \"24\", \"25\", \"26\", \"27\", \"28\", \"29\", \"30\", \"31\", \"32\", \"33\", \"34\", \"35\", \"36\", \"37\", \"38\", \"39\", \"40\", \"44\", \"45\"], \"mode\": \"lines\", \"name\": \"balanced_accuracy_max\", \"stepped\": true, \"type\": \"scatter\", \"data\": [0.8077082895810014, 0.8130249020938379, 0.8130249020938379, 0.8130249020938379, 0.8130249020938379, 0.8221338487027847, 0.8221338487027847, 0.8221338487027847, 0.8221338487027847, 0.8221338487027847, 0.8221338487027847, 0.8221338487027847, 0.8221338487027847, 0.8221338487027847, 0.8221338487027847, 0.8221338487027847, 0.8221338487027847, 0.8221338487027847, 0.8221338487027847, 0.8221338487027847, 0.8221338487027847, 0.8221338487027847, 0.8221338487027847, 0.8221338487027847, 0.8319737069122081, 0.8319737069122081, 0.8319737069122081, 0.8319737069122081, 0.8319737069122081, 0.8319737069122081, 0.8319737069122081, 0.8319737069122081, 0.8319737069122081, 0.8319737069122081, 0.8319737069122081, 0.8319737069122081, 0.8319737069122081, 0.8319737069122081, 0.8319737069122081, 0.8319737069122081, 0.8319737069122081, 0.8475941975326986, 0.8475941975326986]}], \"AUC_weighted\": [{\"categories\": [\"0\", \"1\", \"2\", \"3\", \"4\", \"5\", \"6\", \"7\", \"8\", \"9\", \"10\", \"11\", \"12\", \"13\", \"14\", \"15\", \"16\", \"17\", \"18\", \"19\", \"20\", \"21\", \"22\", \"23\", \"24\", \"25\", \"26\", \"27\", \"28\", \"29\", \"30\", \"31\", \"32\", \"33\", \"34\", \"35\", \"36\", \"37\", \"38\", \"39\", \"40\", \"44\", \"45\"], \"mode\": \"markers\", \"name\": \"AUC_weighted\", \"stepped\": false, \"type\": \"scatter\", \"data\": [0.8840955354735103, 0.8847369443591411, 0.8981417840549991, 0.9048373905503769, 0.903539064173389, 0.9081649358078993, 0.8638387105774978, 0.9023960918160574, 0.747228730835653, 0.879342659940915, 0.8608370342027666, 0.9041190344383138, 0.9057399689110788, 0.8983989643080031, 0.9101429016106362, 0.9084799506726853, 0.9022516357593588, 0.9064266369013222, 0.9089422585889405, 0.8947674802399058, 0.8877728841757445, 0.9055824039677587, 0.9026221658119828, 0.8960354979455666, 0.9070406376888643, 0.5666518331814385, 0.8762909257938434, 0.8951857931224636, 0.9034317887934593, 0.9063318044232231, 0.824450524959192, 0.9073940203219951, 0.8973213510279873, 0.8382515541433733, 0.8899456261976859, 0.8773778238965881, 0.9138031327495286, 0.9012169939836415, 0.9086905657314123, 0.9036144070100592, 0.8882255278072211, 0.916763206159888, 0.9104532290046592]}, {\"categories\": [\"0\", \"1\", \"2\", \"3\", \"4\", \"5\", \"6\", \"7\", \"8\", \"9\", \"10\", \"11\", \"12\", \"13\", \"14\", \"15\", \"16\", \"17\", \"18\", \"19\", \"20\", \"21\", \"22\", \"23\", \"24\", \"25\", \"26\", \"27\", \"28\", \"29\", \"30\", \"31\", \"32\", \"33\", \"34\", \"35\", \"36\", \"37\", \"38\", \"39\", \"40\", \"44\", \"45\"], \"mode\": \"lines\", \"name\": \"AUC_weighted_max\", \"stepped\": true, \"type\": \"scatter\", \"data\": [0.8840955354735103, 0.8847369443591411, 0.8981417840549991, 0.9048373905503769, 0.9048373905503769, 0.9081649358078993, 0.9081649358078993, 0.9081649358078993, 0.9081649358078993, 0.9081649358078993, 0.9081649358078993, 0.9081649358078993, 0.9081649358078993, 0.9081649358078993, 0.9101429016106362, 0.9101429016106362, 0.9101429016106362, 0.9101429016106362, 0.9101429016106362, 0.9101429016106362, 0.9101429016106362, 0.9101429016106362, 0.9101429016106362, 0.9101429016106362, 0.9101429016106362, 0.9101429016106362, 0.9101429016106362, 0.9101429016106362, 0.9101429016106362, 0.9101429016106362, 0.9101429016106362, 0.9101429016106362, 0.9101429016106362, 0.9101429016106362, 0.9101429016106362, 0.9101429016106362, 0.9138031327495286, 0.9138031327495286, 0.9138031327495286, 0.9138031327495286, 0.9138031327495286, 0.916763206159888, 0.916763206159888]}], \"average_precision_score_macro\": [{\"categories\": [\"0\", \"1\", \"2\", \"3\", \"4\", \"5\", \"6\", \"7\", \"8\", \"9\", \"10\", \"11\", \"12\", \"13\", \"14\", \"15\", \"16\", \"17\", \"18\", \"19\", \"20\", \"21\", \"22\", \"23\", \"24\", \"25\", \"26\", \"27\", \"28\", \"29\", \"30\", \"31\", \"32\", \"33\", \"34\", \"35\", \"36\", \"37\", \"38\", \"39\", \"40\", \"44\", \"45\"], \"mode\": \"markers\", \"name\": \"average_precision_score_macro\", \"stepped\": false, \"type\": \"scatter\", \"data\": [0.8807888197525153, 0.8807340475847678, 0.8927047216947338, 0.8902149806961154, 0.9022243133476051, 0.8987816229546137, 0.8531397251050148, 0.8973190019809529, 0.745469896825244, 0.8749745008185043, 0.8401142754782065, 0.8946929212164404, 0.9061977112965411, 0.8954489762692701, 0.9051031895819774, 0.8981004603520916, 0.8918742359962035, 0.8994108646915511, 0.9004787952722004, 0.8914413855454489, 0.8793971710929904, 0.8943026328388634, 0.8993683217351987, 0.8894635045201298, 0.8996899046017056, 0.558458614969939, 0.8643282753111678, 0.8833412239264323, 0.894622641967483, 0.8958622788371409, 0.8212875472867296, 0.9012067679036315, 0.8950664076974573, 0.8317977994135235, 0.8877093705490765, 0.8741202370463637, 0.9043648979109491, 0.8845525197702238, 0.9047369947048184, 0.8869287413361138, 0.8603458634123851, 0.907027611908562, 0.9032579336358237]}, {\"categories\": [\"0\", \"1\", \"2\", \"3\", \"4\", \"5\", \"6\", \"7\", \"8\", \"9\", \"10\", \"11\", \"12\", \"13\", \"14\", \"15\", \"16\", \"17\", \"18\", \"19\", \"20\", \"21\", \"22\", \"23\", \"24\", \"25\", \"26\", \"27\", \"28\", \"29\", \"30\", \"31\", \"32\", \"33\", \"34\", \"35\", \"36\", \"37\", \"38\", \"39\", \"40\", \"44\", \"45\"], \"mode\": \"lines\", \"name\": \"average_precision_score_macro_max\", \"stepped\": true, \"type\": \"scatter\", \"data\": [0.8807888197525153, 0.8807888197525153, 0.8927047216947338, 0.8927047216947338, 0.9022243133476051, 0.9022243133476051, 0.9022243133476051, 0.9022243133476051, 0.9022243133476051, 0.9022243133476051, 0.9022243133476051, 0.9022243133476051, 0.9061977112965411, 0.9061977112965411, 0.9061977112965411, 0.9061977112965411, 0.9061977112965411, 0.9061977112965411, 0.9061977112965411, 0.9061977112965411, 0.9061977112965411, 0.9061977112965411, 0.9061977112965411, 0.9061977112965411, 0.9061977112965411, 0.9061977112965411, 0.9061977112965411, 0.9061977112965411, 0.9061977112965411, 0.9061977112965411, 0.9061977112965411, 0.9061977112965411, 0.9061977112965411, 0.9061977112965411, 0.9061977112965411, 0.9061977112965411, 0.9061977112965411, 0.9061977112965411, 0.9061977112965411, 0.9061977112965411, 0.9061977112965411, 0.907027611908562, 0.907027611908562]}], \"precision_score_weighted\": [{\"categories\": [\"0\", \"1\", \"2\", \"3\", \"4\", \"5\", \"6\", \"7\", \"8\", \"9\", \"10\", \"11\", \"12\", \"13\", \"14\", \"15\", \"16\", \"17\", \"18\", \"19\", \"20\", \"21\", \"22\", \"23\", \"24\", \"25\", \"26\", \"27\", \"28\", \"29\", \"30\", \"31\", \"32\", \"33\", \"34\", \"35\", \"36\", \"37\", \"38\", \"39\", \"40\", \"44\", \"45\"], \"mode\": \"markers\", \"name\": \"precision_score_weighted\", \"stepped\": false, \"type\": \"scatter\", \"data\": [0.8443308716969533, 0.8506678986628277, 0.8382172187871479, 0.8587568584683882, 0.840581453935276, 0.8622501562353401, 0.8413501419573877, 0.8544087187854448, 0.7439972260206893, 0.837153057106774, 0.8214794960088856, 0.8471019920756566, 0.8583228999608309, 0.873654192069011, 0.8548822925478099, 0.8654176337164856, 0.8553606304186647, 0.8659547408114123, 0.8537750874923289, 0.8458189288953408, 0.8490463978799812, 0.8555321782532956, 0.8502506701194857, 0.8571290289587141, 0.8761249135921549, 0.47055053507728895, 0.850717997681244, 0.8512215457548056, 0.8596514747151313, 0.8472469007768464, 0.47055053507728895, 0.8491728378330012, 0.8468231450046924, 0.829428016156451, 0.8559490730224113, 0.8253015973494733, 0.8679465049637463, 0.8421278292671845, 0.85493171372222, 0.852041990446766, 0.8382176329417709, 0.8939134261540558, 0.870723266363821]}, {\"categories\": [\"0\", \"1\", \"2\", \"3\", \"4\", \"5\", \"6\", \"7\", \"8\", \"9\", \"10\", \"11\", \"12\", \"13\", \"14\", \"15\", \"16\", \"17\", \"18\", \"19\", \"20\", \"21\", \"22\", \"23\", \"24\", \"25\", \"26\", \"27\", \"28\", \"29\", \"30\", \"31\", \"32\", \"33\", \"34\", \"35\", \"36\", \"37\", \"38\", \"39\", \"40\", \"44\", \"45\"], \"mode\": \"lines\", \"name\": \"precision_score_weighted_max\", \"stepped\": true, \"type\": \"scatter\", \"data\": [0.8443308716969533, 0.8506678986628277, 0.8506678986628277, 0.8587568584683882, 0.8587568584683882, 0.8622501562353401, 0.8622501562353401, 0.8622501562353401, 0.8622501562353401, 0.8622501562353401, 0.8622501562353401, 0.8622501562353401, 0.8622501562353401, 0.873654192069011, 0.873654192069011, 0.873654192069011, 0.873654192069011, 0.873654192069011, 0.873654192069011, 0.873654192069011, 0.873654192069011, 0.873654192069011, 0.873654192069011, 0.873654192069011, 0.8761249135921549, 0.8761249135921549, 0.8761249135921549, 0.8761249135921549, 0.8761249135921549, 0.8761249135921549, 0.8761249135921549, 0.8761249135921549, 0.8761249135921549, 0.8761249135921549, 0.8761249135921549, 0.8761249135921549, 0.8761249135921549, 0.8761249135921549, 0.8761249135921549, 0.8761249135921549, 0.8761249135921549, 0.8939134261540558, 0.8939134261540558]}], \"AUC_macro\": [{\"categories\": [\"0\", \"1\", \"2\", \"3\", \"4\", \"5\", \"6\", \"7\", \"8\", \"9\", \"10\", \"11\", \"12\", \"13\", \"14\", \"15\", \"16\", \"17\", \"18\", \"19\", \"20\", \"21\", \"22\", \"23\", \"24\", \"25\", \"26\", \"27\", \"28\", \"29\", \"30\", \"31\", \"32\", \"33\", \"34\", \"35\", \"36\", \"37\", \"38\", \"39\", \"40\", \"44\", \"45\"], \"mode\": \"markers\", \"name\": \"AUC_macro\", \"stepped\": false, \"type\": \"scatter\", \"data\": [0.8840955354735103, 0.8847369443591411, 0.8981417840549991, 0.9048373905503769, 0.903539064173389, 0.9081649358078993, 0.8638387105774978, 0.9023960918160574, 0.7472287308356531, 0.879342659940915, 0.8608370342027666, 0.9041190344383135, 0.9057399689110788, 0.8983989643080031, 0.910142901610636, 0.9084799506726853, 0.9022516357593588, 0.9064266369013222, 0.9089422585889405, 0.8947674802399058, 0.8877728841757445, 0.9055824039677587, 0.9026221658119828, 0.8960354979455666, 0.9070406376888643, 0.5666518331814384, 0.8762909257938434, 0.8951857931224636, 0.9034317887934593, 0.9063318044232231, 0.824450524959192, 0.9073940203219951, 0.8973213510279873, 0.8382515541433733, 0.8899456261976859, 0.8773778238965881, 0.9138031327495286, 0.9012169939836416, 0.9086905657314125, 0.9036144070100592, 0.8882255278072211, 0.916763206159888, 0.9104532290046592]}, {\"categories\": [\"0\", \"1\", \"2\", \"3\", \"4\", \"5\", \"6\", \"7\", \"8\", \"9\", \"10\", \"11\", \"12\", \"13\", \"14\", \"15\", \"16\", \"17\", \"18\", \"19\", \"20\", \"21\", \"22\", \"23\", \"24\", \"25\", \"26\", \"27\", \"28\", \"29\", \"30\", \"31\", \"32\", \"33\", \"34\", \"35\", \"36\", \"37\", \"38\", \"39\", \"40\", \"44\", \"45\"], \"mode\": \"lines\", \"name\": \"AUC_macro_max\", \"stepped\": true, \"type\": \"scatter\", \"data\": [0.8840955354735103, 0.8847369443591411, 0.8981417840549991, 0.9048373905503769, 0.9048373905503769, 0.9081649358078993, 0.9081649358078993, 0.9081649358078993, 0.9081649358078993, 0.9081649358078993, 0.9081649358078993, 0.9081649358078993, 0.9081649358078993, 0.9081649358078993, 0.910142901610636, 0.910142901610636, 0.910142901610636, 0.910142901610636, 0.910142901610636, 0.910142901610636, 0.910142901610636, 0.910142901610636, 0.910142901610636, 0.910142901610636, 0.910142901610636, 0.910142901610636, 0.910142901610636, 0.910142901610636, 0.910142901610636, 0.910142901610636, 0.910142901610636, 0.910142901610636, 0.910142901610636, 0.910142901610636, 0.910142901610636, 0.910142901610636, 0.9138031327495286, 0.9138031327495286, 0.9138031327495286, 0.9138031327495286, 0.9138031327495286, 0.916763206159888, 0.916763206159888]}], \"norm_macro_recall\": [{\"categories\": [\"0\", \"1\", \"2\", \"3\", \"4\", \"5\", \"6\", \"7\", \"8\", \"9\", \"10\", \"11\", \"12\", \"13\", \"14\", \"15\", \"16\", \"17\", \"18\", \"19\", \"20\", \"21\", \"22\", \"23\", \"24\", \"25\", \"26\", \"27\", \"28\", \"29\", \"30\", \"31\", \"32\", \"33\", \"34\", \"35\", \"36\", \"37\", \"38\", \"39\", \"40\", \"44\", \"45\"], \"mode\": \"markers\", \"name\": \"norm_macro_recall\", \"stepped\": false, \"type\": \"scatter\", \"data\": [0.6154165791620023, 0.626049804187676, 0.5845293421300286, 0.6061330731307848, 0.6176923195670335, 0.6442676974055692, 0.5756400751549493, 0.6136517256580185, 0.29569973022146934, 0.5700270959018099, 0.5173603664959501, 0.5987100400870423, 0.599418724677306, 0.6091321807483135, 0.617486312124184, 0.6154813870975196, 0.598403933912515, 0.6262164708543427, 0.6212922284301001, 0.5201972239558051, 0.5999207826879452, 0.6283396765959695, 0.6265764369751784, 0.5914456100726123, 0.6639474138244161, 0.0, 0.5513141260595493, 0.5916896481982293, 0.6083420747190769, 0.6382612872761614, 0.0, 0.6464315350299332, 0.6366788199087969, 0.6041332398849562, 0.5803192847071565, 0.36397546897546895, 0.6547915069293788, 0.5375237657714773, 0.6087200783579503, 0.6302469637532567, 0.5537094457157385, 0.6951883950653974, 0.6575260574030597]}, {\"categories\": [\"0\", \"1\", \"2\", \"3\", \"4\", \"5\", \"6\", \"7\", \"8\", \"9\", \"10\", \"11\", \"12\", \"13\", \"14\", \"15\", \"16\", \"17\", \"18\", \"19\", \"20\", \"21\", \"22\", \"23\", \"24\", \"25\", \"26\", \"27\", \"28\", \"29\", \"30\", \"31\", \"32\", \"33\", \"34\", \"35\", \"36\", \"37\", \"38\", \"39\", \"40\", \"44\", \"45\"], \"mode\": \"lines\", \"name\": \"norm_macro_recall_max\", \"stepped\": true, \"type\": \"scatter\", \"data\": [0.6154165791620023, 0.626049804187676, 0.626049804187676, 0.626049804187676, 0.626049804187676, 0.6442676974055692, 0.6442676974055692, 0.6442676974055692, 0.6442676974055692, 0.6442676974055692, 0.6442676974055692, 0.6442676974055692, 0.6442676974055692, 0.6442676974055692, 0.6442676974055692, 0.6442676974055692, 0.6442676974055692, 0.6442676974055692, 0.6442676974055692, 0.6442676974055692, 0.6442676974055692, 0.6442676974055692, 0.6442676974055692, 0.6442676974055692, 0.6639474138244161, 0.6639474138244161, 0.6639474138244161, 0.6639474138244161, 0.6639474138244161, 0.6639474138244161, 0.6639474138244161, 0.6639474138244161, 0.6639474138244161, 0.6639474138244161, 0.6639474138244161, 0.6639474138244161, 0.6639474138244161, 0.6639474138244161, 0.6639474138244161, 0.6639474138244161, 0.6639474138244161, 0.6951883950653974, 0.6951883950653974]}], \"f1_score_macro\": [{\"categories\": [\"0\", \"1\", \"2\", \"3\", \"4\", \"5\", \"6\", \"7\", \"8\", \"9\", \"10\", \"11\", \"12\", \"13\", \"14\", \"15\", \"16\", \"17\", \"18\", \"19\", \"20\", \"21\", \"22\", \"23\", \"24\", \"25\", \"26\", \"27\", \"28\", \"29\", \"30\", \"31\", \"32\", \"33\", \"34\", \"35\", \"36\", \"37\", \"38\", \"39\", \"40\", \"44\", \"45\"], \"mode\": \"markers\", \"name\": \"f1_score_macro\", \"stepped\": false, \"type\": \"scatter\", \"data\": [0.8043314151248963, 0.8078501228997539, 0.7858162080594362, 0.8124550089015417, 0.795590560115983, 0.8205921133572904, 0.7859665734784926, 0.8064846733329025, 0.6215382839324597, 0.7844731356932927, 0.7603669925285953, 0.7991127026182341, 0.804399652051826, 0.8187497592280065, 0.806046234752856, 0.8205874589334726, 0.800592919675218, 0.8183604861761811, 0.8078550177528303, 0.7754192497122441, 0.7985142741080727, 0.8123687666360855, 0.8058567918973509, 0.8019180883174425, 0.8342872365208542, 0.4024893878511494, 0.7914388647946137, 0.8012883076904815, 0.8085617366361074, 0.7933356556521842, 0.4024893878511494, 0.7959883385960257, 0.7980934193553393, 0.7809889714319397, 0.8003796381208674, 0.6866889873466602, 0.8266951359149359, 0.7800442186857623, 0.8027982252168002, 0.8043202694352758, 0.7809443649409323, 0.8544847640857043, 0.8288136735321949]}, {\"categories\": [\"0\", \"1\", \"2\", \"3\", \"4\", \"5\", \"6\", \"7\", \"8\", \"9\", \"10\", \"11\", \"12\", \"13\", \"14\", \"15\", \"16\", \"17\", \"18\", \"19\", \"20\", \"21\", \"22\", \"23\", \"24\", \"25\", \"26\", \"27\", \"28\", \"29\", \"30\", \"31\", \"32\", \"33\", \"34\", \"35\", \"36\", \"37\", \"38\", \"39\", \"40\", \"44\", \"45\"], \"mode\": \"lines\", \"name\": \"f1_score_macro_max\", \"stepped\": true, \"type\": \"scatter\", \"data\": [0.8043314151248963, 0.8078501228997539, 0.8078501228997539, 0.8124550089015417, 0.8124550089015417, 0.8205921133572904, 0.8205921133572904, 0.8205921133572904, 0.8205921133572904, 0.8205921133572904, 0.8205921133572904, 0.8205921133572904, 0.8205921133572904, 0.8205921133572904, 0.8205921133572904, 0.8205921133572904, 0.8205921133572904, 0.8205921133572904, 0.8205921133572904, 0.8205921133572904, 0.8205921133572904, 0.8205921133572904, 0.8205921133572904, 0.8205921133572904, 0.8342872365208542, 0.8342872365208542, 0.8342872365208542, 0.8342872365208542, 0.8342872365208542, 0.8342872365208542, 0.8342872365208542, 0.8342872365208542, 0.8342872365208542, 0.8342872365208542, 0.8342872365208542, 0.8342872365208542, 0.8342872365208542, 0.8342872365208542, 0.8342872365208542, 0.8342872365208542, 0.8342872365208542, 0.8544847640857043, 0.8544847640857043]}], \"AUC_micro\": [{\"categories\": [\"0\", \"1\", \"2\", \"3\", \"4\", \"5\", \"6\", \"7\", \"8\", \"9\", \"10\", \"11\", \"12\", \"13\", \"14\", \"15\", \"16\", \"17\", \"18\", \"19\", \"20\", \"21\", \"22\", \"23\", \"24\", \"25\", \"26\", \"27\", \"28\", \"29\", \"30\", \"31\", \"32\", \"33\", \"34\", \"35\", \"36\", \"37\", \"38\", \"39\", \"40\", \"44\", \"45\"], \"mode\": \"markers\", \"name\": \"AUC_micro\", \"stepped\": false, \"type\": \"scatter\", \"data\": [0.9035422116527941, 0.9042166732725592, 0.9016494913462809, 0.9186922975293962, 0.910704056017968, 0.9169417360285376, 0.8820451843043996, 0.9067838551988373, 0.789191438763377, 0.8925694279297133, 0.8808599550799313, 0.9116279561368741, 0.9133160258950985, 0.9085869996036464, 0.9195324349319591, 0.9179047430307836, 0.9062068965517242, 0.9187292905271504, 0.9182224864579205, 0.8975012551195668, 0.898694147179284, 0.9180996168582375, 0.9119281278900779, 0.9065148632580261, 0.917666930902365, 0.7130472981899855, 0.8918968159598363, 0.9027644338750165, 0.9118833399392259, 0.9009516448672216, 0.8149068569163693, 0.8994234377064341, 0.9000687012815431, 0.8478290395032368, 0.8989475492138987, 0.8682576298057867, 0.9239807107940283, 0.8922186550402961, 0.9213180076628353, 0.9097370854802485, 0.8870140044920068, 0.9226239926014003, 0.9184817016778967]}, {\"categories\": [\"0\", \"1\", \"2\", \"3\", \"4\", \"5\", \"6\", \"7\", \"8\", \"9\", \"10\", \"11\", \"12\", \"13\", \"14\", \"15\", \"16\", \"17\", \"18\", \"19\", \"20\", \"21\", \"22\", \"23\", \"24\", \"25\", \"26\", \"27\", \"28\", \"29\", \"30\", \"31\", \"32\", \"33\", \"34\", \"35\", \"36\", \"37\", \"38\", \"39\", \"40\", \"44\", \"45\"], \"mode\": \"lines\", \"name\": \"AUC_micro_max\", \"stepped\": true, \"type\": \"scatter\", \"data\": [0.9035422116527941, 0.9042166732725592, 0.9042166732725592, 0.9186922975293962, 0.9186922975293962, 0.9186922975293962, 0.9186922975293962, 0.9186922975293962, 0.9186922975293962, 0.9186922975293962, 0.9186922975293962, 0.9186922975293962, 0.9186922975293962, 0.9186922975293962, 0.9195324349319591, 0.9195324349319591, 0.9195324349319591, 0.9195324349319591, 0.9195324349319591, 0.9195324349319591, 0.9195324349319591, 0.9195324349319591, 0.9195324349319591, 0.9195324349319591, 0.9195324349319591, 0.9195324349319591, 0.9195324349319591, 0.9195324349319591, 0.9195324349319591, 0.9195324349319591, 0.9195324349319591, 0.9195324349319591, 0.9195324349319591, 0.9195324349319591, 0.9195324349319591, 0.9195324349319591, 0.9239807107940283, 0.9239807107940283, 0.9239807107940283, 0.9239807107940283, 0.9239807107940283, 0.9239807107940283, 0.9239807107940283]}]}, \"metricName\": null, \"primaryMetricName\": \"accuracy\", \"showLegend\": false}, \"run_metrics\": [{\"name\": \"experiment_status\", \"run_id\": \"AutoML_836ef666-532b-411f-9d9d-b75ea98a5595\", \"categories\": [0, 1, 2, 3, 4, 5], \"series\": [{\"data\": [\"DatasetEvaluation\", \"FeaturesGeneration\", \"DatasetFeaturization\", \"DatasetFeaturizationCompleted\", \"DatasetCrossValidationSplit\", \"ModelSelection\"]}]}, {\"name\": \"experiment_status_description\", \"run_id\": \"AutoML_836ef666-532b-411f-9d9d-b75ea98a5595\", \"categories\": [0, 1, 2, 3, 4, 5], \"series\": [{\"data\": [\"Gathering dataset statistics.\", \"Generating features for the dataset.\", \"Beginning to fit featurizers and featurize the dataset.\", \"Completed fit featurizers and featurizing the dataset.\", \"Generating individually featurized CV splits.\", \"Beginning model selection.\"]}]}, {\"name\": \"average_precision_score_micro\", \"run_id\": \"AutoML_836ef666-532b-411f-9d9d-b75ea98a5595\", \"categories\": [0], \"series\": [{\"data\": [0.9259554389240753]}]}, {\"name\": \"weighted_accuracy\", \"run_id\": \"AutoML_836ef666-532b-411f-9d9d-b75ea98a5595\", \"categories\": [0], \"series\": [{\"data\": [0.8997600271088567]}]}, {\"name\": \"AUC_macro\", \"run_id\": \"AutoML_836ef666-532b-411f-9d9d-b75ea98a5595\", \"categories\": [0], \"series\": [{\"data\": [0.916763206159888]}]}, {\"name\": \"log_loss\", \"run_id\": \"AutoML_836ef666-532b-411f-9d9d-b75ea98a5595\", \"categories\": [0], \"series\": [{\"data\": [0.37419961327062995]}]}, {\"name\": \"matthews_correlation\", \"run_id\": \"AutoML_836ef666-532b-411f-9d9d-b75ea98a5595\", \"categories\": [0], \"series\": [{\"data\": [0.7351420424664441]}]}, {\"name\": \"precision_score_weighted\", \"run_id\": \"AutoML_836ef666-532b-411f-9d9d-b75ea98a5595\", \"categories\": [0], \"series\": [{\"data\": [0.8939134261540558]}]}, {\"name\": \"f1_score_macro\", \"run_id\": \"AutoML_836ef666-532b-411f-9d9d-b75ea98a5595\", \"categories\": [0], \"series\": [{\"data\": [0.8544847640857043]}]}, {\"name\": \"f1_score_weighted\", \"run_id\": \"AutoML_836ef666-532b-411f-9d9d-b75ea98a5595\", \"categories\": [0], \"series\": [{\"data\": [0.8745402351846987]}]}, {\"name\": \"recall_score_micro\", \"run_id\": \"AutoML_836ef666-532b-411f-9d9d-b75ea98a5595\", \"categories\": [0], \"series\": [{\"data\": [0.8796551724137931]}]}, {\"name\": \"f1_score_micro\", \"run_id\": \"AutoML_836ef666-532b-411f-9d9d-b75ea98a5595\", \"categories\": [0], \"series\": [{\"data\": [0.8796551724137931]}]}, {\"name\": \"average_precision_score_macro\", \"run_id\": \"AutoML_836ef666-532b-411f-9d9d-b75ea98a5595\", \"categories\": [0], \"series\": [{\"data\": [0.907027611908562]}]}, {\"name\": \"AUC_weighted\", \"run_id\": \"AutoML_836ef666-532b-411f-9d9d-b75ea98a5595\", \"categories\": [0], \"series\": [{\"data\": [0.916763206159888]}]}, {\"name\": \"precision_score_macro\", \"run_id\": \"AutoML_836ef666-532b-411f-9d9d-b75ea98a5595\", \"categories\": [0], \"series\": [{\"data\": [0.8915326605761388]}]}, {\"name\": \"accuracy\", \"run_id\": \"AutoML_836ef666-532b-411f-9d9d-b75ea98a5595\", \"categories\": [0], \"series\": [{\"data\": [0.8796551724137931]}]}, {\"name\": \"AUC_micro\", \"run_id\": \"AutoML_836ef666-532b-411f-9d9d-b75ea98a5595\", \"categories\": [0], \"series\": [{\"data\": [0.9226239926014003]}]}, {\"name\": \"average_precision_score_weighted\", \"run_id\": \"AutoML_836ef666-532b-411f-9d9d-b75ea98a5595\", \"categories\": [0], \"series\": [{\"data\": [0.9297438988050523]}]}, {\"name\": \"norm_macro_recall\", \"run_id\": \"AutoML_836ef666-532b-411f-9d9d-b75ea98a5595\", \"categories\": [0], \"series\": [{\"data\": [0.6951883950653974]}]}, {\"name\": \"precision_score_micro\", \"run_id\": \"AutoML_836ef666-532b-411f-9d9d-b75ea98a5595\", \"categories\": [0], \"series\": [{\"data\": [0.8796551724137931]}]}, {\"name\": \"recall_score_macro\", \"run_id\": \"AutoML_836ef666-532b-411f-9d9d-b75ea98a5595\", \"categories\": [0], \"series\": [{\"data\": [0.8475941975326986]}]}, {\"name\": \"balanced_accuracy\", \"run_id\": \"AutoML_836ef666-532b-411f-9d9d-b75ea98a5595\", \"categories\": [0], \"series\": [{\"data\": [0.8475941975326986]}]}, {\"name\": \"recall_score_weighted\", \"run_id\": \"AutoML_836ef666-532b-411f-9d9d-b75ea98a5595\", \"categories\": [0], \"series\": [{\"data\": [0.8796551724137931]}]}], \"run_logs\": \"\\nRun is completed.\", \"graph\": {}, \"widget_settings\": {\"childWidgetDisplay\": \"popup\", \"send_telemetry\": false, \"log_level\": \"INFO\", \"sdk_version\": \"1.20.0\"}, \"loading\": false}"
          },
          "metadata": {}
        }
      ],
      "execution_count": 15,
      "metadata": {
        "gather": {
          "logged": 1613242507410
        }
      }
    },
    {
      "cell_type": "markdown",
      "source": [
        "## Best Model\n",
        "\n",
        "TODO: In the cell below, get the best model from the automl experiments and display all the properties of the model.\n",
        "\n"
      ],
      "metadata": {}
    },
    {
      "cell_type": "code",
      "source": [
        "#TODO: Save the best model\n",
        "best_run, fitted_model = remote_run.get_output()\n"
      ],
      "outputs": [
        {
          "output_type": "stream",
          "name": "stderr",
          "text": [
            "WARNING:root:The version of the SDK does not match the version the model was trained on.\n",
            "WARNING:root:The consistency in the result may not be guaranteed.\n",
            "WARNING:root:Package:azureml-automl-core, training version:1.21.0, current version:1.20.0\n",
            "Package:azureml-automl-runtime, training version:1.21.0, current version:1.20.0\n",
            "Package:azureml-core, training version:1.21.0.post1, current version:1.20.0\n",
            "Package:azureml-dataprep, training version:2.8.2, current version:2.7.3\n",
            "Package:azureml-dataprep-native, training version:28.0.0, current version:27.0.0\n",
            "Package:azureml-dataprep-rslex, training version:1.6.0, current version:1.5.0\n",
            "Package:azureml-dataset-runtime, training version:1.21.0, current version:1.20.0\n",
            "Package:azureml-defaults, training version:1.21.0, current version:1.20.0\n",
            "Package:azureml-interpret, training version:1.21.0, current version:1.20.0\n",
            "Package:azureml-pipeline-core, training version:1.21.0, current version:1.20.0\n",
            "Package:azureml-telemetry, training version:1.21.0, current version:1.20.0\n",
            "Package:azureml-train-automl-client, training version:1.21.0, current version:1.20.0\n",
            "Package:azureml-train-automl-runtime, training version:1.21.0, current version:1.20.0\n",
            "WARNING:root:Please ensure the version of your local conda dependencies match the version on which your model was trained in order to properly retrieve your model.\n"
          ]
        }
      ],
      "execution_count": 16,
      "metadata": {
        "gather": {
          "logged": 1613242518807
        },
        "jupyter": {
          "outputs_hidden": false,
          "source_hidden": false
        },
        "nteract": {
          "transient": {
            "deleting": false
          }
        }
      }
    },
    {
      "cell_type": "code",
      "source": [
        "print(fitted_model)"
      ],
      "outputs": [
        {
          "output_type": "stream",
          "name": "stdout",
          "text": [
            "Pipeline(memory=None,\n",
            "         steps=[('datatransformer',\n",
            "                 DataTransformer(enable_dnn=None, enable_feature_sweeping=None,\n",
            "                                 feature_sweeping_config=None,\n",
            "                                 feature_sweeping_timeout=None,\n",
            "                                 featurization_config=None, force_text_dnn=None,\n",
            "                                 is_cross_validation=None,\n",
            "                                 is_onnx_compatible=None, logger=None,\n",
            "                                 observer=None, task=None, working_dir=None)),\n",
            "                ('prefittedsoftvotingclassifier',...\n",
            "                                                                                               min_child_weight=1,\n",
            "                                                                                               missing=nan,\n",
            "                                                                                               n_estimators=25,\n",
            "                                                                                               n_jobs=1,\n",
            "                                                                                               nthread=None,\n",
            "                                                                                               objective='reg:logistic',\n",
            "                                                                                               random_state=0,\n",
            "                                                                                               reg_alpha=0,\n",
            "                                                                                               reg_lambda=0.7291666666666667,\n",
            "                                                                                               scale_pos_weight=1,\n",
            "                                                                                               seed=None,\n",
            "                                                                                               silent=None,\n",
            "                                                                                               subsample=0.9,\n",
            "                                                                                               tree_method='auto',\n",
            "                                                                                               verbose=-10,\n",
            "                                                                                               verbosity=0))],\n",
            "                                                                     verbose=False))],\n",
            "                                               flatten_transform=None,\n",
            "                                               weights=[0.2, 0.1, 0.1, 0.1, 0.1,\n",
            "                                                        0.1, 0.1, 0.1, 0.1]))],\n",
            "         verbose=False)\n"
          ]
        }
      ],
      "execution_count": 17,
      "metadata": {
        "gather": {
          "logged": 1613242519135
        }
      }
    },
    {
      "cell_type": "code",
      "source": [
        "print(best_run)"
      ],
      "outputs": [
        {
          "output_type": "stream",
          "name": "stdout",
          "text": [
            "Run(Experiment: Azure_Capstone_Automl,\n",
            "Id: AutoML_836ef666-532b-411f-9d9d-b75ea98a5595_44,\n",
            "Type: azureml.scriptrun,\n",
            "Status: Completed)\n"
          ]
        }
      ],
      "execution_count": 18,
      "metadata": {
        "gather": {
          "logged": 1613242519396
        }
      }
    },
    {
      "cell_type": "code",
      "source": [
        "best_run_metrics = best_run.get_metrics()\n",
        "print(best_run_metrics)"
      ],
      "outputs": [
        {
          "output_type": "stream",
          "name": "stdout",
          "text": [
            "{'f1_score_macro': 0.8593071717444964, 'f1_score_weighted': 0.8791701604864774, 'AUC_weighted': 0.916349678599221, 'weighted_accuracy': 0.9021085635281896, 'precision_score_weighted': 0.8951582377505298, 'recall_score_macro': 0.8519592768977781, 'average_precision_score_micro': 0.9262492133816993, 'average_precision_score_macro': 0.907082286948637, 'f1_score_micro': 0.8829885057471264, 'recall_score_weighted': 0.8829885057471264, 'AUC_micro': 0.9247351037125116, 'balanced_accuracy': 0.8519592768977781, 'average_precision_score_weighted': 0.92858465474442, 'AUC_macro': 0.916349678599221, 'recall_score_micro': 0.8829885057471264, 'accuracy': 0.8829885057471264, 'precision_score_micro': 0.8829885057471264, 'log_loss': 0.3540782871382714, 'precision_score_macro': 0.8919502931708813, 'norm_macro_recall': 0.7039185537955561, 'matthews_correlation': 0.7403668222607004, 'accuracy_table': 'aml://artifactId/ExperimentRun/dcid.AutoML_e187a261-2384-4de6-83f3-41b181512d73_36/accuracy_table', 'confusion_matrix': 'aml://artifactId/ExperimentRun/dcid.AutoML_e187a261-2384-4de6-83f3-41b181512d73_36/confusion_matrix'}\n"
          ]
        }
      ],
      "execution_count": 89,
      "metadata": {
        "gather": {
          "logged": 1613052030552
        }
      }
    },
    {
      "cell_type": "markdown",
      "source": [
        "## Model Deployment\n",
        "\n",
        "Remember you have to deploy only one of the two models you trained.. Perform the steps in the rest of this notebook only if you wish to deploy this model.\n",
        "\n",
        "TODO: In the cell below, register the model, create an inference config and deploy the model as a web service."
      ],
      "metadata": {}
    },
    {
      "cell_type": "code",
      "source": [
        "description = 'HF_AutoML_BestModel'\n",
        "model = remote_run.register_model(description = description)\n"
      ],
      "outputs": [],
      "execution_count": 19,
      "metadata": {
        "gather": {
          "logged": 1613242519948
        },
        "jupyter": {
          "outputs_hidden": false,
          "source_hidden": false
        },
        "nteract": {
          "transient": {
            "deleting": false
          }
        }
      }
    },
    {
      "cell_type": "code",
      "source": [
        "print(model.name, model.id, model.version, model.description, sep ='\\t')"
      ],
      "outputs": [
        {
          "output_type": "stream",
          "name": "stdout",
          "text": [
            "AutoML836ef666544\tAutoML836ef666544:1\t1\tHF_AutoML_BestModel\n"
          ]
        }
      ],
      "execution_count": 20,
      "metadata": {
        "gather": {
          "logged": 1613242520193
        }
      }
    },
    {
      "cell_type": "code",
      "source": [
        "print(model)"
      ],
      "outputs": [
        {
          "output_type": "stream",
          "name": "stdout",
          "text": [
            "Model(workspace=Workspace.create(name='quick-starts-ws-138827', subscription_id='2c48c51c-bd47-40d4-abbe-fb8eabd19c8c', resource_group='aml-quickstarts-138827'), name=AutoML836ef666544, id=AutoML836ef666544:1, version=1, tags={}, properties={})\n"
          ]
        }
      ],
      "execution_count": 21,
      "metadata": {
        "gather": {
          "logged": 1613242520423
        }
      }
    },
    {
      "cell_type": "code",
      "source": [
        "%%writefile env.yml\n",
        "from azureml.core.environment import Environment\n",
        "from azureml.core.conda_dependencies import CondaDependencies\n",
        "\n",
        "\n",
        "env = Environment.get(ws, \"AzureML-AutoML\")\n",
        "env.inferencing_stack_version='latest'\n",
        "env.save_to_directory('./',overwrite-False)\n",
        "\n"
      ],
      "outputs": [
        {
          "output_type": "stream",
          "name": "stdout",
          "text": [
            "Overwriting env.yml\n"
          ]
        }
      ],
      "execution_count": 34,
      "metadata": {}
    },
    {
      "cell_type": "code",
      "source": [
        "from azureml.core.environment import Environment\n",
        "from azureml.core.conda_dependencies import CondaDependencies\n",
        "\n",
        "\n",
        "env = Environment.get(ws, \"AzureML-AutoML\")\n",
        "env.inferencing_stack_version='latest'"
      ],
      "outputs": [],
      "execution_count": 23,
      "metadata": {
        "gather": {
          "logged": 1613242521047
        }
      }
    },
    {
      "cell_type": "code",
      "source": [
        "from azureml.core.model import InferenceConfig\n",
        "inference_config = InferenceConfig(entry_script='score.py',\n",
        "                                    environment=env)"
      ],
      "outputs": [],
      "execution_count": 32,
      "metadata": {
        "gather": {
          "logged": 1613243113775
        }
      }
    },
    {
      "cell_type": "code",
      "source": [
        "from azureml.core.webservice import AciWebservice \n",
        "from azureml.core import Model\n",
        "\n",
        "dep_cfg = AciWebservice.deploy_configuration(cpu_cores = 1, memory_gb = 1, enable_app_insights= True, auth_enabled= True) \n",
        "\n",
        "webservice = Model.deploy(ws, \"capstone-automl1\", [model], inference_config, dep_cfg)\n",
        "\n",
        "webservice.wait_for_deployment(show_output = True) \n",
        "print(webservice.state) \n"
      ],
      "outputs": [
        {
          "output_type": "stream",
          "name": "stdout",
          "text": [
            "Tips: You can try get_logs(): https://aka.ms/debugimage#dockerlog or local deployment: https://aka.ms/debugimage#debug-locally to debug if deployment takes longer than 10 minutes.\n",
            "Running.............\n",
            "Succeeded\n",
            "ACI service creation operation finished, operation \"Succeeded\"\n",
            "Healthy\n"
          ]
        }
      ],
      "execution_count": 33,
      "metadata": {
        "gather": {
          "logged": 1613243190237
        }
      }
    },
    {
      "cell_type": "code",
      "source": [
        "print(webservice.get_logs())\n",
        "print(webservice.scoring_uri) \n",
        "print(webservice.swagger_uri)"
      ],
      "outputs": [
        {
          "output_type": "stream",
          "name": "stdout",
          "text": [
            "2021-02-13T18:58:10,757861900+00:00 - rsyslog/run \n",
            "2021-02-13T18:58:10,759022800+00:00 - iot-server/run \n",
            "2021-02-13T18:58:10,756791600+00:00 - gunicorn/run \n",
            "2021-02-13T18:58:10,812076800+00:00 - nginx/run \n",
            "/usr/sbin/nginx: /azureml-envs/azureml_09ff55f546b313bb1ab136a466214499/lib/libcrypto.so.1.0.0: no version information available (required by /usr/sbin/nginx)\n",
            "/usr/sbin/nginx: /azureml-envs/azureml_09ff55f546b313bb1ab136a466214499/lib/libcrypto.so.1.0.0: no version information available (required by /usr/sbin/nginx)\n",
            "/usr/sbin/nginx: /azureml-envs/azureml_09ff55f546b313bb1ab136a466214499/lib/libssl.so.1.0.0: no version information available (required by /usr/sbin/nginx)\n",
            "/usr/sbin/nginx: /azureml-envs/azureml_09ff55f546b313bb1ab136a466214499/lib/libssl.so.1.0.0: no version information available (required by /usr/sbin/nginx)\n",
            "/usr/sbin/nginx: /azureml-envs/azureml_09ff55f546b313bb1ab136a466214499/lib/libssl.so.1.0.0: no version information available (required by /usr/sbin/nginx)\n",
            "rsyslogd: /azureml-envs/azureml_09ff55f546b313bb1ab136a466214499/lib/libuuid.so.1: no version information available (required by rsyslogd)\n",
            "EdgeHubConnectionString and IOTEDGE_IOTHUBHOSTNAME are not set. Exiting...\n",
            "2021-02-13T18:58:12,236810900+00:00 - iot-server/finish 1 0\n",
            "2021-02-13T18:58:12,261694100+00:00 - Exit code 1 is normal. Not restarting iot-server.\n",
            "Starting gunicorn 19.9.0\n",
            "Listening at: http://127.0.0.1:31311 (68)\n",
            "Using worker: sync\n",
            "worker timeout is set to 300\n",
            "Booting worker with pid: 97\n",
            "SPARK_HOME not set. Skipping PySpark Initialization.\n",
            "Generating new fontManager, this may take some time...\n",
            "Initializing logger\n",
            "2021-02-13 18:58:20,606 | root | INFO | Starting up app insights client\n",
            "2021-02-13 18:58:20,607 | root | INFO | Starting up request id generator\n",
            "2021-02-13 18:58:20,607 | root | INFO | Starting up app insight hooks\n",
            "2021-02-13 18:58:20,607 | root | INFO | Invoking user's init function\n",
            "2021-02-13 18:58:24,561 | root | INFO | Users's init has completed successfully\n",
            "2021-02-13 18:58:24,569 | root | INFO | Skipping middleware: dbg_model_info as it's not enabled.\n",
            "2021-02-13 18:58:24,569 | root | INFO | Skipping middleware: dbg_resource_usage as it's not enabled.\n",
            "2021-02-13 18:58:24,571 | root | INFO | Scoring timeout is found from os.environ: 60000 ms\n",
            "2021-02-13 18:58:25,715 | root | INFO | Swagger file not present\n",
            "2021-02-13 18:58:25,715 | root | INFO | 404\n",
            "127.0.0.1 - - [13/Feb/2021:18:58:25 +0000] \"GET /swagger.json HTTP/1.0\" 404 19 \"-\" \"Go-http-client/1.1\"\n",
            "2021-02-13 18:58:27,042 | root | INFO | Swagger file not present\n",
            "2021-02-13 18:58:27,042 | root | INFO | 404\n",
            "127.0.0.1 - - [13/Feb/2021:18:58:27 +0000] \"GET /swagger.json HTTP/1.0\" 404 19 \"-\" \"Go-http-client/1.1\"\n",
            "\n",
            "http://9d81108f-53a8-44fe-9c24-16aae62a5c0b.southcentralus.azurecontainer.io/score\n",
            "http://9d81108f-53a8-44fe-9c24-16aae62a5c0b.southcentralus.azurecontainer.io/swagger.json\n"
          ]
        }
      ],
      "execution_count": 26,
      "metadata": {
        "gather": {
          "logged": 1613242708313
        }
      }
    },
    {
      "cell_type": "markdown",
      "source": [
        "TODO: In the cell below, send a request to the web service you deployed to test it."
      ],
      "metadata": {
        "collapsed": true,
        "gather": {
          "logged": 1598431657736
        },
        "jupyter": {
          "outputs_hidden": false,
          "source_hidden": false
        },
        "nteract": {
          "transient": {
            "deleting": false
          }
        }
      }
    },
    {
      "cell_type": "code",
      "source": [
        "import json\n",
        "\n",
        "\n",
        "input_payload = json.dumps({\n",
        "    'data': hfdat_x[0:2].to_dict(orient= 'records')\n",
        "    \n",
        "})\n",
        "\n"
      ],
      "outputs": [],
      "execution_count": 27,
      "metadata": {
        "gather": {
          "logged": 1613242708439
        },
        "jupyter": {
          "outputs_hidden": false,
          "source_hidden": false
        },
        "nteract": {
          "transient": {
            "deleting": false
          }
        }
      }
    },
    {
      "cell_type": "code",
      "source": [
        "print(input_payload)"
      ],
      "outputs": [
        {
          "output_type": "stream",
          "name": "stdout",
          "text": [
            "{\"data\": [{\"age\": 75.0, \"anaemia\": 0, \"creatinine_phosphokinase\": 582, \"diabetes\": 0, \"ejection_fraction\": 20, \"high_blood_pressure\": 1, \"platelets\": 265000.0, \"serum_creatinine\": 1.9, \"serum_sodium\": 130, \"sex\": 1, \"smoking\": 0, \"time\": 4}, {\"age\": 55.0, \"anaemia\": 0, \"creatinine_phosphokinase\": 7861, \"diabetes\": 0, \"ejection_fraction\": 38, \"high_blood_pressure\": 0, \"platelets\": 263358.03, \"serum_creatinine\": 1.1, \"serum_sodium\": 136, \"sex\": 1, \"smoking\": 0, \"time\": 6}]}\n"
          ]
        }
      ],
      "execution_count": 28,
      "metadata": {
        "gather": {
          "logged": 1613242708579
        }
      }
    },
    {
      "cell_type": "code",
      "source": [
        "output = webservice.run(input_payload)\n",
        "print(output)"
      ],
      "outputs": [
        {
          "output_type": "stream",
          "name": "stdout",
          "text": [
            "[1, 1]\n"
          ]
        }
      ],
      "execution_count": 29,
      "metadata": {
        "gather": {
          "logged": 1613242708898
        }
      }
    },
    {
      "cell_type": "markdown",
      "source": [
        "TODO: In the cell below, print the logs of the web service and delete the service"
      ],
      "metadata": {
        "collapsed": true,
        "gather": {
          "logged": 1598432765711
        },
        "jupyter": {
          "outputs_hidden": false,
          "source_hidden": false
        },
        "nteract": {
          "transient": {
            "deleting": false
          }
        }
      }
    },
    {
      "cell_type": "code",
      "source": [
        "webservice.delete()"
      ],
      "outputs": [],
      "execution_count": 30,
      "metadata": {
        "jupyter": {
          "outputs_hidden": false,
          "source_hidden": false
        },
        "nteract": {
          "transient": {
            "deleting": false
          }
        },
        "gather": {
          "logged": 1613242709971
        }
      }
    },
    {
      "cell_type": "code",
      "source": [
        "compute_target.delete()"
      ],
      "outputs": [
        {
          "output_type": "stream",
          "name": "stdout",
          "text": [
            "Current provisioning state of AmlCompute is \"Deleting\"\n",
            "\n",
            "Current provisioning state of AmlCompute is \"Deleting\"\n",
            "\n",
            "Current provisioning state of AmlCompute is \"Deleting\"\n",
            "\n",
            "Current provisioning state of AmlCompute is \"Deleting\"\n",
            "\n",
            "Current provisioning state of AmlCompute is \"Deleting\"\n",
            "\n",
            "Current provisioning state of AmlCompute is \"Deleting\"\n",
            "\n"
          ]
        }
      ],
      "execution_count": 31,
      "metadata": {
        "gather": {
          "logged": 1613242710754
        }
      }
    },
    {
      "cell_type": "code",
      "source": [],
      "outputs": [],
      "execution_count": null,
      "metadata": {}
    }
  ],
  "metadata": {
    "kernel_info": {
      "name": "python3"
    },
    "kernelspec": {
      "name": "python3",
      "language": "python",
      "display_name": "Python 3"
    },
    "language_info": {
      "name": "python",
      "version": "3.6.9",
      "mimetype": "text/x-python",
      "codemirror_mode": {
        "name": "ipython",
        "version": 3
      },
      "pygments_lexer": "ipython3",
      "nbconvert_exporter": "python",
      "file_extension": ".py"
    },
    "nteract": {
      "version": "nteract-front-end@1.0.0"
    }
  },
  "nbformat": 4,
  "nbformat_minor": 2
}